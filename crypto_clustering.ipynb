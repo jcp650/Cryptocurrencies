{
 "cells": [
  {
   "cell_type": "markdown",
   "metadata": {},
   "source": [
    "# Clustering Crypto"
   ]
  },
  {
   "cell_type": "code",
   "execution_count": 19,
   "metadata": {},
   "outputs": [],
   "source": [
    "# Initial imports\n",
    "import pandas as pd\n",
    "import hvplot.pandas\n",
    "from path import Path\n",
    "import plotly.express as px\n",
    "from sklearn.preprocessing import StandardScaler, MinMaxScaler\n",
    "from sklearn.decomposition import PCA\n",
    "from sklearn.cluster import KMeans\n"
   ]
  },
  {
   "cell_type": "markdown",
   "metadata": {},
   "source": [
    "### Deliverable 1: Preprocessing the Data for PCA"
   ]
  },
  {
   "cell_type": "code",
   "execution_count": 20,
   "metadata": {},
   "outputs": [
    {
     "data": {
      "text/html": [
       "<div>\n",
       "<style scoped>\n",
       "    .dataframe tbody tr th:only-of-type {\n",
       "        vertical-align: middle;\n",
       "    }\n",
       "\n",
       "    .dataframe tbody tr th {\n",
       "        vertical-align: top;\n",
       "    }\n",
       "\n",
       "    .dataframe thead th {\n",
       "        text-align: right;\n",
       "    }\n",
       "</style>\n",
       "<table border=\"1\" class=\"dataframe\">\n",
       "  <thead>\n",
       "    <tr style=\"text-align: right;\">\n",
       "      <th></th>\n",
       "      <th>CoinName</th>\n",
       "      <th>Algorithm</th>\n",
       "      <th>IsTrading</th>\n",
       "      <th>ProofType</th>\n",
       "      <th>TotalCoinsMined</th>\n",
       "      <th>TotalCoinSupply</th>\n",
       "    </tr>\n",
       "  </thead>\n",
       "  <tbody>\n",
       "    <tr>\n",
       "      <th>42</th>\n",
       "      <td>42 Coin</td>\n",
       "      <td>Scrypt</td>\n",
       "      <td>True</td>\n",
       "      <td>PoW/PoS</td>\n",
       "      <td>4.199995e+01</td>\n",
       "      <td>42</td>\n",
       "    </tr>\n",
       "    <tr>\n",
       "      <th>365</th>\n",
       "      <td>365Coin</td>\n",
       "      <td>X11</td>\n",
       "      <td>True</td>\n",
       "      <td>PoW/PoS</td>\n",
       "      <td>NaN</td>\n",
       "      <td>2300000000</td>\n",
       "    </tr>\n",
       "    <tr>\n",
       "      <th>404</th>\n",
       "      <td>404Coin</td>\n",
       "      <td>Scrypt</td>\n",
       "      <td>True</td>\n",
       "      <td>PoW/PoS</td>\n",
       "      <td>1.055185e+09</td>\n",
       "      <td>532000000</td>\n",
       "    </tr>\n",
       "    <tr>\n",
       "      <th>611</th>\n",
       "      <td>SixEleven</td>\n",
       "      <td>SHA-256</td>\n",
       "      <td>True</td>\n",
       "      <td>PoW</td>\n",
       "      <td>NaN</td>\n",
       "      <td>611000</td>\n",
       "    </tr>\n",
       "    <tr>\n",
       "      <th>808</th>\n",
       "      <td>808</td>\n",
       "      <td>SHA-256</td>\n",
       "      <td>True</td>\n",
       "      <td>PoW/PoS</td>\n",
       "      <td>0.000000e+00</td>\n",
       "      <td>0</td>\n",
       "    </tr>\n",
       "    <tr>\n",
       "      <th>...</th>\n",
       "      <td>...</td>\n",
       "      <td>...</td>\n",
       "      <td>...</td>\n",
       "      <td>...</td>\n",
       "      <td>...</td>\n",
       "      <td>...</td>\n",
       "    </tr>\n",
       "    <tr>\n",
       "      <th>XBC</th>\n",
       "      <td>BitcoinPlus</td>\n",
       "      <td>Scrypt</td>\n",
       "      <td>True</td>\n",
       "      <td>PoS</td>\n",
       "      <td>1.283270e+05</td>\n",
       "      <td>1000000</td>\n",
       "    </tr>\n",
       "    <tr>\n",
       "      <th>DVTC</th>\n",
       "      <td>DivotyCoin</td>\n",
       "      <td>Scrypt</td>\n",
       "      <td>False</td>\n",
       "      <td>PoW/PoS</td>\n",
       "      <td>2.149121e+07</td>\n",
       "      <td>100000000</td>\n",
       "    </tr>\n",
       "    <tr>\n",
       "      <th>GIOT</th>\n",
       "      <td>Giotto Coin</td>\n",
       "      <td>Scrypt</td>\n",
       "      <td>False</td>\n",
       "      <td>PoW/PoS</td>\n",
       "      <td>NaN</td>\n",
       "      <td>233100000</td>\n",
       "    </tr>\n",
       "    <tr>\n",
       "      <th>OPSC</th>\n",
       "      <td>OpenSourceCoin</td>\n",
       "      <td>SHA-256</td>\n",
       "      <td>False</td>\n",
       "      <td>PoW/PoS</td>\n",
       "      <td>NaN</td>\n",
       "      <td>21000000</td>\n",
       "    </tr>\n",
       "    <tr>\n",
       "      <th>PUNK</th>\n",
       "      <td>SteamPunk</td>\n",
       "      <td>PoS</td>\n",
       "      <td>False</td>\n",
       "      <td>PoS</td>\n",
       "      <td>NaN</td>\n",
       "      <td>40000000</td>\n",
       "    </tr>\n",
       "  </tbody>\n",
       "</table>\n",
       "<p>1252 rows × 6 columns</p>\n",
       "</div>"
      ],
      "text/plain": [
       "            CoinName Algorithm  IsTrading ProofType  TotalCoinsMined  \\\n",
       "42           42 Coin    Scrypt       True   PoW/PoS     4.199995e+01   \n",
       "365          365Coin       X11       True   PoW/PoS              NaN   \n",
       "404          404Coin    Scrypt       True   PoW/PoS     1.055185e+09   \n",
       "611        SixEleven   SHA-256       True       PoW              NaN   \n",
       "808              808   SHA-256       True   PoW/PoS     0.000000e+00   \n",
       "...              ...       ...        ...       ...              ...   \n",
       "XBC      BitcoinPlus    Scrypt       True       PoS     1.283270e+05   \n",
       "DVTC      DivotyCoin    Scrypt      False   PoW/PoS     2.149121e+07   \n",
       "GIOT     Giotto Coin    Scrypt      False   PoW/PoS              NaN   \n",
       "OPSC  OpenSourceCoin   SHA-256      False   PoW/PoS              NaN   \n",
       "PUNK       SteamPunk       PoS      False       PoS              NaN   \n",
       "\n",
       "     TotalCoinSupply  \n",
       "42                42  \n",
       "365       2300000000  \n",
       "404        532000000  \n",
       "611           611000  \n",
       "808                0  \n",
       "...              ...  \n",
       "XBC          1000000  \n",
       "DVTC       100000000  \n",
       "GIOT       233100000  \n",
       "OPSC        21000000  \n",
       "PUNK        40000000  \n",
       "\n",
       "[1252 rows x 6 columns]"
      ]
     },
     "execution_count": 20,
     "metadata": {},
     "output_type": "execute_result"
    }
   ],
   "source": [
    "# Load the crypto_data.csv dataset.\n",
    "crypto_df = pd.read_csv(\"crypto_data(2).csv\", index_col = 0)\n",
    "#crypto_df = crypto_df.set_index(crypto_df['Unnamed: 0'])\n",
    "#crypto_df = crypto_df.drop(['Unnamed: 0'], axis=1)\n",
    "crypto_df"
   ]
  },
  {
   "cell_type": "code",
   "execution_count": 21,
   "metadata": {},
   "outputs": [
    {
     "data": {
      "text/html": [
       "<div>\n",
       "<style scoped>\n",
       "    .dataframe tbody tr th:only-of-type {\n",
       "        vertical-align: middle;\n",
       "    }\n",
       "\n",
       "    .dataframe tbody tr th {\n",
       "        vertical-align: top;\n",
       "    }\n",
       "\n",
       "    .dataframe thead th {\n",
       "        text-align: right;\n",
       "    }\n",
       "</style>\n",
       "<table border=\"1\" class=\"dataframe\">\n",
       "  <thead>\n",
       "    <tr style=\"text-align: right;\">\n",
       "      <th></th>\n",
       "      <th>CoinName</th>\n",
       "      <th>Algorithm</th>\n",
       "      <th>IsTrading</th>\n",
       "      <th>ProofType</th>\n",
       "      <th>TotalCoinsMined</th>\n",
       "      <th>TotalCoinSupply</th>\n",
       "    </tr>\n",
       "  </thead>\n",
       "  <tbody>\n",
       "    <tr>\n",
       "      <th>42</th>\n",
       "      <td>42 Coin</td>\n",
       "      <td>Scrypt</td>\n",
       "      <td>True</td>\n",
       "      <td>PoW/PoS</td>\n",
       "      <td>4.199995e+01</td>\n",
       "      <td>42</td>\n",
       "    </tr>\n",
       "    <tr>\n",
       "      <th>365</th>\n",
       "      <td>365Coin</td>\n",
       "      <td>X11</td>\n",
       "      <td>True</td>\n",
       "      <td>PoW/PoS</td>\n",
       "      <td>NaN</td>\n",
       "      <td>2300000000</td>\n",
       "    </tr>\n",
       "    <tr>\n",
       "      <th>404</th>\n",
       "      <td>404Coin</td>\n",
       "      <td>Scrypt</td>\n",
       "      <td>True</td>\n",
       "      <td>PoW/PoS</td>\n",
       "      <td>1.055185e+09</td>\n",
       "      <td>532000000</td>\n",
       "    </tr>\n",
       "    <tr>\n",
       "      <th>611</th>\n",
       "      <td>SixEleven</td>\n",
       "      <td>SHA-256</td>\n",
       "      <td>True</td>\n",
       "      <td>PoW</td>\n",
       "      <td>NaN</td>\n",
       "      <td>611000</td>\n",
       "    </tr>\n",
       "    <tr>\n",
       "      <th>808</th>\n",
       "      <td>808</td>\n",
       "      <td>SHA-256</td>\n",
       "      <td>True</td>\n",
       "      <td>PoW/PoS</td>\n",
       "      <td>0.000000e+00</td>\n",
       "      <td>0</td>\n",
       "    </tr>\n",
       "    <tr>\n",
       "      <th>...</th>\n",
       "      <td>...</td>\n",
       "      <td>...</td>\n",
       "      <td>...</td>\n",
       "      <td>...</td>\n",
       "      <td>...</td>\n",
       "      <td>...</td>\n",
       "    </tr>\n",
       "    <tr>\n",
       "      <th>SERO</th>\n",
       "      <td>Super Zero</td>\n",
       "      <td>Ethash</td>\n",
       "      <td>True</td>\n",
       "      <td>PoW</td>\n",
       "      <td>NaN</td>\n",
       "      <td>1000000000</td>\n",
       "    </tr>\n",
       "    <tr>\n",
       "      <th>UOS</th>\n",
       "      <td>UOS</td>\n",
       "      <td>SHA-256</td>\n",
       "      <td>True</td>\n",
       "      <td>DPoI</td>\n",
       "      <td>NaN</td>\n",
       "      <td>1000000000</td>\n",
       "    </tr>\n",
       "    <tr>\n",
       "      <th>BDX</th>\n",
       "      <td>Beldex</td>\n",
       "      <td>CryptoNight</td>\n",
       "      <td>True</td>\n",
       "      <td>PoW</td>\n",
       "      <td>9.802226e+08</td>\n",
       "      <td>1400222610</td>\n",
       "    </tr>\n",
       "    <tr>\n",
       "      <th>ZEN</th>\n",
       "      <td>Horizen</td>\n",
       "      <td>Equihash</td>\n",
       "      <td>True</td>\n",
       "      <td>PoW</td>\n",
       "      <td>7.296538e+06</td>\n",
       "      <td>21000000</td>\n",
       "    </tr>\n",
       "    <tr>\n",
       "      <th>XBC</th>\n",
       "      <td>BitcoinPlus</td>\n",
       "      <td>Scrypt</td>\n",
       "      <td>True</td>\n",
       "      <td>PoS</td>\n",
       "      <td>1.283270e+05</td>\n",
       "      <td>1000000</td>\n",
       "    </tr>\n",
       "  </tbody>\n",
       "</table>\n",
       "<p>1144 rows × 6 columns</p>\n",
       "</div>"
      ],
      "text/plain": [
       "         CoinName    Algorithm  IsTrading ProofType  TotalCoinsMined  \\\n",
       "42        42 Coin       Scrypt       True   PoW/PoS     4.199995e+01   \n",
       "365       365Coin          X11       True   PoW/PoS              NaN   \n",
       "404       404Coin       Scrypt       True   PoW/PoS     1.055185e+09   \n",
       "611     SixEleven      SHA-256       True       PoW              NaN   \n",
       "808           808      SHA-256       True   PoW/PoS     0.000000e+00   \n",
       "...           ...          ...        ...       ...              ...   \n",
       "SERO   Super Zero       Ethash       True       PoW              NaN   \n",
       "UOS           UOS      SHA-256       True      DPoI              NaN   \n",
       "BDX        Beldex  CryptoNight       True       PoW     9.802226e+08   \n",
       "ZEN       Horizen     Equihash       True       PoW     7.296538e+06   \n",
       "XBC   BitcoinPlus       Scrypt       True       PoS     1.283270e+05   \n",
       "\n",
       "     TotalCoinSupply  \n",
       "42                42  \n",
       "365       2300000000  \n",
       "404        532000000  \n",
       "611           611000  \n",
       "808                0  \n",
       "...              ...  \n",
       "SERO      1000000000  \n",
       "UOS       1000000000  \n",
       "BDX       1400222610  \n",
       "ZEN         21000000  \n",
       "XBC          1000000  \n",
       "\n",
       "[1144 rows x 6 columns]"
      ]
     },
     "execution_count": 21,
     "metadata": {},
     "output_type": "execute_result"
    }
   ],
   "source": [
    "# Keep all the cryptocurrencies that are being traded.\n",
    "crypto_df = crypto_df[crypto_df.IsTrading != False]\n",
    "crypto_df"
   ]
  },
  {
   "cell_type": "code",
   "execution_count": 22,
   "metadata": {},
   "outputs": [
    {
     "data": {
      "text/html": [
       "<div>\n",
       "<style scoped>\n",
       "    .dataframe tbody tr th:only-of-type {\n",
       "        vertical-align: middle;\n",
       "    }\n",
       "\n",
       "    .dataframe tbody tr th {\n",
       "        vertical-align: top;\n",
       "    }\n",
       "\n",
       "    .dataframe thead th {\n",
       "        text-align: right;\n",
       "    }\n",
       "</style>\n",
       "<table border=\"1\" class=\"dataframe\">\n",
       "  <thead>\n",
       "    <tr style=\"text-align: right;\">\n",
       "      <th></th>\n",
       "      <th>CoinName</th>\n",
       "      <th>Algorithm</th>\n",
       "      <th>IsTrading</th>\n",
       "      <th>ProofType</th>\n",
       "      <th>TotalCoinsMined</th>\n",
       "      <th>TotalCoinSupply</th>\n",
       "    </tr>\n",
       "  </thead>\n",
       "  <tbody>\n",
       "    <tr>\n",
       "      <th>42</th>\n",
       "      <td>42 Coin</td>\n",
       "      <td>Scrypt</td>\n",
       "      <td>True</td>\n",
       "      <td>PoW/PoS</td>\n",
       "      <td>4.199995e+01</td>\n",
       "      <td>42</td>\n",
       "    </tr>\n",
       "    <tr>\n",
       "      <th>404</th>\n",
       "      <td>404Coin</td>\n",
       "      <td>Scrypt</td>\n",
       "      <td>True</td>\n",
       "      <td>PoW/PoS</td>\n",
       "      <td>1.055185e+09</td>\n",
       "      <td>532000000</td>\n",
       "    </tr>\n",
       "    <tr>\n",
       "      <th>808</th>\n",
       "      <td>808</td>\n",
       "      <td>SHA-256</td>\n",
       "      <td>True</td>\n",
       "      <td>PoW/PoS</td>\n",
       "      <td>0.000000e+00</td>\n",
       "      <td>0</td>\n",
       "    </tr>\n",
       "    <tr>\n",
       "      <th>1337</th>\n",
       "      <td>EliteCoin</td>\n",
       "      <td>X13</td>\n",
       "      <td>True</td>\n",
       "      <td>PoW/PoS</td>\n",
       "      <td>2.927942e+10</td>\n",
       "      <td>314159265359</td>\n",
       "    </tr>\n",
       "    <tr>\n",
       "      <th>BTC</th>\n",
       "      <td>Bitcoin</td>\n",
       "      <td>SHA-256</td>\n",
       "      <td>True</td>\n",
       "      <td>PoW</td>\n",
       "      <td>1.792718e+07</td>\n",
       "      <td>21000000</td>\n",
       "    </tr>\n",
       "    <tr>\n",
       "      <th>...</th>\n",
       "      <td>...</td>\n",
       "      <td>...</td>\n",
       "      <td>...</td>\n",
       "      <td>...</td>\n",
       "      <td>...</td>\n",
       "      <td>...</td>\n",
       "    </tr>\n",
       "    <tr>\n",
       "      <th>ZEPH</th>\n",
       "      <td>ZEPHYR</td>\n",
       "      <td>SHA-256</td>\n",
       "      <td>True</td>\n",
       "      <td>DPoS</td>\n",
       "      <td>2.000000e+09</td>\n",
       "      <td>2000000000</td>\n",
       "    </tr>\n",
       "    <tr>\n",
       "      <th>GAP</th>\n",
       "      <td>Gapcoin</td>\n",
       "      <td>Scrypt</td>\n",
       "      <td>True</td>\n",
       "      <td>PoW/PoS</td>\n",
       "      <td>1.493105e+07</td>\n",
       "      <td>250000000</td>\n",
       "    </tr>\n",
       "    <tr>\n",
       "      <th>BDX</th>\n",
       "      <td>Beldex</td>\n",
       "      <td>CryptoNight</td>\n",
       "      <td>True</td>\n",
       "      <td>PoW</td>\n",
       "      <td>9.802226e+08</td>\n",
       "      <td>1400222610</td>\n",
       "    </tr>\n",
       "    <tr>\n",
       "      <th>ZEN</th>\n",
       "      <td>Horizen</td>\n",
       "      <td>Equihash</td>\n",
       "      <td>True</td>\n",
       "      <td>PoW</td>\n",
       "      <td>7.296538e+06</td>\n",
       "      <td>21000000</td>\n",
       "    </tr>\n",
       "    <tr>\n",
       "      <th>XBC</th>\n",
       "      <td>BitcoinPlus</td>\n",
       "      <td>Scrypt</td>\n",
       "      <td>True</td>\n",
       "      <td>PoS</td>\n",
       "      <td>1.283270e+05</td>\n",
       "      <td>1000000</td>\n",
       "    </tr>\n",
       "  </tbody>\n",
       "</table>\n",
       "<p>685 rows × 6 columns</p>\n",
       "</div>"
      ],
      "text/plain": [
       "         CoinName    Algorithm  IsTrading ProofType  TotalCoinsMined  \\\n",
       "42        42 Coin       Scrypt       True   PoW/PoS     4.199995e+01   \n",
       "404       404Coin       Scrypt       True   PoW/PoS     1.055185e+09   \n",
       "808           808      SHA-256       True   PoW/PoS     0.000000e+00   \n",
       "1337    EliteCoin          X13       True   PoW/PoS     2.927942e+10   \n",
       "BTC       Bitcoin      SHA-256       True       PoW     1.792718e+07   \n",
       "...           ...          ...        ...       ...              ...   \n",
       "ZEPH       ZEPHYR      SHA-256       True      DPoS     2.000000e+09   \n",
       "GAP       Gapcoin       Scrypt       True   PoW/PoS     1.493105e+07   \n",
       "BDX        Beldex  CryptoNight       True       PoW     9.802226e+08   \n",
       "ZEN       Horizen     Equihash       True       PoW     7.296538e+06   \n",
       "XBC   BitcoinPlus       Scrypt       True       PoS     1.283270e+05   \n",
       "\n",
       "     TotalCoinSupply  \n",
       "42                42  \n",
       "404        532000000  \n",
       "808                0  \n",
       "1337    314159265359  \n",
       "BTC         21000000  \n",
       "...              ...  \n",
       "ZEPH      2000000000  \n",
       "GAP        250000000  \n",
       "BDX       1400222610  \n",
       "ZEN         21000000  \n",
       "XBC          1000000  \n",
       "\n",
       "[685 rows x 6 columns]"
      ]
     },
     "execution_count": 22,
     "metadata": {},
     "output_type": "execute_result"
    }
   ],
   "source": [
    "# Keep all the cryptocurrencies that have a working algorithm.\n",
    "crypto_df = crypto_df.dropna()\n",
    "crypto_df"
   ]
  },
  {
   "cell_type": "code",
   "execution_count": 23,
   "metadata": {},
   "outputs": [
    {
     "data": {
      "text/html": [
       "<div>\n",
       "<style scoped>\n",
       "    .dataframe tbody tr th:only-of-type {\n",
       "        vertical-align: middle;\n",
       "    }\n",
       "\n",
       "    .dataframe tbody tr th {\n",
       "        vertical-align: top;\n",
       "    }\n",
       "\n",
       "    .dataframe thead th {\n",
       "        text-align: right;\n",
       "    }\n",
       "</style>\n",
       "<table border=\"1\" class=\"dataframe\">\n",
       "  <thead>\n",
       "    <tr style=\"text-align: right;\">\n",
       "      <th></th>\n",
       "      <th>CoinName</th>\n",
       "      <th>Algorithm</th>\n",
       "      <th>ProofType</th>\n",
       "      <th>TotalCoinsMined</th>\n",
       "      <th>TotalCoinSupply</th>\n",
       "    </tr>\n",
       "  </thead>\n",
       "  <tbody>\n",
       "    <tr>\n",
       "      <th>42</th>\n",
       "      <td>42 Coin</td>\n",
       "      <td>Scrypt</td>\n",
       "      <td>PoW/PoS</td>\n",
       "      <td>4.199995e+01</td>\n",
       "      <td>42</td>\n",
       "    </tr>\n",
       "    <tr>\n",
       "      <th>404</th>\n",
       "      <td>404Coin</td>\n",
       "      <td>Scrypt</td>\n",
       "      <td>PoW/PoS</td>\n",
       "      <td>1.055185e+09</td>\n",
       "      <td>532000000</td>\n",
       "    </tr>\n",
       "    <tr>\n",
       "      <th>808</th>\n",
       "      <td>808</td>\n",
       "      <td>SHA-256</td>\n",
       "      <td>PoW/PoS</td>\n",
       "      <td>0.000000e+00</td>\n",
       "      <td>0</td>\n",
       "    </tr>\n",
       "    <tr>\n",
       "      <th>1337</th>\n",
       "      <td>EliteCoin</td>\n",
       "      <td>X13</td>\n",
       "      <td>PoW/PoS</td>\n",
       "      <td>2.927942e+10</td>\n",
       "      <td>314159265359</td>\n",
       "    </tr>\n",
       "    <tr>\n",
       "      <th>BTC</th>\n",
       "      <td>Bitcoin</td>\n",
       "      <td>SHA-256</td>\n",
       "      <td>PoW</td>\n",
       "      <td>1.792718e+07</td>\n",
       "      <td>21000000</td>\n",
       "    </tr>\n",
       "    <tr>\n",
       "      <th>...</th>\n",
       "      <td>...</td>\n",
       "      <td>...</td>\n",
       "      <td>...</td>\n",
       "      <td>...</td>\n",
       "      <td>...</td>\n",
       "    </tr>\n",
       "    <tr>\n",
       "      <th>ZEPH</th>\n",
       "      <td>ZEPHYR</td>\n",
       "      <td>SHA-256</td>\n",
       "      <td>DPoS</td>\n",
       "      <td>2.000000e+09</td>\n",
       "      <td>2000000000</td>\n",
       "    </tr>\n",
       "    <tr>\n",
       "      <th>GAP</th>\n",
       "      <td>Gapcoin</td>\n",
       "      <td>Scrypt</td>\n",
       "      <td>PoW/PoS</td>\n",
       "      <td>1.493105e+07</td>\n",
       "      <td>250000000</td>\n",
       "    </tr>\n",
       "    <tr>\n",
       "      <th>BDX</th>\n",
       "      <td>Beldex</td>\n",
       "      <td>CryptoNight</td>\n",
       "      <td>PoW</td>\n",
       "      <td>9.802226e+08</td>\n",
       "      <td>1400222610</td>\n",
       "    </tr>\n",
       "    <tr>\n",
       "      <th>ZEN</th>\n",
       "      <td>Horizen</td>\n",
       "      <td>Equihash</td>\n",
       "      <td>PoW</td>\n",
       "      <td>7.296538e+06</td>\n",
       "      <td>21000000</td>\n",
       "    </tr>\n",
       "    <tr>\n",
       "      <th>XBC</th>\n",
       "      <td>BitcoinPlus</td>\n",
       "      <td>Scrypt</td>\n",
       "      <td>PoS</td>\n",
       "      <td>1.283270e+05</td>\n",
       "      <td>1000000</td>\n",
       "    </tr>\n",
       "  </tbody>\n",
       "</table>\n",
       "<p>685 rows × 5 columns</p>\n",
       "</div>"
      ],
      "text/plain": [
       "         CoinName    Algorithm ProofType  TotalCoinsMined TotalCoinSupply\n",
       "42        42 Coin       Scrypt   PoW/PoS     4.199995e+01              42\n",
       "404       404Coin       Scrypt   PoW/PoS     1.055185e+09       532000000\n",
       "808           808      SHA-256   PoW/PoS     0.000000e+00               0\n",
       "1337    EliteCoin          X13   PoW/PoS     2.927942e+10    314159265359\n",
       "BTC       Bitcoin      SHA-256       PoW     1.792718e+07        21000000\n",
       "...           ...          ...       ...              ...             ...\n",
       "ZEPH       ZEPHYR      SHA-256      DPoS     2.000000e+09      2000000000\n",
       "GAP       Gapcoin       Scrypt   PoW/PoS     1.493105e+07       250000000\n",
       "BDX        Beldex  CryptoNight       PoW     9.802226e+08      1400222610\n",
       "ZEN       Horizen     Equihash       PoW     7.296538e+06        21000000\n",
       "XBC   BitcoinPlus       Scrypt       PoS     1.283270e+05         1000000\n",
       "\n",
       "[685 rows x 5 columns]"
      ]
     },
     "execution_count": 23,
     "metadata": {},
     "output_type": "execute_result"
    }
   ],
   "source": [
    "# Remove the \"IsTrading\" column. \n",
    "crypto_df = crypto_df.drop(['IsTrading'], axis=1)\n",
    "crypto_df"
   ]
  },
  {
   "cell_type": "code",
   "execution_count": 24,
   "metadata": {},
   "outputs": [
    {
     "data": {
      "text/html": [
       "<div>\n",
       "<style scoped>\n",
       "    .dataframe tbody tr th:only-of-type {\n",
       "        vertical-align: middle;\n",
       "    }\n",
       "\n",
       "    .dataframe tbody tr th {\n",
       "        vertical-align: top;\n",
       "    }\n",
       "\n",
       "    .dataframe thead th {\n",
       "        text-align: right;\n",
       "    }\n",
       "</style>\n",
       "<table border=\"1\" class=\"dataframe\">\n",
       "  <thead>\n",
       "    <tr style=\"text-align: right;\">\n",
       "      <th></th>\n",
       "      <th>CoinName</th>\n",
       "      <th>Algorithm</th>\n",
       "      <th>ProofType</th>\n",
       "      <th>TotalCoinsMined</th>\n",
       "      <th>TotalCoinSupply</th>\n",
       "    </tr>\n",
       "  </thead>\n",
       "  <tbody>\n",
       "    <tr>\n",
       "      <th>42</th>\n",
       "      <td>42 Coin</td>\n",
       "      <td>Scrypt</td>\n",
       "      <td>PoW/PoS</td>\n",
       "      <td>4.199995e+01</td>\n",
       "      <td>42</td>\n",
       "    </tr>\n",
       "    <tr>\n",
       "      <th>404</th>\n",
       "      <td>404Coin</td>\n",
       "      <td>Scrypt</td>\n",
       "      <td>PoW/PoS</td>\n",
       "      <td>1.055185e+09</td>\n",
       "      <td>532000000</td>\n",
       "    </tr>\n",
       "    <tr>\n",
       "      <th>1337</th>\n",
       "      <td>EliteCoin</td>\n",
       "      <td>X13</td>\n",
       "      <td>PoW/PoS</td>\n",
       "      <td>2.927942e+10</td>\n",
       "      <td>314159265359</td>\n",
       "    </tr>\n",
       "    <tr>\n",
       "      <th>BTC</th>\n",
       "      <td>Bitcoin</td>\n",
       "      <td>SHA-256</td>\n",
       "      <td>PoW</td>\n",
       "      <td>1.792718e+07</td>\n",
       "      <td>21000000</td>\n",
       "    </tr>\n",
       "    <tr>\n",
       "      <th>LTC</th>\n",
       "      <td>Litecoin</td>\n",
       "      <td>Scrypt</td>\n",
       "      <td>PoW</td>\n",
       "      <td>6.303924e+07</td>\n",
       "      <td>84000000</td>\n",
       "    </tr>\n",
       "    <tr>\n",
       "      <th>...</th>\n",
       "      <td>...</td>\n",
       "      <td>...</td>\n",
       "      <td>...</td>\n",
       "      <td>...</td>\n",
       "      <td>...</td>\n",
       "    </tr>\n",
       "    <tr>\n",
       "      <th>ZEPH</th>\n",
       "      <td>ZEPHYR</td>\n",
       "      <td>SHA-256</td>\n",
       "      <td>DPoS</td>\n",
       "      <td>2.000000e+09</td>\n",
       "      <td>2000000000</td>\n",
       "    </tr>\n",
       "    <tr>\n",
       "      <th>GAP</th>\n",
       "      <td>Gapcoin</td>\n",
       "      <td>Scrypt</td>\n",
       "      <td>PoW/PoS</td>\n",
       "      <td>1.493105e+07</td>\n",
       "      <td>250000000</td>\n",
       "    </tr>\n",
       "    <tr>\n",
       "      <th>BDX</th>\n",
       "      <td>Beldex</td>\n",
       "      <td>CryptoNight</td>\n",
       "      <td>PoW</td>\n",
       "      <td>9.802226e+08</td>\n",
       "      <td>1400222610</td>\n",
       "    </tr>\n",
       "    <tr>\n",
       "      <th>ZEN</th>\n",
       "      <td>Horizen</td>\n",
       "      <td>Equihash</td>\n",
       "      <td>PoW</td>\n",
       "      <td>7.296538e+06</td>\n",
       "      <td>21000000</td>\n",
       "    </tr>\n",
       "    <tr>\n",
       "      <th>XBC</th>\n",
       "      <td>BitcoinPlus</td>\n",
       "      <td>Scrypt</td>\n",
       "      <td>PoS</td>\n",
       "      <td>1.283270e+05</td>\n",
       "      <td>1000000</td>\n",
       "    </tr>\n",
       "  </tbody>\n",
       "</table>\n",
       "<p>637 rows × 5 columns</p>\n",
       "</div>"
      ],
      "text/plain": [
       "         CoinName    Algorithm ProofType  TotalCoinsMined TotalCoinSupply\n",
       "42        42 Coin       Scrypt   PoW/PoS     4.199995e+01              42\n",
       "404       404Coin       Scrypt   PoW/PoS     1.055185e+09       532000000\n",
       "1337    EliteCoin          X13   PoW/PoS     2.927942e+10    314159265359\n",
       "BTC       Bitcoin      SHA-256       PoW     1.792718e+07        21000000\n",
       "LTC      Litecoin       Scrypt       PoW     6.303924e+07        84000000\n",
       "...           ...          ...       ...              ...             ...\n",
       "ZEPH       ZEPHYR      SHA-256      DPoS     2.000000e+09      2000000000\n",
       "GAP       Gapcoin       Scrypt   PoW/PoS     1.493105e+07       250000000\n",
       "BDX        Beldex  CryptoNight       PoW     9.802226e+08      1400222610\n",
       "ZEN       Horizen     Equihash       PoW     7.296538e+06        21000000\n",
       "XBC   BitcoinPlus       Scrypt       PoS     1.283270e+05         1000000\n",
       "\n",
       "[637 rows x 5 columns]"
      ]
     },
     "execution_count": 24,
     "metadata": {},
     "output_type": "execute_result"
    }
   ],
   "source": [
    "# Remove rows that have at least 1 null value.\n",
    "crypto_df = crypto_df[crypto_df.TotalCoinSupply != \"0\"]\n",
    "crypto_df"
   ]
  },
  {
   "cell_type": "code",
   "execution_count": 25,
   "metadata": {},
   "outputs": [
    {
     "data": {
      "text/html": [
       "<div>\n",
       "<style scoped>\n",
       "    .dataframe tbody tr th:only-of-type {\n",
       "        vertical-align: middle;\n",
       "    }\n",
       "\n",
       "    .dataframe tbody tr th {\n",
       "        vertical-align: top;\n",
       "    }\n",
       "\n",
       "    .dataframe thead th {\n",
       "        text-align: right;\n",
       "    }\n",
       "</style>\n",
       "<table border=\"1\" class=\"dataframe\">\n",
       "  <thead>\n",
       "    <tr style=\"text-align: right;\">\n",
       "      <th></th>\n",
       "      <th>CoinName</th>\n",
       "      <th>Algorithm</th>\n",
       "      <th>ProofType</th>\n",
       "      <th>TotalCoinsMined</th>\n",
       "      <th>TotalCoinSupply</th>\n",
       "    </tr>\n",
       "  </thead>\n",
       "  <tbody>\n",
       "    <tr>\n",
       "      <th>42</th>\n",
       "      <td>42 Coin</td>\n",
       "      <td>Scrypt</td>\n",
       "      <td>PoW/PoS</td>\n",
       "      <td>4.199995e+01</td>\n",
       "      <td>42</td>\n",
       "    </tr>\n",
       "    <tr>\n",
       "      <th>404</th>\n",
       "      <td>404Coin</td>\n",
       "      <td>Scrypt</td>\n",
       "      <td>PoW/PoS</td>\n",
       "      <td>1.055185e+09</td>\n",
       "      <td>532000000</td>\n",
       "    </tr>\n",
       "    <tr>\n",
       "      <th>1337</th>\n",
       "      <td>EliteCoin</td>\n",
       "      <td>X13</td>\n",
       "      <td>PoW/PoS</td>\n",
       "      <td>2.927942e+10</td>\n",
       "      <td>314159265359</td>\n",
       "    </tr>\n",
       "    <tr>\n",
       "      <th>BTC</th>\n",
       "      <td>Bitcoin</td>\n",
       "      <td>SHA-256</td>\n",
       "      <td>PoW</td>\n",
       "      <td>1.792718e+07</td>\n",
       "      <td>21000000</td>\n",
       "    </tr>\n",
       "    <tr>\n",
       "      <th>LTC</th>\n",
       "      <td>Litecoin</td>\n",
       "      <td>Scrypt</td>\n",
       "      <td>PoW</td>\n",
       "      <td>6.303924e+07</td>\n",
       "      <td>84000000</td>\n",
       "    </tr>\n",
       "    <tr>\n",
       "      <th>...</th>\n",
       "      <td>...</td>\n",
       "      <td>...</td>\n",
       "      <td>...</td>\n",
       "      <td>...</td>\n",
       "      <td>...</td>\n",
       "    </tr>\n",
       "    <tr>\n",
       "      <th>ZEPH</th>\n",
       "      <td>ZEPHYR</td>\n",
       "      <td>SHA-256</td>\n",
       "      <td>DPoS</td>\n",
       "      <td>2.000000e+09</td>\n",
       "      <td>2000000000</td>\n",
       "    </tr>\n",
       "    <tr>\n",
       "      <th>GAP</th>\n",
       "      <td>Gapcoin</td>\n",
       "      <td>Scrypt</td>\n",
       "      <td>PoW/PoS</td>\n",
       "      <td>1.493105e+07</td>\n",
       "      <td>250000000</td>\n",
       "    </tr>\n",
       "    <tr>\n",
       "      <th>BDX</th>\n",
       "      <td>Beldex</td>\n",
       "      <td>CryptoNight</td>\n",
       "      <td>PoW</td>\n",
       "      <td>9.802226e+08</td>\n",
       "      <td>1400222610</td>\n",
       "    </tr>\n",
       "    <tr>\n",
       "      <th>ZEN</th>\n",
       "      <td>Horizen</td>\n",
       "      <td>Equihash</td>\n",
       "      <td>PoW</td>\n",
       "      <td>7.296538e+06</td>\n",
       "      <td>21000000</td>\n",
       "    </tr>\n",
       "    <tr>\n",
       "      <th>XBC</th>\n",
       "      <td>BitcoinPlus</td>\n",
       "      <td>Scrypt</td>\n",
       "      <td>PoS</td>\n",
       "      <td>1.283270e+05</td>\n",
       "      <td>1000000</td>\n",
       "    </tr>\n",
       "  </tbody>\n",
       "</table>\n",
       "<p>637 rows × 5 columns</p>\n",
       "</div>"
      ],
      "text/plain": [
       "         CoinName    Algorithm ProofType  TotalCoinsMined TotalCoinSupply\n",
       "42        42 Coin       Scrypt   PoW/PoS     4.199995e+01              42\n",
       "404       404Coin       Scrypt   PoW/PoS     1.055185e+09       532000000\n",
       "1337    EliteCoin          X13   PoW/PoS     2.927942e+10    314159265359\n",
       "BTC       Bitcoin      SHA-256       PoW     1.792718e+07        21000000\n",
       "LTC      Litecoin       Scrypt       PoW     6.303924e+07        84000000\n",
       "...           ...          ...       ...              ...             ...\n",
       "ZEPH       ZEPHYR      SHA-256      DPoS     2.000000e+09      2000000000\n",
       "GAP       Gapcoin       Scrypt   PoW/PoS     1.493105e+07       250000000\n",
       "BDX        Beldex  CryptoNight       PoW     9.802226e+08      1400222610\n",
       "ZEN       Horizen     Equihash       PoW     7.296538e+06        21000000\n",
       "XBC   BitcoinPlus       Scrypt       PoS     1.283270e+05         1000000\n",
       "\n",
       "[637 rows x 5 columns]"
      ]
     },
     "execution_count": 25,
     "metadata": {},
     "output_type": "execute_result"
    }
   ],
   "source": [
    "# Keep the rows where coins are mined.\n",
    "crypto_df = crypto_df[crypto_df.TotalCoinsMined != \"0\"]\n",
    "crypto_df"
   ]
  },
  {
   "cell_type": "code",
   "execution_count": 26,
   "metadata": {},
   "outputs": [
    {
     "data": {
      "text/html": [
       "<div>\n",
       "<style scoped>\n",
       "    .dataframe tbody tr th:only-of-type {\n",
       "        vertical-align: middle;\n",
       "    }\n",
       "\n",
       "    .dataframe tbody tr th {\n",
       "        vertical-align: top;\n",
       "    }\n",
       "\n",
       "    .dataframe thead th {\n",
       "        text-align: right;\n",
       "    }\n",
       "</style>\n",
       "<table border=\"1\" class=\"dataframe\">\n",
       "  <thead>\n",
       "    <tr style=\"text-align: right;\">\n",
       "      <th></th>\n",
       "      <th>CoinName</th>\n",
       "    </tr>\n",
       "  </thead>\n",
       "  <tbody>\n",
       "    <tr>\n",
       "      <th>42</th>\n",
       "      <td>42 Coin</td>\n",
       "    </tr>\n",
       "    <tr>\n",
       "      <th>404</th>\n",
       "      <td>404Coin</td>\n",
       "    </tr>\n",
       "    <tr>\n",
       "      <th>1337</th>\n",
       "      <td>EliteCoin</td>\n",
       "    </tr>\n",
       "    <tr>\n",
       "      <th>BTC</th>\n",
       "      <td>Bitcoin</td>\n",
       "    </tr>\n",
       "    <tr>\n",
       "      <th>LTC</th>\n",
       "      <td>Litecoin</td>\n",
       "    </tr>\n",
       "    <tr>\n",
       "      <th>...</th>\n",
       "      <td>...</td>\n",
       "    </tr>\n",
       "    <tr>\n",
       "      <th>ZEPH</th>\n",
       "      <td>ZEPHYR</td>\n",
       "    </tr>\n",
       "    <tr>\n",
       "      <th>GAP</th>\n",
       "      <td>Gapcoin</td>\n",
       "    </tr>\n",
       "    <tr>\n",
       "      <th>BDX</th>\n",
       "      <td>Beldex</td>\n",
       "    </tr>\n",
       "    <tr>\n",
       "      <th>ZEN</th>\n",
       "      <td>Horizen</td>\n",
       "    </tr>\n",
       "    <tr>\n",
       "      <th>XBC</th>\n",
       "      <td>BitcoinPlus</td>\n",
       "    </tr>\n",
       "  </tbody>\n",
       "</table>\n",
       "<p>637 rows × 1 columns</p>\n",
       "</div>"
      ],
      "text/plain": [
       "         CoinName\n",
       "42        42 Coin\n",
       "404       404Coin\n",
       "1337    EliteCoin\n",
       "BTC       Bitcoin\n",
       "LTC      Litecoin\n",
       "...           ...\n",
       "ZEPH       ZEPHYR\n",
       "GAP       Gapcoin\n",
       "BDX        Beldex\n",
       "ZEN       Horizen\n",
       "XBC   BitcoinPlus\n",
       "\n",
       "[637 rows x 1 columns]"
      ]
     },
     "execution_count": 26,
     "metadata": {},
     "output_type": "execute_result"
    }
   ],
   "source": [
    "# Create a new DataFrame that holds only the cryptocurrencies names.\n",
    "names_df = pd.DataFrame(crypto_df['CoinName'], index=crypto_df.index)\n",
    "names_df"
   ]
  },
  {
   "cell_type": "code",
   "execution_count": 27,
   "metadata": {},
   "outputs": [
    {
     "data": {
      "text/html": [
       "<div>\n",
       "<style scoped>\n",
       "    .dataframe tbody tr th:only-of-type {\n",
       "        vertical-align: middle;\n",
       "    }\n",
       "\n",
       "    .dataframe tbody tr th {\n",
       "        vertical-align: top;\n",
       "    }\n",
       "\n",
       "    .dataframe thead th {\n",
       "        text-align: right;\n",
       "    }\n",
       "</style>\n",
       "<table border=\"1\" class=\"dataframe\">\n",
       "  <thead>\n",
       "    <tr style=\"text-align: right;\">\n",
       "      <th></th>\n",
       "      <th>Algorithm</th>\n",
       "      <th>ProofType</th>\n",
       "      <th>TotalCoinsMined</th>\n",
       "      <th>TotalCoinSupply</th>\n",
       "    </tr>\n",
       "  </thead>\n",
       "  <tbody>\n",
       "    <tr>\n",
       "      <th>42</th>\n",
       "      <td>Scrypt</td>\n",
       "      <td>PoW/PoS</td>\n",
       "      <td>4.199995e+01</td>\n",
       "      <td>42</td>\n",
       "    </tr>\n",
       "    <tr>\n",
       "      <th>404</th>\n",
       "      <td>Scrypt</td>\n",
       "      <td>PoW/PoS</td>\n",
       "      <td>1.055185e+09</td>\n",
       "      <td>532000000</td>\n",
       "    </tr>\n",
       "    <tr>\n",
       "      <th>1337</th>\n",
       "      <td>X13</td>\n",
       "      <td>PoW/PoS</td>\n",
       "      <td>2.927942e+10</td>\n",
       "      <td>314159265359</td>\n",
       "    </tr>\n",
       "    <tr>\n",
       "      <th>BTC</th>\n",
       "      <td>SHA-256</td>\n",
       "      <td>PoW</td>\n",
       "      <td>1.792718e+07</td>\n",
       "      <td>21000000</td>\n",
       "    </tr>\n",
       "    <tr>\n",
       "      <th>LTC</th>\n",
       "      <td>Scrypt</td>\n",
       "      <td>PoW</td>\n",
       "      <td>6.303924e+07</td>\n",
       "      <td>84000000</td>\n",
       "    </tr>\n",
       "    <tr>\n",
       "      <th>...</th>\n",
       "      <td>...</td>\n",
       "      <td>...</td>\n",
       "      <td>...</td>\n",
       "      <td>...</td>\n",
       "    </tr>\n",
       "    <tr>\n",
       "      <th>ZEPH</th>\n",
       "      <td>SHA-256</td>\n",
       "      <td>DPoS</td>\n",
       "      <td>2.000000e+09</td>\n",
       "      <td>2000000000</td>\n",
       "    </tr>\n",
       "    <tr>\n",
       "      <th>GAP</th>\n",
       "      <td>Scrypt</td>\n",
       "      <td>PoW/PoS</td>\n",
       "      <td>1.493105e+07</td>\n",
       "      <td>250000000</td>\n",
       "    </tr>\n",
       "    <tr>\n",
       "      <th>BDX</th>\n",
       "      <td>CryptoNight</td>\n",
       "      <td>PoW</td>\n",
       "      <td>9.802226e+08</td>\n",
       "      <td>1400222610</td>\n",
       "    </tr>\n",
       "    <tr>\n",
       "      <th>ZEN</th>\n",
       "      <td>Equihash</td>\n",
       "      <td>PoW</td>\n",
       "      <td>7.296538e+06</td>\n",
       "      <td>21000000</td>\n",
       "    </tr>\n",
       "    <tr>\n",
       "      <th>XBC</th>\n",
       "      <td>Scrypt</td>\n",
       "      <td>PoS</td>\n",
       "      <td>1.283270e+05</td>\n",
       "      <td>1000000</td>\n",
       "    </tr>\n",
       "  </tbody>\n",
       "</table>\n",
       "<p>637 rows × 4 columns</p>\n",
       "</div>"
      ],
      "text/plain": [
       "        Algorithm ProofType  TotalCoinsMined TotalCoinSupply\n",
       "42         Scrypt   PoW/PoS     4.199995e+01              42\n",
       "404        Scrypt   PoW/PoS     1.055185e+09       532000000\n",
       "1337          X13   PoW/PoS     2.927942e+10    314159265359\n",
       "BTC       SHA-256       PoW     1.792718e+07        21000000\n",
       "LTC        Scrypt       PoW     6.303924e+07        84000000\n",
       "...           ...       ...              ...             ...\n",
       "ZEPH      SHA-256      DPoS     2.000000e+09      2000000000\n",
       "GAP        Scrypt   PoW/PoS     1.493105e+07       250000000\n",
       "BDX   CryptoNight       PoW     9.802226e+08      1400222610\n",
       "ZEN      Equihash       PoW     7.296538e+06        21000000\n",
       "XBC        Scrypt       PoS     1.283270e+05         1000000\n",
       "\n",
       "[637 rows x 4 columns]"
      ]
     },
     "execution_count": 27,
     "metadata": {},
     "output_type": "execute_result"
    }
   ],
   "source": [
    "# Drop the 'CoinName' column since it's not going to be used on the clustering algorithm.\n",
    "crypto_df = crypto_df.drop([\"CoinName\"], axis=1)\n",
    "crypto_df"
   ]
  },
  {
   "cell_type": "code",
   "execution_count": 28,
   "metadata": {},
   "outputs": [
    {
     "data": {
      "text/html": [
       "<div>\n",
       "<style scoped>\n",
       "    .dataframe tbody tr th:only-of-type {\n",
       "        vertical-align: middle;\n",
       "    }\n",
       "\n",
       "    .dataframe tbody tr th {\n",
       "        vertical-align: top;\n",
       "    }\n",
       "\n",
       "    .dataframe thead th {\n",
       "        text-align: right;\n",
       "    }\n",
       "</style>\n",
       "<table border=\"1\" class=\"dataframe\">\n",
       "  <thead>\n",
       "    <tr style=\"text-align: right;\">\n",
       "      <th></th>\n",
       "      <th>TotalCoinsMined</th>\n",
       "      <th>TotalCoinSupply</th>\n",
       "      <th>Algorithm_1GB AES Pattern Search</th>\n",
       "      <th>Algorithm_536</th>\n",
       "      <th>Algorithm_Argon2</th>\n",
       "      <th>Algorithm_BLAKE256</th>\n",
       "      <th>Algorithm_Blake</th>\n",
       "      <th>Algorithm_Blake2S</th>\n",
       "      <th>Algorithm_Blake2b</th>\n",
       "      <th>Algorithm_C11</th>\n",
       "      <th>...</th>\n",
       "      <th>ProofType_PoW/PoS</th>\n",
       "      <th>ProofType_PoW/PoS</th>\n",
       "      <th>ProofType_PoW/PoW</th>\n",
       "      <th>ProofType_PoW/nPoS</th>\n",
       "      <th>ProofType_Pos</th>\n",
       "      <th>ProofType_Proof of Authority</th>\n",
       "      <th>ProofType_Proof of Trust</th>\n",
       "      <th>ProofType_TPoS</th>\n",
       "      <th>ProofType_Zero-Knowledge Proof</th>\n",
       "      <th>ProofType_dPoW/PoW</th>\n",
       "    </tr>\n",
       "  </thead>\n",
       "  <tbody>\n",
       "    <tr>\n",
       "      <th>42</th>\n",
       "      <td>4.199995e+01</td>\n",
       "      <td>42</td>\n",
       "      <td>0</td>\n",
       "      <td>0</td>\n",
       "      <td>0</td>\n",
       "      <td>0</td>\n",
       "      <td>0</td>\n",
       "      <td>0</td>\n",
       "      <td>0</td>\n",
       "      <td>0</td>\n",
       "      <td>...</td>\n",
       "      <td>1</td>\n",
       "      <td>0</td>\n",
       "      <td>0</td>\n",
       "      <td>0</td>\n",
       "      <td>0</td>\n",
       "      <td>0</td>\n",
       "      <td>0</td>\n",
       "      <td>0</td>\n",
       "      <td>0</td>\n",
       "      <td>0</td>\n",
       "    </tr>\n",
       "    <tr>\n",
       "      <th>404</th>\n",
       "      <td>1.055185e+09</td>\n",
       "      <td>532000000</td>\n",
       "      <td>0</td>\n",
       "      <td>0</td>\n",
       "      <td>0</td>\n",
       "      <td>0</td>\n",
       "      <td>0</td>\n",
       "      <td>0</td>\n",
       "      <td>0</td>\n",
       "      <td>0</td>\n",
       "      <td>...</td>\n",
       "      <td>1</td>\n",
       "      <td>0</td>\n",
       "      <td>0</td>\n",
       "      <td>0</td>\n",
       "      <td>0</td>\n",
       "      <td>0</td>\n",
       "      <td>0</td>\n",
       "      <td>0</td>\n",
       "      <td>0</td>\n",
       "      <td>0</td>\n",
       "    </tr>\n",
       "    <tr>\n",
       "      <th>1337</th>\n",
       "      <td>2.927942e+10</td>\n",
       "      <td>314159265359</td>\n",
       "      <td>0</td>\n",
       "      <td>0</td>\n",
       "      <td>0</td>\n",
       "      <td>0</td>\n",
       "      <td>0</td>\n",
       "      <td>0</td>\n",
       "      <td>0</td>\n",
       "      <td>0</td>\n",
       "      <td>...</td>\n",
       "      <td>1</td>\n",
       "      <td>0</td>\n",
       "      <td>0</td>\n",
       "      <td>0</td>\n",
       "      <td>0</td>\n",
       "      <td>0</td>\n",
       "      <td>0</td>\n",
       "      <td>0</td>\n",
       "      <td>0</td>\n",
       "      <td>0</td>\n",
       "    </tr>\n",
       "    <tr>\n",
       "      <th>BTC</th>\n",
       "      <td>1.792718e+07</td>\n",
       "      <td>21000000</td>\n",
       "      <td>0</td>\n",
       "      <td>0</td>\n",
       "      <td>0</td>\n",
       "      <td>0</td>\n",
       "      <td>0</td>\n",
       "      <td>0</td>\n",
       "      <td>0</td>\n",
       "      <td>0</td>\n",
       "      <td>...</td>\n",
       "      <td>0</td>\n",
       "      <td>0</td>\n",
       "      <td>0</td>\n",
       "      <td>0</td>\n",
       "      <td>0</td>\n",
       "      <td>0</td>\n",
       "      <td>0</td>\n",
       "      <td>0</td>\n",
       "      <td>0</td>\n",
       "      <td>0</td>\n",
       "    </tr>\n",
       "    <tr>\n",
       "      <th>LTC</th>\n",
       "      <td>6.303924e+07</td>\n",
       "      <td>84000000</td>\n",
       "      <td>0</td>\n",
       "      <td>0</td>\n",
       "      <td>0</td>\n",
       "      <td>0</td>\n",
       "      <td>0</td>\n",
       "      <td>0</td>\n",
       "      <td>0</td>\n",
       "      <td>0</td>\n",
       "      <td>...</td>\n",
       "      <td>0</td>\n",
       "      <td>0</td>\n",
       "      <td>0</td>\n",
       "      <td>0</td>\n",
       "      <td>0</td>\n",
       "      <td>0</td>\n",
       "      <td>0</td>\n",
       "      <td>0</td>\n",
       "      <td>0</td>\n",
       "      <td>0</td>\n",
       "    </tr>\n",
       "    <tr>\n",
       "      <th>...</th>\n",
       "      <td>...</td>\n",
       "      <td>...</td>\n",
       "      <td>...</td>\n",
       "      <td>...</td>\n",
       "      <td>...</td>\n",
       "      <td>...</td>\n",
       "      <td>...</td>\n",
       "      <td>...</td>\n",
       "      <td>...</td>\n",
       "      <td>...</td>\n",
       "      <td>...</td>\n",
       "      <td>...</td>\n",
       "      <td>...</td>\n",
       "      <td>...</td>\n",
       "      <td>...</td>\n",
       "      <td>...</td>\n",
       "      <td>...</td>\n",
       "      <td>...</td>\n",
       "      <td>...</td>\n",
       "      <td>...</td>\n",
       "      <td>...</td>\n",
       "    </tr>\n",
       "    <tr>\n",
       "      <th>ZEPH</th>\n",
       "      <td>2.000000e+09</td>\n",
       "      <td>2000000000</td>\n",
       "      <td>0</td>\n",
       "      <td>0</td>\n",
       "      <td>0</td>\n",
       "      <td>0</td>\n",
       "      <td>0</td>\n",
       "      <td>0</td>\n",
       "      <td>0</td>\n",
       "      <td>0</td>\n",
       "      <td>...</td>\n",
       "      <td>0</td>\n",
       "      <td>0</td>\n",
       "      <td>0</td>\n",
       "      <td>0</td>\n",
       "      <td>0</td>\n",
       "      <td>0</td>\n",
       "      <td>0</td>\n",
       "      <td>0</td>\n",
       "      <td>0</td>\n",
       "      <td>0</td>\n",
       "    </tr>\n",
       "    <tr>\n",
       "      <th>GAP</th>\n",
       "      <td>1.493105e+07</td>\n",
       "      <td>250000000</td>\n",
       "      <td>0</td>\n",
       "      <td>0</td>\n",
       "      <td>0</td>\n",
       "      <td>0</td>\n",
       "      <td>0</td>\n",
       "      <td>0</td>\n",
       "      <td>0</td>\n",
       "      <td>0</td>\n",
       "      <td>...</td>\n",
       "      <td>1</td>\n",
       "      <td>0</td>\n",
       "      <td>0</td>\n",
       "      <td>0</td>\n",
       "      <td>0</td>\n",
       "      <td>0</td>\n",
       "      <td>0</td>\n",
       "      <td>0</td>\n",
       "      <td>0</td>\n",
       "      <td>0</td>\n",
       "    </tr>\n",
       "    <tr>\n",
       "      <th>BDX</th>\n",
       "      <td>9.802226e+08</td>\n",
       "      <td>1400222610</td>\n",
       "      <td>0</td>\n",
       "      <td>0</td>\n",
       "      <td>0</td>\n",
       "      <td>0</td>\n",
       "      <td>0</td>\n",
       "      <td>0</td>\n",
       "      <td>0</td>\n",
       "      <td>0</td>\n",
       "      <td>...</td>\n",
       "      <td>0</td>\n",
       "      <td>0</td>\n",
       "      <td>0</td>\n",
       "      <td>0</td>\n",
       "      <td>0</td>\n",
       "      <td>0</td>\n",
       "      <td>0</td>\n",
       "      <td>0</td>\n",
       "      <td>0</td>\n",
       "      <td>0</td>\n",
       "    </tr>\n",
       "    <tr>\n",
       "      <th>ZEN</th>\n",
       "      <td>7.296538e+06</td>\n",
       "      <td>21000000</td>\n",
       "      <td>0</td>\n",
       "      <td>0</td>\n",
       "      <td>0</td>\n",
       "      <td>0</td>\n",
       "      <td>0</td>\n",
       "      <td>0</td>\n",
       "      <td>0</td>\n",
       "      <td>0</td>\n",
       "      <td>...</td>\n",
       "      <td>0</td>\n",
       "      <td>0</td>\n",
       "      <td>0</td>\n",
       "      <td>0</td>\n",
       "      <td>0</td>\n",
       "      <td>0</td>\n",
       "      <td>0</td>\n",
       "      <td>0</td>\n",
       "      <td>0</td>\n",
       "      <td>0</td>\n",
       "    </tr>\n",
       "    <tr>\n",
       "      <th>XBC</th>\n",
       "      <td>1.283270e+05</td>\n",
       "      <td>1000000</td>\n",
       "      <td>0</td>\n",
       "      <td>0</td>\n",
       "      <td>0</td>\n",
       "      <td>0</td>\n",
       "      <td>0</td>\n",
       "      <td>0</td>\n",
       "      <td>0</td>\n",
       "      <td>0</td>\n",
       "      <td>...</td>\n",
       "      <td>0</td>\n",
       "      <td>0</td>\n",
       "      <td>0</td>\n",
       "      <td>0</td>\n",
       "      <td>0</td>\n",
       "      <td>0</td>\n",
       "      <td>0</td>\n",
       "      <td>0</td>\n",
       "      <td>0</td>\n",
       "      <td>0</td>\n",
       "    </tr>\n",
       "  </tbody>\n",
       "</table>\n",
       "<p>637 rows × 105 columns</p>\n",
       "</div>"
      ],
      "text/plain": [
       "      TotalCoinsMined TotalCoinSupply  Algorithm_1GB AES Pattern Search  \\\n",
       "42       4.199995e+01              42                                 0   \n",
       "404      1.055185e+09       532000000                                 0   \n",
       "1337     2.927942e+10    314159265359                                 0   \n",
       "BTC      1.792718e+07        21000000                                 0   \n",
       "LTC      6.303924e+07        84000000                                 0   \n",
       "...               ...             ...                               ...   \n",
       "ZEPH     2.000000e+09      2000000000                                 0   \n",
       "GAP      1.493105e+07       250000000                                 0   \n",
       "BDX      9.802226e+08      1400222610                                 0   \n",
       "ZEN      7.296538e+06        21000000                                 0   \n",
       "XBC      1.283270e+05         1000000                                 0   \n",
       "\n",
       "      Algorithm_536  Algorithm_Argon2  Algorithm_BLAKE256  Algorithm_Blake  \\\n",
       "42                0                 0                   0                0   \n",
       "404               0                 0                   0                0   \n",
       "1337              0                 0                   0                0   \n",
       "BTC               0                 0                   0                0   \n",
       "LTC               0                 0                   0                0   \n",
       "...             ...               ...                 ...              ...   \n",
       "ZEPH              0                 0                   0                0   \n",
       "GAP               0                 0                   0                0   \n",
       "BDX               0                 0                   0                0   \n",
       "ZEN               0                 0                   0                0   \n",
       "XBC               0                 0                   0                0   \n",
       "\n",
       "      Algorithm_Blake2S  Algorithm_Blake2b  Algorithm_C11  ...  \\\n",
       "42                    0                  0              0  ...   \n",
       "404                   0                  0              0  ...   \n",
       "1337                  0                  0              0  ...   \n",
       "BTC                   0                  0              0  ...   \n",
       "LTC                   0                  0              0  ...   \n",
       "...                 ...                ...            ...  ...   \n",
       "ZEPH                  0                  0              0  ...   \n",
       "GAP                   0                  0              0  ...   \n",
       "BDX                   0                  0              0  ...   \n",
       "ZEN                   0                  0              0  ...   \n",
       "XBC                   0                  0              0  ...   \n",
       "\n",
       "      ProofType_PoW/PoS  ProofType_PoW/PoS   ProofType_PoW/PoW  \\\n",
       "42                    1                   0                  0   \n",
       "404                   1                   0                  0   \n",
       "1337                  1                   0                  0   \n",
       "BTC                   0                   0                  0   \n",
       "LTC                   0                   0                  0   \n",
       "...                 ...                 ...                ...   \n",
       "ZEPH                  0                   0                  0   \n",
       "GAP                   1                   0                  0   \n",
       "BDX                   0                   0                  0   \n",
       "ZEN                   0                   0                  0   \n",
       "XBC                   0                   0                  0   \n",
       "\n",
       "      ProofType_PoW/nPoS  ProofType_Pos  ProofType_Proof of Authority  \\\n",
       "42                     0              0                             0   \n",
       "404                    0              0                             0   \n",
       "1337                   0              0                             0   \n",
       "BTC                    0              0                             0   \n",
       "LTC                    0              0                             0   \n",
       "...                  ...            ...                           ...   \n",
       "ZEPH                   0              0                             0   \n",
       "GAP                    0              0                             0   \n",
       "BDX                    0              0                             0   \n",
       "ZEN                    0              0                             0   \n",
       "XBC                    0              0                             0   \n",
       "\n",
       "      ProofType_Proof of Trust  ProofType_TPoS  \\\n",
       "42                           0               0   \n",
       "404                          0               0   \n",
       "1337                         0               0   \n",
       "BTC                          0               0   \n",
       "LTC                          0               0   \n",
       "...                        ...             ...   \n",
       "ZEPH                         0               0   \n",
       "GAP                          0               0   \n",
       "BDX                          0               0   \n",
       "ZEN                          0               0   \n",
       "XBC                          0               0   \n",
       "\n",
       "      ProofType_Zero-Knowledge Proof  ProofType_dPoW/PoW  \n",
       "42                                 0                   0  \n",
       "404                                0                   0  \n",
       "1337                               0                   0  \n",
       "BTC                                0                   0  \n",
       "LTC                                0                   0  \n",
       "...                              ...                 ...  \n",
       "ZEPH                               0                   0  \n",
       "GAP                                0                   0  \n",
       "BDX                                0                   0  \n",
       "ZEN                                0                   0  \n",
       "XBC                                0                   0  \n",
       "\n",
       "[637 rows x 105 columns]"
      ]
     },
     "execution_count": 28,
     "metadata": {},
     "output_type": "execute_result"
    }
   ],
   "source": [
    "# Use get_dummies() to create variables for text features.\n",
    "X = pd.get_dummies(crypto_df, columns=['Algorithm', 'ProofType'])\n",
    "X"
   ]
  },
  {
   "cell_type": "code",
   "execution_count": 29,
   "metadata": {},
   "outputs": [
    {
     "name": "stdout",
     "output_type": "stream",
     "text": [
      "[[-0.09782131 -0.03965512 -0.03965258 ... -0.03965258 -0.03965258\n",
      "  -0.03965258]\n",
      " [-0.07228807 -0.03965497 -0.03965258 ... -0.03965258 -0.03965258\n",
      "  -0.03965258]\n",
      " [ 0.61067897 -0.03956909 -0.03965258 ... -0.03965258 -0.03965258\n",
      "  -0.03965258]\n",
      " ...\n",
      " [-0.074102   -0.03965474 -0.03965258 ... -0.03965258 -0.03965258\n",
      "  -0.03965258]\n",
      " [-0.09764475 -0.03965511 -0.03965258 ... -0.03965258 -0.03965258\n",
      "  -0.03965258]\n",
      " [-0.09781821 -0.03965512 -0.03965258 ... -0.03965258 -0.03965258\n",
      "  -0.03965258]]\n"
     ]
    }
   ],
   "source": [
    "# Standardize the data with StandardScaler().\n",
    "crypto_scaled = StandardScaler().fit_transform(X)\n",
    "print(crypto_scaled)"
   ]
  },
  {
   "cell_type": "markdown",
   "metadata": {},
   "source": [
    "### Deliverable 2: Reducing Data Dimensions Using PCA"
   ]
  },
  {
   "cell_type": "code",
   "execution_count": 31,
   "metadata": {},
   "outputs": [],
   "source": [
    "# Using PCA to reduce dimension to three principal components.\n",
    "pca = PCA(n_components=3)\n",
    "crypto_pca = pca.fit_transform(crypto_scaled)"
   ]
  },
  {
   "cell_type": "code",
   "execution_count": 35,
   "metadata": {},
   "outputs": [
    {
     "data": {
      "text/html": [
       "<div>\n",
       "<style scoped>\n",
       "    .dataframe tbody tr th:only-of-type {\n",
       "        vertical-align: middle;\n",
       "    }\n",
       "\n",
       "    .dataframe tbody tr th {\n",
       "        vertical-align: top;\n",
       "    }\n",
       "\n",
       "    .dataframe thead th {\n",
       "        text-align: right;\n",
       "    }\n",
       "</style>\n",
       "<table border=\"1\" class=\"dataframe\">\n",
       "  <thead>\n",
       "    <tr style=\"text-align: right;\">\n",
       "      <th></th>\n",
       "      <th>PC 1</th>\n",
       "      <th>PC 2</th>\n",
       "      <th>PC 3</th>\n",
       "    </tr>\n",
       "  </thead>\n",
       "  <tbody>\n",
       "    <tr>\n",
       "      <th>42</th>\n",
       "      <td>-0.137163</td>\n",
       "      <td>1.198674</td>\n",
       "      <td>-0.533096</td>\n",
       "    </tr>\n",
       "    <tr>\n",
       "      <th>404</th>\n",
       "      <td>-0.123290</td>\n",
       "      <td>1.197183</td>\n",
       "      <td>-0.533606</td>\n",
       "    </tr>\n",
       "    <tr>\n",
       "      <th>1337</th>\n",
       "      <td>0.464784</td>\n",
       "      <td>1.907451</td>\n",
       "      <td>-0.619172</td>\n",
       "    </tr>\n",
       "    <tr>\n",
       "      <th>BTC</th>\n",
       "      <td>-0.267759</td>\n",
       "      <td>-1.396622</td>\n",
       "      <td>0.180479</td>\n",
       "    </tr>\n",
       "    <tr>\n",
       "      <th>LTC</th>\n",
       "      <td>-0.385904</td>\n",
       "      <td>-0.992228</td>\n",
       "      <td>-0.000242</td>\n",
       "    </tr>\n",
       "  </tbody>\n",
       "</table>\n",
       "</div>"
      ],
      "text/plain": [
       "          PC 1      PC 2      PC 3\n",
       "42   -0.137163  1.198674 -0.533096\n",
       "404  -0.123290  1.197183 -0.533606\n",
       "1337  0.464784  1.907451 -0.619172\n",
       "BTC  -0.267759 -1.396622  0.180479\n",
       "LTC  -0.385904 -0.992228 -0.000242"
      ]
     },
     "execution_count": 35,
     "metadata": {},
     "output_type": "execute_result"
    }
   ],
   "source": [
    "# Create a DataFrame with the three principal components.\n",
    "pcs_df = pd.DataFrame(\n",
    "    data=crypto_pca, columns=[\"PC 1\", \"PC 2\", \"PC 3\"], index=X.index\n",
    ")\n",
    "pcs_df.head()"
   ]
  },
  {
   "cell_type": "markdown",
   "metadata": {},
   "source": [
    "### Deliverable 3: Clustering Crytocurrencies Using K-Means\n",
    "\n",
    "#### Finding the Best Value for `k` Using the Elbow Curve"
   ]
  },
  {
   "cell_type": "code",
   "execution_count": 34,
   "metadata": {},
   "outputs": [
    {
     "data": {},
     "metadata": {},
     "output_type": "display_data"
    },
    {
     "data": {
      "application/vnd.holoviews_exec.v0+json": "",
      "text/html": [
       "<div id='1001'>\n",
       "\n",
       "\n",
       "\n",
       "\n",
       "\n",
       "  <div class=\"bk-root\" id=\"cde33539-8e57-48bd-8818-1b59388b0ed0\" data-root-id=\"1001\"></div>\n",
       "</div>\n",
       "<script type=\"application/javascript\">(function(root) {\n",
       "  function embed_document(root) {\n",
       "    var docs_json = {\"26be0890-7be5-46a1-9dd0-8b14f2037253\":{\"roots\":{\"references\":[{\"attributes\":{},\"id\":\"1023\",\"type\":\"SaveTool\"},{\"attributes\":{},\"id\":\"1024\",\"type\":\"PanTool\"},{\"attributes\":{\"below\":[{\"id\":\"1015\"}],\"center\":[{\"id\":\"1018\"},{\"id\":\"1022\"}],\"left\":[{\"id\":\"1019\"}],\"margin\":[5,5,5,5],\"min_border_bottom\":10,\"min_border_left\":10,\"min_border_right\":10,\"min_border_top\":10,\"plot_height\":300,\"plot_width\":700,\"renderers\":[{\"id\":\"1042\"}],\"sizing_mode\":\"fixed\",\"title\":{\"id\":\"1007\"},\"toolbar\":{\"id\":\"1029\"},\"x_range\":{\"id\":\"1003\"},\"x_scale\":{\"id\":\"1011\"},\"y_range\":{\"id\":\"1004\"},\"y_scale\":{\"id\":\"1013\"}},\"id\":\"1006\",\"subtype\":\"Figure\",\"type\":\"Plot\"},{\"attributes\":{\"active_drag\":\"auto\",\"active_inspect\":\"auto\",\"active_multi\":null,\"active_scroll\":\"auto\",\"active_tap\":\"auto\",\"tools\":[{\"id\":\"1005\"},{\"id\":\"1023\"},{\"id\":\"1024\"},{\"id\":\"1025\"},{\"id\":\"1026\"},{\"id\":\"1027\"}]},\"id\":\"1029\",\"type\":\"Toolbar\"},{\"attributes\":{},\"id\":\"1011\",\"type\":\"LinearScale\"},{\"attributes\":{},\"id\":\"1025\",\"type\":\"WheelZoomTool\"},{\"attributes\":{\"overlay\":{\"id\":\"1028\"}},\"id\":\"1026\",\"type\":\"BoxZoomTool\"},{\"attributes\":{\"line_color\":\"#1f77b3\",\"line_width\":2,\"x\":{\"field\":\"k\"},\"y\":{\"field\":\"inertia\"}},\"id\":\"1039\",\"type\":\"Line\"},{\"attributes\":{\"line_alpha\":0.2,\"line_color\":\"#1f77b3\",\"line_width\":2,\"x\":{\"field\":\"k\"},\"y\":{\"field\":\"inertia\"}},\"id\":\"1041\",\"type\":\"Line\"},{\"attributes\":{},\"id\":\"1050\",\"type\":\"BasicTickFormatter\"},{\"attributes\":{\"source\":{\"id\":\"1036\"}},\"id\":\"1043\",\"type\":\"CDSView\"},{\"attributes\":{\"margin\":[5,5,5,5],\"name\":\"HSpacer01538\",\"sizing_mode\":\"stretch_width\"},\"id\":\"1002\",\"type\":\"Spacer\"},{\"attributes\":{\"axis\":{\"id\":\"1019\"},\"dimension\":1,\"grid_line_color\":null,\"ticker\":null},\"id\":\"1022\",\"type\":\"Grid\"},{\"attributes\":{},\"id\":\"1027\",\"type\":\"ResetTool\"},{\"attributes\":{\"axis_label\":\"k\",\"bounds\":\"auto\",\"formatter\":{\"id\":\"1046\"},\"major_label_orientation\":\"horizontal\",\"ticker\":{\"id\":\"1044\"}},\"id\":\"1015\",\"type\":\"LinearAxis\"},{\"attributes\":{},\"id\":\"1057\",\"type\":\"UnionRenderers\"},{\"attributes\":{\"children\":[{\"id\":\"1002\"},{\"id\":\"1006\"},{\"id\":\"1065\"}],\"margin\":[0,0,0,0],\"name\":\"Row01534\",\"tags\":[\"embedded\"]},\"id\":\"1001\",\"type\":\"Row\"},{\"attributes\":{\"callback\":null,\"renderers\":[{\"id\":\"1042\"}],\"tags\":[\"hv_created\"],\"tooltips\":[[\"k\",\"@{k}\"],[\"inertia\",\"@{inertia}\"]]},\"id\":\"1005\",\"type\":\"HoverTool\"},{\"attributes\":{\"margin\":[5,5,5,5],\"name\":\"HSpacer01539\",\"sizing_mode\":\"stretch_width\"},\"id\":\"1065\",\"type\":\"Spacer\"},{\"attributes\":{},\"id\":\"1013\",\"type\":\"LinearScale\"},{\"attributes\":{\"text\":\"Elbow Curve\",\"text_color\":{\"value\":\"black\"},\"text_font_size\":{\"value\":\"12pt\"}},\"id\":\"1007\",\"type\":\"Title\"},{\"attributes\":{\"axis\":{\"id\":\"1015\"},\"grid_line_color\":null,\"ticker\":null},\"id\":\"1018\",\"type\":\"Grid\"},{\"attributes\":{},\"id\":\"1020\",\"type\":\"BasicTicker\"},{\"attributes\":{\"axis_label\":\"inertia\",\"bounds\":\"auto\",\"formatter\":{\"id\":\"1050\"},\"major_label_orientation\":\"horizontal\",\"ticker\":{\"id\":\"1020\"}},\"id\":\"1019\",\"type\":\"LinearAxis\"},{\"attributes\":{},\"id\":\"1046\",\"type\":\"BasicTickFormatter\"},{\"attributes\":{\"line_alpha\":0.1,\"line_color\":\"#1f77b3\",\"line_width\":2,\"x\":{\"field\":\"k\"},\"y\":{\"field\":\"inertia\"}},\"id\":\"1040\",\"type\":\"Line\"},{\"attributes\":{\"bottom_units\":\"screen\",\"fill_alpha\":0.5,\"fill_color\":\"lightgrey\",\"left_units\":\"screen\",\"level\":\"overlay\",\"line_alpha\":1.0,\"line_color\":\"black\",\"line_dash\":[4,4],\"line_width\":2,\"right_units\":\"screen\",\"top_units\":\"screen\"},\"id\":\"1028\",\"type\":\"BoxAnnotation\"},{\"attributes\":{\"end\":4450.559746274246,\"reset_end\":4450.559746274246,\"reset_start\":-291.35107796822103,\"start\":-291.35107796822103,\"tags\":[[[\"inertia\",\"inertia\",null]]]},\"id\":\"1004\",\"type\":\"Range1d\"},{\"attributes\":{\"data\":{\"inertia\":{\"__ndarray__\":\"QXTED82ur0CEO+gKkQWmQBa9t8Nnz5lAswRJLB/1hEBuU0CcZil0QPLKs41R2W9AVAkClYCkZ0C8HiachkZjQOnIxty7/l9Agv3A2bjzWUA=\",\"dtype\":\"float64\",\"order\":\"little\",\"shape\":[10]},\"k\":[1,2,3,4,5,6,7,8,9,10]},\"selected\":{\"id\":\"1037\"},\"selection_policy\":{\"id\":\"1057\"}},\"id\":\"1036\",\"type\":\"ColumnDataSource\"},{\"attributes\":{},\"id\":\"1037\",\"type\":\"Selection\"},{\"attributes\":{\"end\":10.0,\"reset_end\":10.0,\"reset_start\":1.0,\"start\":1.0,\"tags\":[[[\"k\",\"k\",null]]]},\"id\":\"1003\",\"type\":\"Range1d\"},{\"attributes\":{\"ticks\":[1,2,3,4,5,6,7,8,9,10]},\"id\":\"1044\",\"type\":\"FixedTicker\"},{\"attributes\":{\"data_source\":{\"id\":\"1036\"},\"glyph\":{\"id\":\"1039\"},\"hover_glyph\":null,\"muted_glyph\":{\"id\":\"1041\"},\"nonselection_glyph\":{\"id\":\"1040\"},\"selection_glyph\":null,\"view\":{\"id\":\"1043\"}},\"id\":\"1042\",\"type\":\"GlyphRenderer\"}],\"root_ids\":[\"1001\"]},\"title\":\"Bokeh Application\",\"version\":\"2.2.3\"}};\n",
       "    var render_items = [{\"docid\":\"26be0890-7be5-46a1-9dd0-8b14f2037253\",\"root_ids\":[\"1001\"],\"roots\":{\"1001\":\"cde33539-8e57-48bd-8818-1b59388b0ed0\"}}];\n",
       "    root.Bokeh.embed.embed_items_notebook(docs_json, render_items);\n",
       "  }\n",
       "  if (root.Bokeh !== undefined && root.Bokeh.Panel !== undefined) {\n",
       "    embed_document(root);\n",
       "  } else {\n",
       "    var attempts = 0;\n",
       "    var timer = setInterval(function(root) {\n",
       "      if (root.Bokeh !== undefined && root.Bokeh.Panel !== undefined) {\n",
       "        clearInterval(timer);\n",
       "        embed_document(root);\n",
       "      } else if (document.readyState == \"complete\") {\n",
       "        attempts++;\n",
       "        if (attempts > 100) {\n",
       "          clearInterval(timer);\n",
       "          console.log(\"Bokeh: ERROR: Unable to run BokehJS code because BokehJS library is missing\");\n",
       "        }\n",
       "      }\n",
       "    }, 10, root)\n",
       "  }\n",
       "})(window);</script>"
      ],
      "text/plain": [
       ":Curve   [k]   (inertia)"
      ]
     },
     "execution_count": 34,
     "metadata": {
      "application/vnd.holoviews_exec.v0+json": {
       "id": "1001"
      }
     },
     "output_type": "execute_result"
    }
   ],
   "source": [
    "# Create an elbow curve to find the best value for K.\n",
    "# inertia values\n",
    "inertia = []\n",
    "# test values\n",
    "k = list(range(1, 11))\n",
    "\n",
    "for i in k:\n",
    "    km = KMeans(n_clusters=i, random_state=0)\n",
    "    km.fit(df_crypto_pca)\n",
    "    inertia.append(km.inertia_)\n",
    "\n",
    "elbow_data = {\"k\": k, \"inertia\": inertia}\n",
    "df_elbow = pd.DataFrame(elbow_data)\n",
    "df_elbow.hvplot.line(x=\"k\", y=\"inertia\", title=\"Elbow Curve\", xticks=k)"
   ]
  },
  {
   "cell_type": "markdown",
   "metadata": {},
   "source": [
    "Running K-Means with `k=4`"
   ]
  },
  {
   "cell_type": "code",
   "execution_count": 36,
   "metadata": {},
   "outputs": [
    {
     "name": "stdout",
     "output_type": "stream",
     "text": [
      "[0 0 0 1 1 0 1 1 0 1 0 0 0 1 0 1 1 0 0 0 1 0 1 1 1 1 1 1 1 1 1 1 0 1 0 1 0\n",
      " 1 0 0 1 0 0 1 0 1 1 1 1 1 1 1 1 0 0 1 1 1 1 1 1 0 0 1 1 0 1 0 0 1 1 1 1 0\n",
      " 0 1 1 1 0 0 1 1 1 1 0 0 0 1 1 1 0 0 1 1 1 0 1 0 1 0 0 1 1 1 1 0 0 1 1 1 0\n",
      " 0 1 0 0 1 1 1 0 1 0 1 0 1 1 0 1 0 1 0 0 0 1 0 1 1 0 1 0 1 1 1 1 1 1 1 1 0\n",
      " 1 1 1 0 1 1 1 0 1 0 0 0 0 0 1 1 0 1 1 1 0 0 1 1 0 0 1 0 0 0 1 1 0 1 1 1 1\n",
      " 1 0 1 1 0 1 0 0 0 0 1 1 0 0 0 0 0 1 0 0 0 0 0 0 0 1 0 0 0 0 0 1 0 1 0 0 0\n",
      " 1 0 1 0 0 1 1 0 1 0 1 0 0 1 0 1 1 1 0 0 1 0 0 0 1 1 1 0 0 0 1 1 1 0 0 0 0\n",
      " 0 0 0 1 0 0 0 0 0 0 0 0 1 0 0 0 0 0 0 1 1 0 1 0 0 0 0 0 0 1 0 1 0 1 1 0 0\n",
      " 1 1 0 1 1 0 1 1 1 1 0 1 0 0 0 1 0 0 0 1 0 0 0 0 0 1 0 0 1 1 0 1 0 0 0 0 0\n",
      " 1 0 1 0 1 1 1 0 1 0 0 1 0 1 0 1 1 0 1 0 1 1 1 0 1 0 1 0 1 0 3 1 0 1 1 1 1\n",
      " 1 0 0 1 0 0 0 1 0 1 0 1 0 1 0 0 0 0 1 0 0 1 0 0 0 0 0 0 1 1 1 1 1 1 0 0 0\n",
      " 0 0 1 0 1 1 1 0 0 1 1 1 0 0 1 0 0 1 1 0 1 0 1 1 0 0 0 1 1 1 0 0 0 1 0 1 1\n",
      " 0 1 1 1 1 1 1 0 3 3 1 1 1 1 1 1 0 3 0 0 0 0 1 1 1 1 1 1 0 1 0 0 1 1 0 1 0\n",
      " 0 0 0 0 0 0 1 0 0 1 0 0 1 1 0 1 0 1 1 1 1 0 0 1 0 1 0 0 0 0 0 0 1 1 1 0 0\n",
      " 0 0 0 0 0 1 0 1 1 0 1 1 0 0 0 0 1 0 1 0 0 0 1 0 0 0 1 3 0 1 0 1 1 1 1 1 0\n",
      " 1 1 0 1 0 1 1 1 1 0 1 1 0 1 0 1 0 0 1 0 0 1 0 0 0 1 1 1 1 0 0 0 0 1 1 1 0\n",
      " 1 0 0 0 1 1 0 0 0 1 0 1 1 0 0 1 0 0 0 1 1 0 0 0 0 0 1 0 0 3 1 0 1 1 1 0 3\n",
      " 0 2 0 0 0 1 1 0]\n"
     ]
    }
   ],
   "source": [
    "# Initialize the K-Means model.\n",
    "model = KMeans(n_clusters=4, random_state=5)\n",
    "\n",
    "# Fit the model\n",
    "model.fit(pcs_df)\n",
    "\n",
    "# Predict clusters\n",
    "predictions = model.predict(pcs_df)\n",
    "print(predictions)"
   ]
  },
  {
   "cell_type": "code",
   "execution_count": 38,
   "metadata": {},
   "outputs": [
    {
     "name": "stdout",
     "output_type": "stream",
     "text": [
      "(637, 9)\n"
     ]
    },
    {
     "data": {
      "text/html": [
       "<div>\n",
       "<style scoped>\n",
       "    .dataframe tbody tr th:only-of-type {\n",
       "        vertical-align: middle;\n",
       "    }\n",
       "\n",
       "    .dataframe tbody tr th {\n",
       "        vertical-align: top;\n",
       "    }\n",
       "\n",
       "    .dataframe thead th {\n",
       "        text-align: right;\n",
       "    }\n",
       "</style>\n",
       "<table border=\"1\" class=\"dataframe\">\n",
       "  <thead>\n",
       "    <tr style=\"text-align: right;\">\n",
       "      <th></th>\n",
       "      <th>CoinName</th>\n",
       "      <th>Algorithm</th>\n",
       "      <th>ProofType</th>\n",
       "      <th>TotalCoinsMined</th>\n",
       "      <th>TotalCoinSupply</th>\n",
       "      <th>PC 1</th>\n",
       "      <th>PC 2</th>\n",
       "      <th>PC 3</th>\n",
       "      <th>Class</th>\n",
       "    </tr>\n",
       "  </thead>\n",
       "  <tbody>\n",
       "    <tr>\n",
       "      <th>42</th>\n",
       "      <td>42 Coin</td>\n",
       "      <td>Scrypt</td>\n",
       "      <td>PoW/PoS</td>\n",
       "      <td>4.199995e+01</td>\n",
       "      <td>42</td>\n",
       "      <td>-0.137163</td>\n",
       "      <td>1.198674</td>\n",
       "      <td>-0.533096</td>\n",
       "      <td>0</td>\n",
       "    </tr>\n",
       "    <tr>\n",
       "      <th>404</th>\n",
       "      <td>404Coin</td>\n",
       "      <td>Scrypt</td>\n",
       "      <td>PoW/PoS</td>\n",
       "      <td>1.055185e+09</td>\n",
       "      <td>532000000</td>\n",
       "      <td>-0.123290</td>\n",
       "      <td>1.197183</td>\n",
       "      <td>-0.533606</td>\n",
       "      <td>0</td>\n",
       "    </tr>\n",
       "    <tr>\n",
       "      <th>1337</th>\n",
       "      <td>EliteCoin</td>\n",
       "      <td>X13</td>\n",
       "      <td>PoW/PoS</td>\n",
       "      <td>2.927942e+10</td>\n",
       "      <td>314159265359</td>\n",
       "      <td>0.464784</td>\n",
       "      <td>1.907451</td>\n",
       "      <td>-0.619172</td>\n",
       "      <td>0</td>\n",
       "    </tr>\n",
       "    <tr>\n",
       "      <th>BTC</th>\n",
       "      <td>Bitcoin</td>\n",
       "      <td>SHA-256</td>\n",
       "      <td>PoW</td>\n",
       "      <td>1.792718e+07</td>\n",
       "      <td>21000000</td>\n",
       "      <td>-0.267759</td>\n",
       "      <td>-1.396622</td>\n",
       "      <td>0.180479</td>\n",
       "      <td>1</td>\n",
       "    </tr>\n",
       "    <tr>\n",
       "      <th>LTC</th>\n",
       "      <td>Litecoin</td>\n",
       "      <td>Scrypt</td>\n",
       "      <td>PoW</td>\n",
       "      <td>6.303924e+07</td>\n",
       "      <td>84000000</td>\n",
       "      <td>-0.385904</td>\n",
       "      <td>-0.992228</td>\n",
       "      <td>-0.000242</td>\n",
       "      <td>1</td>\n",
       "    </tr>\n",
       "    <tr>\n",
       "      <th>DASH</th>\n",
       "      <td>Dash</td>\n",
       "      <td>X11</td>\n",
       "      <td>PoW/PoS</td>\n",
       "      <td>9.031294e+06</td>\n",
       "      <td>22000000</td>\n",
       "      <td>-0.030315</td>\n",
       "      <td>1.348870</td>\n",
       "      <td>-0.545293</td>\n",
       "      <td>0</td>\n",
       "    </tr>\n",
       "    <tr>\n",
       "      <th>ETC</th>\n",
       "      <td>Ethereum Classic</td>\n",
       "      <td>Ethash</td>\n",
       "      <td>PoW</td>\n",
       "      <td>1.133597e+08</td>\n",
       "      <td>210000000</td>\n",
       "      <td>-0.461212</td>\n",
       "      <td>-1.944535</td>\n",
       "      <td>0.333089</td>\n",
       "      <td>1</td>\n",
       "    </tr>\n",
       "    <tr>\n",
       "      <th>ZEC</th>\n",
       "      <td>ZCash</td>\n",
       "      <td>Equihash</td>\n",
       "      <td>PoW</td>\n",
       "      <td>7.383056e+06</td>\n",
       "      <td>21000000</td>\n",
       "      <td>-0.447843</td>\n",
       "      <td>-1.779107</td>\n",
       "      <td>0.355852</td>\n",
       "      <td>1</td>\n",
       "    </tr>\n",
       "    <tr>\n",
       "      <th>BTS</th>\n",
       "      <td>Bitshares</td>\n",
       "      <td>SHA-512</td>\n",
       "      <td>PoS</td>\n",
       "      <td>2.741570e+09</td>\n",
       "      <td>3600570502</td>\n",
       "      <td>0.178491</td>\n",
       "      <td>1.695586</td>\n",
       "      <td>-0.125673</td>\n",
       "      <td>0</td>\n",
       "    </tr>\n",
       "    <tr>\n",
       "      <th>DGB</th>\n",
       "      <td>DigiByte</td>\n",
       "      <td>Multiple</td>\n",
       "      <td>PoW</td>\n",
       "      <td>1.140622e+10</td>\n",
       "      <td>21000000000</td>\n",
       "      <td>-0.267872</td>\n",
       "      <td>-1.674777</td>\n",
       "      <td>0.298475</td>\n",
       "      <td>1</td>\n",
       "    </tr>\n",
       "  </tbody>\n",
       "</table>\n",
       "</div>"
      ],
      "text/plain": [
       "              CoinName Algorithm ProofType  TotalCoinsMined TotalCoinSupply  \\\n",
       "42             42 Coin    Scrypt   PoW/PoS     4.199995e+01              42   \n",
       "404            404Coin    Scrypt   PoW/PoS     1.055185e+09       532000000   \n",
       "1337         EliteCoin       X13   PoW/PoS     2.927942e+10    314159265359   \n",
       "BTC            Bitcoin   SHA-256       PoW     1.792718e+07        21000000   \n",
       "LTC           Litecoin    Scrypt       PoW     6.303924e+07        84000000   \n",
       "DASH              Dash       X11   PoW/PoS     9.031294e+06        22000000   \n",
       "ETC   Ethereum Classic    Ethash       PoW     1.133597e+08       210000000   \n",
       "ZEC              ZCash  Equihash       PoW     7.383056e+06        21000000   \n",
       "BTS          Bitshares   SHA-512       PoS     2.741570e+09      3600570502   \n",
       "DGB           DigiByte  Multiple       PoW     1.140622e+10     21000000000   \n",
       "\n",
       "          PC 1      PC 2      PC 3  Class  \n",
       "42   -0.137163  1.198674 -0.533096      0  \n",
       "404  -0.123290  1.197183 -0.533606      0  \n",
       "1337  0.464784  1.907451 -0.619172      0  \n",
       "BTC  -0.267759 -1.396622  0.180479      1  \n",
       "LTC  -0.385904 -0.992228 -0.000242      1  \n",
       "DASH -0.030315  1.348870 -0.545293      0  \n",
       "ETC  -0.461212 -1.944535  0.333089      1  \n",
       "ZEC  -0.447843 -1.779107  0.355852      1  \n",
       "BTS   0.178491  1.695586 -0.125673      0  \n",
       "DGB  -0.267872 -1.674777  0.298475      1  "
      ]
     },
     "execution_count": 38,
     "metadata": {},
     "output_type": "execute_result"
    }
   ],
   "source": [
    "# Create a new DataFrame including predicted clusters and cryptocurrencies features.\n",
    "# Concatentate the crypto_df and pcs_df DataFrames on the same columns.\n",
    "concat_df = pd.concat([crypto_df, pcs_df], axis=1)\n",
    "\n",
    "#  Add a new column, \"CoinName\" to the clustered_df DataFrame that holds the names of the cryptocurrencies. \n",
    "clustered_df = pd.concat([names_df, concat_df], axis=1)\n",
    "\n",
    "#  Add a new column, \"Class\" to the clustered_df DataFrame that holds the predictions.\n",
    "clustered_df['Class'] = model.labels_\n",
    "\n",
    "# Print the shape of the clustered_df\n",
    "print(clustered_df.shape)\n",
    "clustered_df.head(10)"
   ]
  },
  {
   "cell_type": "markdown",
   "metadata": {},
   "source": [
    "### Deliverable 4: Visualizing Cryptocurrencies Results\n",
    "\n",
    "#### 3D-Scatter with Clusters"
   ]
  },
  {
   "cell_type": "code",
   "execution_count": 46,
   "metadata": {},
   "outputs": [
    {
     "data": {
      "application/vnd.plotly.v1+json": {
       "config": {
        "plotlyServerURL": "https://plot.ly"
       },
       "data": [
        {
         "customdata": [
          [
           "Scrypt"
          ],
          [
           "Scrypt"
          ],
          [
           "X13"
          ],
          [
           "X11"
          ],
          [
           "SHA-512"
          ],
          [
           "SHA-256"
          ],
          [
           "X11"
          ],
          [
           "SHA-256"
          ],
          [
           "X15"
          ],
          [
           "X13"
          ],
          [
           "X13"
          ],
          [
           "Scrypt"
          ],
          [
           "Scrypt"
          ],
          [
           "Scrypt"
          ],
          [
           "Scrypt"
          ],
          [
           "Scrypt"
          ],
          [
           "Multiple"
          ],
          [
           "Scrypt"
          ],
          [
           "Scrypt"
          ],
          [
           "Groestl"
          ],
          [
           "X11"
          ],
          [
           "X11"
          ],
          [
           "NIST5"
          ],
          [
           "X11"
          ],
          [
           "Scrypt"
          ],
          [
           "X11"
          ],
          [
           "X11"
          ],
          [
           "X13"
          ],
          [
           "X11"
          ],
          [
           "SHA3"
          ],
          [
           "SHA-256"
          ],
          [
           "Scrypt"
          ],
          [
           "NeoScrypt"
          ],
          [
           "Scrypt"
          ],
          [
           "Scrypt"
          ],
          [
           "X15"
          ],
          [
           "Scrypt"
          ],
          [
           "X11"
          ],
          [
           "Multiple"
          ],
          [
           "PHI1612"
          ],
          [
           "X11"
          ],
          [
           "Scrypt"
          ],
          [
           "Scrypt"
          ],
          [
           "Scrypt"
          ],
          [
           "X11"
          ],
          [
           "Scrypt"
          ],
          [
           "Scrypt"
          ],
          [
           "Counterparty"
          ],
          [
           "SHA-256"
          ],
          [
           "Scrypt"
          ],
          [
           "X13"
          ],
          [
           "Scrypt"
          ],
          [
           "SHA-256"
          ],
          [
           "X13"
          ],
          [
           "X13"
          ],
          [
           "X11"
          ],
          [
           "X11"
          ],
          [
           "Scrypt"
          ],
          [
           "SHA3"
          ],
          [
           "QUAIT"
          ],
          [
           "Scrypt"
          ],
          [
           "X11"
          ],
          [
           "X13"
          ],
          [
           "SHA-256"
          ],
          [
           "X13"
          ],
          [
           "X15"
          ],
          [
           "BLAKE256"
          ],
          [
           "SHA-256"
          ],
          [
           "X11"
          ],
          [
           "SHA-256"
          ],
          [
           "Quark"
          ],
          [
           "Blake"
          ],
          [
           "Scrypt"
          ],
          [
           "Scrypt"
          ],
          [
           "Scrypt"
          ],
          [
           "SHA-256"
          ],
          [
           "X11"
          ],
          [
           "Scrypt"
          ],
          [
           "SHA-256"
          ],
          [
           "Scrypt"
          ],
          [
           "PoS"
          ],
          [
           "X11"
          ],
          [
           "X11"
          ],
          [
           "X11"
          ],
          [
           "PoS"
          ],
          [
           "SHA-256"
          ],
          [
           "SHA-256"
          ],
          [
           "NIST5"
          ],
          [
           "X15"
          ],
          [
           "X11"
          ],
          [
           "NIST5"
          ],
          [
           "Scrypt"
          ],
          [
           "Scrypt"
          ],
          [
           "POS 3.0"
          ],
          [
           "Scrypt"
          ],
          [
           "Scrypt"
          ],
          [
           "Scrypt"
          ],
          [
           "X13"
          ],
          [
           "X11"
          ],
          [
           "X11"
          ],
          [
           "X11"
          ],
          [
           "Scrypt"
          ],
          [
           "SHA-256"
          ],
          [
           "X11"
          ],
          [
           "Scrypt"
          ],
          [
           "X11"
          ],
          [
           "Scrypt"
          ],
          [
           "SHA-256D"
          ],
          [
           "PoS"
          ],
          [
           "X11"
          ],
          [
           "PoS"
          ],
          [
           "X13"
          ],
          [
           "X14"
          ],
          [
           "PoS"
          ],
          [
           "SHA-256D"
          ],
          [
           "DPoS"
          ],
          [
           "X11"
          ],
          [
           "Scrypt"
          ],
          [
           "X13"
          ],
          [
           "X11"
          ],
          [
           "PoS"
          ],
          [
           "SHA-256D"
          ],
          [
           "Scrypt"
          ],
          [
           "Scrypt"
          ],
          [
           "Scrypt"
          ],
          [
           "PoS"
          ],
          [
           "X11"
          ],
          [
           "SHA-256"
          ],
          [
           "Scrypt"
          ],
          [
           "X11"
          ],
          [
           "Scrypt"
          ],
          [
           "Scrypt"
          ],
          [
           "X11"
          ],
          [
           "Scrypt"
          ],
          [
           "Scrypt"
          ],
          [
           "Scrypt"
          ],
          [
           "Scrypt"
          ],
          [
           "Quark"
          ],
          [
           "QuBit"
          ],
          [
           "X11"
          ],
          [
           "X13"
          ],
          [
           "PoS"
          ],
          [
           "Scrypt"
          ],
          [
           "SHA-256"
          ],
          [
           "X11"
          ],
          [
           "X11"
          ],
          [
           "Scrypt"
          ],
          [
           "Scrypt"
          ],
          [
           "Scrypt"
          ],
          [
           "Scrypt"
          ],
          [
           "X13"
          ],
          [
           "Scrypt"
          ],
          [
           "Scrypt"
          ],
          [
           "X11"
          ],
          [
           "Blake2S"
          ],
          [
           "X11"
          ],
          [
           "Scrypt"
          ],
          [
           "PoS"
          ],
          [
           "X11"
          ],
          [
           "PoS"
          ],
          [
           "X11"
          ],
          [
           "Scrypt"
          ],
          [
           "Scrypt"
          ],
          [
           "Scrypt"
          ],
          [
           "SHA-256"
          ],
          [
           "X11"
          ],
          [
           "Scrypt"
          ],
          [
           "PoS"
          ],
          [
           "Scrypt"
          ],
          [
           "X11"
          ],
          [
           "X15"
          ],
          [
           "SHA-256"
          ],
          [
           "POS 3.0"
          ],
          [
           "536"
          ],
          [
           "NIST5"
          ],
          [
           "NIST5"
          ],
          [
           "Skein"
          ],
          [
           "X13"
          ],
          [
           "X11"
          ],
          [
           "Scrypt"
          ],
          [
           "X13"
          ],
          [
           "SkunkHash v2 Raptor"
          ],
          [
           "Skein"
          ],
          [
           "X11"
          ],
          [
           "Scrypt"
          ],
          [
           "PoS"
          ],
          [
           "Scrypt"
          ],
          [
           "Scrypt"
          ],
          [
           "SHA-512"
          ],
          [
           "Ouroboros"
          ],
          [
           "X11"
          ],
          [
           "NeoScrypt"
          ],
          [
           "Scrypt"
          ],
          [
           "Lyra2REv2"
          ],
          [
           "Scrypt"
          ],
          [
           "SHA-256"
          ],
          [
           "NIST5"
          ],
          [
           "PHI1612"
          ],
          [
           "Scrypt"
          ],
          [
           "Quark"
          ],
          [
           "POS 2.0"
          ],
          [
           "Scrypt"
          ],
          [
           "SkunkHash"
          ],
          [
           "X11"
          ],
          [
           "Quark"
          ],
          [
           "SHA-256"
          ],
          [
           "Quark"
          ],
          [
           "X11"
          ],
          [
           "DPoS"
          ],
          [
           "NIST5"
          ],
          [
           "X13"
          ],
          [
           "Scrypt"
          ],
          [
           "NIST5"
          ],
          [
           "Quark"
          ],
          [
           "Scrypt"
          ],
          [
           "Scrypt"
          ],
          [
           "X11"
          ],
          [
           "SHA-256"
          ],
          [
           "Scrypt"
          ],
          [
           "Quark"
          ],
          [
           "Scrypt"
          ],
          [
           "Scrypt"
          ],
          [
           "X11"
          ],
          [
           "Scrypt"
          ],
          [
           "Scrypt"
          ],
          [
           "POS 3.0"
          ],
          [
           "Scrypt"
          ],
          [
           "Scrypt"
          ],
          [
           "X13"
          ],
          [
           "C11"
          ],
          [
           "X11"
          ],
          [
           "XEVAN"
          ],
          [
           "Scrypt"
          ],
          [
           "VBFT"
          ],
          [
           "NIST5"
          ],
          [
           "Scrypt"
          ],
          [
           "Scrypt"
          ],
          [
           "Scrypt"
          ],
          [
           "Equihash"
          ],
          [
           "Green Protocol"
          ],
          [
           "PoS"
          ],
          [
           "Scrypt"
          ],
          [
           "Scrypt"
          ],
          [
           "Semux BFT consensus"
          ],
          [
           "Scrypt"
          ],
          [
           "Quark"
          ],
          [
           "PoS"
          ],
          [
           "X16R"
          ],
          [
           "Scrypt"
          ],
          [
           "XEVAN"
          ],
          [
           "Scrypt"
          ],
          [
           "Scrypt"
          ],
          [
           "Scrypt"
          ],
          [
           "SHA-256D"
          ],
          [
           "Scrypt"
          ],
          [
           "X15"
          ],
          [
           "Scrypt"
          ],
          [
           "Quark"
          ],
          [
           "SHA-256"
          ],
          [
           "DPoS"
          ],
          [
           "X16R"
          ],
          [
           "Quark"
          ],
          [
           "Quark"
          ],
          [
           "Scrypt"
          ],
          [
           "Zhash"
          ],
          [
           "Lyra2REv2"
          ],
          [
           "Quark"
          ],
          [
           "Scrypt"
          ],
          [
           "Scrypt"
          ],
          [
           "X11"
          ],
          [
           "X11"
          ],
          [
           "Scrypt"
          ],
          [
           "PoS"
          ],
          [
           "Scrypt"
          ],
          [
           "Scrypt"
          ],
          [
           "Keccak"
          ],
          [
           "X11"
          ],
          [
           "Quark"
          ],
          [
           "Scrypt"
          ],
          [
           "SHA-512"
          ],
          [
           "NeoScrypt"
          ],
          [
           "XEVAN"
          ],
          [
           "XEVAN"
          ],
          [
           "Quark"
          ],
          [
           "Quark"
          ],
          [
           "Equihash"
          ],
          [
           "Scrypt"
          ],
          [
           "Quark"
          ],
          [
           "Quark"
          ],
          [
           "Scrypt"
          ],
          [
           "X11"
          ],
          [
           "Scrypt"
          ],
          [
           "XEVAN"
          ],
          [
           "SHA-256D"
          ],
          [
           "X11"
          ],
          [
           "X11"
          ],
          [
           "DPoS"
          ],
          [
           "X11"
          ],
          [
           "Scrypt"
          ],
          [
           "Scrypt"
          ],
          [
           "Scrypt"
          ],
          [
           "SHA-256"
          ],
          [
           "X11"
          ],
          [
           "Scrypt"
          ],
          [
           "SHA-256"
          ],
          [
           "X11"
          ],
          [
           "Scrypt"
          ],
          [
           "SHA-256"
          ],
          [
           "Scrypt"
          ],
          [
           "X11"
          ],
          [
           "Scrypt"
          ],
          [
           "PoS"
          ],
          [
           "X11"
          ],
          [
           "SHA-256"
          ],
          [
           "DPoS"
          ],
          [
           "Scrypt"
          ],
          [
           "Scrypt"
          ],
          [
           "NeoScrypt"
          ],
          [
           "Scrypt"
          ],
          [
           "X13"
          ],
          [
           "SHA-256"
          ],
          [
           "PoS"
          ],
          [
           "PoS"
          ],
          [
           "SHA-256"
          ],
          [
           "Scrypt"
          ],
          [
           "Scrypt"
          ]
         ],
         "hovertemplate": "<b>%{hovertext}</b><br><br>Class=%{marker.color}<br>PC 1=%{x}<br>PC 2=%{y}<br>PC 3=%{z}<br>Algorithm=%{customdata[0]}<extra></extra>",
         "hovertext": [
          "42 Coin",
          "404Coin",
          "EliteCoin",
          "Dash",
          "Bitshares",
          "BitcoinDark",
          "Bitstake",
          "PayCoin",
          "KoboCoin",
          "Aero Coin",
          "ApexCoin",
          "ArchCoin",
          "Aurora Coin",
          "BitBar",
          "CashCoin",
          "CryptoBullion",
          "CinderCoin",
          "CoolCoin",
          "CasinoCoin",
          "Diamond",
          "DarkCash",
          "Fuel2Coin",
          "FIBRE",
          "GlyphCoin",
          "HoboNickels",
          "IOCoin",
          "JumBucks Coin",
          "JudgeCoin",
          "LibrexCoin",
          "MaxCoin",
          "MazaCoin",
          "Nautilus Coin",
          "Orbitcoin",
          "PotCoin",
          "PhoenixCoin",
          "ShieldCoin",
          "SilkCoin",
          "SyncCoin",
          "TeslaCoin",
          "TittieCoin",
          "TorCoin",
          "UnitaryStatus Dollar",
          "UltraCoin",
          "SocialXbotCoin",
          "X11 Coin",
          "XXXCoin",
          "ZCC Coin",
          "StorjCoin",
          "Neutron",
          "KryptCoin",
          "Kore",
          "Dnotes",
          "MaieutiCoin",
          "Sativa Coin",
          "AeroMe",
          "MasterTraderCoin",
          "Ucoin",
          "Vtorrent",
          "Nexus",
          "Droidz",
          "Diggits",
          "MapCoin",
          "Paycon",
          "Emercoin",
          "BlitzCoin",
          "EverGreenCoin",
          "Decred",
          "EDRCoin",
          "Hitcoin",
          "DubaiCoin",
          "BiosCrypto",
          "TrumpCoin",
          "BillaryCoin",
          "EthereumScrypt",
          "GPU Coin",
          "Universal Currency",
          "EuropeCoin",
          "ZeitCoin",
          "SwingCoin",
          "SafeExchangeCoin",
          "Nebuchadnezzar",
          "GIZMOcoin",
          "SecretCoin",
          "Ratecoin",
          "Digital Bullion Gold",
          "Revenu",
          "Clockcoin",
          "VIP Tokens",
          "OrlyCoin",
          "BitSend",
          "16BitCoin",
          "ChessCoin",
          "ReeCoin",
          "Let it Ride",
          "PutinCoin",
          "iBankCoin",
          "Frankywillcoin",
          "MudraCoin",
          "Lutetium Coin",
          "GoldBlocks",
          "WayCoin",
          "CarterCoin",
          "BitTokens",
          "MustangCoin",
          "ZoneCoin",
          "PROUD Money",
          "Swiscoin",
          "BuzzCoin",
          "Opair",
          "Halloween Coin",
          "CoffeeCoin",
          "RoyalCoin",
          "GanjaCoin V2",
          "TeamUP",
          "LanaCoin",
          "ARK",
          "InsaneCoin",
          "LuckChain",
          "EmberCoin",
          "XenixCoin",
          "FreeCoin",
          "NPCcoin",
          "PLNCoin",
          "Icobid",
          "AquariusCoin",
          "Creatio",
          "Eternity",
          "Eurocoin",
          "BitcoinFast",
          "Stakenet",
          "BitConnect Coin",
          "MoneyCoin",
          "Enigma",
          "Russiacoin",
          "PandaCoin",
          "GameUnits",
          "GAKHcoin",
          "Allsafe",
          "LiteCreed",
          "NeptuneClassic",
          "GoldenBird",
          "Ride My Car",
          "Klingon Empire Darsek",
          "Internet of People",
          "KushCoin",
          "Eryllium",
          "Printerium",
          "Impeach",
          "Zilbercoin",
          "FirstCoin",
          "FindCoin",
          "OpenChat",
          "RenosCoin",
          "VirtacoinPlus",
          "TajCoin",
          "Impact",
          "Universe",
          "Atmos",
          "HappyCoin",
          "MacronCoin",
          "Condensate",
          "Independent Money System",
          "ArgusCoin",
          "LomoCoin",
          "ProCurrency",
          "GoldReserve",
          "GrowthCoin",
          "Phreak",
          "Degas Coin",
          "ZSEcoin",
          "HTML5 Coin",
          "Ultimate Secure Cash",
          "QTUM",
          "Espers",
          "Denarius",
          "Virta Unique Coin",
          "Bitcoin Planet",
          "BritCoin",
          "Octanox",
          "Linda",
          "DeepOnion",
          "Signatum",
          "Cream",
          "Monoeci",
          "Draftcoin",
          "Stakecoin",
          "CoinonatX",
          "Ethereum Dark",
          "Obsidian",
          "Cardano",
          "Regalcoin",
          "TrezarCoin",
          "TerraNovaCoin",
          "Rupee",
          "WomenCoin",
          "Theresa May Coin",
          "NamoCoin",
          "LUXCoin",
          "Xios",
          "Bitcloud 2.0",
          "KekCoin",
          "BlackholeCoin",
          "AltCommunity Coin",
          "Pure",
          "Rupaya",
          "Infinity Economics",
          "Castle",
          "Magnet",
          "Lamden Tau",
          "Electra",
          "Bitcoin Diamond",
          "Cash & Back Coin",
          "Bulwark",
          "Kalkulus",
          "GermanCoin",
          "LiteCoin Ultra",
          "PhantomX",
          "HTML Coin",
          "Fantasy Cash",
          "Digiwage",
          "Trollcoin",
          "Litecoin Plus",
          "Monkey Project",
          "OP Coin",
          "Valorbit",
          "TokenPay",
          "My Big Coin",
          "Unified Society USDEX",
          "Tokyo Coin",
          "Stipend",
          "Pushi",
          "Ellerium",
          "Velox",
          "Ontology",
          "Bitspace",
          "Briacoin",
          "Ignition",
          "MedicCoin",
          "Zelcash",
          "Bitcoin Green",
          "Deviant Coin",
          "Abjcoin",
          "Profit Hunters Coin",
          "Semux",
          "BitBlocks",
          "Carebit",
          "Zealium",
          "Proton",
          "iDealCash",
          "Bitcoin Incognito",
          "HollyWoodCoin",
          "Swisscoin",
          "Xt3ch",
          "TheVig",
          "EmaratCoin",
          "Dekado",
          "Lynx",
          "Poseidon Quark",
          "BitcoinWSpectrum",
          "Muse",
          "Trivechain",
          "Dystem",
          "Giant",
          "Peony Coin",
          "SafeCoin",
          "Absolute Coin",
          "Vitae",
          "TPCash",
          "MUSDcoin",
          "ARENON",
          "EUNO",
          "MMOCoin",
          "Ketan",
          "Safe Trade Coin",
          "Mont Blanc",
          "XDNA",
          "PAXEX",
          "Apollon",
          "ThunderStake",
          "Kcash",
          "Traid",
          "Bettex coin",
          "BitMoney",
          "Zenad",
          "HerbCoin",
          "PirateCash",
          "Oduwa",
          "Galilel",
          "Crypto Sports",
          "Credit",
          "Dash Platinum",
          "Nasdacoin",
          "Beetle Coin",
          "Titan Coin",
          "Award",
          "Insane Coin",
          "ALAX",
          "The Freedom Coin",
          "LiteDoge",
          "OrangeCoin",
          "BitstarCoin",
          "NeosCoin",
          "PinkCoin",
          "AudioCoin",
          "IncaKoin",
          "Piggy Coin",
          "Genstake",
          "ParkByte",
          "XiaoMiCoin",
          "CapriCoin",
          " ClubCoin",
          "Radium",
          "Creditbit ",
          "OKCash",
          "Lisk",
          "HiCoin",
          "WhiteCoin",
          "FriendshipCoin",
          "The Hempcoin",
          "Triangles Coin",
          "TigerCash",
          "Particl",
          "Nxt",
          "ZEPHYR",
          "Gapcoin",
          "BitcoinPlus"
         ],
         "legendgroup": "0",
         "marker": {
          "color": [
           0,
           0,
           0,
           0,
           0,
           0,
           0,
           0,
           0,
           0,
           0,
           0,
           0,
           0,
           0,
           0,
           0,
           0,
           0,
           0,
           0,
           0,
           0,
           0,
           0,
           0,
           0,
           0,
           0,
           0,
           0,
           0,
           0,
           0,
           0,
           0,
           0,
           0,
           0,
           0,
           0,
           0,
           0,
           0,
           0,
           0,
           0,
           0,
           0,
           0,
           0,
           0,
           0,
           0,
           0,
           0,
           0,
           0,
           0,
           0,
           0,
           0,
           0,
           0,
           0,
           0,
           0,
           0,
           0,
           0,
           0,
           0,
           0,
           0,
           0,
           0,
           0,
           0,
           0,
           0,
           0,
           0,
           0,
           0,
           0,
           0,
           0,
           0,
           0,
           0,
           0,
           0,
           0,
           0,
           0,
           0,
           0,
           0,
           0,
           0,
           0,
           0,
           0,
           0,
           0,
           0,
           0,
           0,
           0,
           0,
           0,
           0,
           0,
           0,
           0,
           0,
           0,
           0,
           0,
           0,
           0,
           0,
           0,
           0,
           0,
           0,
           0,
           0,
           0,
           0,
           0,
           0,
           0,
           0,
           0,
           0,
           0,
           0,
           0,
           0,
           0,
           0,
           0,
           0,
           0,
           0,
           0,
           0,
           0,
           0,
           0,
           0,
           0,
           0,
           0,
           0,
           0,
           0,
           0,
           0,
           0,
           0,
           0,
           0,
           0,
           0,
           0,
           0,
           0,
           0,
           0,
           0,
           0,
           0,
           0,
           0,
           0,
           0,
           0,
           0,
           0,
           0,
           0,
           0,
           0,
           0,
           0,
           0,
           0,
           0,
           0,
           0,
           0,
           0,
           0,
           0,
           0,
           0,
           0,
           0,
           0,
           0,
           0,
           0,
           0,
           0,
           0,
           0,
           0,
           0,
           0,
           0,
           0,
           0,
           0,
           0,
           0,
           0,
           0,
           0,
           0,
           0,
           0,
           0,
           0,
           0,
           0,
           0,
           0,
           0,
           0,
           0,
           0,
           0,
           0,
           0,
           0,
           0,
           0,
           0,
           0,
           0,
           0,
           0,
           0,
           0,
           0,
           0,
           0,
           0,
           0,
           0,
           0,
           0,
           0,
           0,
           0,
           0,
           0,
           0,
           0,
           0,
           0,
           0,
           0,
           0,
           0,
           0,
           0,
           0,
           0,
           0,
           0,
           0,
           0,
           0,
           0,
           0,
           0,
           0,
           0,
           0,
           0,
           0,
           0,
           0,
           0,
           0,
           0,
           0,
           0,
           0,
           0,
           0,
           0,
           0,
           0,
           0,
           0,
           0,
           0,
           0,
           0,
           0,
           0,
           0,
           0,
           0,
           0,
           0,
           0,
           0,
           0,
           0,
           0,
           0,
           0,
           0,
           0,
           0,
           0,
           0,
           0,
           0,
           0,
           0
          ],
          "coloraxis": "coloraxis",
          "symbol": "circle"
         },
         "mode": "markers",
         "name": "0",
         "scene": "scene",
         "showlegend": true,
         "type": "scatter3d",
         "x": [
          -0.13716311577166854,
          -0.12328964285108289,
          0.4647836269520087,
          -0.030314537363996457,
          0.17849083829422285,
          -0.018407700168556192,
          -0.030433279956465092,
          0.04647342332805502,
          0.10706450356910073,
          0.14456138135678206,
          0.0798210256051555,
          -0.07242276060130805,
          -0.1369246777213019,
          -0.13716255649375506,
          -0.13716311641336432,
          -0.1371494541151729,
          -0.16826969681752157,
          -0.07242276075902358,
          0.8192072635178853,
          -0.10740016608382581,
          -0.030433279961031273,
          0.03430707561083854,
          0.02578641094269236,
          -0.030433279967219454,
          -0.13598944307970184,
          -0.030201207394748863,
          -0.030433279960225438,
          0.07982102557572421,
          -0.03043327995589966,
          -0.2192285466991701,
          0.002793918744936079,
          -0.07221002744237115,
          -0.09004706629960872,
          -0.1342353773375414,
          -0.1361907067379029,
          0.10672867330836013,
          -0.13716311632576195,
          -0.03043326447892683,
          -0.10247408380929454,
          0.09907233271187753,
          -0.030414454127035175,
          -0.1227141912779926,
          -0.136502628556113,
          -0.13716311632764835,
          -0.03034189107356194,
          -0.13716311641820622,
          -0.1352173561119363,
          0.15407583690495122,
          -0.017910277644280173,
          -0.07242276060243408,
          0.0798476167769874,
          -0.07012653039872283,
          0.04631570978689459,
          0.07991433412123607,
          0.07982102559383569,
          -0.030433279973086657,
          0.034342441163657735,
          -0.13701053853931106,
          -0.52401610573238,
          0.013562503856321918,
          -0.07110796991529052,
          0.03430707579529512,
          0.08012398756969377,
          -0.017858501613810977,
          0.14456138136272093,
          0.10690657177752336,
          0.06723634128720539,
          -0.018376397235750387,
          0.11414525346967425,
          -0.018357210179979017,
          0.12768081393187017,
          -0.07650740992040934,
          -0.13704480175092715,
          -0.13716311633179906,
          -0.07189057254537369,
          -0.018424646362805292,
          -0.03029644684821707,
          0.4136714790127433,
          -0.01836709657385513,
          0.3215259513005563,
          0.15838626137589001,
          -0.030433279954201618,
          -0.030433279993632153,
          -0.028664164049462974,
          0.15812330321657625,
          -0.018408927733577996,
          -0.018205565725422614,
          0.02688360903177667,
          0.10672867324232829,
          -0.030112632647518203,
          0.025786410913683847,
          -0.13716311646474275,
          -0.13716311698419195,
          0.09309466064948248,
          -0.12647265647842476,
          -0.13710360471400568,
          -0.13584832566880403,
          0.14462712053485166,
          0.04294525040331861,
          -0.030228647671209887,
          0.03430707561083854,
          -0.13659558045201947,
          -0.0184168173602614,
          -0.030424633417217215,
          -0.13712916885834622,
          -0.030433298820204853,
          -0.2352378058490354,
          0.31413236165914554,
          0.15909669281827304,
          -0.026953314649028975,
          0.16007861824927025,
          0.1445942527667057,
          0.036701253149600564,
          0.158357581078588,
          0.07095360619001295,
          7.614725783318256,
          -0.030192110384804446,
          -0.13716311821049454,
          1.291963815754012,
          -0.030382616773638613,
          0.1587806985724113,
          0.0567254318983022,
          -0.13693842390055488,
          -0.137163116701199,
          -0.13713090958354623,
          0.15838626137589001,
          -0.030353479072597018,
          -0.018261394289248525,
          -0.1368969498169022,
          0.22502182441421306,
          -0.13701742805346895,
          -0.1370196157829118,
          -0.030422568743731518,
          -0.13705296508844472,
          0.37214929703417293,
          -0.1371174538859132,
          -0.1371195206399613,
          0.19255945640811478,
          -0.11592991086230946,
          -0.030433280425667796,
          0.07982102476749643,
          0.15812330305621347,
          -0.13684802275046204,
          -0.018391433357736135,
          -0.0303588746830281,
          -0.030433280142675,
          -0.13700768536429256,
          -0.13715906445598067,
          -0.07238433441332623,
          -0.2529790312213222,
          0.1447523527599463,
          -0.12401520977316267,
          -0.0719487737371589,
          -0.03026021752291138,
          0.03548377929335117,
          -0.02897872195169661,
          -0.07242276078166297,
          0.15958450684432246,
          -0.030150319771438255,
          0.163401154315361,
          -0.02883363467912241,
          -0.13709252611125636,
          -0.13714801831902418,
          -0.13715654425627574,
          0.04763753453948421,
          -0.030207512271199315,
          -0.06854235025526484,
          0.1582730608364669,
          -0.13688229344856348,
          -0.03043328390365029,
          0.6413095756261629,
          0.046451699712096686,
          0.09390207609680319,
          0.5598274874405126,
          0.02584125587359687,
          0.026613967356431203,
          -0.10140443944837693,
          0.0801006564861293,
          -0.030433279968928067,
          -0.018241286791093568,
          0.08010918852735298,
          0.07933214190971685,
          -0.10087158837178051,
          -0.030268020459002593,
          -0.07217737727851692,
          0.15817589476240956,
          -0.13690621170098133,
          -0.13710789511636218,
          0.14277363129110884,
          0.6709156044727532,
          -0.030337794607860083,
          -0.08768809845475402,
          -0.13714811807532057,
          0.014600490858797397,
          0.4999775432572383,
          -0.017214370665294142,
          0.033156642569822765,
          0.01311098460570074,
          -0.1371348524625014,
          0.1280846062469669,
          -0.10292267211450078,
          -0.13694798310841866,
          -0.10429659640117087,
          -0.03043327996096869,
          0.19242116958197844,
          0.16464686861183295,
          4.629495458113312,
          -0.029931048598371347,
          7.617090939920681,
          0.3991757809781103,
          0.0822341137746714,
          -0.13570400158396037,
          0.09070093934007013,
          0.19264410253015987,
          -0.07258725482270044,
          -0.13705241907605445,
          -0.029839333617525363,
          -0.01842481576234038,
          -0.13716311633255363,
          0.19278010319008934,
          -0.12939240504674826,
          -0.1371301875758171,
          0.03436502190563764,
          -0.13716312009711337,
          -0.311173020312046,
          0.09285610570994338,
          -0.3308427624379947,
          -0.13407537956221777,
          0.14758932903980945,
          -0.07079474877319815,
          -0.030404777608959717,
          0.037056930827516495,
          -0.07208656861286458,
          0.2670795755795227,
          0.02596769229973188,
          -0.1371519979609926,
          -0.13714757348733148,
          -0.06890835614000307,
          -0.19836990206537286,
          0.15351766472511347,
          0.15841093443971782,
          -0.13703320843997455,
          -0.1371631165125371,
          8.233576832644395,
          -0.13716311726718472,
          0.12951809701257772,
          0.1582689195206811,
          -0.042887885260430705,
          -0.11870139135811301,
          0.2570970560618596,
          -0.07191384703264651,
          -0.003054469506606671,
          -0.07232244211179334,
          0.057162457512182095,
          -0.13687913034202648,
          0.17186720273492398,
          1.550390948897926,
          0.19245688170006653,
          0.04707580334557171,
          3.1764680892951933,
          -0.10720068003481648,
          0.1925142883286423,
          0.12775864286971103,
          -0.07240909213218004,
          0.13678551996874994,
          -0.05028011871105755,
          0.19328963986976516,
          -0.1370920695100648,
          -0.1371631165125371,
          0.034560429448059676,
          -0.0300287041014968,
          -0.07100589159264835,
          0.15824593512090704,
          -0.07242276215512158,
          -0.07242276070242475,
          -0.17756329561998038,
          0.03436630219195389,
          0.1276808134983071,
          -0.12322697108569287,
          0.19329337329894675,
          -0.09008941113587526,
          0.10188101418742583,
          0.01893753846250487,
          0.059865511324401266,
          0.12814509525296486,
          -0.13345236595149504,
          -0.13696882249713271,
          0.1279209606295515,
          0.1924466069787311,
          0.26813035515314226,
          0.03431648518715484,
          -0.13689297261079397,
          0.03966703790988031,
          0.06851071023518449,
          -0.030230536914592834,
          -0.030120675861304742,
          7.626451059011637,
          0.03430707575233492,
          0.0642481423474582,
          -0.13711661057686986,
          -0.13689257806754201,
          0.04637345875653724,
          -0.024696143396226063,
          -0.12426855464083808,
          0.217445215961886,
          -0.023935050817682737,
          -0.13637424184593458,
          -0.01842464601378072,
          -0.13184720107834644,
          -0.02778576060686806,
          -0.13580070568578526,
          0.15817354461702152,
          0.09900986234248307,
          -0.017442812100302484,
          7.614881060787306,
          0.05905952192009404,
          -0.13384977080615892,
          -0.09007468005450102,
          -0.13716311688986096,
          0.07982287654926014,
          0.059463616337610985,
          0.15824535707118192,
          0.36440738549740387,
          4.50968581131077,
          -0.13696680476781478,
          -0.07242107334065044
         ],
         "y": [
          1.1986741441818132,
          1.1971833197610924,
          1.907450620875987,
          1.3488699977843872,
          1.695586363417067,
          0.79421447778151,
          1.348882757489424,
          0.532909563280071,
          2.0655876573214664,
          1.6875244660603164,
          1.948814253644208,
          0.9373843568621537,
          1.198648522054998,
          1.1986740840888452,
          1.1986741448721059,
          1.1986726761251356,
          0.5321505896044357,
          0.9373843579741385,
          -0.1442197850107895,
          0.7846109949660687,
          1.3488827575216151,
          1.0875929712051151,
          1.7295831515606204,
          1.3488827575652445,
          1.1985480239023005,
          1.348857819444004,
          1.3488827575159352,
          1.9488142538517155,
          1.3488827574854338,
          2.7567119088788137,
          0.791936201568865,
          0.9373614967381405,
          0.6622643681562311,
          1.1983595374458973,
          1.198569651232593,
          2.0656237407789906,
          1.1986741442544575,
          1.3488827558092062,
          0.2707474047928307,
          1.8122600033558032,
          1.3488807345960532,
          1.1971214962229908,
          1.1986031701073365,
          1.1986741442677593,
          1.3488729369742012,
          1.1986741449062435,
          1.198465067632299,
          1.622867207687699,
          0.7941610257902392,
          0.9373843568700931,
          1.9488113962584974,
          0.9371376122871389,
          0.5329265108769556,
          1.9488042268442454,
          1.9488142537240178,
          1.3488827576066127,
          1.087589169805505,
          1.1986577486264978,
          3.759843547916746,
          2.122096165502566,
          0.9372430716883218,
          1.0875929699045883,
          1.9487816981901382,
          0.7941554741911151,
          1.687524466018445,
          2.0656046242948842,
          1.073593975033169,
          0.7942111139954512,
          1.333346821215029,
          0.7942090520204101,
          1.675726376182232,
          0.25455895134297646,
          1.1986614308097339,
          1.1986741442970232,
          0.9373271710751007,
          0.7942163012674895,
          1.3488680585350674,
          0.8851503872865333,
          0.7942101147901582,
          -0.09073987788725796,
          1.629665236985656,
          1.3488827574734625,
          1.348882757751469,
          1.3486926507910284,
          1.62969349417631,
          0.794214612323886,
          0.7941927631780515,
          1.7294652487745805,
          2.065623741244552,
          1.3488483028109335,
          1.7295831517651474,
          1.1986741452343532,
          1.1986741488967694,
          1.6627618654571708,
          1.1975253828792296,
          1.1986677497558034,
          1.1985328592855142,
          1.6875174043132646,
          1.0866647277163768,
          1.3488607685191292,
          1.0875929712051151,
          1.1986131585066098,
          0.7942154574939394,
          1.3488818283620707,
          1.198670496550979,
          1.3488828904896717,
          0.4901163436378062,
          2.123047801879606,
          1.6295888953452444,
          1.3485088230616904,
          1.6294833780431406,
          1.6875209336681205,
          2.052242973618327,
          1.6296683226263986,
          2.149179416756586,
          -0.9727652030506145,
          1.348856841991983,
          1.1986741575429094,
          1.8185584498559682,
          1.3488773133011054,
          1.6296228514989632,
          2.150708357420145,
          1.1986499994927042,
          1.1986741469015065,
          1.198670683882881,
          1.629665236985656,
          1.348874182924442,
          0.7941987558521835,
          1.1986455426510119,
          0.3431772325422907,
          1.1986584890725172,
          1.198658732320262,
          1.3488816065202434,
          1.1986623093710163,
          0.8896114541256515,
          1.198669237565391,
          1.198669459530138,
          1.4144217283455427,
          1.16229658421624,
          1.3488827607975709,
          1.9488142595501867,
          1.6296934953069597,
          1.198640291108052,
          0.7942127297510035,
          1.3488747620686548,
          1.3488827588023078,
          1.1986574420267804,
          1.198673709118245,
          0.937380228122841,
          0.6168374410304188,
          1.6875039445372306,
          1.1972612946847425,
          0.9373334228801634,
          1.3488641616430133,
          2.039814651231108,
          1.348726453369347,
          0.9373843581337596,
          1.6295364757476827,
          1.3488523521257807,
          1.6291263459095386,
          1.3487108675252597,
          1.1986665589558778,
          1.1986725221972565,
          1.1986734511114807,
          0.5327854511598134,
          1.348858497196352,
          0.9369673973089204,
          1.629677401548611,
          1.198643968633488,
          1.3488827853193541,
          2.008179318716062,
          0.532911900138204,
          1.6626751021632895,
          1.9234247187956146,
          1.7295772580946422,
          1.7294942246285467,
          1.4733112799695987,
          1.9487842050661988,
          1.3488827575772913,
          1.185895562344456,
          1.9487832880750127,
          1.8200783362825073,
          1.473254020254212,
          1.3488649989544041,
          0.9373579881958569,
          1.6296878433447386,
          1.198646538124843,
          1.198668210273019,
          1.6994244575934108,
          1.6909849849171599,
          1.3488724970531727,
          0.6620108807040711,
          1.198672532748442,
          0.4393060736342129,
          1.13020788802837,
          0.7940862446479118,
          1.7287911685612318,
          2.0758301510778083,
          1.1986711073061604,
          1.675682987364954,
          1.9138017445413416,
          1.1986510264057815,
          0.7828016089519995,
          1.3488827575211741,
          1.4144365893141022,
          0.5202108648833377,
          0.11776930338961919,
          1.3488287900117093,
          -0.973019355819398,
          1.6894594460725423,
          1.9485549479507887,
          1.198517351785195,
          1.4682746478767843,
          1.4144126324120436,
          1.1917355330203234,
          1.1986622507755915,
          1.3488189331679599,
          0.7942174956319717,
          1.1986741443023439,
          1.4143980192087684,
          1.1978391221237532,
          1.198670605798793,
          1.0875867433116189,
          1.1986741708446635,
          2.4255443885933095,
          1.6627875002531087,
          0.656858997469103,
          1.1983423417608599,
          1.687199095811199,
          1.083247120473231,
          1.3488796949622834,
          1.491193047998872,
          0.9373482313715399,
          1.4834905023206144,
          1.72956367186971,
          1.198672949510803,
          1.1986724740868915,
          0.9370067083359042,
          0.41171598457320646,
          1.5196052555759534,
          1.6296625865303103,
          1.1986601848453875,
          1.1986741455713312,
          -1.1251905756899276,
          1.1986741508920324,
          1.675528945688294,
          1.6296778472257716,
          0.755352459904716,
          1.1966903303517005,
          0.7673188762508848,
          0.937329669576356,
          1.1842630787657404,
          0.9373735770856106,
          2.1506613046427887,
          1.1986436284537185,
          1.8042911669494148,
          0.3011232333010726,
          1.4144327592527455,
          0.5328448331944843,
          0.3240292488755036,
          1.0165963026610658,
          1.4144265821468538,
          1.6757180125549473,
          0.9373831089568772,
          1.8721329509088205,
          0.7006109331584097,
          1.41434326457631,
          1.1986665227110707,
          1.1986741455713312,
          1.087565745431647,
          1.3488392827562243,
          0.9372321045359863,
          1.6296803188123454,
          0.9373843678174364,
          0.9373843575750858,
          0.8015777508370823,
          1.0875866067679827,
          1.675726379239102,
          1.1971768139211174,
          1.954951665691646,
          0.6622689217472469,
          1.2298942629745915,
          1.1000621258441032,
          1.430453190951455,
          1.6756764853562796,
          0.15040715595248208,
          1.1986532658698192,
          1.6757005702108783,
          1.4144338550261757,
          1.1551226384766722,
          1.0875919590083387,
          1.1986451159319365,
          1.4909125739150115,
          2.149441895414867,
          1.3488609763822248,
          1.3488491656999306,
          -0.9740251795640861,
          1.0875929702074836,
          1.1770311232173196,
          1.1986691493936474,
          1.1986450731450446,
          0.5329203054977257,
          1.34826625629394,
          1.1972886433455798,
          0.7688699297991703,
          1.3481844764938589,
          1.198589372669192,
          0.7942162988066654,
          1.198102905830614,
          1.348598260059715,
          1.1985277428693064,
          1.6296880952003194,
          0.6151089430372622,
          0.7941107928322451,
          -0.9727818885756123,
          0.923255515501325,
          1.1983180989299826,
          0.6622673362451862,
          1.198674148231682,
          1.9488140546663337,
          0.5315136613205154,
          1.6296803782913731,
          1.6293816871910152,
          -0.7665664738212038,
          1.1986530520460488,
          0.9373841753488182
         ],
         "z": [
          -0.5330956229611403,
          -0.5336063845059631,
          -0.6191721147201195,
          -0.5452926906633117,
          -0.1256730054141321,
          -0.35239759272986565,
          -0.5452883189612011,
          -0.05672751105314296,
          -0.6547221647091422,
          -0.3093221256476477,
          -0.604997389677351,
          -0.2374203590159995,
          -0.5331044012760912,
          -0.5330956435546459,
          -0.5330956232638034,
          -0.5330961259278005,
          -0.22888823479333142,
          -0.23742035958522534,
          -0.23587692087005513,
          -0.27341112163069814,
          -0.5452883189776792,
          -0.24961305559675478,
          -0.5849053833093749,
          -0.5452883190000132,
          -0.5331388330526218,
          -0.5452968629549774,
          -0.5452883189747719,
          -0.6049973897835741,
          -0.5452883189591582,
          -0.5512732036887609,
          -0.3531781559580537,
          -0.23742819087740402,
          -0.30970800653101305,
          -0.5332034118025561,
          -0.5331314232929658,
          -0.654709798572698,
          -0.5330956229476288,
          -0.5452883195220777,
          0.06674817958880742,
          -0.28063456682205773,
          -0.5452890121020699,
          -0.5336275773500453,
          -0.5331199397705396,
          -0.5330956229544381,
          -0.5452916835112059,
          -0.5330956232812784,
          -0.5331672638203285,
          -0.1316198583284295,
          -0.3524159058709156,
          -0.2374203590200636,
          -0.6049983686840752,
          -0.23750489904712582,
          -0.05672170467517746,
          -0.6050008248981035,
          -0.6049973897182058,
          -0.5452883190211896,
          -0.2496143570445341,
          -0.5331012402952957,
          -0.2797617084013729,
          -0.7311614971491639,
          -0.23746876417684487,
          -0.2496130549310136,
          -0.6050085436553194,
          -0.352417818438682,
          -0.3093221256262136,
          -0.6547163481555347,
          -0.4630651349864901,
          -0.35239874516082925,
          -0.5506112226050419,
          -0.35239945146145324,
          -0.5004094555516609,
          0.08827057906319752,
          -0.5330999790317217,
          -0.5330956229694181,
          -0.23743995315637412,
          -0.3523969701416037,
          -0.5452933591635133,
          -0.2553168088381253,
          -0.35239908769252126,
          -0.21755430847413532,
          -0.13743337848255557,
          -0.5452883189530298,
          -0.5452883190953416,
          -0.5453534502328053,
          -0.13742369753018632,
          -0.3523975489172444,
          -0.35240503785646815,
          -0.5849457777447296,
          -0.6547097988110195,
          -0.5453001246772746,
          -0.5849053834140727,
          -0.533095623449238,
          -0.5330956253240319,
          -0.04779675427955282,
          -0.5334892105851538,
          -0.5330978141913407,
          -0.5331440282133569,
          -0.3093245471914005,
          -0.24993107755640692,
          -0.5452958529219736,
          -0.24961305559675478,
          -0.533116517637641,
          -0.35239725706964475,
          -0.5452886372989638,
          -0.5330968728758465,
          -0.5452883870441351,
          -0.22569000432751365,
          -0.7429655644099611,
          -0.13745953369376684,
          -0.5454164456929563,
          -0.13749568346786914,
          -0.3093233357918193,
          -0.7169447583121561,
          -0.13743232453794613,
          -0.7340127477696243,
          -0.33546740199972724,
          -0.5452971979203484,
          -0.5330956297499981,
          -0.6496229547658365,
          -0.5452901841656773,
          -0.1374479000643166,
          -0.7334889279197891,
          -0.5331038953543346,
          -0.5330956243026553,
          -0.5330968089347493,
          -0.13743337848255557,
          -0.5452912572689124,
          -0.35240297903011647,
          -0.533105422202493,
          -0.28808591257072635,
          -0.5331009867098915,
          -0.5331009104507392,
          -0.5452887133245654,
          -0.5330996791965534,
          -0.2537876944848519,
          -0.5330973041125768,
          -0.5330972279575219,
          -0.20473928256474766,
          -0.510219278679318,
          -0.5452883206546437,
          -0.6049973927006264,
          -0.13742369810896604,
          -0.5331072266858555,
          -0.35239819159263874,
          -0.5452910582788134,
          -0.5452883196332666,
          -0.5331013453361637,
          -0.5330957722629538,
          -0.2374217739581662,
          -0.2993368290298866,
          -0.3093291563939296,
          -0.5335796756661931,
          -0.23743780917067867,
          -0.5452946910082076,
          -0.8160282794995911,
          -0.5453418698888046,
          -0.23742035966693556,
          -0.13747749302702175,
          -0.545298736941297,
          -0.13761800654154693,
          -0.5453472140219484,
          -0.533098221895834,
          -0.5330961789771046,
          -0.5330958717729565,
          -0.056770884120820826,
          -0.5452966309620486,
          -0.23756323163988144,
          -0.1374292110246909,
          -0.5331059622782726,
          -0.5452883332073647,
          -0.6743912439794503,
          -0.0567267125791813,
          -0.04782648008469111,
          -0.7341120368294582,
          -0.5849074025136398,
          -0.5849358509765882,
          -0.5623277221778172,
          -0.605007684573849,
          -0.5452883190061796,
          -0.5374741252850926,
          -0.6050079986082593,
          -0.08465555879787821,
          -0.562347339319874,
          -0.5452944031172855,
          -0.2374293929156918,
          -0.13742563403115843,
          -0.5331050813271515,
          -0.5330976559622662,
          -0.1243580369049318,
          -0.12761496040014433,
          -0.545291834472247,
          -0.3097948556745167,
          -0.5330961752160287,
          -0.0562260656397444,
          -0.5565524029125989,
          -0.35244152620641617,
          -0.5851767298135503,
          -0.5755285554701908,
          -0.5330966636315098,
          -0.5004243225766299,
          -0.1747847125787393,
          -0.5331035432645972,
          -0.40086762389772995,
          -0.5452883189774532,
          -0.20473419188835604,
          -0.0610781791986849,
          -0.3339797033078449,
          -0.5453068098067047,
          -0.33555447883897616,
          -0.5986520802620707,
          -0.6050862299616544,
          -0.5331493423233973,
          -0.28923653170017627,
          -0.20474239888260842,
          -0.5354733550475497,
          -0.533099699339507,
          -0.545310185686664,
          -0.35239758153775447,
          -0.5330956229721416,
          -0.20474740649338719,
          -0.5333817112166279,
          -0.5330968352543869,
          -0.24961518837116176,
          -0.5330956365591769,
          -1.1611314999827171,
          -0.04778797171816203,
          -0.173582580693212,
          -0.5332093008964343,
          -0.3094336063014774,
          -0.5247684246220669,
          -0.5452893684504332,
          -0.4003840590887354,
          -0.23743273680908056,
          -0.06789942245240202,
          -0.5849120576003104,
          -0.533096032288777,
          -0.5330961951914394,
          -0.23754974665752412,
          -0.17702900237171423,
          -0.1369315981852282,
          -0.1374342872997822,
          -0.5331004057619181,
          -0.5330956236217372,
          -0.431532818817134,
          -0.5330956263454089,
          -0.5004770971570358,
          -0.13742905890429719,
          -0.04182093732499856,
          -0.5337753345349302,
          0.0476030763004032,
          -0.23743909495439733,
          -0.5380329607396288,
          -0.23742405247425968,
          -0.7335049697435495,
          -0.5331060785849516,
          -0.35904919408378044,
          -0.26920369846666625,
          -0.20473551060059206,
          -0.05674968853681257,
          -0.20617832208956846,
          -0.33751194246151583,
          -0.20473761972370474,
          -0.5004123207541028,
          -0.23742097822511524,
          -0.7242908114333475,
          -0.35189616636759635,
          -0.20476616516829937,
          -0.5330982454385282,
          -0.5330956236217372,
          -0.249622382617935,
          -0.5453032139306734,
          -0.237472523334873,
          -0.13742821361793545,
          -0.23742036462401764,
          -0.23742035938095032,
          -0.35500006225776487,
          -0.24961523604886662,
          -0.500409457116475,
          -0.5336088119500235,
          -0.08750558464010172,
          -0.3097064492950981,
          -0.10471187745135509,
          0.02099008040109614,
          -0.2241508532016085,
          -0.5004265485011774,
          0.11863973941571843,
          -0.5331027760962477,
          -0.500418296647904,
          -0.20473512795315216,
          -0.5480171913067021,
          -0.24961340146200822,
          -0.5331055689758607,
          -0.40048015433259226,
          -0.733922794264238,
          -0.5452957859137595,
          -0.5452998278131211,
          -0.3358990790970696,
          -0.2496130550860661,
          -0.5405109059942863,
          -0.5330973364456676,
          -0.5331055832965433,
          -0.0567238308728235,
          -0.5454995375468897,
          -0.5335704140127273,
          -0.36108062065127156,
          -0.545527560937536,
          -0.5331246657979288,
          -0.3523969688819056,
          -0.533291333403329,
          -0.5453857899490167,
          -0.5331457817762754,
          -0.13742554714772615,
          -0.3601187841978333,
          -0.3524331160709158,
          -0.33547311884687064,
          -0.24226100465344744,
          -0.5332176072477792,
          -0.3097069903066667,
          -0.5330956249835731,
          -0.6049974577802094,
          -0.05720575740053737,
          -0.13742819095166292,
          -0.1512636113581438,
          -0.18693532171335567,
          -0.5331028519550299,
          -0.237420421027275
         ]
        },
        {
         "customdata": [
          [
           "SHA-256"
          ],
          [
           "Scrypt"
          ],
          [
           "Ethash"
          ],
          [
           "Equihash"
          ],
          [
           "Multiple"
          ],
          [
           "Scrypt"
          ],
          [
           "X11"
          ],
          [
           "SHA-256"
          ],
          [
           "Scrypt"
          ],
          [
           "SHA-256"
          ],
          [
           "Multiple"
          ],
          [
           "Scrypt"
          ],
          [
           "SHA-256"
          ],
          [
           "Scrypt"
          ],
          [
           "Scrypt"
          ],
          [
           "Quark"
          ],
          [
           "Groestl"
          ],
          [
           "Scrypt"
          ],
          [
           "X11"
          ],
          [
           "Scrypt"
          ],
          [
           "Scrypt"
          ],
          [
           "Scrypt"
          ],
          [
           "X11"
          ],
          [
           "Multiple"
          ],
          [
           "Scrypt"
          ],
          [
           "SHA-256"
          ],
          [
           "Scrypt"
          ],
          [
           "Scrypt"
          ],
          [
           "Scrypt"
          ],
          [
           "Scrypt"
          ],
          [
           "Scrypt"
          ],
          [
           "Scrypt"
          ],
          [
           "SHA-256"
          ],
          [
           "Scrypt"
          ],
          [
           "NeoScrypt"
          ],
          [
           "Scrypt"
          ],
          [
           "Scrypt"
          ],
          [
           "Scrypt"
          ],
          [
           "Multiple"
          ],
          [
           "Scrypt"
          ],
          [
           "SHA-256"
          ],
          [
           "Scrypt"
          ],
          [
           "Scrypt"
          ],
          [
           "Scrypt"
          ],
          [
           "Scrypt"
          ],
          [
           "Scrypt"
          ],
          [
           "HybridScryptHash256"
          ],
          [
           "Scrypt"
          ],
          [
           "SHA-256"
          ],
          [
           "Scrypt"
          ],
          [
           "SHA-256"
          ],
          [
           "Scrypt"
          ],
          [
           "Scrypt"
          ],
          [
           "Scrypt"
          ],
          [
           "Scrypt"
          ],
          [
           "Scrypt"
          ],
          [
           "Scrypt-n"
          ],
          [
           "Scrypt"
          ],
          [
           "SHA-256"
          ],
          [
           "SHA-256"
          ],
          [
           "SHA-256"
          ],
          [
           "SHA-256"
          ],
          [
           "SHA-256"
          ],
          [
           "SHA-256"
          ],
          [
           "Scrypt"
          ],
          [
           "Lyra2REv2"
          ],
          [
           "Scrypt"
          ],
          [
           "SHA-256"
          ],
          [
           "CryptoNight"
          ],
          [
           "CryptoNight"
          ],
          [
           "Shabal256"
          ],
          [
           "Scrypt"
          ],
          [
           "SHA-256"
          ],
          [
           "Scrypt"
          ],
          [
           "Scrypt"
          ],
          [
           "Scrypt"
          ],
          [
           "Scrypt"
          ],
          [
           "Scrypt"
          ],
          [
           "Momentum"
          ],
          [
           "Stanford Folding"
          ],
          [
           "Scrypt"
          ],
          [
           "Scrypt"
          ],
          [
           "M7 POW"
          ],
          [
           "Scrypt"
          ],
          [
           "X11"
          ],
          [
           "Scrypt"
          ],
          [
           "SHA-256"
          ],
          [
           "Scrypt"
          ],
          [
           "X11"
          ],
          [
           "X11"
          ],
          [
           "Lyra2RE"
          ],
          [
           "SHA-256"
          ],
          [
           "X11"
          ],
          [
           "Scrypt"
          ],
          [
           "Scrypt"
          ],
          [
           "Ethash"
          ],
          [
           "X11"
          ],
          [
           "SHA-256"
          ],
          [
           "Scrypt"
          ],
          [
           "Scrypt"
          ],
          [
           "1GB AES Pattern Search"
          ],
          [
           "Scrypt"
          ],
          [
           "CryptoNight"
          ],
          [
           "SHA-256"
          ],
          [
           "SHA-256"
          ],
          [
           "X11"
          ],
          [
           "Scrypt-n"
          ],
          [
           "X11"
          ],
          [
           "Scrypt"
          ],
          [
           "Dagger"
          ],
          [
           "Scrypt"
          ],
          [
           "CryptoNight-Lite"
          ],
          [
           "X11GOST"
          ],
          [
           "SHA-256"
          ],
          [
           "Scrypt"
          ],
          [
           "X11"
          ],
          [
           "SHA-256"
          ],
          [
           "Scrypt"
          ],
          [
           "X11"
          ],
          [
           "Equihash"
          ],
          [
           "CryptoNight"
          ],
          [
           "SHA-256"
          ],
          [
           "Multiple"
          ],
          [
           "Scrypt"
          ],
          [
           "SHA-256"
          ],
          [
           "Scrypt"
          ],
          [
           "Scrypt"
          ],
          [
           "Scrypt-n"
          ],
          [
           "Lyra2Z"
          ],
          [
           "SHA-256"
          ],
          [
           "Quark"
          ],
          [
           "Ethash"
          ],
          [
           "SHA-256"
          ],
          [
           "Equihash"
          ],
          [
           "Scrypt"
          ],
          [
           "Equihash"
          ],
          [
           "X11"
          ],
          [
           "X11"
          ],
          [
           "CryptoNight"
          ],
          [
           "Scrypt"
          ],
          [
           "CryptoNight"
          ],
          [
           "Lyra2RE"
          ],
          [
           "X11"
          ],
          [
           "X11"
          ],
          [
           "Scrypt"
          ],
          [
           "CryptoNight-V7"
          ],
          [
           "Keccak"
          ],
          [
           "Scrypt"
          ],
          [
           "X11"
          ],
          [
           "Equihash"
          ],
          [
           "Scrypt"
          ],
          [
           "Lyra2RE"
          ],
          [
           "Ethash"
          ],
          [
           "X11"
          ],
          [
           "Dagger-Hashimoto"
          ],
          [
           "Scrypt"
          ],
          [
           "NIST5"
          ],
          [
           "Scrypt"
          ],
          [
           "Scrypt"
          ],
          [
           "Scrypt"
          ],
          [
           "SHA-256"
          ],
          [
           "Scrypt"
          ],
          [
           "CryptoNight-V7"
          ],
          [
           "Blake2b"
          ],
          [
           "Cloverhash"
          ],
          [
           "CryptoNight"
          ],
          [
           "X11"
          ],
          [
           "Scrypt"
          ],
          [
           "Scrypt"
          ],
          [
           "X11"
          ],
          [
           "X11"
          ],
          [
           "CryptoNight"
          ],
          [
           "Time Travel"
          ],
          [
           "Scrypt"
          ],
          [
           "Keccak"
          ],
          [
           "X11"
          ],
          [
           "SHA-256"
          ],
          [
           "Scrypt"
          ],
          [
           "Scrypt"
          ],
          [
           "Scrypt"
          ],
          [
           "Scrypt"
          ],
          [
           "Scrypt"
          ],
          [
           "Scrypt"
          ],
          [
           "Scrypt"
          ],
          [
           "CryptoNight"
          ],
          [
           "Equihash"
          ],
          [
           "X11"
          ],
          [
           "NeoScrypt"
          ],
          [
           "Equihash"
          ],
          [
           "Dagger"
          ],
          [
           "Scrypt"
          ],
          [
           "X11"
          ],
          [
           "NeoScrypt"
          ],
          [
           "Scrypt"
          ],
          [
           "Ethash"
          ],
          [
           "Scrypt"
          ],
          [
           "NeoScrypt"
          ],
          [
           "Multiple"
          ],
          [
           "CryptoNight"
          ],
          [
           "CryptoNight"
          ],
          [
           "Ethash"
          ],
          [
           "X11"
          ],
          [
           "SHA-256"
          ],
          [
           "CryptoNight-V7"
          ],
          [
           "Scrypt"
          ],
          [
           "BLAKE256"
          ],
          [
           "X11"
          ],
          [
           "NeoScrypt"
          ],
          [
           "NeoScrypt"
          ],
          [
           "Scrypt"
          ],
          [
           "X11"
          ],
          [
           "SHA-256"
          ],
          [
           "C11"
          ],
          [
           "Ethash"
          ],
          [
           "CryptoNight"
          ],
          [
           "SkunkHash"
          ],
          [
           "CryptoNight"
          ],
          [
           "Equihash"
          ],
          [
           "Skein"
          ],
          [
           "Scrypt"
          ],
          [
           "Dagger"
          ],
          [
           "Lyra2REv2"
          ],
          [
           "Scrypt"
          ],
          [
           "Scrypt"
          ],
          [
           "Scrypt"
          ],
          [
           "NeoScrypt"
          ],
          [
           "Equihash"
          ],
          [
           "X11"
          ],
          [
           "Ethash"
          ],
          [
           "X11"
          ],
          [
           "CryptoNight"
          ],
          [
           "NeoScrypt"
          ],
          [
           "Scrypt"
          ],
          [
           "IMesh"
          ],
          [
           "Equihash"
          ],
          [
           "Equihash"
          ],
          [
           "Equihash"
          ],
          [
           "Lyra2Z"
          ],
          [
           "X11"
          ],
          [
           "CryptoNight"
          ],
          [
           "NIST5"
          ],
          [
           "Lyra2RE"
          ],
          [
           "Tribus"
          ],
          [
           "Lyra2Z"
          ],
          [
           "CryptoNight"
          ],
          [
           "CryptoNight Heavy"
          ],
          [
           "CryptoNight"
          ],
          [
           "Jump Consistent Hash"
          ],
          [
           "CryptoNight"
          ],
          [
           "X16R"
          ],
          [
           "HMQ1725"
          ],
          [
           "X11"
          ],
          [
           "Scrypt"
          ],
          [
           "CryptoNight-V7"
          ],
          [
           "Cryptonight-GPU"
          ],
          [
           "XEVAN"
          ],
          [
           "CryptoNight Heavy"
          ],
          [
           "Lyra2REv2"
          ],
          [
           "SHA-256"
          ],
          [
           "X11"
          ],
          [
           "X16R"
          ],
          [
           "Equihash"
          ],
          [
           "Quark"
          ],
          [
           "CryptoNight Heavy X"
          ],
          [
           "Lyra2Z"
          ],
          [
           "Ethash"
          ],
          [
           "SHA-256"
          ],
          [
           "Ethash"
          ],
          [
           "CryptoNight"
          ],
          [
           "SkunkHash"
          ],
          [
           "Argon2"
          ],
          [
           "Blake"
          ],
          [
           "Blake"
          ],
          [
           "SHA-256"
          ],
          [
           "Exosis"
          ],
          [
           "Scrypt"
          ],
          [
           "Equihash"
          ],
          [
           "Equihash"
          ],
          [
           "QuBit"
          ],
          [
           "Equihash1927"
          ],
          [
           "SHA-256"
          ],
          [
           "SHA-256"
          ],
          [
           "X13"
          ],
          [
           "SHA-256"
          ],
          [
           "X11"
          ],
          [
           "Scrypt"
          ],
          [
           "NeoScrypt"
          ],
          [
           "Blake"
          ],
          [
           "CryptoNight"
          ],
          [
           "Scrypt"
          ],
          [
           "SHA-256"
          ],
          [
           "CryptoNight"
          ],
          [
           "Scrypt"
          ],
          [
           "Groestl"
          ],
          [
           "Scrypt"
          ],
          [
           "Scrypt"
          ],
          [
           "Scrypt"
          ],
          [
           "Multiple"
          ],
          [
           "Equihash+Scrypt"
          ],
          [
           "Ethash"
          ],
          [
           "Ethash"
          ],
          [
           "CryptoNight"
          ],
          [
           "Equihash"
          ]
         ],
         "hovertemplate": "<b>%{hovertext}</b><br><br>Class=%{marker.color}<br>PC 1=%{x}<br>PC 2=%{y}<br>PC 3=%{z}<br>Algorithm=%{customdata[0]}<extra></extra>",
         "hovertext": [
          "Bitcoin",
          "Litecoin",
          "Ethereum Classic",
          "ZCash",
          "DigiByte",
          "ProsperCoin",
          "Spreadcoin",
          "ACoin",
          "Argentum",
          "BetaCoin",
          "MyriadCoin",
          "MoonCoin",
          "ZetaCoin",
          "SexCoin",
          "Quatloo",
          "QuarkCoin",
          "Riecoin",
          "Digitalcoin ",
          "LimeCoinX",
          "BitMark",
          "Catcoin",
          "CannaCoin",
          "CryptCoin",
          "Verge",
          "DarkShibe",
          "DevCoin",
          "EarthCoin",
          "E-Gulden",
          "Elacoin",
          "Einsteinium",
          "Emerald",
          "Flappy Coin",
          "FireRoosterCoin",
          "Franko",
          "FeatherCoin",
          "GrandCoin",
          "GlobalCoin",
          "GoldCoin",
          "HunterCoin",
          "Infinite Coin",
          "IXcoin",
          "KrugerCoin",
          "LuckyCoin",
          "Litebar ",
          "LitecoinDark",
          "MegaCoin",
          "MediterraneanCoin",
          "MinCoin",
          "NoirBits",
          "NobleCoin",
          "Namecoin",
          "NyanCoin",
          "RipOffCoin",
          "RonPaulCoin",
          "StableCoin",
          "SmartCoin",
          "SpainCoin",
          "SecureCoin",
          "SysCoin",
          "TigerCoin",
          "TerraCoin",
          "Umbrella",
          "UnbreakableCoin",
          "Unobtanium",
          "ViaCoin",
          "Vertcoin",
          "WorldCoin",
          "JouleCoin",
          "ByteCoin",
          "DigitalNote ",
          "BurstCoin",
          "MonaCoin",
          "Sling Coin",
          "Gulden",
          "PesetaCoin",
          "Wild Beast Coin",
          "Flo",
          "ArtByte",
          "BitCredit",
          "Folding Coin",
          "OmniCron",
          "GreenCoin",
          "Cryptonite",
          "Gridmaster",
          "ConSpiracy Coin ",
          "MasterCoin",
          "SoonCoin",
          "1Credit",
          "Quicksilver coin",
          "MarsCoin ",
          "Crypto",
          "Anarchists Prime",
          "BowsCoin",
          "Song Coin",
          "BitZeny",
          "Expanse",
          "MindCoin",
          "I0coin",
          "DogeCoinDark",
          "Revolution VR",
          "HOdlcoin",
          "Gamecredits",
          "Dashcoin",
          "CarpeDiemCoin",
          "Phalanx",
          "SunShotCoin",
          "HempCoin",
          "Adzcoin",
          "VirtaCoin",
          "SoilCoin",
          "YoCoin",
          "AEON",
          "SibCoin",
          "Anti Bitcoin",
          "Francs",
          "BolivarCoin",
          "Clinton",
          "Omni",
          "PizzaCoin",
          "Komodo",
          "Karbo",
          "ZayedCoin",
          "Circuits of Value",
          "DopeCoin",
          "DollarCoin",
          "Shilling",
          "GBR Coin",
          "FujiCoin",
          "ZCoin",
          "LeaCoin",
          "Zurcoin",
          "Elementrem",
          "CashOut",
          "ZClassic",
          "KiloCoin",
          "Hush",
          "ArtexCoin",
          "Kurrent",
          "Cannabis Industry Coin",
          "OsmiumCoin",
          "Bikercoins",
          "HexxCoin",
          "MarxCoin",
          "PacCoin",
          "Solarflarecoin",
          "Citadel",
          "CreativeChain",
          "BeaverCoin",
          "VaultCoin",
          "Zero",
          "Canada eCoin",
          "Zoin",
          "Musicoin",
          "BnrtxCoin",
          "DubaiCoin",
          "EB3coin",
          "Coinonat",
          "Bitcoin Scrypt",
          "BenjiRolls",
          "ParallelCoin",
          "ILCoin",
          "EquiTrader",
          "Quantum Resistant Ledger",
          "Nano",
          "ChanCoin",
          "Dinastycoin",
          "DigitalPrice",
          "Unify",
          "SocialCoin",
          "ArcticCoin",
          "DAS",
          "LeviarCoin",
          "Bitcore",
          "gCn Coin",
          "SmartCash",
          "Onix",
          "Bitcoin Cash",
          "CampusCoin",
          "Sojourn Coin",
          "LiteBitcoin",
          "FrazCoin",
          "Kronecoin",
          "AdCoin",
          "Linx",
          "Sumokoin",
          "BitcoinZ",
          "Elements",
          "VIVO Coin",
          "Bitcoin Gold",
          "Pirl",
          "eBoost",
          "Pura",
          "Innova",
          "Bitdeal",
          "Ellaism",
          "Sakuracoin",
          "GoByte",
          "SHIELD",
          "UltraNote",
          "BitCoal",
          "DaxxCoin",
          "AC3",
          "CHIPS",
          "Lethean",
          "PopularCoin",
          "Photon",
          "Sucre",
          "SparksPay",
          "GunCoin",
          "IrishCoin",
          "Pioneer Coin",
          "UnitedBitcoin",
          "Interzone",
          "1717 Masonic Commemorative Token",
          "TurtleCoin",
          "MUNcoin",
          "Niobio Cash",
          "Bitcoin Private",
          "Skeincoin",
          "ShareChain",
          "Travelflex",
          "KREDS",
          "BitFlip",
          "LottoCoin",
          "LeafCoin",
          "Cerberus",
          "Bitcoin Hush",
          "Crypto Improvement Fund",
          "Callisto Network",
          "Curium",
          "BitTube",
          "Dinero",
          "Poseidon",
          "Aidos Kuneen",
          "Snowgem",
          "Bitrolium",
          "Bitcoin Interest",
          "Alpenschillling",
          "FuturoCoin",
          "Monero Classic",
          "Jumpcoin",
          "Infinex",
          "KEYCO",
          "GINcoin",
          "PlatinCoin",
          "Loki",
          "Newton Coin",
          "MassGrid",
          "PluraCoin",
          "Motion",
          "PlusOneCoin",
          "Axe",
          "HexCoin",
          "Webchain",
          "Ryo",
          "Urals Coin",
          "Qwertycoin",
          "NIX",
          "Project Pai",
          "Azart",
          "Xchange",
          "CrypticCoin",
          "ZestCoin",
          "X-CASH",
          "Actinium",
          "ETHER-1",
          "Bitcoin SV",
          "Bitcoiin2Gen",
          "FREDEnergy",
          "C25 Coin",
          "Aquachain",
          "Universal Molecule",
          "Lithium",
          "Smart Bitcoin",
          "Exosis",
          "Block-Logic",
          "Beam",
          "Bithereum",
          "SLICE",
          "Vidulum",
          "BlockStamp",
          "BLAST",
          "Bitcoin Rhodium",
          "GlobalToken",
          "Boolberry",
          "SolarCoin",
          "UFO Coin",
          "BlakeCoin",
          "FantomCoin ",
          "Crypto Escudo",
          "Crown Coin",
          "Quazar Coin",
          "SmileyCoin",
          "Groestlcoin",
          "Bata",
          "Pakcoin",
          "Dotcoin",
          "JoinCoin",
          "Vollar",
          "Reality Clash",
          "iOlite",
          "Beldex",
          "Horizen"
         ],
         "legendgroup": "1",
         "marker": {
          "color": [
           1,
           1,
           1,
           1,
           1,
           1,
           1,
           1,
           1,
           1,
           1,
           1,
           1,
           1,
           1,
           1,
           1,
           1,
           1,
           1,
           1,
           1,
           1,
           1,
           1,
           1,
           1,
           1,
           1,
           1,
           1,
           1,
           1,
           1,
           1,
           1,
           1,
           1,
           1,
           1,
           1,
           1,
           1,
           1,
           1,
           1,
           1,
           1,
           1,
           1,
           1,
           1,
           1,
           1,
           1,
           1,
           1,
           1,
           1,
           1,
           1,
           1,
           1,
           1,
           1,
           1,
           1,
           1,
           1,
           1,
           1,
           1,
           1,
           1,
           1,
           1,
           1,
           1,
           1,
           1,
           1,
           1,
           1,
           1,
           1,
           1,
           1,
           1,
           1,
           1,
           1,
           1,
           1,
           1,
           1,
           1,
           1,
           1,
           1,
           1,
           1,
           1,
           1,
           1,
           1,
           1,
           1,
           1,
           1,
           1,
           1,
           1,
           1,
           1,
           1,
           1,
           1,
           1,
           1,
           1,
           1,
           1,
           1,
           1,
           1,
           1,
           1,
           1,
           1,
           1,
           1,
           1,
           1,
           1,
           1,
           1,
           1,
           1,
           1,
           1,
           1,
           1,
           1,
           1,
           1,
           1,
           1,
           1,
           1,
           1,
           1,
           1,
           1,
           1,
           1,
           1,
           1,
           1,
           1,
           1,
           1,
           1,
           1,
           1,
           1,
           1,
           1,
           1,
           1,
           1,
           1,
           1,
           1,
           1,
           1,
           1,
           1,
           1,
           1,
           1,
           1,
           1,
           1,
           1,
           1,
           1,
           1,
           1,
           1,
           1,
           1,
           1,
           1,
           1,
           1,
           1,
           1,
           1,
           1,
           1,
           1,
           1,
           1,
           1,
           1,
           1,
           1,
           1,
           1,
           1,
           1,
           1,
           1,
           1,
           1,
           1,
           1,
           1,
           1,
           1,
           1,
           1,
           1,
           1,
           1,
           1,
           1,
           1,
           1,
           1,
           1,
           1,
           1,
           1,
           1,
           1,
           1,
           1,
           1,
           1,
           1,
           1,
           1,
           1,
           1,
           1,
           1,
           1,
           1,
           1,
           1,
           1,
           1,
           1,
           1,
           1,
           1,
           1,
           1,
           1,
           1,
           1,
           1,
           1,
           1,
           1,
           1,
           1,
           1,
           1,
           1,
           1,
           1,
           1,
           1,
           1,
           1,
           1,
           1,
           1,
           1,
           1,
           1,
           1,
           1,
           1,
           1,
           1,
           1,
           1,
           1,
           1,
           1,
           1,
           1,
           1,
           1,
           1,
           1,
           1,
           1,
           1,
           1
          ],
          "coloraxis": "coloraxis",
          "symbol": "diamond"
         },
         "mode": "markers",
         "name": "1",
         "scene": "scene",
         "showlegend": true,
         "type": "scatter3d",
         "x": [
          -0.2677587397269527,
          -0.3859040808596428,
          -0.46121198865837737,
          -0.44784262853739276,
          -0.2678716099155943,
          -0.3866570737279311,
          -0.27985648288619913,
          -0.2679944445457889,
          -0.3865724343398589,
          -0.26799444460314237,
          -0.395642486653904,
          -0.38673363820477447,
          -0.26575661313098137,
          -0.38503761155170785,
          -0.3866361754764596,
          -0.11847635123363527,
          -0.35636195165189044,
          -0.3862932096422828,
          -0.2800030785697872,
          -0.38673291495206336,
          -0.3866379876107427,
          -0.3866710687476144,
          -0.2799373786470315,
          -0.2083995157243164,
          -0.3867329149038864,
          -0.021157524736258426,
          -0.2218711167987409,
          -0.3864579858789238,
          -0.38673291504152685,
          -0.3838552078109373,
          -0.3864765729991729,
          -0.38673310356194696,
          -0.26799444454768007,
          -0.38671789038356275,
          -0.3369156477419395,
          -0.37510851248840094,
          -0.38586945611651213,
          -0.38618519094680376,
          -0.4178394952578398,
          0.804411579672362,
          -0.2677171637527477,
          -0.3847416955681588,
          -0.38647881426322983,
          -0.38671839508576583,
          -0.38673291505473906,
          -0.386231295976658,
          -0.4354719887728783,
          -0.38665660176447814,
          -0.2679944446371013,
          -0.3556241200544661,
          -0.26780069174449367,
          -0.38233218931233415,
          -0.3867329149226698,
          -0.3867183975789685,
          -0.38641453637957135,
          -0.38639641088419835,
          -0.4407063591132994,
          -0.3867329149396491,
          -0.26058774895367315,
          -0.26742202677140964,
          -0.26769289213542635,
          -0.2679944445477228,
          -0.26796449178609344,
          -0.26799180297340325,
          -0.3864285291329555,
          -0.2993523859514258,
          -0.385160334292041,
          -0.267479102635402,
          2.1531141464552244,
          -0.17617215447192608,
          1.104758740918767,
          -0.385836297757232,
          -0.2679944445446569,
          -0.3812761098128662,
          -0.3849248456851858,
          -0.3867305230474306,
          -0.3847308744426101,
          -0.37631270959047497,
          -0.4406339905092937,
          -0.4076658671767012,
          -0.3865995945305033,
          -0.3261165971548907,
          -0.25636281678408435,
          -0.3867329150585064,
          -0.28000307859242657,
          -0.3867247700611762,
          -0.2678305871957401,
          -0.38673192865254663,
          -0.28000307859242657,
          -0.27957943227697357,
          -0.4502109025728779,
          -0.2678005498088856,
          -0.2797945022868725,
          -0.38630474971403905,
          -0.3857387428491505,
          -0.4625644403354426,
          -0.2797944515593825,
          -0.26771837167915297,
          -0.3867329460292465,
          -0.3839718545243807,
          -0.2727629238596695,
          -0.38581471641008597,
          -0.26697931715626105,
          0.017840675009330273,
          -0.2679944445710697,
          -0.28000308277506125,
          -0.44070636845206457,
          -0.2794099722791138,
          -0.3867329545190327,
          -0.4601717417091618,
          -0.38672454706618453,
          -0.46573795674687174,
          -0.5541386701450364,
          -0.2679944446220085,
          -0.38664652256033183,
          -0.2798235559508436,
          -0.2679944445473384,
          -0.38672480989933294,
          -0.2799849618507833,
          -0.4966048841580634,
          -0.26687646851110786,
          -0.26791235112452116,
          -0.4046915890052129,
          -0.38519664491827105,
          -0.26787471032100363,
          -0.3865867207331325,
          -0.3867329150651095,
          -0.440706359037835,
          -0.43241516715819317,
          -0.2679944483160087,
          -0.12188898484390723,
          -0.46235788327983185,
          -0.2679944447314323,
          -0.4478658938435479,
          -0.3841520260170799,
          -0.4479397002849566,
          -0.2691692029211163,
          -0.27919626001771924,
          -0.2669664566001796,
          -0.38672116033316273,
          -0.26685629103236064,
          -0.45036692332687195,
          -0.28000307872003755,
          -0.27294307605064433,
          -0.3867329149377627,
          -0.474000520277215,
          -0.427194527506791,
          -0.3866919557794267,
          -0.27960357411904846,
          -0.44784869500570057,
          -0.38542018309808423,
          -0.45014775282776914,
          -0.462702432115935,
          -0.2800030789263581,
          -0.5920852277905673,
          -0.3858901934236165,
          -0.2236502888166257,
          -0.3867329149396491,
          -0.3864663266719991,
          -0.3867329149019167,
          -0.25066882578579536,
          -0.38655313834006544,
          -0.4732370644936333,
          -0.47279407100742893,
          -0.5216274119510473,
          -0.2431886125781733,
          -0.27954107469294837,
          -0.386494501348862,
          -0.3866649696090019,
          -0.2796606760210901,
          -0.27996859310085587,
          -0.2667931191341852,
          -0.3781478095320501,
          1.7571001999463398,
          -0.39772995362172475,
          -0.2783927821260973,
          -0.26775784021743615,
          -0.38673291680551586,
          -0.3867265551602867,
          -0.3867329167866494,
          -0.3866053270820746,
          -0.3865034347594509,
          -0.38630367885789724,
          -0.3862896132920191,
          -0.26686168751469397,
          -0.37941871481167905,
          -0.24446618307268175,
          -0.3396044355273116,
          -0.4477135252164525,
          -0.45979985425136277,
          -0.38541825570440735,
          -0.2776993571195845,
          -0.3395753879993779,
          -0.38673291546601607,
          -0.4625347122406593,
          -0.38673291509831403,
          -0.3395825266598258,
          -0.41150574704309445,
          -0.013463855034506792,
          -0.26692015155707394,
          -0.45585381269470776,
          -0.27894708943213886,
          -0.2679944445823894,
          -0.46834322774299886,
          -0.3346119692858106,
          0.2131463404596867,
          -0.2799474755301997,
          -0.33955603215165003,
          -0.3357174941441682,
          -0.3861349080526031,
          -0.2798916092339798,
          -0.2677293038592688,
          -0.3203558007639856,
          -0.14837100318136648,
          0.4316964840249204,
          -0.35380304391935674,
          -0.2652183859322833,
          -0.4479397002849566,
          -0.3510637009964927,
          -0.25525384939290424,
          -0.45883560907548904,
          -0.29156064560611167,
          -0.3865692747922566,
          -0.1962064188556289,
          -0.3867329545190327,
          -0.33965920929603055,
          -0.4479397002849566,
          -0.2772249574694489,
          -0.4594468576607525,
          -0.28000307857167367,
          -0.26592684099554137,
          -0.33965920942526406,
          -0.38667940016298996,
          -0.41506265993791114,
          -0.44793970040399467,
          -0.4470015250993026,
          -0.44793970028740926,
          -0.43215520434035787,
          -0.27958495601897293,
          -0.26676872889484776,
          -0.22350636983654526,
          -0.4503245668016822,
          -0.46207168563490264,
          -0.43242281766290763,
          -0.26697820988475024,
          0.051376551406194855,
          0.2759569038876943,
          -0.36736481722155306,
          -0.25961536018882625,
          -0.3571491021767562,
          -0.43702658061684035,
          -0.27993743065935334,
          -0.3867142887854562,
          -0.47393989979138634,
          -0.41231784332214055,
          -0.21232449955522453,
          1.3600395553490316,
          -0.30002521355824646,
          -0.24038384078627384,
          -0.2799371302283069,
          -0.3571276989935872,
          -0.39225685630716095,
          -0.1218889846614712,
          -0.3888665408873652,
          -0.4323354045858362,
          -0.46270243128349803,
          -0.26775788064725425,
          -0.46270243144637685,
          -0.24243146584393022,
          -0.35386639497940103,
          -0.4392410005469455,
          -0.3907968133275629,
          -0.39060921303503116,
          -0.26799444458238886,
          -0.4171489176745033,
          -0.3862689948957844,
          -0.4474704844958257,
          -0.4476090200524309,
          -0.3657271940587036,
          -0.48887032189265694,
          -0.26799444474086537,
          -0.267306890087695,
          -0.16973338606500676,
          -0.2668819595683235,
          -0.28000307856497625,
          -0.3860025354407295,
          -0.2893726084436675,
          -0.39051048449549797,
          -0.26697931715617285,
          -0.37647477794122286,
          -0.26769221458313786,
          -0.26697931715626105,
          0.0022345735977812313,
          -0.3560496938788148,
          -0.3866664843668549,
          -0.3858167104037816,
          -0.38673291657912134,
          -0.4177956742240257,
          -0.4049778751087297,
          -0.462380466057124,
          -0.46270243314433407,
          -0.25409144283588236,
          -0.447843766077997
         ],
         "y": [
          -1.396621854914829,
          -0.9922277454755338,
          -1.9445345743261864,
          -1.7791072742153613,
          -1.6747773809801463,
          -0.9921468303390386,
          -0.8419458203354538,
          -1.396596526533174,
          -0.9921559250511484,
          -1.3965965261288,
          -1.6610474820620023,
          -0.9921335730382578,
          -1.396836999756459,
          -0.9923208533428068,
          -0.992149075012227,
          -0.515453164507261,
          -1.4062671655710406,
          -0.9921859305028271,
          -0.8419300672771086,
          -0.9921386804205597,
          -0.9921488813166681,
          -0.9921453265492974,
          -0.8419371273732269,
          -1.681168258960442,
          -0.9921386807602339,
          -1.4231211331838984,
          -1.009854410049199,
          -0.9921682241469373,
          -0.9921386797897902,
          -0.9924479127729178,
          -0.9921662266469973,
          -0.9921373506120323,
          -1.3965965265198395,
          -0.9921402951617762,
          -1.5288387229751415,
          -0.9933878103984156,
          -0.992231466403847,
          -0.9921975377829081,
          -1.6586622363818684,
          -1.1201368501962314,
          -1.3966263226330233,
          -0.9923526520162189,
          -0.9921659859598903,
          -0.9921402410564093,
          -0.9921386796966355,
          -0.9921925837725032,
          -2.2520339973008037,
          -0.9921468811999121,
          -1.3965965258893691,
          -0.9954814084644894,
          -1.3966173467873426,
          -0.9926115745348763,
          -0.9921386806278008,
          -0.992140240531096,
          -0.9921728901928463,
          -0.9921748405469725,
          -2.1724789403051563,
          -0.9921386805080852,
          -1.39739243201835,
          -1.3966580374567985,
          -1.3966289305649287,
          -1.3965965265195392,
          -1.3965997442038367,
          -1.3965968104119395,
          -0.992171389517159,
          -1.4902553557441662,
          -0.9923076654613774,
          -1.396651904160221,
          -2.4918730208357482,
          -2.2415722168181764,
          -0.9265063066175268,
          -0.9922350291123918,
          -1.3965965265411548,
          -0.9927250423316287,
          -0.99233297216046,
          -0.9921389377794071,
          -0.9923538162259113,
          -0.9932584139299067,
          -2.068984691591581,
          -2.100946033871344,
          -0.9921530072347509,
          -0.9986523268248952,
          -2.3450297794848667,
          -0.9921386796700743,
          -0.8419300671174877,
          -0.9921395560166392,
          -1.3966141342480332,
          -0.9921375816589347,
          -0.8419300671174877,
          -0.8419755917837837,
          -2.076492211381695,
          -1.3966173616104962,
          -0.8419524807039003,
          -0.9921846882936964,
          -0.9922455103805724,
          -1.9443892435691588,
          -0.8419524862205277,
          -1.3966261928302974,
          -0.9921384613084828,
          -0.9924353791942686,
          -2.332354984085822,
          -0.9922373485019238,
          -2.231814288478954,
          -1.4273118377630836,
          -1.3965965263549303,
          -0.8419300376274993,
          -2.1724788744614747,
          -0.8419938011403976,
          -0.9921384014505903,
          -2.077649961710458,
          -0.9921395777823658,
          -2.113830011025845,
          -1.9334761768784543,
          -1.3965965259957829,
          -0.9921479641714733,
          -0.8419493585699266,
          -1.3965965265222495,
          -0.9921395517357052,
          -0.8419320140316526,
          -0.655257503530429,
          -2.231825340615967,
          -1.3966053481145788,
          -1.6600750838366043,
          -0.9923037644098666,
          -1.3966093929509191,
          -0.9921543902930621,
          -0.9921386796235182,
          -2.1724789408372267,
          -2.1608182767290285,
          -1.3965964999509486,
          -0.5150864474388938,
          -1.9444114398897223,
          -1.3965965252242811,
          -1.7791047741457005,
          -0.9924158898822427,
          -1.7790968429694025,
          -0.8430942599006983,
          -0.8420167645887316,
          -2.231815670429732,
          -0.9921399438874466,
          -2.23182750867388,
          -2.076475446257325,
          -0.841930066217757,
          -0.8426874194089122,
          -0.9921386805213871,
          -2.132358424108454,
          -1.3892284759089708,
          -0.9921430821750501,
          -0.841972984855583,
          -1.7791066223703222,
          -0.9922797445004887,
          -2.076498997985327,
          -1.9443744093546242,
          -0.8419300647630771,
          -1.9157379133622485,
          -0.9922291865116322,
          -0.4612439755277077,
          -0.9921386805080852,
          -0.9921673276623308,
          -0.9921386807741204,
          -1.3984582897992648,
          -0.9921579984777891,
          -2.132440465453935,
          -1.9737293145229757,
          -1.8974176676521877,
          -2.2343707910402384,
          -0.8419797127789217,
          -0.992164300248722,
          -0.9921459811471469,
          -0.8419668610477024,
          -0.8419337730832528,
          -2.231834296691497,
          -2.0922168085520054,
          -1.2225105115292236,
          -1.3923946495216524,
          -0.8421030942050272,
          -1.3966219515753426,
          -0.9921386673526508,
          -0.9921392266598453,
          -0.9921386674856679,
          -0.9921523910019024,
          -0.9921633394243436,
          -0.9921848048110062,
          -0.9921863162845386,
          -2.231826927935679,
          -1.7864597739435177,
          -0.8457488079987971,
          -1.5285497922150801,
          -1.779121147546458,
          -2.0776899227602246,
          -0.9922799516165447,
          -0.8421776188801744,
          -1.5285529134015026,
          -0.9921386767968957,
          -1.9443924346782198,
          -0.9921386793894077,
          -1.5285521464601382,
          -1.6593428473865297,
          -2.259055727388183,
          -2.2318206464409176,
          -1.9451102310371187,
          -0.8420435360262598,
          -1.3965965262751199,
          -2.1329663411975965,
          -0.9977394869854824,
          -1.1597155880469936,
          -0.8419360423473242,
          -1.528554993678519,
          -1.5289674733752439,
          -0.992202941247198,
          -0.8419420456492344,
          -1.396625018078611,
          -1.1075666444079035,
          -0.01485366401139186,
          -2.306880286433094,
          -1.4080180235744733,
          -2.2320035124641593,
          -1.7790968429694025,
          -0.7174919325326815,
          -1.0062671763515547,
          -2.0777935404496137,
          -1.4910926361075438,
          -0.9921562648877748,
          -1.012612251994902,
          -0.9921384014505903,
          -1.5285439062143675,
          -1.7790968429694025,
          -0.8422285954910242,
          -1.9447241713822343,
          -0.841930067263807,
          -2.231927373798642,
          -1.5285439053031975,
          -0.9921444311596557,
          -2.254101677232149,
          -1.779096842130115,
          -1.779197657820797,
          -1.779096842952111,
          -2.1608462084589894,
          -0.8419749973296162,
          -2.231836918111825,
          -0.46125944129368684,
          -2.076479997639601,
          -2.0439708715966933,
          -2.1608174547551946,
          -2.231814399847608,
          -2.099823791717399,
          -2.2901553347794734,
          -2.08230555738391,
          -2.232605600062108,
          -1.1741758365990262,
          -1.9349640959687224,
          -0.8419371217447306,
          -0.9921406820440113,
          -2.1323649178334145,
          -2.105411152431864,
          -0.6996400169478421,
          -2.2404491707640255,
          -1.4901830530800115,
          -1.3995635106229247,
          -0.8419371539763945,
          -1.1741781355458283,
          -1.7850803738996075,
          -0.5150864487251734,
          -1.9247723800270005,
          -2.1608268471260024,
          -1.944374415223786,
          -1.3966219472307893,
          -1.9443744140753954,
          -2.2344520737307794,
          -1.408011216061946,
          -2.0753399761822084,
          -1.6749663147447966,
          -1.6749864751563182,
          -1.3965965262751232,
          -2.0396706980303256,
          -0.9921885316575675,
          -1.7791472613245467,
          -1.779132377451414,
          -1.028491795234748,
          -1.9335616845619295,
          -1.3965965251577726,
          -1.3966704097226263,
          -0.24200022489905337,
          -1.396716071026066,
          -0.841930067311028,
          -0.992215881718002,
          -1.5339476088240007,
          -1.6749969930770403,
          -2.2318142884795757,
          -0.9932409982052425,
          -1.3966290033741109,
          -2.231814288478954,
          -1.0339361354104972,
          -1.4063007202459257,
          -0.9921458192895112,
          -0.992237132945384,
          -0.9921386689488609,
          -1.6586669458657062,
          -2.1163476879090477,
          -1.9444090131865246,
          -1.9443744021038174,
          -2.2331991901961232,
          -1.7791071519762296
         ],
         "z": [
          0.18047895010395698,
          -0.0002415408665986493,
          0.33308880192071394,
          0.3558520217114599,
          0.2984750857302066,
          -0.0002138186762434545,
          -0.012409119537273021,
          0.1804876278118968,
          -0.00021693500757837247,
          0.18048762760489795,
          0.303179156323814,
          -0.00021364117354945157,
          0.18040523992684396,
          -0.00027344144949700675,
          -0.00021458859779125024,
          0.032349501852723825,
          0.25945109009513045,
          -0.0002272146762562269,
          -0.012403722560873987,
          -0.00021102659414890657,
          -0.00021452133987440115,
          -0.00021330338949541406,
          -0.012406141311212522,
          0.296285625524142,
          -0.0002110264202696529,
          0.17140007577594152,
          -0.006280577424549405,
          -0.0002211481812165796,
          -0.0002110269170400236,
          -0.0003169724953629901,
          -0.00022046396403788205,
          -0.00021170732421689297,
          0.18048762780507144,
          -0.00021157961768869453,
          0.22307714124509231,
          -0.0006389935633970274,
          -0.00024281549514357597,
          -0.0002311915967243203,
          0.3039963622313964,
          -0.04406414759119927,
          0.18047741946654075,
          -0.00028433583005235685,
          -0.00022038136839218776,
          -0.0002115609688588186,
          -0.00021102696472631772,
          -0.00022949401212848472,
          0.2722762221726863,
          -0.00021383597611643616,
          0.18048762748233269,
          -0.0013564132767831865,
          0.18048049458555956,
          -0.0003730433337849583,
          -0.00021102648806194522,
          -0.00021156101223538878,
          -0.0002227493684703582,
          -0.0002234152989223207,
          0.33492467026004286,
          -0.0002110265493448038,
          0.1802149410239814,
          0.1804665536924346,
          0.1804765257520361,
          0.18048762780491748,
          0.1804865245488534,
          0.18048753057055725,
          -0.00022223265777304696,
          0.1809701131196189,
          -0.00026892346498894824,
          0.18046865497880807,
          0.22365841073559875,
          0.3094132899822693,
          -0.06426758311243544,
          -0.00024403647601032037,
          0.18048762781598238,
          -0.0004119325937616285,
          -0.00027759239832750434,
          -0.00021111448151315908,
          -0.00028473348930239066,
          -0.0005946576348249883,
          0.2327867023749893,
          0.3406241679552725,
          -0.00021593467641043958,
          -0.002442711057628269,
          0.41541488476610416,
          -0.0002110269783226444,
          -0.012403722642584132,
          -0.0002113262663655548,
          0.1804815951994828,
          -0.00021169554993005445,
          -0.012403722642584132,
          -0.01241931936428944,
          0.3396873010501314,
          0.18048048913479497,
          -0.01241140138663088,
          -0.00022679093838830653,
          -0.00024762899857666657,
          0.33313859434036874,
          -0.012411403219792366,
          0.180477463936872,
          -0.00021113875779960818,
          -0.00031267747868018146,
          0.3154338009791989,
          -0.00024483085733075725,
          0.3127564634760963,
          0.1699643359351653,
          0.18048762772065396,
          -0.01240373773853315,
          0.3349246365546092,
          -0.01242555845796262,
          -0.00021116939910353235,
          0.37349430269553735,
          -0.00021133562978887523,
          0.3632285817265416,
          0.3289958060541904,
          0.18048762753680606,
          -0.0002142071151480054,
          -0.012410331790983584,
          0.18048762780630512,
          -0.00021132479968631712,
          -0.012404389563207342,
          0.5197461566776447,
          0.3127526771169967,
          0.180484605451244,
          0.30351230843017285,
          -0.0002675862236276695,
          0.18048321968263173,
          -0.00021640881397869715,
          -0.00021102700215473394,
          0.3349246705324104,
          0.3562328573442795,
          0.18048761420443438,
          0.0324751402623303,
          0.3331309897893701,
          0.1804876271418737,
          0.3558528782337349,
          -0.00030611172935835233,
          0.35585559544968803,
          -0.012802579657415132,
          -0.012433427357504582,
          0.3127559899916177,
          -0.00021145917446793887,
          0.31275193417124036,
          0.33969304540519146,
          -0.012403723103156992,
          -0.01266432731573572,
          -0.00021102654253551067,
          0.3250170505716421,
          0.17788679769705099,
          -0.00021253435714350998,
          -0.012418437223608287,
          0.3558522450786211,
          -0.00025935588132391225,
          0.3396849764731341,
          0.33314367155445834,
          -0.012403723847808615,
          0.45957574575438637,
          -0.00024207907528116362,
          -0.052025687192833646,
          -0.0002110265493448038,
          -0.0002208412112046259,
          -0.00021102641316114455,
          0.17984976050389387,
          -0.00021764545315706597,
          0.3249889441681919,
          0.29476178157883476,
          0.39257754398364275,
          0.3118805848022887,
          -0.012420731976147044,
          -0.00021980383659848439,
          -0.00021352835742478968,
          -0.012416328526555087,
          -0.012404992143831558,
          0.31274960827109965,
          0.4007034750514597,
          -0.07913854230170209,
          0.17680201310737695,
          -0.012463013740573374,
          0.18047891698812074,
          -0.00021103328362225148,
          -0.00021133276858315068,
          -0.00021103321553039018,
          -0.00021572374443616952,
          -0.00021947539444423808,
          -0.0002268296041178534,
          -0.00022734743398844238,
          0.3127521324055944,
          0.3533328215283547,
          -0.013712040922975047,
          0.223176132251843,
          0.3558472687170539,
          0.37348061062966825,
          -0.00025942683915310187,
          -0.012488537322095256,
          0.22317506273076654,
          -0.00021102844910529043,
          0.333137498078021,
          -0.00021102712199649442,
          0.22317532563442588,
          0.3037631783098718,
          0.3034225979095192,
          0.312754285309966,
          0.3328914710212676,
          -0.01244260289493193,
          0.1804876276797989,
          0.32480876930603997,
          -0.0021299158777355175,
          0.05525908339953553,
          -0.012405769602488235,
          0.22317435030197696,
          0.22303302957586005,
          -0.00023304272642842139,
          -0.012407826366275087,
          0.1804778664155318,
          0.008115849877918751,
          0.09593355894070442,
          0.287027534200563,
          0.13201464026044063,
          0.3126916318497474,
          0.35585559544968803,
          -0.029439831454549623,
          -0.005051553660086459,
          0.3734451119152183,
          0.1806832498516797,
          -0.00021705116259787143,
          -0.007225468094771224,
          -0.00021116939910353235,
          0.22317814874079342,
          0.35585559544968803,
          -0.012506003581488368,
          0.3330237745956081,
          -0.012403722567683245,
          0.3127177093608491,
          0.2231781482743649,
          -0.00021299671891349822,
          0.304523473445627,
          0.3558555950200557,
          0.35582105578879814,
          0.3558555954408356,
          0.3562232847847026,
          -0.012419116466215636,
          0.3127487105788052,
          -0.05203098544466134,
          0.33969148591947546,
          0.36879113638370314,
          0.35623313907588566,
          0.31275641871112203,
          0.4379160040809529,
          0.2927667669373783,
          0.3916779611911823,
          0.3124853494745453,
          0.1953865936786791,
          0.3711903214265933,
          -0.012406139416992512,
          -0.00021171228684219192,
          0.3250148080372628,
          0.2938677143673251,
          0.13249360155770487,
          0.38973574365453756,
          0.1809948829320136,
          0.17947111709950714,
          -0.012406150505005466,
          0.1953858051752526,
          0.35380555541478226,
          0.03247514092077833,
          0.3245018110823746,
          0.3562299204201961,
          0.3331436745588874,
          0.1804789184765619,
          0.33314367397102507,
          0.31185266829681507,
          0.13201697262924736,
          0.5199927337867521,
          0.32547914696645797,
          0.3254722409303702,
          0.1804876276798004,
          0.3389964425455606,
          -0.00022810664670545872,
          0.3558383194049132,
          0.355843421246394,
          0.0226736926539105,
          0.3272066012818966,
          0.18048762710782784,
          0.18046231476894237,
          -0.07211335959163291,
          0.18044667005333795,
          -0.012403722543510576,
          -0.00023859043508512443,
          0.2213267985577779,
          0.3254685582197251,
          0.31275646347641456,
          -0.000588691018636915,
          0.18047650080765662,
          0.3127564634760963,
          -0.014531376081794991,
          0.2594395940461728,
          -0.0002134721094572517,
          -0.00024475812169979177,
          -0.00021103246652081557,
          0.30399474921079167,
          0.3699747430977474,
          0.3331318211958642,
          0.33314366784276406,
          0.3122819813232657,
          0.3558520635905085
         ]
        },
        {
         "customdata": [
          [
           "VeChainThor Authority"
          ],
          [
           "Proof-of-BibleHash"
          ],
          [
           "SHA-256 + Hive"
          ],
          [
           "Proof-of-Authority"
          ],
          [
           "ECC 256K1"
          ],
          [
           "SHA3-256"
          ],
          [
           "Leased POS"
          ]
         ],
         "hovertemplate": "<b>%{hovertext}</b><br><br>Class=%{marker.color}<br>PC 1=%{x}<br>PC 2=%{y}<br>PC 3=%{z}<br>Algorithm=%{customdata[0]}<extra></extra>",
         "hovertext": [
          "Vechain",
          "BiblePay",
          "LitecoinCash",
          "Poa Network",
          "Acute Angle Cloud",
          "Fiii",
          "Waves"
         ],
         "legendgroup": "3",
         "marker": {
          "color": [
           3,
           3,
           3,
           3,
           3,
           3,
           3
          ],
          "coloraxis": "coloraxis",
          "symbol": "square"
         },
         "mode": "markers",
         "name": "3",
         "scene": "scene",
         "showlegend": true,
         "type": "scatter3d",
         "x": [
          6.862089708258681,
          -0.16219853247544225,
          0.8698102062481157,
          0.38218517481941494,
          0.4442988354339318,
          -1.119851740498363,
          0.8299959139218108
         ],
         "y": [
          0.6571671735663289,
          5.47544157268585,
          0.5274654035653092,
          2.3702092063452898,
          3.0291207923825305,
          5.6800654169957285,
          0.7971511014250667
         ],
         "z": [
          8.451678514908105,
          13.997821760105277,
          14.38275941907798,
          11.593837031287862,
          14.699858689669327,
          14.948609103721537,
          12.213182631079414
         ]
        },
        {
         "customdata": [
          [
           "TRC10"
          ]
         ],
         "hovertemplate": "<b>%{hovertext}</b><br><br>Class=%{marker.color}<br>PC 1=%{x}<br>PC 2=%{y}<br>PC 3=%{z}<br>Algorithm=%{customdata[0]}<extra></extra>",
         "hovertext": [
          "BitTorrent"
         ],
         "legendgroup": "2",
         "marker": {
          "color": [
           2
          ],
          "coloraxis": "coloraxis",
          "symbol": "x"
         },
         "mode": "markers",
         "name": "2",
         "scene": "scene",
         "showlegend": true,
         "type": "scatter3d",
         "x": [
          31.2285513463404
         ],
         "y": [
          -3.071086691523488
         ],
         "z": [
          -1.333360485674975
         ]
        }
       ],
       "layout": {
        "coloraxis": {
         "colorbar": {
          "title": {
           "text": "Class"
          }
         },
         "colorscale": [
          [
           0,
           "#0d0887"
          ],
          [
           0.1111111111111111,
           "#46039f"
          ],
          [
           0.2222222222222222,
           "#7201a8"
          ],
          [
           0.3333333333333333,
           "#9c179e"
          ],
          [
           0.4444444444444444,
           "#bd3786"
          ],
          [
           0.5555555555555556,
           "#d8576b"
          ],
          [
           0.6666666666666666,
           "#ed7953"
          ],
          [
           0.7777777777777778,
           "#fb9f3a"
          ],
          [
           0.8888888888888888,
           "#fdca26"
          ],
          [
           1,
           "#f0f921"
          ]
         ]
        },
        "legend": {
         "title": {
          "text": "Class"
         },
         "tracegroupgap": 0
        },
        "margin": {
         "t": 60
        },
        "scene": {
         "domain": {
          "x": [
           0,
           1
          ],
          "y": [
           0,
           1
          ]
         },
         "xaxis": {
          "title": {
           "text": "PC 1"
          }
         },
         "yaxis": {
          "title": {
           "text": "PC 2"
          }
         },
         "zaxis": {
          "title": {
           "text": "PC 3"
          }
         }
        },
        "template": {
         "data": {
          "bar": [
           {
            "error_x": {
             "color": "#2a3f5f"
            },
            "error_y": {
             "color": "#2a3f5f"
            },
            "marker": {
             "line": {
              "color": "#E5ECF6",
              "width": 0.5
             }
            },
            "type": "bar"
           }
          ],
          "barpolar": [
           {
            "marker": {
             "line": {
              "color": "#E5ECF6",
              "width": 0.5
             }
            },
            "type": "barpolar"
           }
          ],
          "carpet": [
           {
            "aaxis": {
             "endlinecolor": "#2a3f5f",
             "gridcolor": "white",
             "linecolor": "white",
             "minorgridcolor": "white",
             "startlinecolor": "#2a3f5f"
            },
            "baxis": {
             "endlinecolor": "#2a3f5f",
             "gridcolor": "white",
             "linecolor": "white",
             "minorgridcolor": "white",
             "startlinecolor": "#2a3f5f"
            },
            "type": "carpet"
           }
          ],
          "choropleth": [
           {
            "colorbar": {
             "outlinewidth": 0,
             "ticks": ""
            },
            "type": "choropleth"
           }
          ],
          "contour": [
           {
            "colorbar": {
             "outlinewidth": 0,
             "ticks": ""
            },
            "colorscale": [
             [
              0,
              "#0d0887"
             ],
             [
              0.1111111111111111,
              "#46039f"
             ],
             [
              0.2222222222222222,
              "#7201a8"
             ],
             [
              0.3333333333333333,
              "#9c179e"
             ],
             [
              0.4444444444444444,
              "#bd3786"
             ],
             [
              0.5555555555555556,
              "#d8576b"
             ],
             [
              0.6666666666666666,
              "#ed7953"
             ],
             [
              0.7777777777777778,
              "#fb9f3a"
             ],
             [
              0.8888888888888888,
              "#fdca26"
             ],
             [
              1,
              "#f0f921"
             ]
            ],
            "type": "contour"
           }
          ],
          "contourcarpet": [
           {
            "colorbar": {
             "outlinewidth": 0,
             "ticks": ""
            },
            "type": "contourcarpet"
           }
          ],
          "heatmap": [
           {
            "colorbar": {
             "outlinewidth": 0,
             "ticks": ""
            },
            "colorscale": [
             [
              0,
              "#0d0887"
             ],
             [
              0.1111111111111111,
              "#46039f"
             ],
             [
              0.2222222222222222,
              "#7201a8"
             ],
             [
              0.3333333333333333,
              "#9c179e"
             ],
             [
              0.4444444444444444,
              "#bd3786"
             ],
             [
              0.5555555555555556,
              "#d8576b"
             ],
             [
              0.6666666666666666,
              "#ed7953"
             ],
             [
              0.7777777777777778,
              "#fb9f3a"
             ],
             [
              0.8888888888888888,
              "#fdca26"
             ],
             [
              1,
              "#f0f921"
             ]
            ],
            "type": "heatmap"
           }
          ],
          "heatmapgl": [
           {
            "colorbar": {
             "outlinewidth": 0,
             "ticks": ""
            },
            "colorscale": [
             [
              0,
              "#0d0887"
             ],
             [
              0.1111111111111111,
              "#46039f"
             ],
             [
              0.2222222222222222,
              "#7201a8"
             ],
             [
              0.3333333333333333,
              "#9c179e"
             ],
             [
              0.4444444444444444,
              "#bd3786"
             ],
             [
              0.5555555555555556,
              "#d8576b"
             ],
             [
              0.6666666666666666,
              "#ed7953"
             ],
             [
              0.7777777777777778,
              "#fb9f3a"
             ],
             [
              0.8888888888888888,
              "#fdca26"
             ],
             [
              1,
              "#f0f921"
             ]
            ],
            "type": "heatmapgl"
           }
          ],
          "histogram": [
           {
            "marker": {
             "colorbar": {
              "outlinewidth": 0,
              "ticks": ""
             }
            },
            "type": "histogram"
           }
          ],
          "histogram2d": [
           {
            "colorbar": {
             "outlinewidth": 0,
             "ticks": ""
            },
            "colorscale": [
             [
              0,
              "#0d0887"
             ],
             [
              0.1111111111111111,
              "#46039f"
             ],
             [
              0.2222222222222222,
              "#7201a8"
             ],
             [
              0.3333333333333333,
              "#9c179e"
             ],
             [
              0.4444444444444444,
              "#bd3786"
             ],
             [
              0.5555555555555556,
              "#d8576b"
             ],
             [
              0.6666666666666666,
              "#ed7953"
             ],
             [
              0.7777777777777778,
              "#fb9f3a"
             ],
             [
              0.8888888888888888,
              "#fdca26"
             ],
             [
              1,
              "#f0f921"
             ]
            ],
            "type": "histogram2d"
           }
          ],
          "histogram2dcontour": [
           {
            "colorbar": {
             "outlinewidth": 0,
             "ticks": ""
            },
            "colorscale": [
             [
              0,
              "#0d0887"
             ],
             [
              0.1111111111111111,
              "#46039f"
             ],
             [
              0.2222222222222222,
              "#7201a8"
             ],
             [
              0.3333333333333333,
              "#9c179e"
             ],
             [
              0.4444444444444444,
              "#bd3786"
             ],
             [
              0.5555555555555556,
              "#d8576b"
             ],
             [
              0.6666666666666666,
              "#ed7953"
             ],
             [
              0.7777777777777778,
              "#fb9f3a"
             ],
             [
              0.8888888888888888,
              "#fdca26"
             ],
             [
              1,
              "#f0f921"
             ]
            ],
            "type": "histogram2dcontour"
           }
          ],
          "mesh3d": [
           {
            "colorbar": {
             "outlinewidth": 0,
             "ticks": ""
            },
            "type": "mesh3d"
           }
          ],
          "parcoords": [
           {
            "line": {
             "colorbar": {
              "outlinewidth": 0,
              "ticks": ""
             }
            },
            "type": "parcoords"
           }
          ],
          "pie": [
           {
            "automargin": true,
            "type": "pie"
           }
          ],
          "scatter": [
           {
            "marker": {
             "colorbar": {
              "outlinewidth": 0,
              "ticks": ""
             }
            },
            "type": "scatter"
           }
          ],
          "scatter3d": [
           {
            "line": {
             "colorbar": {
              "outlinewidth": 0,
              "ticks": ""
             }
            },
            "marker": {
             "colorbar": {
              "outlinewidth": 0,
              "ticks": ""
             }
            },
            "type": "scatter3d"
           }
          ],
          "scattercarpet": [
           {
            "marker": {
             "colorbar": {
              "outlinewidth": 0,
              "ticks": ""
             }
            },
            "type": "scattercarpet"
           }
          ],
          "scattergeo": [
           {
            "marker": {
             "colorbar": {
              "outlinewidth": 0,
              "ticks": ""
             }
            },
            "type": "scattergeo"
           }
          ],
          "scattergl": [
           {
            "marker": {
             "colorbar": {
              "outlinewidth": 0,
              "ticks": ""
             }
            },
            "type": "scattergl"
           }
          ],
          "scattermapbox": [
           {
            "marker": {
             "colorbar": {
              "outlinewidth": 0,
              "ticks": ""
             }
            },
            "type": "scattermapbox"
           }
          ],
          "scatterpolar": [
           {
            "marker": {
             "colorbar": {
              "outlinewidth": 0,
              "ticks": ""
             }
            },
            "type": "scatterpolar"
           }
          ],
          "scatterpolargl": [
           {
            "marker": {
             "colorbar": {
              "outlinewidth": 0,
              "ticks": ""
             }
            },
            "type": "scatterpolargl"
           }
          ],
          "scatterternary": [
           {
            "marker": {
             "colorbar": {
              "outlinewidth": 0,
              "ticks": ""
             }
            },
            "type": "scatterternary"
           }
          ],
          "surface": [
           {
            "colorbar": {
             "outlinewidth": 0,
             "ticks": ""
            },
            "colorscale": [
             [
              0,
              "#0d0887"
             ],
             [
              0.1111111111111111,
              "#46039f"
             ],
             [
              0.2222222222222222,
              "#7201a8"
             ],
             [
              0.3333333333333333,
              "#9c179e"
             ],
             [
              0.4444444444444444,
              "#bd3786"
             ],
             [
              0.5555555555555556,
              "#d8576b"
             ],
             [
              0.6666666666666666,
              "#ed7953"
             ],
             [
              0.7777777777777778,
              "#fb9f3a"
             ],
             [
              0.8888888888888888,
              "#fdca26"
             ],
             [
              1,
              "#f0f921"
             ]
            ],
            "type": "surface"
           }
          ],
          "table": [
           {
            "cells": {
             "fill": {
              "color": "#EBF0F8"
             },
             "line": {
              "color": "white"
             }
            },
            "header": {
             "fill": {
              "color": "#C8D4E3"
             },
             "line": {
              "color": "white"
             }
            },
            "type": "table"
           }
          ]
         },
         "layout": {
          "annotationdefaults": {
           "arrowcolor": "#2a3f5f",
           "arrowhead": 0,
           "arrowwidth": 1
          },
          "autotypenumbers": "strict",
          "coloraxis": {
           "colorbar": {
            "outlinewidth": 0,
            "ticks": ""
           }
          },
          "colorscale": {
           "diverging": [
            [
             0,
             "#8e0152"
            ],
            [
             0.1,
             "#c51b7d"
            ],
            [
             0.2,
             "#de77ae"
            ],
            [
             0.3,
             "#f1b6da"
            ],
            [
             0.4,
             "#fde0ef"
            ],
            [
             0.5,
             "#f7f7f7"
            ],
            [
             0.6,
             "#e6f5d0"
            ],
            [
             0.7,
             "#b8e186"
            ],
            [
             0.8,
             "#7fbc41"
            ],
            [
             0.9,
             "#4d9221"
            ],
            [
             1,
             "#276419"
            ]
           ],
           "sequential": [
            [
             0,
             "#0d0887"
            ],
            [
             0.1111111111111111,
             "#46039f"
            ],
            [
             0.2222222222222222,
             "#7201a8"
            ],
            [
             0.3333333333333333,
             "#9c179e"
            ],
            [
             0.4444444444444444,
             "#bd3786"
            ],
            [
             0.5555555555555556,
             "#d8576b"
            ],
            [
             0.6666666666666666,
             "#ed7953"
            ],
            [
             0.7777777777777778,
             "#fb9f3a"
            ],
            [
             0.8888888888888888,
             "#fdca26"
            ],
            [
             1,
             "#f0f921"
            ]
           ],
           "sequentialminus": [
            [
             0,
             "#0d0887"
            ],
            [
             0.1111111111111111,
             "#46039f"
            ],
            [
             0.2222222222222222,
             "#7201a8"
            ],
            [
             0.3333333333333333,
             "#9c179e"
            ],
            [
             0.4444444444444444,
             "#bd3786"
            ],
            [
             0.5555555555555556,
             "#d8576b"
            ],
            [
             0.6666666666666666,
             "#ed7953"
            ],
            [
             0.7777777777777778,
             "#fb9f3a"
            ],
            [
             0.8888888888888888,
             "#fdca26"
            ],
            [
             1,
             "#f0f921"
            ]
           ]
          },
          "colorway": [
           "#636efa",
           "#EF553B",
           "#00cc96",
           "#ab63fa",
           "#FFA15A",
           "#19d3f3",
           "#FF6692",
           "#B6E880",
           "#FF97FF",
           "#FECB52"
          ],
          "font": {
           "color": "#2a3f5f"
          },
          "geo": {
           "bgcolor": "white",
           "lakecolor": "white",
           "landcolor": "#E5ECF6",
           "showlakes": true,
           "showland": true,
           "subunitcolor": "white"
          },
          "hoverlabel": {
           "align": "left"
          },
          "hovermode": "closest",
          "mapbox": {
           "style": "light"
          },
          "paper_bgcolor": "white",
          "plot_bgcolor": "#E5ECF6",
          "polar": {
           "angularaxis": {
            "gridcolor": "white",
            "linecolor": "white",
            "ticks": ""
           },
           "bgcolor": "#E5ECF6",
           "radialaxis": {
            "gridcolor": "white",
            "linecolor": "white",
            "ticks": ""
           }
          },
          "scene": {
           "xaxis": {
            "backgroundcolor": "#E5ECF6",
            "gridcolor": "white",
            "gridwidth": 2,
            "linecolor": "white",
            "showbackground": true,
            "ticks": "",
            "zerolinecolor": "white"
           },
           "yaxis": {
            "backgroundcolor": "#E5ECF6",
            "gridcolor": "white",
            "gridwidth": 2,
            "linecolor": "white",
            "showbackground": true,
            "ticks": "",
            "zerolinecolor": "white"
           },
           "zaxis": {
            "backgroundcolor": "#E5ECF6",
            "gridcolor": "white",
            "gridwidth": 2,
            "linecolor": "white",
            "showbackground": true,
            "ticks": "",
            "zerolinecolor": "white"
           }
          },
          "shapedefaults": {
           "line": {
            "color": "#2a3f5f"
           }
          },
          "ternary": {
           "aaxis": {
            "gridcolor": "white",
            "linecolor": "white",
            "ticks": ""
           },
           "baxis": {
            "gridcolor": "white",
            "linecolor": "white",
            "ticks": ""
           },
           "bgcolor": "#E5ECF6",
           "caxis": {
            "gridcolor": "white",
            "linecolor": "white",
            "ticks": ""
           }
          },
          "title": {
           "x": 0.05
          },
          "xaxis": {
           "automargin": true,
           "gridcolor": "white",
           "linecolor": "white",
           "ticks": "",
           "title": {
            "standoff": 15
           },
           "zerolinecolor": "white",
           "zerolinewidth": 2
          },
          "yaxis": {
           "automargin": true,
           "gridcolor": "white",
           "linecolor": "white",
           "ticks": "",
           "title": {
            "standoff": 15
           },
           "zerolinecolor": "white",
           "zerolinewidth": 2
          }
         }
        },
        "width": 800
       }
      },
      "text/html": [
       "<div>                            <div id=\"6f2acc76-23e9-4ec3-97e0-98b0d7e916a0\" class=\"plotly-graph-div\" style=\"height:525px; width:800px;\"></div>            <script type=\"text/javascript\">                require([\"plotly\"], function(Plotly) {                    window.PLOTLYENV=window.PLOTLYENV || {};                                    if (document.getElementById(\"6f2acc76-23e9-4ec3-97e0-98b0d7e916a0\")) {                    Plotly.newPlot(                        \"6f2acc76-23e9-4ec3-97e0-98b0d7e916a0\",                        [{\"customdata\": [[\"Scrypt\"], [\"Scrypt\"], [\"X13\"], [\"X11\"], [\"SHA-512\"], [\"SHA-256\"], [\"X11\"], [\"SHA-256\"], [\"X15\"], [\"X13\"], [\"X13\"], [\"Scrypt\"], [\"Scrypt\"], [\"Scrypt\"], [\"Scrypt\"], [\"Scrypt\"], [\"Multiple\"], [\"Scrypt\"], [\"Scrypt\"], [\"Groestl\"], [\"X11\"], [\"X11\"], [\"NIST5\"], [\"X11\"], [\"Scrypt\"], [\"X11\"], [\"X11\"], [\"X13\"], [\"X11\"], [\"SHA3\"], [\"SHA-256\"], [\"Scrypt\"], [\"NeoScrypt\"], [\"Scrypt\"], [\"Scrypt\"], [\"X15\"], [\"Scrypt\"], [\"X11\"], [\"Multiple\"], [\"PHI1612\"], [\"X11\"], [\"Scrypt\"], [\"Scrypt\"], [\"Scrypt\"], [\"X11\"], [\"Scrypt\"], [\"Scrypt\"], [\"Counterparty\"], [\"SHA-256\"], [\"Scrypt\"], [\"X13\"], [\"Scrypt\"], [\"SHA-256\"], [\"X13\"], [\"X13\"], [\"X11\"], [\"X11\"], [\"Scrypt\"], [\"SHA3\"], [\"QUAIT\"], [\"Scrypt\"], [\"X11\"], [\"X13\"], [\"SHA-256\"], [\"X13\"], [\"X15\"], [\"BLAKE256\"], [\"SHA-256\"], [\"X11\"], [\"SHA-256\"], [\"Quark\"], [\"Blake\"], [\"Scrypt\"], [\"Scrypt\"], [\"Scrypt\"], [\"SHA-256\"], [\"X11\"], [\"Scrypt\"], [\"SHA-256\"], [\"Scrypt\"], [\"PoS\"], [\"X11\"], [\"X11\"], [\"X11\"], [\"PoS\"], [\"SHA-256\"], [\"SHA-256\"], [\"NIST5\"], [\"X15\"], [\"X11\"], [\"NIST5\"], [\"Scrypt\"], [\"Scrypt\"], [\"POS 3.0\"], [\"Scrypt\"], [\"Scrypt\"], [\"Scrypt\"], [\"X13\"], [\"X11\"], [\"X11\"], [\"X11\"], [\"Scrypt\"], [\"SHA-256\"], [\"X11\"], [\"Scrypt\"], [\"X11\"], [\"Scrypt\"], [\"SHA-256D\"], [\"PoS\"], [\"X11\"], [\"PoS\"], [\"X13\"], [\"X14\"], [\"PoS\"], [\"SHA-256D\"], [\"DPoS\"], [\"X11\"], [\"Scrypt\"], [\"X13\"], [\"X11\"], [\"PoS\"], [\"SHA-256D\"], [\"Scrypt\"], [\"Scrypt\"], [\"Scrypt\"], [\"PoS\"], [\"X11\"], [\"SHA-256\"], [\"Scrypt\"], [\"X11\"], [\"Scrypt\"], [\"Scrypt\"], [\"X11\"], [\"Scrypt\"], [\"Scrypt\"], [\"Scrypt\"], [\"Scrypt\"], [\"Quark\"], [\"QuBit\"], [\"X11\"], [\"X13\"], [\"PoS\"], [\"Scrypt\"], [\"SHA-256\"], [\"X11\"], [\"X11\"], [\"Scrypt\"], [\"Scrypt\"], [\"Scrypt\"], [\"Scrypt\"], [\"X13\"], [\"Scrypt\"], [\"Scrypt\"], [\"X11\"], [\"Blake2S\"], [\"X11\"], [\"Scrypt\"], [\"PoS\"], [\"X11\"], [\"PoS\"], [\"X11\"], [\"Scrypt\"], [\"Scrypt\"], [\"Scrypt\"], [\"SHA-256\"], [\"X11\"], [\"Scrypt\"], [\"PoS\"], [\"Scrypt\"], [\"X11\"], [\"X15\"], [\"SHA-256\"], [\"POS 3.0\"], [\"536\"], [\"NIST5\"], [\"NIST5\"], [\"Skein\"], [\"X13\"], [\"X11\"], [\"Scrypt\"], [\"X13\"], [\"SkunkHash v2 Raptor\"], [\"Skein\"], [\"X11\"], [\"Scrypt\"], [\"PoS\"], [\"Scrypt\"], [\"Scrypt\"], [\"SHA-512\"], [\"Ouroboros\"], [\"X11\"], [\"NeoScrypt\"], [\"Scrypt\"], [\"Lyra2REv2\"], [\"Scrypt\"], [\"SHA-256\"], [\"NIST5\"], [\"PHI1612\"], [\"Scrypt\"], [\"Quark\"], [\"POS 2.0\"], [\"Scrypt\"], [\"SkunkHash\"], [\"X11\"], [\"Quark\"], [\"SHA-256\"], [\"Quark\"], [\"X11\"], [\"DPoS\"], [\"NIST5\"], [\"X13\"], [\"Scrypt\"], [\"NIST5\"], [\"Quark\"], [\"Scrypt\"], [\"Scrypt\"], [\"X11\"], [\"SHA-256\"], [\"Scrypt\"], [\"Quark\"], [\"Scrypt\"], [\"Scrypt\"], [\"X11\"], [\"Scrypt\"], [\"Scrypt\"], [\"POS 3.0\"], [\"Scrypt\"], [\"Scrypt\"], [\"X13\"], [\"C11\"], [\"X11\"], [\"XEVAN\"], [\"Scrypt\"], [\"VBFT\"], [\"NIST5\"], [\"Scrypt\"], [\"Scrypt\"], [\"Scrypt\"], [\"Equihash\"], [\"Green Protocol\"], [\"PoS\"], [\"Scrypt\"], [\"Scrypt\"], [\"Semux BFT consensus\"], [\"Scrypt\"], [\"Quark\"], [\"PoS\"], [\"X16R\"], [\"Scrypt\"], [\"XEVAN\"], [\"Scrypt\"], [\"Scrypt\"], [\"Scrypt\"], [\"SHA-256D\"], [\"Scrypt\"], [\"X15\"], [\"Scrypt\"], [\"Quark\"], [\"SHA-256\"], [\"DPoS\"], [\"X16R\"], [\"Quark\"], [\"Quark\"], [\"Scrypt\"], [\"Zhash\"], [\"Lyra2REv2\"], [\"Quark\"], [\"Scrypt\"], [\"Scrypt\"], [\"X11\"], [\"X11\"], [\"Scrypt\"], [\"PoS\"], [\"Scrypt\"], [\"Scrypt\"], [\"Keccak\"], [\"X11\"], [\"Quark\"], [\"Scrypt\"], [\"SHA-512\"], [\"NeoScrypt\"], [\"XEVAN\"], [\"XEVAN\"], [\"Quark\"], [\"Quark\"], [\"Equihash\"], [\"Scrypt\"], [\"Quark\"], [\"Quark\"], [\"Scrypt\"], [\"X11\"], [\"Scrypt\"], [\"XEVAN\"], [\"SHA-256D\"], [\"X11\"], [\"X11\"], [\"DPoS\"], [\"X11\"], [\"Scrypt\"], [\"Scrypt\"], [\"Scrypt\"], [\"SHA-256\"], [\"X11\"], [\"Scrypt\"], [\"SHA-256\"], [\"X11\"], [\"Scrypt\"], [\"SHA-256\"], [\"Scrypt\"], [\"X11\"], [\"Scrypt\"], [\"PoS\"], [\"X11\"], [\"SHA-256\"], [\"DPoS\"], [\"Scrypt\"], [\"Scrypt\"], [\"NeoScrypt\"], [\"Scrypt\"], [\"X13\"], [\"SHA-256\"], [\"PoS\"], [\"PoS\"], [\"SHA-256\"], [\"Scrypt\"], [\"Scrypt\"]], \"hovertemplate\": \"<b>%{hovertext}</b><br><br>Class=%{marker.color}<br>PC 1=%{x}<br>PC 2=%{y}<br>PC 3=%{z}<br>Algorithm=%{customdata[0]}<extra></extra>\", \"hovertext\": [\"42 Coin\", \"404Coin\", \"EliteCoin\", \"Dash\", \"Bitshares\", \"BitcoinDark\", \"Bitstake\", \"PayCoin\", \"KoboCoin\", \"Aero Coin\", \"ApexCoin\", \"ArchCoin\", \"Aurora Coin\", \"BitBar\", \"CashCoin\", \"CryptoBullion\", \"CinderCoin\", \"CoolCoin\", \"CasinoCoin\", \"Diamond\", \"DarkCash\", \"Fuel2Coin\", \"FIBRE\", \"GlyphCoin\", \"HoboNickels\", \"IOCoin\", \"JumBucks Coin\", \"JudgeCoin\", \"LibrexCoin\", \"MaxCoin\", \"MazaCoin\", \"Nautilus Coin\", \"Orbitcoin\", \"PotCoin\", \"PhoenixCoin\", \"ShieldCoin\", \"SilkCoin\", \"SyncCoin\", \"TeslaCoin\", \"TittieCoin\", \"TorCoin\", \"UnitaryStatus Dollar\", \"UltraCoin\", \"SocialXbotCoin\", \"X11 Coin\", \"XXXCoin\", \"ZCC Coin\", \"StorjCoin\", \"Neutron\", \"KryptCoin\", \"Kore\", \"Dnotes\", \"MaieutiCoin\", \"Sativa Coin\", \"AeroMe\", \"MasterTraderCoin\", \"Ucoin\", \"Vtorrent\", \"Nexus\", \"Droidz\", \"Diggits\", \"MapCoin\", \"Paycon\", \"Emercoin\", \"BlitzCoin\", \"EverGreenCoin\", \"Decred\", \"EDRCoin\", \"Hitcoin\", \"DubaiCoin\", \"BiosCrypto\", \"TrumpCoin\", \"BillaryCoin\", \"EthereumScrypt\", \"GPU Coin\", \"Universal Currency\", \"EuropeCoin\", \"ZeitCoin\", \"SwingCoin\", \"SafeExchangeCoin\", \"Nebuchadnezzar\", \"GIZMOcoin\", \"SecretCoin\", \"Ratecoin\", \"Digital Bullion Gold\", \"Revenu\", \"Clockcoin\", \"VIP Tokens\", \"OrlyCoin\", \"BitSend\", \"16BitCoin\", \"ChessCoin\", \"ReeCoin\", \"Let it Ride\", \"PutinCoin\", \"iBankCoin\", \"Frankywillcoin\", \"MudraCoin\", \"Lutetium Coin\", \"GoldBlocks\", \"WayCoin\", \"CarterCoin\", \"BitTokens\", \"MustangCoin\", \"ZoneCoin\", \"PROUD Money\", \"Swiscoin\", \"BuzzCoin\", \"Opair\", \"Halloween Coin\", \"CoffeeCoin\", \"RoyalCoin\", \"GanjaCoin V2\", \"TeamUP\", \"LanaCoin\", \"ARK\", \"InsaneCoin\", \"LuckChain\", \"EmberCoin\", \"XenixCoin\", \"FreeCoin\", \"NPCcoin\", \"PLNCoin\", \"Icobid\", \"AquariusCoin\", \"Creatio\", \"Eternity\", \"Eurocoin\", \"BitcoinFast\", \"Stakenet\", \"BitConnect Coin\", \"MoneyCoin\", \"Enigma\", \"Russiacoin\", \"PandaCoin\", \"GameUnits\", \"GAKHcoin\", \"Allsafe\", \"LiteCreed\", \"NeptuneClassic\", \"GoldenBird\", \"Ride My Car\", \"Klingon Empire Darsek\", \"Internet of People\", \"KushCoin\", \"Eryllium\", \"Printerium\", \"Impeach\", \"Zilbercoin\", \"FirstCoin\", \"FindCoin\", \"OpenChat\", \"RenosCoin\", \"VirtacoinPlus\", \"TajCoin\", \"Impact\", \"Universe\", \"Atmos\", \"HappyCoin\", \"MacronCoin\", \"Condensate\", \"Independent Money System\", \"ArgusCoin\", \"LomoCoin\", \"ProCurrency\", \"GoldReserve\", \"GrowthCoin\", \"Phreak\", \"Degas Coin\", \"ZSEcoin\", \"HTML5 Coin\", \"Ultimate Secure Cash\", \"QTUM\", \"Espers\", \"Denarius\", \"Virta Unique Coin\", \"Bitcoin Planet\", \"BritCoin\", \"Octanox\", \"Linda\", \"DeepOnion\", \"Signatum\", \"Cream\", \"Monoeci\", \"Draftcoin\", \"Stakecoin\", \"CoinonatX\", \"Ethereum Dark\", \"Obsidian\", \"Cardano\", \"Regalcoin\", \"TrezarCoin\", \"TerraNovaCoin\", \"Rupee\", \"WomenCoin\", \"Theresa May Coin\", \"NamoCoin\", \"LUXCoin\", \"Xios\", \"Bitcloud 2.0\", \"KekCoin\", \"BlackholeCoin\", \"AltCommunity Coin\", \"Pure\", \"Rupaya\", \"Infinity Economics\", \"Castle\", \"Magnet\", \"Lamden Tau\", \"Electra\", \"Bitcoin Diamond\", \"Cash & Back Coin\", \"Bulwark\", \"Kalkulus\", \"GermanCoin\", \"LiteCoin Ultra\", \"PhantomX\", \"HTML Coin\", \"Fantasy Cash\", \"Digiwage\", \"Trollcoin\", \"Litecoin Plus\", \"Monkey Project\", \"OP Coin\", \"Valorbit\", \"TokenPay\", \"My Big Coin\", \"Unified Society USDEX\", \"Tokyo Coin\", \"Stipend\", \"Pushi\", \"Ellerium\", \"Velox\", \"Ontology\", \"Bitspace\", \"Briacoin\", \"Ignition\", \"MedicCoin\", \"Zelcash\", \"Bitcoin Green\", \"Deviant Coin\", \"Abjcoin\", \"Profit Hunters Coin\", \"Semux\", \"BitBlocks\", \"Carebit\", \"Zealium\", \"Proton\", \"iDealCash\", \"Bitcoin Incognito\", \"HollyWoodCoin\", \"Swisscoin\", \"Xt3ch\", \"TheVig\", \"EmaratCoin\", \"Dekado\", \"Lynx\", \"Poseidon Quark\", \"BitcoinWSpectrum\", \"Muse\", \"Trivechain\", \"Dystem\", \"Giant\", \"Peony Coin\", \"SafeCoin\", \"Absolute Coin\", \"Vitae\", \"TPCash\", \"MUSDcoin\", \"ARENON\", \"EUNO\", \"MMOCoin\", \"Ketan\", \"Safe Trade Coin\", \"Mont Blanc\", \"XDNA\", \"PAXEX\", \"Apollon\", \"ThunderStake\", \"Kcash\", \"Traid\", \"Bettex coin\", \"BitMoney\", \"Zenad\", \"HerbCoin\", \"PirateCash\", \"Oduwa\", \"Galilel\", \"Crypto Sports\", \"Credit\", \"Dash Platinum\", \"Nasdacoin\", \"Beetle Coin\", \"Titan Coin\", \"Award\", \"Insane Coin\", \"ALAX\", \"The Freedom Coin\", \"LiteDoge\", \"OrangeCoin\", \"BitstarCoin\", \"NeosCoin\", \"PinkCoin\", \"AudioCoin\", \"IncaKoin\", \"Piggy Coin\", \"Genstake\", \"ParkByte\", \"XiaoMiCoin\", \"CapriCoin\", \" ClubCoin\", \"Radium\", \"Creditbit \", \"OKCash\", \"Lisk\", \"HiCoin\", \"WhiteCoin\", \"FriendshipCoin\", \"The Hempcoin\", \"Triangles Coin\", \"TigerCash\", \"Particl\", \"Nxt\", \"ZEPHYR\", \"Gapcoin\", \"BitcoinPlus\"], \"legendgroup\": \"0\", \"marker\": {\"color\": [0, 0, 0, 0, 0, 0, 0, 0, 0, 0, 0, 0, 0, 0, 0, 0, 0, 0, 0, 0, 0, 0, 0, 0, 0, 0, 0, 0, 0, 0, 0, 0, 0, 0, 0, 0, 0, 0, 0, 0, 0, 0, 0, 0, 0, 0, 0, 0, 0, 0, 0, 0, 0, 0, 0, 0, 0, 0, 0, 0, 0, 0, 0, 0, 0, 0, 0, 0, 0, 0, 0, 0, 0, 0, 0, 0, 0, 0, 0, 0, 0, 0, 0, 0, 0, 0, 0, 0, 0, 0, 0, 0, 0, 0, 0, 0, 0, 0, 0, 0, 0, 0, 0, 0, 0, 0, 0, 0, 0, 0, 0, 0, 0, 0, 0, 0, 0, 0, 0, 0, 0, 0, 0, 0, 0, 0, 0, 0, 0, 0, 0, 0, 0, 0, 0, 0, 0, 0, 0, 0, 0, 0, 0, 0, 0, 0, 0, 0, 0, 0, 0, 0, 0, 0, 0, 0, 0, 0, 0, 0, 0, 0, 0, 0, 0, 0, 0, 0, 0, 0, 0, 0, 0, 0, 0, 0, 0, 0, 0, 0, 0, 0, 0, 0, 0, 0, 0, 0, 0, 0, 0, 0, 0, 0, 0, 0, 0, 0, 0, 0, 0, 0, 0, 0, 0, 0, 0, 0, 0, 0, 0, 0, 0, 0, 0, 0, 0, 0, 0, 0, 0, 0, 0, 0, 0, 0, 0, 0, 0, 0, 0, 0, 0, 0, 0, 0, 0, 0, 0, 0, 0, 0, 0, 0, 0, 0, 0, 0, 0, 0, 0, 0, 0, 0, 0, 0, 0, 0, 0, 0, 0, 0, 0, 0, 0, 0, 0, 0, 0, 0, 0, 0, 0, 0, 0, 0, 0, 0, 0, 0, 0, 0, 0, 0, 0, 0, 0, 0, 0, 0, 0, 0, 0, 0, 0, 0, 0, 0, 0, 0, 0, 0, 0, 0, 0, 0, 0, 0, 0, 0, 0, 0, 0, 0, 0, 0, 0, 0, 0, 0, 0, 0, 0, 0, 0, 0], \"coloraxis\": \"coloraxis\", \"symbol\": \"circle\"}, \"mode\": \"markers\", \"name\": \"0\", \"scene\": \"scene\", \"showlegend\": true, \"type\": \"scatter3d\", \"x\": [-0.13716311577166854, -0.12328964285108289, 0.4647836269520087, -0.030314537363996457, 0.17849083829422285, -0.018407700168556192, -0.030433279956465092, 0.04647342332805502, 0.10706450356910073, 0.14456138135678206, 0.0798210256051555, -0.07242276060130805, -0.1369246777213019, -0.13716255649375506, -0.13716311641336432, -0.1371494541151729, -0.16826969681752157, -0.07242276075902358, 0.8192072635178853, -0.10740016608382581, -0.030433279961031273, 0.03430707561083854, 0.02578641094269236, -0.030433279967219454, -0.13598944307970184, -0.030201207394748863, -0.030433279960225438, 0.07982102557572421, -0.03043327995589966, -0.2192285466991701, 0.002793918744936079, -0.07221002744237115, -0.09004706629960872, -0.1342353773375414, -0.1361907067379029, 0.10672867330836013, -0.13716311632576195, -0.03043326447892683, -0.10247408380929454, 0.09907233271187753, -0.030414454127035175, -0.1227141912779926, -0.136502628556113, -0.13716311632764835, -0.03034189107356194, -0.13716311641820622, -0.1352173561119363, 0.15407583690495122, -0.017910277644280173, -0.07242276060243408, 0.0798476167769874, -0.07012653039872283, 0.04631570978689459, 0.07991433412123607, 0.07982102559383569, -0.030433279973086657, 0.034342441163657735, -0.13701053853931106, -0.52401610573238, 0.013562503856321918, -0.07110796991529052, 0.03430707579529512, 0.08012398756969377, -0.017858501613810977, 0.14456138136272093, 0.10690657177752336, 0.06723634128720539, -0.018376397235750387, 0.11414525346967425, -0.018357210179979017, 0.12768081393187017, -0.07650740992040934, -0.13704480175092715, -0.13716311633179906, -0.07189057254537369, -0.018424646362805292, -0.03029644684821707, 0.4136714790127433, -0.01836709657385513, 0.3215259513005563, 0.15838626137589001, -0.030433279954201618, -0.030433279993632153, -0.028664164049462974, 0.15812330321657625, -0.018408927733577996, -0.018205565725422614, 0.02688360903177667, 0.10672867324232829, -0.030112632647518203, 0.025786410913683847, -0.13716311646474275, -0.13716311698419195, 0.09309466064948248, -0.12647265647842476, -0.13710360471400568, -0.13584832566880403, 0.14462712053485166, 0.04294525040331861, -0.030228647671209887, 0.03430707561083854, -0.13659558045201947, -0.0184168173602614, -0.030424633417217215, -0.13712916885834622, -0.030433298820204853, -0.2352378058490354, 0.31413236165914554, 0.15909669281827304, -0.026953314649028975, 0.16007861824927025, 0.1445942527667057, 0.036701253149600564, 0.158357581078588, 0.07095360619001295, 7.614725783318256, -0.030192110384804446, -0.13716311821049454, 1.291963815754012, -0.030382616773638613, 0.1587806985724113, 0.0567254318983022, -0.13693842390055488, -0.137163116701199, -0.13713090958354623, 0.15838626137589001, -0.030353479072597018, -0.018261394289248525, -0.1368969498169022, 0.22502182441421306, -0.13701742805346895, -0.1370196157829118, -0.030422568743731518, -0.13705296508844472, 0.37214929703417293, -0.1371174538859132, -0.1371195206399613, 0.19255945640811478, -0.11592991086230946, -0.030433280425667796, 0.07982102476749643, 0.15812330305621347, -0.13684802275046204, -0.018391433357736135, -0.0303588746830281, -0.030433280142675, -0.13700768536429256, -0.13715906445598067, -0.07238433441332623, -0.2529790312213222, 0.1447523527599463, -0.12401520977316267, -0.0719487737371589, -0.03026021752291138, 0.03548377929335117, -0.02897872195169661, -0.07242276078166297, 0.15958450684432246, -0.030150319771438255, 0.163401154315361, -0.02883363467912241, -0.13709252611125636, -0.13714801831902418, -0.13715654425627574, 0.04763753453948421, -0.030207512271199315, -0.06854235025526484, 0.1582730608364669, -0.13688229344856348, -0.03043328390365029, 0.6413095756261629, 0.046451699712096686, 0.09390207609680319, 0.5598274874405126, 0.02584125587359687, 0.026613967356431203, -0.10140443944837693, 0.0801006564861293, -0.030433279968928067, -0.018241286791093568, 0.08010918852735298, 0.07933214190971685, -0.10087158837178051, -0.030268020459002593, -0.07217737727851692, 0.15817589476240956, -0.13690621170098133, -0.13710789511636218, 0.14277363129110884, 0.6709156044727532, -0.030337794607860083, -0.08768809845475402, -0.13714811807532057, 0.014600490858797397, 0.4999775432572383, -0.017214370665294142, 0.033156642569822765, 0.01311098460570074, -0.1371348524625014, 0.1280846062469669, -0.10292267211450078, -0.13694798310841866, -0.10429659640117087, -0.03043327996096869, 0.19242116958197844, 0.16464686861183295, 4.629495458113312, -0.029931048598371347, 7.617090939920681, 0.3991757809781103, 0.0822341137746714, -0.13570400158396037, 0.09070093934007013, 0.19264410253015987, -0.07258725482270044, -0.13705241907605445, -0.029839333617525363, -0.01842481576234038, -0.13716311633255363, 0.19278010319008934, -0.12939240504674826, -0.1371301875758171, 0.03436502190563764, -0.13716312009711337, -0.311173020312046, 0.09285610570994338, -0.3308427624379947, -0.13407537956221777, 0.14758932903980945, -0.07079474877319815, -0.030404777608959717, 0.037056930827516495, -0.07208656861286458, 0.2670795755795227, 0.02596769229973188, -0.1371519979609926, -0.13714757348733148, -0.06890835614000307, -0.19836990206537286, 0.15351766472511347, 0.15841093443971782, -0.13703320843997455, -0.1371631165125371, 8.233576832644395, -0.13716311726718472, 0.12951809701257772, 0.1582689195206811, -0.042887885260430705, -0.11870139135811301, 0.2570970560618596, -0.07191384703264651, -0.003054469506606671, -0.07232244211179334, 0.057162457512182095, -0.13687913034202648, 0.17186720273492398, 1.550390948897926, 0.19245688170006653, 0.04707580334557171, 3.1764680892951933, -0.10720068003481648, 0.1925142883286423, 0.12775864286971103, -0.07240909213218004, 0.13678551996874994, -0.05028011871105755, 0.19328963986976516, -0.1370920695100648, -0.1371631165125371, 0.034560429448059676, -0.0300287041014968, -0.07100589159264835, 0.15824593512090704, -0.07242276215512158, -0.07242276070242475, -0.17756329561998038, 0.03436630219195389, 0.1276808134983071, -0.12322697108569287, 0.19329337329894675, -0.09008941113587526, 0.10188101418742583, 0.01893753846250487, 0.059865511324401266, 0.12814509525296486, -0.13345236595149504, -0.13696882249713271, 0.1279209606295515, 0.1924466069787311, 0.26813035515314226, 0.03431648518715484, -0.13689297261079397, 0.03966703790988031, 0.06851071023518449, -0.030230536914592834, -0.030120675861304742, 7.626451059011637, 0.03430707575233492, 0.0642481423474582, -0.13711661057686986, -0.13689257806754201, 0.04637345875653724, -0.024696143396226063, -0.12426855464083808, 0.217445215961886, -0.023935050817682737, -0.13637424184593458, -0.01842464601378072, -0.13184720107834644, -0.02778576060686806, -0.13580070568578526, 0.15817354461702152, 0.09900986234248307, -0.017442812100302484, 7.614881060787306, 0.05905952192009404, -0.13384977080615892, -0.09007468005450102, -0.13716311688986096, 0.07982287654926014, 0.059463616337610985, 0.15824535707118192, 0.36440738549740387, 4.50968581131077, -0.13696680476781478, -0.07242107334065044], \"y\": [1.1986741441818132, 1.1971833197610924, 1.907450620875987, 1.3488699977843872, 1.695586363417067, 0.79421447778151, 1.348882757489424, 0.532909563280071, 2.0655876573214664, 1.6875244660603164, 1.948814253644208, 0.9373843568621537, 1.198648522054998, 1.1986740840888452, 1.1986741448721059, 1.1986726761251356, 0.5321505896044357, 0.9373843579741385, -0.1442197850107895, 0.7846109949660687, 1.3488827575216151, 1.0875929712051151, 1.7295831515606204, 1.3488827575652445, 1.1985480239023005, 1.348857819444004, 1.3488827575159352, 1.9488142538517155, 1.3488827574854338, 2.7567119088788137, 0.791936201568865, 0.9373614967381405, 0.6622643681562311, 1.1983595374458973, 1.198569651232593, 2.0656237407789906, 1.1986741442544575, 1.3488827558092062, 0.2707474047928307, 1.8122600033558032, 1.3488807345960532, 1.1971214962229908, 1.1986031701073365, 1.1986741442677593, 1.3488729369742012, 1.1986741449062435, 1.198465067632299, 1.622867207687699, 0.7941610257902392, 0.9373843568700931, 1.9488113962584974, 0.9371376122871389, 0.5329265108769556, 1.9488042268442454, 1.9488142537240178, 1.3488827576066127, 1.087589169805505, 1.1986577486264978, 3.759843547916746, 2.122096165502566, 0.9372430716883218, 1.0875929699045883, 1.9487816981901382, 0.7941554741911151, 1.687524466018445, 2.0656046242948842, 1.073593975033169, 0.7942111139954512, 1.333346821215029, 0.7942090520204101, 1.675726376182232, 0.25455895134297646, 1.1986614308097339, 1.1986741442970232, 0.9373271710751007, 0.7942163012674895, 1.3488680585350674, 0.8851503872865333, 0.7942101147901582, -0.09073987788725796, 1.629665236985656, 1.3488827574734625, 1.348882757751469, 1.3486926507910284, 1.62969349417631, 0.794214612323886, 0.7941927631780515, 1.7294652487745805, 2.065623741244552, 1.3488483028109335, 1.7295831517651474, 1.1986741452343532, 1.1986741488967694, 1.6627618654571708, 1.1975253828792296, 1.1986677497558034, 1.1985328592855142, 1.6875174043132646, 1.0866647277163768, 1.3488607685191292, 1.0875929712051151, 1.1986131585066098, 0.7942154574939394, 1.3488818283620707, 1.198670496550979, 1.3488828904896717, 0.4901163436378062, 2.123047801879606, 1.6295888953452444, 1.3485088230616904, 1.6294833780431406, 1.6875209336681205, 2.052242973618327, 1.6296683226263986, 2.149179416756586, -0.9727652030506145, 1.348856841991983, 1.1986741575429094, 1.8185584498559682, 1.3488773133011054, 1.6296228514989632, 2.150708357420145, 1.1986499994927042, 1.1986741469015065, 1.198670683882881, 1.629665236985656, 1.348874182924442, 0.7941987558521835, 1.1986455426510119, 0.3431772325422907, 1.1986584890725172, 1.198658732320262, 1.3488816065202434, 1.1986623093710163, 0.8896114541256515, 1.198669237565391, 1.198669459530138, 1.4144217283455427, 1.16229658421624, 1.3488827607975709, 1.9488142595501867, 1.6296934953069597, 1.198640291108052, 0.7942127297510035, 1.3488747620686548, 1.3488827588023078, 1.1986574420267804, 1.198673709118245, 0.937380228122841, 0.6168374410304188, 1.6875039445372306, 1.1972612946847425, 0.9373334228801634, 1.3488641616430133, 2.039814651231108, 1.348726453369347, 0.9373843581337596, 1.6295364757476827, 1.3488523521257807, 1.6291263459095386, 1.3487108675252597, 1.1986665589558778, 1.1986725221972565, 1.1986734511114807, 0.5327854511598134, 1.348858497196352, 0.9369673973089204, 1.629677401548611, 1.198643968633488, 1.3488827853193541, 2.008179318716062, 0.532911900138204, 1.6626751021632895, 1.9234247187956146, 1.7295772580946422, 1.7294942246285467, 1.4733112799695987, 1.9487842050661988, 1.3488827575772913, 1.185895562344456, 1.9487832880750127, 1.8200783362825073, 1.473254020254212, 1.3488649989544041, 0.9373579881958569, 1.6296878433447386, 1.198646538124843, 1.198668210273019, 1.6994244575934108, 1.6909849849171599, 1.3488724970531727, 0.6620108807040711, 1.198672532748442, 0.4393060736342129, 1.13020788802837, 0.7940862446479118, 1.7287911685612318, 2.0758301510778083, 1.1986711073061604, 1.675682987364954, 1.9138017445413416, 1.1986510264057815, 0.7828016089519995, 1.3488827575211741, 1.4144365893141022, 0.5202108648833377, 0.11776930338961919, 1.3488287900117093, -0.973019355819398, 1.6894594460725423, 1.9485549479507887, 1.198517351785195, 1.4682746478767843, 1.4144126324120436, 1.1917355330203234, 1.1986622507755915, 1.3488189331679599, 0.7942174956319717, 1.1986741443023439, 1.4143980192087684, 1.1978391221237532, 1.198670605798793, 1.0875867433116189, 1.1986741708446635, 2.4255443885933095, 1.6627875002531087, 0.656858997469103, 1.1983423417608599, 1.687199095811199, 1.083247120473231, 1.3488796949622834, 1.491193047998872, 0.9373482313715399, 1.4834905023206144, 1.72956367186971, 1.198672949510803, 1.1986724740868915, 0.9370067083359042, 0.41171598457320646, 1.5196052555759534, 1.6296625865303103, 1.1986601848453875, 1.1986741455713312, -1.1251905756899276, 1.1986741508920324, 1.675528945688294, 1.6296778472257716, 0.755352459904716, 1.1966903303517005, 0.7673188762508848, 0.937329669576356, 1.1842630787657404, 0.9373735770856106, 2.1506613046427887, 1.1986436284537185, 1.8042911669494148, 0.3011232333010726, 1.4144327592527455, 0.5328448331944843, 0.3240292488755036, 1.0165963026610658, 1.4144265821468538, 1.6757180125549473, 0.9373831089568772, 1.8721329509088205, 0.7006109331584097, 1.41434326457631, 1.1986665227110707, 1.1986741455713312, 1.087565745431647, 1.3488392827562243, 0.9372321045359863, 1.6296803188123454, 0.9373843678174364, 0.9373843575750858, 0.8015777508370823, 1.0875866067679827, 1.675726379239102, 1.1971768139211174, 1.954951665691646, 0.6622689217472469, 1.2298942629745915, 1.1000621258441032, 1.430453190951455, 1.6756764853562796, 0.15040715595248208, 1.1986532658698192, 1.6757005702108783, 1.4144338550261757, 1.1551226384766722, 1.0875919590083387, 1.1986451159319365, 1.4909125739150115, 2.149441895414867, 1.3488609763822248, 1.3488491656999306, -0.9740251795640861, 1.0875929702074836, 1.1770311232173196, 1.1986691493936474, 1.1986450731450446, 0.5329203054977257, 1.34826625629394, 1.1972886433455798, 0.7688699297991703, 1.3481844764938589, 1.198589372669192, 0.7942162988066654, 1.198102905830614, 1.348598260059715, 1.1985277428693064, 1.6296880952003194, 0.6151089430372622, 0.7941107928322451, -0.9727818885756123, 0.923255515501325, 1.1983180989299826, 0.6622673362451862, 1.198674148231682, 1.9488140546663337, 0.5315136613205154, 1.6296803782913731, 1.6293816871910152, -0.7665664738212038, 1.1986530520460488, 0.9373841753488182], \"z\": [-0.5330956229611403, -0.5336063845059631, -0.6191721147201195, -0.5452926906633117, -0.1256730054141321, -0.35239759272986565, -0.5452883189612011, -0.05672751105314296, -0.6547221647091422, -0.3093221256476477, -0.604997389677351, -0.2374203590159995, -0.5331044012760912, -0.5330956435546459, -0.5330956232638034, -0.5330961259278005, -0.22888823479333142, -0.23742035958522534, -0.23587692087005513, -0.27341112163069814, -0.5452883189776792, -0.24961305559675478, -0.5849053833093749, -0.5452883190000132, -0.5331388330526218, -0.5452968629549774, -0.5452883189747719, -0.6049973897835741, -0.5452883189591582, -0.5512732036887609, -0.3531781559580537, -0.23742819087740402, -0.30970800653101305, -0.5332034118025561, -0.5331314232929658, -0.654709798572698, -0.5330956229476288, -0.5452883195220777, 0.06674817958880742, -0.28063456682205773, -0.5452890121020699, -0.5336275773500453, -0.5331199397705396, -0.5330956229544381, -0.5452916835112059, -0.5330956232812784, -0.5331672638203285, -0.1316198583284295, -0.3524159058709156, -0.2374203590200636, -0.6049983686840752, -0.23750489904712582, -0.05672170467517746, -0.6050008248981035, -0.6049973897182058, -0.5452883190211896, -0.2496143570445341, -0.5331012402952957, -0.2797617084013729, -0.7311614971491639, -0.23746876417684487, -0.2496130549310136, -0.6050085436553194, -0.352417818438682, -0.3093221256262136, -0.6547163481555347, -0.4630651349864901, -0.35239874516082925, -0.5506112226050419, -0.35239945146145324, -0.5004094555516609, 0.08827057906319752, -0.5330999790317217, -0.5330956229694181, -0.23743995315637412, -0.3523969701416037, -0.5452933591635133, -0.2553168088381253, -0.35239908769252126, -0.21755430847413532, -0.13743337848255557, -0.5452883189530298, -0.5452883190953416, -0.5453534502328053, -0.13742369753018632, -0.3523975489172444, -0.35240503785646815, -0.5849457777447296, -0.6547097988110195, -0.5453001246772746, -0.5849053834140727, -0.533095623449238, -0.5330956253240319, -0.04779675427955282, -0.5334892105851538, -0.5330978141913407, -0.5331440282133569, -0.3093245471914005, -0.24993107755640692, -0.5452958529219736, -0.24961305559675478, -0.533116517637641, -0.35239725706964475, -0.5452886372989638, -0.5330968728758465, -0.5452883870441351, -0.22569000432751365, -0.7429655644099611, -0.13745953369376684, -0.5454164456929563, -0.13749568346786914, -0.3093233357918193, -0.7169447583121561, -0.13743232453794613, -0.7340127477696243, -0.33546740199972724, -0.5452971979203484, -0.5330956297499981, -0.6496229547658365, -0.5452901841656773, -0.1374479000643166, -0.7334889279197891, -0.5331038953543346, -0.5330956243026553, -0.5330968089347493, -0.13743337848255557, -0.5452912572689124, -0.35240297903011647, -0.533105422202493, -0.28808591257072635, -0.5331009867098915, -0.5331009104507392, -0.5452887133245654, -0.5330996791965534, -0.2537876944848519, -0.5330973041125768, -0.5330972279575219, -0.20473928256474766, -0.510219278679318, -0.5452883206546437, -0.6049973927006264, -0.13742369810896604, -0.5331072266858555, -0.35239819159263874, -0.5452910582788134, -0.5452883196332666, -0.5331013453361637, -0.5330957722629538, -0.2374217739581662, -0.2993368290298866, -0.3093291563939296, -0.5335796756661931, -0.23743780917067867, -0.5452946910082076, -0.8160282794995911, -0.5453418698888046, -0.23742035966693556, -0.13747749302702175, -0.545298736941297, -0.13761800654154693, -0.5453472140219484, -0.533098221895834, -0.5330961789771046, -0.5330958717729565, -0.056770884120820826, -0.5452966309620486, -0.23756323163988144, -0.1374292110246909, -0.5331059622782726, -0.5452883332073647, -0.6743912439794503, -0.0567267125791813, -0.04782648008469111, -0.7341120368294582, -0.5849074025136398, -0.5849358509765882, -0.5623277221778172, -0.605007684573849, -0.5452883190061796, -0.5374741252850926, -0.6050079986082593, -0.08465555879787821, -0.562347339319874, -0.5452944031172855, -0.2374293929156918, -0.13742563403115843, -0.5331050813271515, -0.5330976559622662, -0.1243580369049318, -0.12761496040014433, -0.545291834472247, -0.3097948556745167, -0.5330961752160287, -0.0562260656397444, -0.5565524029125989, -0.35244152620641617, -0.5851767298135503, -0.5755285554701908, -0.5330966636315098, -0.5004243225766299, -0.1747847125787393, -0.5331035432645972, -0.40086762389772995, -0.5452883189774532, -0.20473419188835604, -0.0610781791986849, -0.3339797033078449, -0.5453068098067047, -0.33555447883897616, -0.5986520802620707, -0.6050862299616544, -0.5331493423233973, -0.28923653170017627, -0.20474239888260842, -0.5354733550475497, -0.533099699339507, -0.545310185686664, -0.35239758153775447, -0.5330956229721416, -0.20474740649338719, -0.5333817112166279, -0.5330968352543869, -0.24961518837116176, -0.5330956365591769, -1.1611314999827171, -0.04778797171816203, -0.173582580693212, -0.5332093008964343, -0.3094336063014774, -0.5247684246220669, -0.5452893684504332, -0.4003840590887354, -0.23743273680908056, -0.06789942245240202, -0.5849120576003104, -0.533096032288777, -0.5330961951914394, -0.23754974665752412, -0.17702900237171423, -0.1369315981852282, -0.1374342872997822, -0.5331004057619181, -0.5330956236217372, -0.431532818817134, -0.5330956263454089, -0.5004770971570358, -0.13742905890429719, -0.04182093732499856, -0.5337753345349302, 0.0476030763004032, -0.23743909495439733, -0.5380329607396288, -0.23742405247425968, -0.7335049697435495, -0.5331060785849516, -0.35904919408378044, -0.26920369846666625, -0.20473551060059206, -0.05674968853681257, -0.20617832208956846, -0.33751194246151583, -0.20473761972370474, -0.5004123207541028, -0.23742097822511524, -0.7242908114333475, -0.35189616636759635, -0.20476616516829937, -0.5330982454385282, -0.5330956236217372, -0.249622382617935, -0.5453032139306734, -0.237472523334873, -0.13742821361793545, -0.23742036462401764, -0.23742035938095032, -0.35500006225776487, -0.24961523604886662, -0.500409457116475, -0.5336088119500235, -0.08750558464010172, -0.3097064492950981, -0.10471187745135509, 0.02099008040109614, -0.2241508532016085, -0.5004265485011774, 0.11863973941571843, -0.5331027760962477, -0.500418296647904, -0.20473512795315216, -0.5480171913067021, -0.24961340146200822, -0.5331055689758607, -0.40048015433259226, -0.733922794264238, -0.5452957859137595, -0.5452998278131211, -0.3358990790970696, -0.2496130550860661, -0.5405109059942863, -0.5330973364456676, -0.5331055832965433, -0.0567238308728235, -0.5454995375468897, -0.5335704140127273, -0.36108062065127156, -0.545527560937536, -0.5331246657979288, -0.3523969688819056, -0.533291333403329, -0.5453857899490167, -0.5331457817762754, -0.13742554714772615, -0.3601187841978333, -0.3524331160709158, -0.33547311884687064, -0.24226100465344744, -0.5332176072477792, -0.3097069903066667, -0.5330956249835731, -0.6049974577802094, -0.05720575740053737, -0.13742819095166292, -0.1512636113581438, -0.18693532171335567, -0.5331028519550299, -0.237420421027275]}, {\"customdata\": [[\"SHA-256\"], [\"Scrypt\"], [\"Ethash\"], [\"Equihash\"], [\"Multiple\"], [\"Scrypt\"], [\"X11\"], [\"SHA-256\"], [\"Scrypt\"], [\"SHA-256\"], [\"Multiple\"], [\"Scrypt\"], [\"SHA-256\"], [\"Scrypt\"], [\"Scrypt\"], [\"Quark\"], [\"Groestl\"], [\"Scrypt\"], [\"X11\"], [\"Scrypt\"], [\"Scrypt\"], [\"Scrypt\"], [\"X11\"], [\"Multiple\"], [\"Scrypt\"], [\"SHA-256\"], [\"Scrypt\"], [\"Scrypt\"], [\"Scrypt\"], [\"Scrypt\"], [\"Scrypt\"], [\"Scrypt\"], [\"SHA-256\"], [\"Scrypt\"], [\"NeoScrypt\"], [\"Scrypt\"], [\"Scrypt\"], [\"Scrypt\"], [\"Multiple\"], [\"Scrypt\"], [\"SHA-256\"], [\"Scrypt\"], [\"Scrypt\"], [\"Scrypt\"], [\"Scrypt\"], [\"Scrypt\"], [\"HybridScryptHash256\"], [\"Scrypt\"], [\"SHA-256\"], [\"Scrypt\"], [\"SHA-256\"], [\"Scrypt\"], [\"Scrypt\"], [\"Scrypt\"], [\"Scrypt\"], [\"Scrypt\"], [\"Scrypt-n\"], [\"Scrypt\"], [\"SHA-256\"], [\"SHA-256\"], [\"SHA-256\"], [\"SHA-256\"], [\"SHA-256\"], [\"SHA-256\"], [\"Scrypt\"], [\"Lyra2REv2\"], [\"Scrypt\"], [\"SHA-256\"], [\"CryptoNight\"], [\"CryptoNight\"], [\"Shabal256\"], [\"Scrypt\"], [\"SHA-256\"], [\"Scrypt\"], [\"Scrypt\"], [\"Scrypt\"], [\"Scrypt\"], [\"Scrypt\"], [\"Momentum\"], [\"Stanford Folding\"], [\"Scrypt\"], [\"Scrypt\"], [\"M7 POW\"], [\"Scrypt\"], [\"X11\"], [\"Scrypt\"], [\"SHA-256\"], [\"Scrypt\"], [\"X11\"], [\"X11\"], [\"Lyra2RE\"], [\"SHA-256\"], [\"X11\"], [\"Scrypt\"], [\"Scrypt\"], [\"Ethash\"], [\"X11\"], [\"SHA-256\"], [\"Scrypt\"], [\"Scrypt\"], [\"1GB AES Pattern Search\"], [\"Scrypt\"], [\"CryptoNight\"], [\"SHA-256\"], [\"SHA-256\"], [\"X11\"], [\"Scrypt-n\"], [\"X11\"], [\"Scrypt\"], [\"Dagger\"], [\"Scrypt\"], [\"CryptoNight-Lite\"], [\"X11GOST\"], [\"SHA-256\"], [\"Scrypt\"], [\"X11\"], [\"SHA-256\"], [\"Scrypt\"], [\"X11\"], [\"Equihash\"], [\"CryptoNight\"], [\"SHA-256\"], [\"Multiple\"], [\"Scrypt\"], [\"SHA-256\"], [\"Scrypt\"], [\"Scrypt\"], [\"Scrypt-n\"], [\"Lyra2Z\"], [\"SHA-256\"], [\"Quark\"], [\"Ethash\"], [\"SHA-256\"], [\"Equihash\"], [\"Scrypt\"], [\"Equihash\"], [\"X11\"], [\"X11\"], [\"CryptoNight\"], [\"Scrypt\"], [\"CryptoNight\"], [\"Lyra2RE\"], [\"X11\"], [\"X11\"], [\"Scrypt\"], [\"CryptoNight-V7\"], [\"Keccak\"], [\"Scrypt\"], [\"X11\"], [\"Equihash\"], [\"Scrypt\"], [\"Lyra2RE\"], [\"Ethash\"], [\"X11\"], [\"Dagger-Hashimoto\"], [\"Scrypt\"], [\"NIST5\"], [\"Scrypt\"], [\"Scrypt\"], [\"Scrypt\"], [\"SHA-256\"], [\"Scrypt\"], [\"CryptoNight-V7\"], [\"Blake2b\"], [\"Cloverhash\"], [\"CryptoNight\"], [\"X11\"], [\"Scrypt\"], [\"Scrypt\"], [\"X11\"], [\"X11\"], [\"CryptoNight\"], [\"Time Travel\"], [\"Scrypt\"], [\"Keccak\"], [\"X11\"], [\"SHA-256\"], [\"Scrypt\"], [\"Scrypt\"], [\"Scrypt\"], [\"Scrypt\"], [\"Scrypt\"], [\"Scrypt\"], [\"Scrypt\"], [\"CryptoNight\"], [\"Equihash\"], [\"X11\"], [\"NeoScrypt\"], [\"Equihash\"], [\"Dagger\"], [\"Scrypt\"], [\"X11\"], [\"NeoScrypt\"], [\"Scrypt\"], [\"Ethash\"], [\"Scrypt\"], [\"NeoScrypt\"], [\"Multiple\"], [\"CryptoNight\"], [\"CryptoNight\"], [\"Ethash\"], [\"X11\"], [\"SHA-256\"], [\"CryptoNight-V7\"], [\"Scrypt\"], [\"BLAKE256\"], [\"X11\"], [\"NeoScrypt\"], [\"NeoScrypt\"], [\"Scrypt\"], [\"X11\"], [\"SHA-256\"], [\"C11\"], [\"Ethash\"], [\"CryptoNight\"], [\"SkunkHash\"], [\"CryptoNight\"], [\"Equihash\"], [\"Skein\"], [\"Scrypt\"], [\"Dagger\"], [\"Lyra2REv2\"], [\"Scrypt\"], [\"Scrypt\"], [\"Scrypt\"], [\"NeoScrypt\"], [\"Equihash\"], [\"X11\"], [\"Ethash\"], [\"X11\"], [\"CryptoNight\"], [\"NeoScrypt\"], [\"Scrypt\"], [\"IMesh\"], [\"Equihash\"], [\"Equihash\"], [\"Equihash\"], [\"Lyra2Z\"], [\"X11\"], [\"CryptoNight\"], [\"NIST5\"], [\"Lyra2RE\"], [\"Tribus\"], [\"Lyra2Z\"], [\"CryptoNight\"], [\"CryptoNight Heavy\"], [\"CryptoNight\"], [\"Jump Consistent Hash\"], [\"CryptoNight\"], [\"X16R\"], [\"HMQ1725\"], [\"X11\"], [\"Scrypt\"], [\"CryptoNight-V7\"], [\"Cryptonight-GPU\"], [\"XEVAN\"], [\"CryptoNight Heavy\"], [\"Lyra2REv2\"], [\"SHA-256\"], [\"X11\"], [\"X16R\"], [\"Equihash\"], [\"Quark\"], [\"CryptoNight Heavy X\"], [\"Lyra2Z\"], [\"Ethash\"], [\"SHA-256\"], [\"Ethash\"], [\"CryptoNight\"], [\"SkunkHash\"], [\"Argon2\"], [\"Blake\"], [\"Blake\"], [\"SHA-256\"], [\"Exosis\"], [\"Scrypt\"], [\"Equihash\"], [\"Equihash\"], [\"QuBit\"], [\"Equihash1927\"], [\"SHA-256\"], [\"SHA-256\"], [\"X13\"], [\"SHA-256\"], [\"X11\"], [\"Scrypt\"], [\"NeoScrypt\"], [\"Blake\"], [\"CryptoNight\"], [\"Scrypt\"], [\"SHA-256\"], [\"CryptoNight\"], [\"Scrypt\"], [\"Groestl\"], [\"Scrypt\"], [\"Scrypt\"], [\"Scrypt\"], [\"Multiple\"], [\"Equihash+Scrypt\"], [\"Ethash\"], [\"Ethash\"], [\"CryptoNight\"], [\"Equihash\"]], \"hovertemplate\": \"<b>%{hovertext}</b><br><br>Class=%{marker.color}<br>PC 1=%{x}<br>PC 2=%{y}<br>PC 3=%{z}<br>Algorithm=%{customdata[0]}<extra></extra>\", \"hovertext\": [\"Bitcoin\", \"Litecoin\", \"Ethereum Classic\", \"ZCash\", \"DigiByte\", \"ProsperCoin\", \"Spreadcoin\", \"ACoin\", \"Argentum\", \"BetaCoin\", \"MyriadCoin\", \"MoonCoin\", \"ZetaCoin\", \"SexCoin\", \"Quatloo\", \"QuarkCoin\", \"Riecoin\", \"Digitalcoin \", \"LimeCoinX\", \"BitMark\", \"Catcoin\", \"CannaCoin\", \"CryptCoin\", \"Verge\", \"DarkShibe\", \"DevCoin\", \"EarthCoin\", \"E-Gulden\", \"Elacoin\", \"Einsteinium\", \"Emerald\", \"Flappy Coin\", \"FireRoosterCoin\", \"Franko\", \"FeatherCoin\", \"GrandCoin\", \"GlobalCoin\", \"GoldCoin\", \"HunterCoin\", \"Infinite Coin\", \"IXcoin\", \"KrugerCoin\", \"LuckyCoin\", \"Litebar \", \"LitecoinDark\", \"MegaCoin\", \"MediterraneanCoin\", \"MinCoin\", \"NoirBits\", \"NobleCoin\", \"Namecoin\", \"NyanCoin\", \"RipOffCoin\", \"RonPaulCoin\", \"StableCoin\", \"SmartCoin\", \"SpainCoin\", \"SecureCoin\", \"SysCoin\", \"TigerCoin\", \"TerraCoin\", \"Umbrella\", \"UnbreakableCoin\", \"Unobtanium\", \"ViaCoin\", \"Vertcoin\", \"WorldCoin\", \"JouleCoin\", \"ByteCoin\", \"DigitalNote \", \"BurstCoin\", \"MonaCoin\", \"Sling Coin\", \"Gulden\", \"PesetaCoin\", \"Wild Beast Coin\", \"Flo\", \"ArtByte\", \"BitCredit\", \"Folding Coin\", \"OmniCron\", \"GreenCoin\", \"Cryptonite\", \"Gridmaster\", \"ConSpiracy Coin \", \"MasterCoin\", \"SoonCoin\", \"1Credit\", \"Quicksilver coin\", \"MarsCoin \", \"Crypto\", \"Anarchists Prime\", \"BowsCoin\", \"Song Coin\", \"BitZeny\", \"Expanse\", \"MindCoin\", \"I0coin\", \"DogeCoinDark\", \"Revolution VR\", \"HOdlcoin\", \"Gamecredits\", \"Dashcoin\", \"CarpeDiemCoin\", \"Phalanx\", \"SunShotCoin\", \"HempCoin\", \"Adzcoin\", \"VirtaCoin\", \"SoilCoin\", \"YoCoin\", \"AEON\", \"SibCoin\", \"Anti Bitcoin\", \"Francs\", \"BolivarCoin\", \"Clinton\", \"Omni\", \"PizzaCoin\", \"Komodo\", \"Karbo\", \"ZayedCoin\", \"Circuits of Value\", \"DopeCoin\", \"DollarCoin\", \"Shilling\", \"GBR Coin\", \"FujiCoin\", \"ZCoin\", \"LeaCoin\", \"Zurcoin\", \"Elementrem\", \"CashOut\", \"ZClassic\", \"KiloCoin\", \"Hush\", \"ArtexCoin\", \"Kurrent\", \"Cannabis Industry Coin\", \"OsmiumCoin\", \"Bikercoins\", \"HexxCoin\", \"MarxCoin\", \"PacCoin\", \"Solarflarecoin\", \"Citadel\", \"CreativeChain\", \"BeaverCoin\", \"VaultCoin\", \"Zero\", \"Canada eCoin\", \"Zoin\", \"Musicoin\", \"BnrtxCoin\", \"DubaiCoin\", \"EB3coin\", \"Coinonat\", \"Bitcoin Scrypt\", \"BenjiRolls\", \"ParallelCoin\", \"ILCoin\", \"EquiTrader\", \"Quantum Resistant Ledger\", \"Nano\", \"ChanCoin\", \"Dinastycoin\", \"DigitalPrice\", \"Unify\", \"SocialCoin\", \"ArcticCoin\", \"DAS\", \"LeviarCoin\", \"Bitcore\", \"gCn Coin\", \"SmartCash\", \"Onix\", \"Bitcoin Cash\", \"CampusCoin\", \"Sojourn Coin\", \"LiteBitcoin\", \"FrazCoin\", \"Kronecoin\", \"AdCoin\", \"Linx\", \"Sumokoin\", \"BitcoinZ\", \"Elements\", \"VIVO Coin\", \"Bitcoin Gold\", \"Pirl\", \"eBoost\", \"Pura\", \"Innova\", \"Bitdeal\", \"Ellaism\", \"Sakuracoin\", \"GoByte\", \"SHIELD\", \"UltraNote\", \"BitCoal\", \"DaxxCoin\", \"AC3\", \"CHIPS\", \"Lethean\", \"PopularCoin\", \"Photon\", \"Sucre\", \"SparksPay\", \"GunCoin\", \"IrishCoin\", \"Pioneer Coin\", \"UnitedBitcoin\", \"Interzone\", \"1717 Masonic Commemorative Token\", \"TurtleCoin\", \"MUNcoin\", \"Niobio Cash\", \"Bitcoin Private\", \"Skeincoin\", \"ShareChain\", \"Travelflex\", \"KREDS\", \"BitFlip\", \"LottoCoin\", \"LeafCoin\", \"Cerberus\", \"Bitcoin Hush\", \"Crypto Improvement Fund\", \"Callisto Network\", \"Curium\", \"BitTube\", \"Dinero\", \"Poseidon\", \"Aidos Kuneen\", \"Snowgem\", \"Bitrolium\", \"Bitcoin Interest\", \"Alpenschillling\", \"FuturoCoin\", \"Monero Classic\", \"Jumpcoin\", \"Infinex\", \"KEYCO\", \"GINcoin\", \"PlatinCoin\", \"Loki\", \"Newton Coin\", \"MassGrid\", \"PluraCoin\", \"Motion\", \"PlusOneCoin\", \"Axe\", \"HexCoin\", \"Webchain\", \"Ryo\", \"Urals Coin\", \"Qwertycoin\", \"NIX\", \"Project Pai\", \"Azart\", \"Xchange\", \"CrypticCoin\", \"ZestCoin\", \"X-CASH\", \"Actinium\", \"ETHER-1\", \"Bitcoin SV\", \"Bitcoiin2Gen\", \"FREDEnergy\", \"C25 Coin\", \"Aquachain\", \"Universal Molecule\", \"Lithium\", \"Smart Bitcoin\", \"Exosis\", \"Block-Logic\", \"Beam\", \"Bithereum\", \"SLICE\", \"Vidulum\", \"BlockStamp\", \"BLAST\", \"Bitcoin Rhodium\", \"GlobalToken\", \"Boolberry\", \"SolarCoin\", \"UFO Coin\", \"BlakeCoin\", \"FantomCoin \", \"Crypto Escudo\", \"Crown Coin\", \"Quazar Coin\", \"SmileyCoin\", \"Groestlcoin\", \"Bata\", \"Pakcoin\", \"Dotcoin\", \"JoinCoin\", \"Vollar\", \"Reality Clash\", \"iOlite\", \"Beldex\", \"Horizen\"], \"legendgroup\": \"1\", \"marker\": {\"color\": [1, 1, 1, 1, 1, 1, 1, 1, 1, 1, 1, 1, 1, 1, 1, 1, 1, 1, 1, 1, 1, 1, 1, 1, 1, 1, 1, 1, 1, 1, 1, 1, 1, 1, 1, 1, 1, 1, 1, 1, 1, 1, 1, 1, 1, 1, 1, 1, 1, 1, 1, 1, 1, 1, 1, 1, 1, 1, 1, 1, 1, 1, 1, 1, 1, 1, 1, 1, 1, 1, 1, 1, 1, 1, 1, 1, 1, 1, 1, 1, 1, 1, 1, 1, 1, 1, 1, 1, 1, 1, 1, 1, 1, 1, 1, 1, 1, 1, 1, 1, 1, 1, 1, 1, 1, 1, 1, 1, 1, 1, 1, 1, 1, 1, 1, 1, 1, 1, 1, 1, 1, 1, 1, 1, 1, 1, 1, 1, 1, 1, 1, 1, 1, 1, 1, 1, 1, 1, 1, 1, 1, 1, 1, 1, 1, 1, 1, 1, 1, 1, 1, 1, 1, 1, 1, 1, 1, 1, 1, 1, 1, 1, 1, 1, 1, 1, 1, 1, 1, 1, 1, 1, 1, 1, 1, 1, 1, 1, 1, 1, 1, 1, 1, 1, 1, 1, 1, 1, 1, 1, 1, 1, 1, 1, 1, 1, 1, 1, 1, 1, 1, 1, 1, 1, 1, 1, 1, 1, 1, 1, 1, 1, 1, 1, 1, 1, 1, 1, 1, 1, 1, 1, 1, 1, 1, 1, 1, 1, 1, 1, 1, 1, 1, 1, 1, 1, 1, 1, 1, 1, 1, 1, 1, 1, 1, 1, 1, 1, 1, 1, 1, 1, 1, 1, 1, 1, 1, 1, 1, 1, 1, 1, 1, 1, 1, 1, 1, 1, 1, 1, 1, 1, 1, 1, 1, 1, 1, 1, 1, 1, 1, 1, 1, 1, 1, 1, 1, 1, 1, 1, 1, 1, 1, 1, 1, 1, 1, 1, 1, 1, 1, 1, 1], \"coloraxis\": \"coloraxis\", \"symbol\": \"diamond\"}, \"mode\": \"markers\", \"name\": \"1\", \"scene\": \"scene\", \"showlegend\": true, \"type\": \"scatter3d\", \"x\": [-0.2677587397269527, -0.3859040808596428, -0.46121198865837737, -0.44784262853739276, -0.2678716099155943, -0.3866570737279311, -0.27985648288619913, -0.2679944445457889, -0.3865724343398589, -0.26799444460314237, -0.395642486653904, -0.38673363820477447, -0.26575661313098137, -0.38503761155170785, -0.3866361754764596, -0.11847635123363527, -0.35636195165189044, -0.3862932096422828, -0.2800030785697872, -0.38673291495206336, -0.3866379876107427, -0.3866710687476144, -0.2799373786470315, -0.2083995157243164, -0.3867329149038864, -0.021157524736258426, -0.2218711167987409, -0.3864579858789238, -0.38673291504152685, -0.3838552078109373, -0.3864765729991729, -0.38673310356194696, -0.26799444454768007, -0.38671789038356275, -0.3369156477419395, -0.37510851248840094, -0.38586945611651213, -0.38618519094680376, -0.4178394952578398, 0.804411579672362, -0.2677171637527477, -0.3847416955681588, -0.38647881426322983, -0.38671839508576583, -0.38673291505473906, -0.386231295976658, -0.4354719887728783, -0.38665660176447814, -0.2679944446371013, -0.3556241200544661, -0.26780069174449367, -0.38233218931233415, -0.3867329149226698, -0.3867183975789685, -0.38641453637957135, -0.38639641088419835, -0.4407063591132994, -0.3867329149396491, -0.26058774895367315, -0.26742202677140964, -0.26769289213542635, -0.2679944445477228, -0.26796449178609344, -0.26799180297340325, -0.3864285291329555, -0.2993523859514258, -0.385160334292041, -0.267479102635402, 2.1531141464552244, -0.17617215447192608, 1.104758740918767, -0.385836297757232, -0.2679944445446569, -0.3812761098128662, -0.3849248456851858, -0.3867305230474306, -0.3847308744426101, -0.37631270959047497, -0.4406339905092937, -0.4076658671767012, -0.3865995945305033, -0.3261165971548907, -0.25636281678408435, -0.3867329150585064, -0.28000307859242657, -0.3867247700611762, -0.2678305871957401, -0.38673192865254663, -0.28000307859242657, -0.27957943227697357, -0.4502109025728779, -0.2678005498088856, -0.2797945022868725, -0.38630474971403905, -0.3857387428491505, -0.4625644403354426, -0.2797944515593825, -0.26771837167915297, -0.3867329460292465, -0.3839718545243807, -0.2727629238596695, -0.38581471641008597, -0.26697931715626105, 0.017840675009330273, -0.2679944445710697, -0.28000308277506125, -0.44070636845206457, -0.2794099722791138, -0.3867329545190327, -0.4601717417091618, -0.38672454706618453, -0.46573795674687174, -0.5541386701450364, -0.2679944446220085, -0.38664652256033183, -0.2798235559508436, -0.2679944445473384, -0.38672480989933294, -0.2799849618507833, -0.4966048841580634, -0.26687646851110786, -0.26791235112452116, -0.4046915890052129, -0.38519664491827105, -0.26787471032100363, -0.3865867207331325, -0.3867329150651095, -0.440706359037835, -0.43241516715819317, -0.2679944483160087, -0.12188898484390723, -0.46235788327983185, -0.2679944447314323, -0.4478658938435479, -0.3841520260170799, -0.4479397002849566, -0.2691692029211163, -0.27919626001771924, -0.2669664566001796, -0.38672116033316273, -0.26685629103236064, -0.45036692332687195, -0.28000307872003755, -0.27294307605064433, -0.3867329149377627, -0.474000520277215, -0.427194527506791, -0.3866919557794267, -0.27960357411904846, -0.44784869500570057, -0.38542018309808423, -0.45014775282776914, -0.462702432115935, -0.2800030789263581, -0.5920852277905673, -0.3858901934236165, -0.2236502888166257, -0.3867329149396491, -0.3864663266719991, -0.3867329149019167, -0.25066882578579536, -0.38655313834006544, -0.4732370644936333, -0.47279407100742893, -0.5216274119510473, -0.2431886125781733, -0.27954107469294837, -0.386494501348862, -0.3866649696090019, -0.2796606760210901, -0.27996859310085587, -0.2667931191341852, -0.3781478095320501, 1.7571001999463398, -0.39772995362172475, -0.2783927821260973, -0.26775784021743615, -0.38673291680551586, -0.3867265551602867, -0.3867329167866494, -0.3866053270820746, -0.3865034347594509, -0.38630367885789724, -0.3862896132920191, -0.26686168751469397, -0.37941871481167905, -0.24446618307268175, -0.3396044355273116, -0.4477135252164525, -0.45979985425136277, -0.38541825570440735, -0.2776993571195845, -0.3395753879993779, -0.38673291546601607, -0.4625347122406593, -0.38673291509831403, -0.3395825266598258, -0.41150574704309445, -0.013463855034506792, -0.26692015155707394, -0.45585381269470776, -0.27894708943213886, -0.2679944445823894, -0.46834322774299886, -0.3346119692858106, 0.2131463404596867, -0.2799474755301997, -0.33955603215165003, -0.3357174941441682, -0.3861349080526031, -0.2798916092339798, -0.2677293038592688, -0.3203558007639856, -0.14837100318136648, 0.4316964840249204, -0.35380304391935674, -0.2652183859322833, -0.4479397002849566, -0.3510637009964927, -0.25525384939290424, -0.45883560907548904, -0.29156064560611167, -0.3865692747922566, -0.1962064188556289, -0.3867329545190327, -0.33965920929603055, -0.4479397002849566, -0.2772249574694489, -0.4594468576607525, -0.28000307857167367, -0.26592684099554137, -0.33965920942526406, -0.38667940016298996, -0.41506265993791114, -0.44793970040399467, -0.4470015250993026, -0.44793970028740926, -0.43215520434035787, -0.27958495601897293, -0.26676872889484776, -0.22350636983654526, -0.4503245668016822, -0.46207168563490264, -0.43242281766290763, -0.26697820988475024, 0.051376551406194855, 0.2759569038876943, -0.36736481722155306, -0.25961536018882625, -0.3571491021767562, -0.43702658061684035, -0.27993743065935334, -0.3867142887854562, -0.47393989979138634, -0.41231784332214055, -0.21232449955522453, 1.3600395553490316, -0.30002521355824646, -0.24038384078627384, -0.2799371302283069, -0.3571276989935872, -0.39225685630716095, -0.1218889846614712, -0.3888665408873652, -0.4323354045858362, -0.46270243128349803, -0.26775788064725425, -0.46270243144637685, -0.24243146584393022, -0.35386639497940103, -0.4392410005469455, -0.3907968133275629, -0.39060921303503116, -0.26799444458238886, -0.4171489176745033, -0.3862689948957844, -0.4474704844958257, -0.4476090200524309, -0.3657271940587036, -0.48887032189265694, -0.26799444474086537, -0.267306890087695, -0.16973338606500676, -0.2668819595683235, -0.28000307856497625, -0.3860025354407295, -0.2893726084436675, -0.39051048449549797, -0.26697931715617285, -0.37647477794122286, -0.26769221458313786, -0.26697931715626105, 0.0022345735977812313, -0.3560496938788148, -0.3866664843668549, -0.3858167104037816, -0.38673291657912134, -0.4177956742240257, -0.4049778751087297, -0.462380466057124, -0.46270243314433407, -0.25409144283588236, -0.447843766077997], \"y\": [-1.396621854914829, -0.9922277454755338, -1.9445345743261864, -1.7791072742153613, -1.6747773809801463, -0.9921468303390386, -0.8419458203354538, -1.396596526533174, -0.9921559250511484, -1.3965965261288, -1.6610474820620023, -0.9921335730382578, -1.396836999756459, -0.9923208533428068, -0.992149075012227, -0.515453164507261, -1.4062671655710406, -0.9921859305028271, -0.8419300672771086, -0.9921386804205597, -0.9921488813166681, -0.9921453265492974, -0.8419371273732269, -1.681168258960442, -0.9921386807602339, -1.4231211331838984, -1.009854410049199, -0.9921682241469373, -0.9921386797897902, -0.9924479127729178, -0.9921662266469973, -0.9921373506120323, -1.3965965265198395, -0.9921402951617762, -1.5288387229751415, -0.9933878103984156, -0.992231466403847, -0.9921975377829081, -1.6586622363818684, -1.1201368501962314, -1.3966263226330233, -0.9923526520162189, -0.9921659859598903, -0.9921402410564093, -0.9921386796966355, -0.9921925837725032, -2.2520339973008037, -0.9921468811999121, -1.3965965258893691, -0.9954814084644894, -1.3966173467873426, -0.9926115745348763, -0.9921386806278008, -0.992140240531096, -0.9921728901928463, -0.9921748405469725, -2.1724789403051563, -0.9921386805080852, -1.39739243201835, -1.3966580374567985, -1.3966289305649287, -1.3965965265195392, -1.3965997442038367, -1.3965968104119395, -0.992171389517159, -1.4902553557441662, -0.9923076654613774, -1.396651904160221, -2.4918730208357482, -2.2415722168181764, -0.9265063066175268, -0.9922350291123918, -1.3965965265411548, -0.9927250423316287, -0.99233297216046, -0.9921389377794071, -0.9923538162259113, -0.9932584139299067, -2.068984691591581, -2.100946033871344, -0.9921530072347509, -0.9986523268248952, -2.3450297794848667, -0.9921386796700743, -0.8419300671174877, -0.9921395560166392, -1.3966141342480332, -0.9921375816589347, -0.8419300671174877, -0.8419755917837837, -2.076492211381695, -1.3966173616104962, -0.8419524807039003, -0.9921846882936964, -0.9922455103805724, -1.9443892435691588, -0.8419524862205277, -1.3966261928302974, -0.9921384613084828, -0.9924353791942686, -2.332354984085822, -0.9922373485019238, -2.231814288478954, -1.4273118377630836, -1.3965965263549303, -0.8419300376274993, -2.1724788744614747, -0.8419938011403976, -0.9921384014505903, -2.077649961710458, -0.9921395777823658, -2.113830011025845, -1.9334761768784543, -1.3965965259957829, -0.9921479641714733, -0.8419493585699266, -1.3965965265222495, -0.9921395517357052, -0.8419320140316526, -0.655257503530429, -2.231825340615967, -1.3966053481145788, -1.6600750838366043, -0.9923037644098666, -1.3966093929509191, -0.9921543902930621, -0.9921386796235182, -2.1724789408372267, -2.1608182767290285, -1.3965964999509486, -0.5150864474388938, -1.9444114398897223, -1.3965965252242811, -1.7791047741457005, -0.9924158898822427, -1.7790968429694025, -0.8430942599006983, -0.8420167645887316, -2.231815670429732, -0.9921399438874466, -2.23182750867388, -2.076475446257325, -0.841930066217757, -0.8426874194089122, -0.9921386805213871, -2.132358424108454, -1.3892284759089708, -0.9921430821750501, -0.841972984855583, -1.7791066223703222, -0.9922797445004887, -2.076498997985327, -1.9443744093546242, -0.8419300647630771, -1.9157379133622485, -0.9922291865116322, -0.4612439755277077, -0.9921386805080852, -0.9921673276623308, -0.9921386807741204, -1.3984582897992648, -0.9921579984777891, -2.132440465453935, -1.9737293145229757, -1.8974176676521877, -2.2343707910402384, -0.8419797127789217, -0.992164300248722, -0.9921459811471469, -0.8419668610477024, -0.8419337730832528, -2.231834296691497, -2.0922168085520054, -1.2225105115292236, -1.3923946495216524, -0.8421030942050272, -1.3966219515753426, -0.9921386673526508, -0.9921392266598453, -0.9921386674856679, -0.9921523910019024, -0.9921633394243436, -0.9921848048110062, -0.9921863162845386, -2.231826927935679, -1.7864597739435177, -0.8457488079987971, -1.5285497922150801, -1.779121147546458, -2.0776899227602246, -0.9922799516165447, -0.8421776188801744, -1.5285529134015026, -0.9921386767968957, -1.9443924346782198, -0.9921386793894077, -1.5285521464601382, -1.6593428473865297, -2.259055727388183, -2.2318206464409176, -1.9451102310371187, -0.8420435360262598, -1.3965965262751199, -2.1329663411975965, -0.9977394869854824, -1.1597155880469936, -0.8419360423473242, -1.528554993678519, -1.5289674733752439, -0.992202941247198, -0.8419420456492344, -1.396625018078611, -1.1075666444079035, -0.01485366401139186, -2.306880286433094, -1.4080180235744733, -2.2320035124641593, -1.7790968429694025, -0.7174919325326815, -1.0062671763515547, -2.0777935404496137, -1.4910926361075438, -0.9921562648877748, -1.012612251994902, -0.9921384014505903, -1.5285439062143675, -1.7790968429694025, -0.8422285954910242, -1.9447241713822343, -0.841930067263807, -2.231927373798642, -1.5285439053031975, -0.9921444311596557, -2.254101677232149, -1.779096842130115, -1.779197657820797, -1.779096842952111, -2.1608462084589894, -0.8419749973296162, -2.231836918111825, -0.46125944129368684, -2.076479997639601, -2.0439708715966933, -2.1608174547551946, -2.231814399847608, -2.099823791717399, -2.2901553347794734, -2.08230555738391, -2.232605600062108, -1.1741758365990262, -1.9349640959687224, -0.8419371217447306, -0.9921406820440113, -2.1323649178334145, -2.105411152431864, -0.6996400169478421, -2.2404491707640255, -1.4901830530800115, -1.3995635106229247, -0.8419371539763945, -1.1741781355458283, -1.7850803738996075, -0.5150864487251734, -1.9247723800270005, -2.1608268471260024, -1.944374415223786, -1.3966219472307893, -1.9443744140753954, -2.2344520737307794, -1.408011216061946, -2.0753399761822084, -1.6749663147447966, -1.6749864751563182, -1.3965965262751232, -2.0396706980303256, -0.9921885316575675, -1.7791472613245467, -1.779132377451414, -1.028491795234748, -1.9335616845619295, -1.3965965251577726, -1.3966704097226263, -0.24200022489905337, -1.396716071026066, -0.841930067311028, -0.992215881718002, -1.5339476088240007, -1.6749969930770403, -2.2318142884795757, -0.9932409982052425, -1.3966290033741109, -2.231814288478954, -1.0339361354104972, -1.4063007202459257, -0.9921458192895112, -0.992237132945384, -0.9921386689488609, -1.6586669458657062, -2.1163476879090477, -1.9444090131865246, -1.9443744021038174, -2.2331991901961232, -1.7791071519762296], \"z\": [0.18047895010395698, -0.0002415408665986493, 0.33308880192071394, 0.3558520217114599, 0.2984750857302066, -0.0002138186762434545, -0.012409119537273021, 0.1804876278118968, -0.00021693500757837247, 0.18048762760489795, 0.303179156323814, -0.00021364117354945157, 0.18040523992684396, -0.00027344144949700675, -0.00021458859779125024, 0.032349501852723825, 0.25945109009513045, -0.0002272146762562269, -0.012403722560873987, -0.00021102659414890657, -0.00021452133987440115, -0.00021330338949541406, -0.012406141311212522, 0.296285625524142, -0.0002110264202696529, 0.17140007577594152, -0.006280577424549405, -0.0002211481812165796, -0.0002110269170400236, -0.0003169724953629901, -0.00022046396403788205, -0.00021170732421689297, 0.18048762780507144, -0.00021157961768869453, 0.22307714124509231, -0.0006389935633970274, -0.00024281549514357597, -0.0002311915967243203, 0.3039963622313964, -0.04406414759119927, 0.18047741946654075, -0.00028433583005235685, -0.00022038136839218776, -0.0002115609688588186, -0.00021102696472631772, -0.00022949401212848472, 0.2722762221726863, -0.00021383597611643616, 0.18048762748233269, -0.0013564132767831865, 0.18048049458555956, -0.0003730433337849583, -0.00021102648806194522, -0.00021156101223538878, -0.0002227493684703582, -0.0002234152989223207, 0.33492467026004286, -0.0002110265493448038, 0.1802149410239814, 0.1804665536924346, 0.1804765257520361, 0.18048762780491748, 0.1804865245488534, 0.18048753057055725, -0.00022223265777304696, 0.1809701131196189, -0.00026892346498894824, 0.18046865497880807, 0.22365841073559875, 0.3094132899822693, -0.06426758311243544, -0.00024403647601032037, 0.18048762781598238, -0.0004119325937616285, -0.00027759239832750434, -0.00021111448151315908, -0.00028473348930239066, -0.0005946576348249883, 0.2327867023749893, 0.3406241679552725, -0.00021593467641043958, -0.002442711057628269, 0.41541488476610416, -0.0002110269783226444, -0.012403722642584132, -0.0002113262663655548, 0.1804815951994828, -0.00021169554993005445, -0.012403722642584132, -0.01241931936428944, 0.3396873010501314, 0.18048048913479497, -0.01241140138663088, -0.00022679093838830653, -0.00024762899857666657, 0.33313859434036874, -0.012411403219792366, 0.180477463936872, -0.00021113875779960818, -0.00031267747868018146, 0.3154338009791989, -0.00024483085733075725, 0.3127564634760963, 0.1699643359351653, 0.18048762772065396, -0.01240373773853315, 0.3349246365546092, -0.01242555845796262, -0.00021116939910353235, 0.37349430269553735, -0.00021133562978887523, 0.3632285817265416, 0.3289958060541904, 0.18048762753680606, -0.0002142071151480054, -0.012410331790983584, 0.18048762780630512, -0.00021132479968631712, -0.012404389563207342, 0.5197461566776447, 0.3127526771169967, 0.180484605451244, 0.30351230843017285, -0.0002675862236276695, 0.18048321968263173, -0.00021640881397869715, -0.00021102700215473394, 0.3349246705324104, 0.3562328573442795, 0.18048761420443438, 0.0324751402623303, 0.3331309897893701, 0.1804876271418737, 0.3558528782337349, -0.00030611172935835233, 0.35585559544968803, -0.012802579657415132, -0.012433427357504582, 0.3127559899916177, -0.00021145917446793887, 0.31275193417124036, 0.33969304540519146, -0.012403723103156992, -0.01266432731573572, -0.00021102654253551067, 0.3250170505716421, 0.17788679769705099, -0.00021253435714350998, -0.012418437223608287, 0.3558522450786211, -0.00025935588132391225, 0.3396849764731341, 0.33314367155445834, -0.012403723847808615, 0.45957574575438637, -0.00024207907528116362, -0.052025687192833646, -0.0002110265493448038, -0.0002208412112046259, -0.00021102641316114455, 0.17984976050389387, -0.00021764545315706597, 0.3249889441681919, 0.29476178157883476, 0.39257754398364275, 0.3118805848022887, -0.012420731976147044, -0.00021980383659848439, -0.00021352835742478968, -0.012416328526555087, -0.012404992143831558, 0.31274960827109965, 0.4007034750514597, -0.07913854230170209, 0.17680201310737695, -0.012463013740573374, 0.18047891698812074, -0.00021103328362225148, -0.00021133276858315068, -0.00021103321553039018, -0.00021572374443616952, -0.00021947539444423808, -0.0002268296041178534, -0.00022734743398844238, 0.3127521324055944, 0.3533328215283547, -0.013712040922975047, 0.223176132251843, 0.3558472687170539, 0.37348061062966825, -0.00025942683915310187, -0.012488537322095256, 0.22317506273076654, -0.00021102844910529043, 0.333137498078021, -0.00021102712199649442, 0.22317532563442588, 0.3037631783098718, 0.3034225979095192, 0.312754285309966, 0.3328914710212676, -0.01244260289493193, 0.1804876276797989, 0.32480876930603997, -0.0021299158777355175, 0.05525908339953553, -0.012405769602488235, 0.22317435030197696, 0.22303302957586005, -0.00023304272642842139, -0.012407826366275087, 0.1804778664155318, 0.008115849877918751, 0.09593355894070442, 0.287027534200563, 0.13201464026044063, 0.3126916318497474, 0.35585559544968803, -0.029439831454549623, -0.005051553660086459, 0.3734451119152183, 0.1806832498516797, -0.00021705116259787143, -0.007225468094771224, -0.00021116939910353235, 0.22317814874079342, 0.35585559544968803, -0.012506003581488368, 0.3330237745956081, -0.012403722567683245, 0.3127177093608491, 0.2231781482743649, -0.00021299671891349822, 0.304523473445627, 0.3558555950200557, 0.35582105578879814, 0.3558555954408356, 0.3562232847847026, -0.012419116466215636, 0.3127487105788052, -0.05203098544466134, 0.33969148591947546, 0.36879113638370314, 0.35623313907588566, 0.31275641871112203, 0.4379160040809529, 0.2927667669373783, 0.3916779611911823, 0.3124853494745453, 0.1953865936786791, 0.3711903214265933, -0.012406139416992512, -0.00021171228684219192, 0.3250148080372628, 0.2938677143673251, 0.13249360155770487, 0.38973574365453756, 0.1809948829320136, 0.17947111709950714, -0.012406150505005466, 0.1953858051752526, 0.35380555541478226, 0.03247514092077833, 0.3245018110823746, 0.3562299204201961, 0.3331436745588874, 0.1804789184765619, 0.33314367397102507, 0.31185266829681507, 0.13201697262924736, 0.5199927337867521, 0.32547914696645797, 0.3254722409303702, 0.1804876276798004, 0.3389964425455606, -0.00022810664670545872, 0.3558383194049132, 0.355843421246394, 0.0226736926539105, 0.3272066012818966, 0.18048762710782784, 0.18046231476894237, -0.07211335959163291, 0.18044667005333795, -0.012403722543510576, -0.00023859043508512443, 0.2213267985577779, 0.3254685582197251, 0.31275646347641456, -0.000588691018636915, 0.18047650080765662, 0.3127564634760963, -0.014531376081794991, 0.2594395940461728, -0.0002134721094572517, -0.00024475812169979177, -0.00021103246652081557, 0.30399474921079167, 0.3699747430977474, 0.3331318211958642, 0.33314366784276406, 0.3122819813232657, 0.3558520635905085]}, {\"customdata\": [[\"VeChainThor Authority\"], [\"Proof-of-BibleHash\"], [\"SHA-256 + Hive\"], [\"Proof-of-Authority\"], [\"ECC 256K1\"], [\"SHA3-256\"], [\"Leased POS\"]], \"hovertemplate\": \"<b>%{hovertext}</b><br><br>Class=%{marker.color}<br>PC 1=%{x}<br>PC 2=%{y}<br>PC 3=%{z}<br>Algorithm=%{customdata[0]}<extra></extra>\", \"hovertext\": [\"Vechain\", \"BiblePay\", \"LitecoinCash\", \"Poa Network\", \"Acute Angle Cloud\", \"Fiii\", \"Waves\"], \"legendgroup\": \"3\", \"marker\": {\"color\": [3, 3, 3, 3, 3, 3, 3], \"coloraxis\": \"coloraxis\", \"symbol\": \"square\"}, \"mode\": \"markers\", \"name\": \"3\", \"scene\": \"scene\", \"showlegend\": true, \"type\": \"scatter3d\", \"x\": [6.862089708258681, -0.16219853247544225, 0.8698102062481157, 0.38218517481941494, 0.4442988354339318, -1.119851740498363, 0.8299959139218108], \"y\": [0.6571671735663289, 5.47544157268585, 0.5274654035653092, 2.3702092063452898, 3.0291207923825305, 5.6800654169957285, 0.7971511014250667], \"z\": [8.451678514908105, 13.997821760105277, 14.38275941907798, 11.593837031287862, 14.699858689669327, 14.948609103721537, 12.213182631079414]}, {\"customdata\": [[\"TRC10\"]], \"hovertemplate\": \"<b>%{hovertext}</b><br><br>Class=%{marker.color}<br>PC 1=%{x}<br>PC 2=%{y}<br>PC 3=%{z}<br>Algorithm=%{customdata[0]}<extra></extra>\", \"hovertext\": [\"BitTorrent\"], \"legendgroup\": \"2\", \"marker\": {\"color\": [2], \"coloraxis\": \"coloraxis\", \"symbol\": \"x\"}, \"mode\": \"markers\", \"name\": \"2\", \"scene\": \"scene\", \"showlegend\": true, \"type\": \"scatter3d\", \"x\": [31.2285513463404], \"y\": [-3.071086691523488], \"z\": [-1.333360485674975]}],                        {\"coloraxis\": {\"colorbar\": {\"title\": {\"text\": \"Class\"}}, \"colorscale\": [[0.0, \"#0d0887\"], [0.1111111111111111, \"#46039f\"], [0.2222222222222222, \"#7201a8\"], [0.3333333333333333, \"#9c179e\"], [0.4444444444444444, \"#bd3786\"], [0.5555555555555556, \"#d8576b\"], [0.6666666666666666, \"#ed7953\"], [0.7777777777777778, \"#fb9f3a\"], [0.8888888888888888, \"#fdca26\"], [1.0, \"#f0f921\"]]}, \"legend\": {\"title\": {\"text\": \"Class\"}, \"tracegroupgap\": 0}, \"margin\": {\"t\": 60}, \"scene\": {\"domain\": {\"x\": [0.0, 1.0], \"y\": [0.0, 1.0]}, \"xaxis\": {\"title\": {\"text\": \"PC 1\"}}, \"yaxis\": {\"title\": {\"text\": \"PC 2\"}}, \"zaxis\": {\"title\": {\"text\": \"PC 3\"}}}, \"template\": {\"data\": {\"bar\": [{\"error_x\": {\"color\": \"#2a3f5f\"}, \"error_y\": {\"color\": \"#2a3f5f\"}, \"marker\": {\"line\": {\"color\": \"#E5ECF6\", \"width\": 0.5}}, \"type\": \"bar\"}], \"barpolar\": [{\"marker\": {\"line\": {\"color\": \"#E5ECF6\", \"width\": 0.5}}, \"type\": \"barpolar\"}], \"carpet\": [{\"aaxis\": {\"endlinecolor\": \"#2a3f5f\", \"gridcolor\": \"white\", \"linecolor\": \"white\", \"minorgridcolor\": \"white\", \"startlinecolor\": \"#2a3f5f\"}, \"baxis\": {\"endlinecolor\": \"#2a3f5f\", \"gridcolor\": \"white\", \"linecolor\": \"white\", \"minorgridcolor\": \"white\", \"startlinecolor\": \"#2a3f5f\"}, \"type\": \"carpet\"}], \"choropleth\": [{\"colorbar\": {\"outlinewidth\": 0, \"ticks\": \"\"}, \"type\": \"choropleth\"}], \"contour\": [{\"colorbar\": {\"outlinewidth\": 0, \"ticks\": \"\"}, \"colorscale\": [[0.0, \"#0d0887\"], [0.1111111111111111, \"#46039f\"], [0.2222222222222222, \"#7201a8\"], [0.3333333333333333, \"#9c179e\"], [0.4444444444444444, \"#bd3786\"], [0.5555555555555556, \"#d8576b\"], [0.6666666666666666, \"#ed7953\"], [0.7777777777777778, \"#fb9f3a\"], [0.8888888888888888, \"#fdca26\"], [1.0, \"#f0f921\"]], \"type\": \"contour\"}], \"contourcarpet\": [{\"colorbar\": {\"outlinewidth\": 0, \"ticks\": \"\"}, \"type\": \"contourcarpet\"}], \"heatmap\": [{\"colorbar\": {\"outlinewidth\": 0, \"ticks\": \"\"}, \"colorscale\": [[0.0, \"#0d0887\"], [0.1111111111111111, \"#46039f\"], [0.2222222222222222, \"#7201a8\"], [0.3333333333333333, \"#9c179e\"], [0.4444444444444444, \"#bd3786\"], [0.5555555555555556, \"#d8576b\"], [0.6666666666666666, \"#ed7953\"], [0.7777777777777778, \"#fb9f3a\"], [0.8888888888888888, \"#fdca26\"], [1.0, \"#f0f921\"]], \"type\": \"heatmap\"}], \"heatmapgl\": [{\"colorbar\": {\"outlinewidth\": 0, \"ticks\": \"\"}, \"colorscale\": [[0.0, \"#0d0887\"], [0.1111111111111111, \"#46039f\"], [0.2222222222222222, \"#7201a8\"], [0.3333333333333333, \"#9c179e\"], [0.4444444444444444, \"#bd3786\"], [0.5555555555555556, \"#d8576b\"], [0.6666666666666666, \"#ed7953\"], [0.7777777777777778, \"#fb9f3a\"], [0.8888888888888888, \"#fdca26\"], [1.0, \"#f0f921\"]], \"type\": \"heatmapgl\"}], \"histogram\": [{\"marker\": {\"colorbar\": {\"outlinewidth\": 0, \"ticks\": \"\"}}, \"type\": \"histogram\"}], \"histogram2d\": [{\"colorbar\": {\"outlinewidth\": 0, \"ticks\": \"\"}, \"colorscale\": [[0.0, \"#0d0887\"], [0.1111111111111111, \"#46039f\"], [0.2222222222222222, \"#7201a8\"], [0.3333333333333333, \"#9c179e\"], [0.4444444444444444, \"#bd3786\"], [0.5555555555555556, \"#d8576b\"], [0.6666666666666666, \"#ed7953\"], [0.7777777777777778, \"#fb9f3a\"], [0.8888888888888888, \"#fdca26\"], [1.0, \"#f0f921\"]], \"type\": \"histogram2d\"}], \"histogram2dcontour\": [{\"colorbar\": {\"outlinewidth\": 0, \"ticks\": \"\"}, \"colorscale\": [[0.0, \"#0d0887\"], [0.1111111111111111, \"#46039f\"], [0.2222222222222222, \"#7201a8\"], [0.3333333333333333, \"#9c179e\"], [0.4444444444444444, \"#bd3786\"], [0.5555555555555556, \"#d8576b\"], [0.6666666666666666, \"#ed7953\"], [0.7777777777777778, \"#fb9f3a\"], [0.8888888888888888, \"#fdca26\"], [1.0, \"#f0f921\"]], \"type\": \"histogram2dcontour\"}], \"mesh3d\": [{\"colorbar\": {\"outlinewidth\": 0, \"ticks\": \"\"}, \"type\": \"mesh3d\"}], \"parcoords\": [{\"line\": {\"colorbar\": {\"outlinewidth\": 0, \"ticks\": \"\"}}, \"type\": \"parcoords\"}], \"pie\": [{\"automargin\": true, \"type\": \"pie\"}], \"scatter\": [{\"marker\": {\"colorbar\": {\"outlinewidth\": 0, \"ticks\": \"\"}}, \"type\": \"scatter\"}], \"scatter3d\": [{\"line\": {\"colorbar\": {\"outlinewidth\": 0, \"ticks\": \"\"}}, \"marker\": {\"colorbar\": {\"outlinewidth\": 0, \"ticks\": \"\"}}, \"type\": \"scatter3d\"}], \"scattercarpet\": [{\"marker\": {\"colorbar\": {\"outlinewidth\": 0, \"ticks\": \"\"}}, \"type\": \"scattercarpet\"}], \"scattergeo\": [{\"marker\": {\"colorbar\": {\"outlinewidth\": 0, \"ticks\": \"\"}}, \"type\": \"scattergeo\"}], \"scattergl\": [{\"marker\": {\"colorbar\": {\"outlinewidth\": 0, \"ticks\": \"\"}}, \"type\": \"scattergl\"}], \"scattermapbox\": [{\"marker\": {\"colorbar\": {\"outlinewidth\": 0, \"ticks\": \"\"}}, \"type\": \"scattermapbox\"}], \"scatterpolar\": [{\"marker\": {\"colorbar\": {\"outlinewidth\": 0, \"ticks\": \"\"}}, \"type\": \"scatterpolar\"}], \"scatterpolargl\": [{\"marker\": {\"colorbar\": {\"outlinewidth\": 0, \"ticks\": \"\"}}, \"type\": \"scatterpolargl\"}], \"scatterternary\": [{\"marker\": {\"colorbar\": {\"outlinewidth\": 0, \"ticks\": \"\"}}, \"type\": \"scatterternary\"}], \"surface\": [{\"colorbar\": {\"outlinewidth\": 0, \"ticks\": \"\"}, \"colorscale\": [[0.0, \"#0d0887\"], [0.1111111111111111, \"#46039f\"], [0.2222222222222222, \"#7201a8\"], [0.3333333333333333, \"#9c179e\"], [0.4444444444444444, \"#bd3786\"], [0.5555555555555556, \"#d8576b\"], [0.6666666666666666, \"#ed7953\"], [0.7777777777777778, \"#fb9f3a\"], [0.8888888888888888, \"#fdca26\"], [1.0, \"#f0f921\"]], \"type\": \"surface\"}], \"table\": [{\"cells\": {\"fill\": {\"color\": \"#EBF0F8\"}, \"line\": {\"color\": \"white\"}}, \"header\": {\"fill\": {\"color\": \"#C8D4E3\"}, \"line\": {\"color\": \"white\"}}, \"type\": \"table\"}]}, \"layout\": {\"annotationdefaults\": {\"arrowcolor\": \"#2a3f5f\", \"arrowhead\": 0, \"arrowwidth\": 1}, \"autotypenumbers\": \"strict\", \"coloraxis\": {\"colorbar\": {\"outlinewidth\": 0, \"ticks\": \"\"}}, \"colorscale\": {\"diverging\": [[0, \"#8e0152\"], [0.1, \"#c51b7d\"], [0.2, \"#de77ae\"], [0.3, \"#f1b6da\"], [0.4, \"#fde0ef\"], [0.5, \"#f7f7f7\"], [0.6, \"#e6f5d0\"], [0.7, \"#b8e186\"], [0.8, \"#7fbc41\"], [0.9, \"#4d9221\"], [1, \"#276419\"]], \"sequential\": [[0.0, \"#0d0887\"], [0.1111111111111111, \"#46039f\"], [0.2222222222222222, \"#7201a8\"], [0.3333333333333333, \"#9c179e\"], [0.4444444444444444, \"#bd3786\"], [0.5555555555555556, \"#d8576b\"], [0.6666666666666666, \"#ed7953\"], [0.7777777777777778, \"#fb9f3a\"], [0.8888888888888888, \"#fdca26\"], [1.0, \"#f0f921\"]], \"sequentialminus\": [[0.0, \"#0d0887\"], [0.1111111111111111, \"#46039f\"], [0.2222222222222222, \"#7201a8\"], [0.3333333333333333, \"#9c179e\"], [0.4444444444444444, \"#bd3786\"], [0.5555555555555556, \"#d8576b\"], [0.6666666666666666, \"#ed7953\"], [0.7777777777777778, \"#fb9f3a\"], [0.8888888888888888, \"#fdca26\"], [1.0, \"#f0f921\"]]}, \"colorway\": [\"#636efa\", \"#EF553B\", \"#00cc96\", \"#ab63fa\", \"#FFA15A\", \"#19d3f3\", \"#FF6692\", \"#B6E880\", \"#FF97FF\", \"#FECB52\"], \"font\": {\"color\": \"#2a3f5f\"}, \"geo\": {\"bgcolor\": \"white\", \"lakecolor\": \"white\", \"landcolor\": \"#E5ECF6\", \"showlakes\": true, \"showland\": true, \"subunitcolor\": \"white\"}, \"hoverlabel\": {\"align\": \"left\"}, \"hovermode\": \"closest\", \"mapbox\": {\"style\": \"light\"}, \"paper_bgcolor\": \"white\", \"plot_bgcolor\": \"#E5ECF6\", \"polar\": {\"angularaxis\": {\"gridcolor\": \"white\", \"linecolor\": \"white\", \"ticks\": \"\"}, \"bgcolor\": \"#E5ECF6\", \"radialaxis\": {\"gridcolor\": \"white\", \"linecolor\": \"white\", \"ticks\": \"\"}}, \"scene\": {\"xaxis\": {\"backgroundcolor\": \"#E5ECF6\", \"gridcolor\": \"white\", \"gridwidth\": 2, \"linecolor\": \"white\", \"showbackground\": true, \"ticks\": \"\", \"zerolinecolor\": \"white\"}, \"yaxis\": {\"backgroundcolor\": \"#E5ECF6\", \"gridcolor\": \"white\", \"gridwidth\": 2, \"linecolor\": \"white\", \"showbackground\": true, \"ticks\": \"\", \"zerolinecolor\": \"white\"}, \"zaxis\": {\"backgroundcolor\": \"#E5ECF6\", \"gridcolor\": \"white\", \"gridwidth\": 2, \"linecolor\": \"white\", \"showbackground\": true, \"ticks\": \"\", \"zerolinecolor\": \"white\"}}, \"shapedefaults\": {\"line\": {\"color\": \"#2a3f5f\"}}, \"ternary\": {\"aaxis\": {\"gridcolor\": \"white\", \"linecolor\": \"white\", \"ticks\": \"\"}, \"baxis\": {\"gridcolor\": \"white\", \"linecolor\": \"white\", \"ticks\": \"\"}, \"bgcolor\": \"#E5ECF6\", \"caxis\": {\"gridcolor\": \"white\", \"linecolor\": \"white\", \"ticks\": \"\"}}, \"title\": {\"x\": 0.05}, \"xaxis\": {\"automargin\": true, \"gridcolor\": \"white\", \"linecolor\": \"white\", \"ticks\": \"\", \"title\": {\"standoff\": 15}, \"zerolinecolor\": \"white\", \"zerolinewidth\": 2}, \"yaxis\": {\"automargin\": true, \"gridcolor\": \"white\", \"linecolor\": \"white\", \"ticks\": \"\", \"title\": {\"standoff\": 15}, \"zerolinecolor\": \"white\", \"zerolinewidth\": 2}}}, \"width\": 800},                        {\"responsive\": true}                    ).then(function(){\n",
       "                            \n",
       "var gd = document.getElementById('6f2acc76-23e9-4ec3-97e0-98b0d7e916a0');\n",
       "var x = new MutationObserver(function (mutations, observer) {{\n",
       "        var display = window.getComputedStyle(gd).display;\n",
       "        if (!display || display === 'none') {{\n",
       "            console.log([gd, 'removed!']);\n",
       "            Plotly.purge(gd);\n",
       "            observer.disconnect();\n",
       "        }}\n",
       "}});\n",
       "\n",
       "// Listen for the removal of the full notebook cells\n",
       "var notebookContainer = gd.closest('#notebook-container');\n",
       "if (notebookContainer) {{\n",
       "    x.observe(notebookContainer, {childList: true});\n",
       "}}\n",
       "\n",
       "// Listen for the clearing of the current output cell\n",
       "var outputEl = gd.closest('.output');\n",
       "if (outputEl) {{\n",
       "    x.observe(outputEl, {childList: true});\n",
       "}}\n",
       "\n",
       "                        })                };                });            </script>        </div>"
      ]
     },
     "metadata": {},
     "output_type": "display_data"
    }
   ],
   "source": [
    "# Creating a 3D-Scatter with the PCA data and the clusters\n",
    "fig = px.scatter_3d(\n",
    "    clustered_df,\n",
    "x=\"PC 1\",\n",
    "    y=\"PC 2\",\n",
    "    z=\"PC 3\",\n",
    "color=\"Class\",\n",
    "    symbol=\"Class\",\n",
    "    width=800,\n",
    "    hover_name=\"CoinName\",\n",
    "    hover_data=[\"Algorithm\"],\n",
    ")\n",
    "fig.show()\n"
   ]
  },
  {
   "cell_type": "code",
   "execution_count": 47,
   "metadata": {},
   "outputs": [
    {
     "data": {},
     "metadata": {},
     "output_type": "display_data"
    },
    {
     "data": {
      "application/vnd.holoviews_exec.v0+json": "",
      "text/html": [
       "<div id='1102'>\n",
       "\n",
       "\n",
       "\n",
       "\n",
       "\n",
       "  <div class=\"bk-root\" id=\"3f71653b-fe6d-4f01-b4d7-a623dd5052d6\" data-root-id=\"1102\"></div>\n",
       "</div>\n",
       "<script type=\"application/javascript\">(function(root) {\n",
       "  function embed_document(root) {\n",
       "    var docs_json = {\"b81eaef2-6dfc-40e9-b45b-08b570f888de\":{\"roots\":{\"references\":[{\"attributes\":{},\"id\":\"1107\",\"type\":\"StringEditor\"},{\"attributes\":{},\"id\":\"1131\",\"type\":\"NumberFormatter\"},{\"attributes\":{},\"id\":\"1132\",\"type\":\"IntEditor\"},{\"attributes\":{},\"id\":\"1122\",\"type\":\"StringEditor\"},{\"attributes\":{\"editor\":{\"id\":\"1122\"},\"field\":\"TotalCoinSupply\",\"formatter\":{\"id\":\"1121\"},\"title\":\"TotalCoinSupply\"},\"id\":\"1123\",\"type\":\"TableColumn\"},{\"attributes\":{\"margin\":[5,5,5,5],\"name\":\"HSpacer01708\",\"sizing_mode\":\"stretch_width\"},\"id\":\"1142\",\"type\":\"Spacer\"},{\"attributes\":{\"columns\":[{\"id\":\"1108\"},{\"id\":\"1113\"},{\"id\":\"1118\"},{\"id\":\"1123\"},{\"id\":\"1128\"},{\"id\":\"1133\"}],\"height\":300,\"reorderable\":false,\"source\":{\"id\":\"1104\"},\"view\":{\"id\":\"1137\"},\"width\":700},\"id\":\"1136\",\"type\":\"DataTable\"},{\"attributes\":{\"source\":{\"id\":\"1104\"}},\"id\":\"1137\",\"type\":\"CDSView\"},{\"attributes\":{},\"id\":\"1111\",\"type\":\"StringFormatter\"},{\"attributes\":{\"format\":\"0,0.0[00000]\"},\"id\":\"1126\",\"type\":\"NumberFormatter\"},{\"attributes\":{},\"id\":\"1112\",\"type\":\"StringEditor\"},{\"attributes\":{},\"id\":\"1117\",\"type\":\"StringEditor\"},{\"attributes\":{\"margin\":[5,5,5,5],\"name\":\"HSpacer01707\",\"sizing_mode\":\"stretch_width\"},\"id\":\"1103\",\"type\":\"Spacer\"},{\"attributes\":{},\"id\":\"1121\",\"type\":\"StringFormatter\"},{\"attributes\":{},\"id\":\"1106\",\"type\":\"StringFormatter\"},{\"attributes\":{\"editor\":{\"id\":\"1112\"},\"field\":\"Algorithm\",\"formatter\":{\"id\":\"1111\"},\"title\":\"Algorithm\"},\"id\":\"1113\",\"type\":\"TableColumn\"},{\"attributes\":{},\"id\":\"1105\",\"type\":\"Selection\"},{\"attributes\":{\"data\":{\"Algorithm\":[\"Scrypt\",\"Scrypt\",\"X13\",\"SHA-256\",\"Scrypt\",\"X11\",\"Ethash\",\"Equihash\",\"SHA-512\",\"Multiple\",\"SHA-256\",\"X11\",\"SHA-256\",\"Scrypt\",\"X15\",\"X11\",\"SHA-256\",\"X13\",\"X13\",\"Scrypt\",\"Scrypt\",\"Scrypt\",\"SHA-256\",\"Multiple\",\"Scrypt\",\"SHA-256\",\"Scrypt\",\"Scrypt\",\"Quark\",\"Groestl\",\"Scrypt\",\"X11\",\"Scrypt\",\"Scrypt\",\"Scrypt\",\"Scrypt\",\"Scrypt\",\"Scrypt\",\"Multiple\",\"Scrypt\",\"X11\",\"Scrypt\",\"Groestl\",\"Multiple\",\"X11\",\"Scrypt\",\"SHA-256\",\"Scrypt\",\"Scrypt\",\"Scrypt\",\"Scrypt\",\"Scrypt\",\"Scrypt\",\"X11\",\"NIST5\",\"SHA-256\",\"Scrypt\",\"NeoScrypt\",\"Scrypt\",\"Scrypt\",\"Scrypt\",\"X11\",\"Scrypt\",\"Multiple\",\"Scrypt\",\"X11\",\"SHA-256\",\"X11\",\"X13\",\"Scrypt\",\"Scrypt\",\"Scrypt\",\"Scrypt\",\"X11\",\"SHA3\",\"Scrypt\",\"HybridScryptHash256\",\"Scrypt\",\"SHA-256\",\"Scrypt\",\"SHA-256\",\"Scrypt\",\"SHA-256\",\"Scrypt\",\"NeoScrypt\",\"Scrypt\",\"Scrypt\",\"Scrypt\",\"Scrypt\",\"Scrypt\",\"X15\",\"Scrypt\",\"Scrypt\",\"Scrypt-n\",\"Scrypt\",\"X11\",\"SHA-256\",\"Multiple\",\"SHA-256\",\"PHI1612\",\"X11\",\"SHA-256\",\"SHA-256\",\"SHA-256\",\"SHA-256\",\"Scrypt\",\"Scrypt\",\"Scrypt\",\"Lyra2REv2\",\"Scrypt\",\"Scrypt\",\"X11\",\"SHA-256\",\"Scrypt\",\"Scrypt\",\"CryptoNight\",\"CryptoNight\",\"Shabal256\",\"Counterparty\",\"Scrypt\",\"SHA-256\",\"SHA-256\",\"Scrypt\",\"Scrypt\",\"Scrypt\",\"X13\",\"Scrypt\",\"Scrypt\",\"Scrypt\",\"SHA-256\",\"X13\",\"X13\",\"Scrypt\",\"X11\",\"Momentum\",\"Stanford Folding\",\"X11\",\"Scrypt\",\"Scrypt\",\"Scrypt\",\"M7 POW\",\"Scrypt\",\"X11\",\"Scrypt\",\"SHA-256\",\"Scrypt\",\"X11\",\"SHA3\",\"X11\",\"Lyra2RE\",\"SHA-256\",\"QUAIT\",\"X11\",\"Scrypt\",\"Scrypt\",\"Scrypt\",\"Ethash\",\"X11\",\"X13\",\"SHA-256\",\"X13\",\"X15\",\"X11\",\"SHA-256\",\"BLAKE256\",\"Scrypt\",\"Scrypt\",\"1GB AES Pattern Search\",\"SHA-256\",\"X11\",\"Scrypt\",\"CryptoNight\",\"SHA-256\",\"Quark\",\"SHA-256\",\"Blake\",\"Scrypt\",\"Scrypt\",\"SHA-256\",\"X11\",\"Scrypt\",\"Scrypt-n\",\"X11\",\"Scrypt\",\"Dagger\",\"Scrypt\",\"SHA-256\",\"CryptoNight-Lite\",\"X11GOST\",\"X11\",\"SHA-256\",\"Scrypt\",\"SHA-256\",\"Scrypt\",\"PoS\",\"Scrypt\",\"X11\",\"X11\",\"X11\",\"X11\",\"PoS\",\"SHA-256\",\"SHA-256\",\"SHA-256\",\"NIST5\",\"X15\",\"X11\",\"NIST5\",\"Scrypt\",\"Scrypt\",\"Scrypt\",\"POS 3.0\",\"Scrypt\",\"Scrypt\",\"Scrypt\",\"X13\",\"X11\",\"X11\",\"Equihash\",\"X11\",\"X11\",\"Scrypt\",\"CryptoNight\",\"SHA-256\",\"SHA-256\",\"X11\",\"Scrypt\",\"Multiple\",\"Scrypt\",\"X11\",\"SHA-256\",\"Scrypt\",\"Scrypt\",\"SHA-256D\",\"PoS\",\"Scrypt\",\"X11\",\"Scrypt-n\",\"Lyra2Z\",\"SHA-256\",\"PoS\",\"X13\",\"Quark\",\"X14\",\"PoS\",\"SHA-256D\",\"Ethash\",\"SHA-256\",\"Equihash\",\"DPoS\",\"X11\",\"Scrypt\",\"Scrypt\",\"Equihash\",\"X11\",\"X13\",\"X11\",\"PoS\",\"SHA-256D\",\"Scrypt\",\"Scrypt\",\"Scrypt\",\"X11\",\"PoS\",\"X11\",\"SHA-256\",\"Scrypt\",\"X11\",\"Scrypt\",\"Scrypt\",\"X11\",\"CryptoNight\",\"Scrypt\",\"Scrypt\",\"Scrypt\",\"Scrypt\",\"Quark\",\"QuBit\",\"Scrypt\",\"CryptoNight\",\"X11\",\"Lyra2RE\",\"X13\",\"PoS\",\"Scrypt\",\"SHA-256\",\"X11\",\"X11\",\"X11\",\"Scrypt\",\"X11\",\"Scrypt\",\"Scrypt\",\"CryptoNight-V7\",\"Scrypt\",\"Scrypt\",\"Keccak\",\"Scrypt\",\"X13\",\"X11\",\"Equihash\",\"Scrypt\",\"Scrypt\",\"Lyra2RE\",\"Ethash\",\"X11\",\"Scrypt\",\"Dagger-Hashimoto\",\"X11\",\"Blake2S\",\"X11\",\"Scrypt\",\"Scrypt\",\"PoS\",\"X11\",\"NIST5\",\"PoS\",\"X11\",\"Scrypt\",\"Scrypt\",\"Scrypt\",\"Scrypt\",\"SHA-256\",\"X11\",\"Scrypt\",\"Scrypt\",\"Scrypt\",\"SHA-256\",\"PoS\",\"Scrypt\",\"X11\",\"X15\",\"SHA-256\",\"Scrypt\",\"POS 3.0\",\"CryptoNight-V7\",\"536\",\"Blake2b\",\"Cloverhash\",\"CryptoNight\",\"NIST5\",\"X11\",\"NIST5\",\"Skein\",\"Scrypt\",\"X13\",\"Scrypt\",\"X11\",\"X11\",\"X11\",\"Scrypt\",\"CryptoNight\",\"X13\",\"Time Travel\",\"Scrypt\",\"Keccak\",\"SkunkHash v2 Raptor\",\"X11\",\"Skein\",\"SHA-256\",\"X11\",\"Scrypt\",\"Scrypt\",\"VeChainThor Authority\",\"Scrypt\",\"PoS\",\"Scrypt\",\"Scrypt\",\"Scrypt\",\"Scrypt\",\"Scrypt\",\"Scrypt\",\"Scrypt\",\"CryptoNight\",\"SHA-512\",\"Ouroboros\",\"X11\",\"Equihash\",\"NeoScrypt\",\"X11\",\"Scrypt\",\"NeoScrypt\",\"Lyra2REv2\",\"Equihash\",\"Scrypt\",\"SHA-256\",\"NIST5\",\"PHI1612\",\"Dagger\",\"Scrypt\",\"Quark\",\"Scrypt\",\"POS 2.0\",\"Scrypt\",\"SkunkHash\",\"X11\",\"Quark\",\"SHA-256\",\"X11\",\"NeoScrypt\",\"Scrypt\",\"Ethash\",\"Scrypt\",\"NeoScrypt\",\"Quark\",\"X11\",\"DPoS\",\"NIST5\",\"X13\",\"Multiple\",\"Scrypt\",\"CryptoNight\",\"CryptoNight\",\"Ethash\",\"NIST5\",\"Quark\",\"X11\",\"SHA-256\",\"CryptoNight-V7\",\"Scrypt\",\"Scrypt\",\"Scrypt\",\"X11\",\"SHA-256\",\"BLAKE256\",\"X11\",\"Scrypt\",\"NeoScrypt\",\"Quark\",\"NeoScrypt\",\"Scrypt\",\"Scrypt\",\"Scrypt\",\"X11\",\"X11\",\"SHA-256\",\"C11\",\"Scrypt\",\"Scrypt\",\"POS 3.0\",\"Ethash\",\"Scrypt\",\"CryptoNight\",\"SkunkHash\",\"Scrypt\",\"CryptoNight\",\"Equihash\",\"Skein\",\"Scrypt\",\"Dagger\",\"Lyra2REv2\",\"X13\",\"Proof-of-BibleHash\",\"SHA-256 + Hive\",\"Scrypt\",\"Scrypt\",\"Scrypt\",\"NeoScrypt\",\"Equihash\",\"X11\",\"C11\",\"Proof-of-Authority\",\"X11\",\"XEVAN\",\"Scrypt\",\"VBFT\",\"Ethash\",\"X11\",\"CryptoNight\",\"NeoScrypt\",\"Scrypt\",\"IMesh\",\"NIST5\",\"Equihash\",\"Scrypt\",\"Scrypt\",\"Equihash\",\"Equihash\",\"Scrypt\",\"Lyra2Z\",\"Equihash\",\"Green Protocol\",\"PoS\",\"Scrypt\",\"Scrypt\",\"Semux BFT consensus\",\"Scrypt\",\"X11\",\"Quark\",\"PoS\",\"CryptoNight\",\"X16R\",\"Scrypt\",\"NIST5\",\"Lyra2RE\",\"XEVAN\",\"Tribus\",\"Scrypt\",\"Lyra2Z\",\"CryptoNight\",\"CryptoNight Heavy\",\"CryptoNight\",\"Scrypt\",\"Scrypt\",\"Jump Consistent Hash\",\"SHA-256D\",\"CryptoNight\",\"Scrypt\",\"X15\",\"Scrypt\",\"Quark\",\"SHA-256\",\"DPoS\",\"X16R\",\"HMQ1725\",\"X11\",\"X16R\",\"Quark\",\"Quark\",\"Scrypt\",\"Zhash\",\"Lyra2REv2\",\"Quark\",\"Scrypt\",\"Scrypt\",\"CryptoNight-V7\",\"Cryptonight-GPU\",\"Scrypt\",\"XEVAN\",\"CryptoNight Heavy\",\"X11\",\"X11\",\"Scrypt\",\"PoS\",\"Lyra2REv2\",\"Scrypt\",\"SHA-256\",\"Scrypt\",\"Keccak\",\"X11\",\"X11\",\"Quark\",\"Scrypt\",\"SHA-512\",\"X16R\",\"ECC 256K1\",\"NeoScrypt\",\"Equihash\",\"XEVAN\",\"Quark\",\"CryptoNight Heavy X\",\"Lyra2Z\",\"Ethash\",\"SHA-256\",\"XEVAN\",\"Ethash\",\"CryptoNight\",\"Quark\",\"SkunkHash\",\"Quark\",\"Argon2\",\"Blake\",\"Blake\",\"SHA-256\",\"Equihash\",\"Exosis\",\"Scrypt\",\"Scrypt\",\"Equihash\",\"Quark\",\"Equihash\",\"Quark\",\"Scrypt\",\"QuBit\",\"X11\",\"Scrypt\",\"Equihash1927\",\"XEVAN\",\"SHA-256D\",\"X11\",\"SHA-256\",\"SHA-256\",\"X13\",\"SHA-256\",\"X11\",\"DPoS\",\"X11\",\"Scrypt\",\"X11\",\"Scrypt\",\"NeoScrypt\",\"Scrypt\",\"Blake\",\"Scrypt\",\"SHA-256\",\"X11\",\"CryptoNight\",\"Scrypt\",\"Scrypt\",\"SHA-256\",\"X11\",\"SHA-256\",\"Scrypt\",\"CryptoNight\",\"Scrypt\",\"SHA-256\",\"Scrypt\",\"Groestl\",\"X11\",\"Scrypt\",\"PoS\",\"Scrypt\",\"Scrypt\",\"X11\",\"SHA-256\",\"DPoS\",\"Scrypt\",\"Scrypt\",\"Scrypt\",\"NeoScrypt\",\"Scrypt\",\"SHA3-256\",\"Multiple\",\"X13\",\"Equihash+Scrypt\",\"Ethash\",\"Ethash\",\"SHA-256\",\"Leased POS\",\"PoS\",\"TRC10\",\"PoS\",\"SHA-256\",\"Scrypt\",\"CryptoNight\",\"Equihash\",\"Scrypt\"],\"Class\":{\"__ndarray__\":\"AAAAAAAAAAAAAAAAAQAAAAEAAAAAAAAAAQAAAAEAAAAAAAAAAQAAAAAAAAAAAAAAAAAAAAEAAAAAAAAAAQAAAAEAAAAAAAAAAAAAAAAAAAABAAAAAAAAAAEAAAABAAAAAQAAAAEAAAABAAAAAQAAAAEAAAABAAAAAQAAAAEAAAAAAAAAAQAAAAAAAAABAAAAAAAAAAEAAAAAAAAAAAAAAAEAAAAAAAAAAAAAAAEAAAAAAAAAAQAAAAEAAAABAAAAAQAAAAEAAAABAAAAAQAAAAEAAAAAAAAAAAAAAAEAAAABAAAAAQAAAAEAAAABAAAAAQAAAAAAAAAAAAAAAQAAAAEAAAAAAAAAAQAAAAAAAAAAAAAAAQAAAAEAAAABAAAAAQAAAAAAAAAAAAAAAQAAAAEAAAABAAAAAAAAAAAAAAABAAAAAQAAAAEAAAABAAAAAAAAAAAAAAAAAAAAAQAAAAEAAAABAAAAAAAAAAAAAAABAAAAAQAAAAEAAAAAAAAAAQAAAAAAAAABAAAAAAAAAAAAAAABAAAAAQAAAAEAAAABAAAAAAAAAAAAAAABAAAAAQAAAAEAAAAAAAAAAAAAAAEAAAAAAAAAAAAAAAEAAAABAAAAAQAAAAAAAAABAAAAAAAAAAEAAAAAAAAAAQAAAAEAAAAAAAAAAQAAAAAAAAABAAAAAAAAAAAAAAAAAAAAAQAAAAAAAAABAAAAAQAAAAAAAAABAAAAAAAAAAEAAAABAAAAAQAAAAEAAAABAAAAAQAAAAEAAAABAAAAAAAAAAEAAAABAAAAAQAAAAAAAAABAAAAAQAAAAEAAAAAAAAAAQAAAAAAAAAAAAAAAAAAAAAAAAAAAAAAAQAAAAEAAAAAAAAAAQAAAAEAAAABAAAAAAAAAAAAAAABAAAAAQAAAAAAAAAAAAAAAQAAAAAAAAAAAAAAAAAAAAEAAAABAAAAAAAAAAEAAAABAAAAAQAAAAEAAAABAAAAAAAAAAEAAAABAAAAAAAAAAEAAAAAAAAAAAAAAAAAAAAAAAAAAQAAAAEAAAAAAAAAAAAAAAAAAAAAAAAAAAAAAAEAAAAAAAAAAAAAAAAAAAAAAAAAAAAAAAAAAAAAAAAAAQAAAAAAAAAAAAAAAAAAAAAAAAAAAAAAAQAAAAAAAAABAAAAAAAAAAAAAAAAAAAAAQAAAAAAAAABAAAAAAAAAAAAAAABAAAAAQAAAAAAAAABAAAAAAAAAAEAAAAAAAAAAAAAAAEAAAAAAAAAAQAAAAEAAAABAAAAAAAAAAAAAAABAAAAAAAAAAAAAAAAAAAAAQAAAAEAAAABAAAAAAAAAAAAAAAAAAAAAQAAAAEAAAABAAAAAAAAAAAAAAAAAAAAAAAAAAAAAAAAAAAAAAAAAAEAAAAAAAAAAAAAAAAAAAAAAAAAAAAAAAAAAAAAAAAAAAAAAAEAAAAAAAAAAAAAAAAAAAAAAAAAAAAAAAAAAAABAAAAAQAAAAAAAAABAAAAAAAAAAAAAAAAAAAAAAAAAAAAAAAAAAAAAQAAAAAAAAABAAAAAAAAAAEAAAABAAAAAAAAAAAAAAABAAAAAQAAAAAAAAABAAAAAQAAAAAAAAABAAAAAQAAAAEAAAABAAAAAAAAAAEAAAAAAAAAAAAAAAAAAAABAAAAAAAAAAAAAAAAAAAAAQAAAAAAAAAAAAAAAAAAAAAAAAAAAAAAAQAAAAAAAAAAAAAAAQAAAAEAAAAAAAAAAQAAAAAAAAAAAAAAAAAAAAAAAAAAAAAAAQAAAAAAAAABAAAAAAAAAAEAAAABAAAAAQAAAAAAAAABAAAAAAAAAAAAAAABAAAAAAAAAAEAAAAAAAAAAQAAAAEAAAAAAAAAAQAAAAAAAAABAAAAAQAAAAEAAAAAAAAAAQAAAAAAAAABAAAAAAAAAAEAAAAAAAAAAwAAAAEAAAAAAAAAAQAAAAEAAAABAAAAAQAAAAEAAAAAAAAAAAAAAAEAAAAAAAAAAAAAAAAAAAABAAAAAAAAAAEAAAAAAAAAAQAAAAAAAAABAAAAAAAAAAAAAAAAAAAAAAAAAAEAAAAAAAAAAAAAAAEAAAAAAAAAAAAAAAAAAAAAAAAAAAAAAAAAAAABAAAAAQAAAAEAAAABAAAAAQAAAAEAAAAAAAAAAAAAAAAAAAAAAAAAAAAAAAEAAAAAAAAAAQAAAAEAAAABAAAAAAAAAAAAAAABAAAAAQAAAAEAAAAAAAAAAAAAAAEAAAAAAAAAAAAAAAEAAAABAAAAAAAAAAEAAAAAAAAAAQAAAAEAAAAAAAAAAAAAAAAAAAABAAAAAQAAAAEAAAAAAAAAAAAAAAAAAAABAAAAAAAAAAEAAAABAAAAAAAAAAEAAAABAAAAAQAAAAEAAAABAAAAAQAAAAAAAAADAAAAAwAAAAEAAAABAAAAAQAAAAEAAAABAAAAAQAAAAAAAAADAAAAAAAAAAAAAAAAAAAAAAAAAAEAAAABAAAAAQAAAAEAAAABAAAAAQAAAAAAAAABAAAAAAAAAAAAAAABAAAAAQAAAAAAAAABAAAAAAAAAAAAAAAAAAAAAAAAAAAAAAAAAAAAAAAAAAEAAAAAAAAAAAAAAAEAAAAAAAAAAAAAAAEAAAABAAAAAAAAAAEAAAAAAAAAAQAAAAEAAAABAAAAAQAAAAAAAAAAAAAAAQAAAAAAAAABAAAAAAAAAAAAAAAAAAAAAAAAAAAAAAAAAAAAAQAAAAEAAAABAAAAAAAAAAAAAAAAAAAAAAAAAAAAAAAAAAAAAAAAAAEAAAAAAAAAAQAAAAEAAAAAAAAAAQAAAAEAAAAAAAAAAAAAAAAAAAAAAAAAAQAAAAAAAAABAAAAAAAAAAAAAAAAAAAAAQAAAAAAAAAAAAAAAAAAAAEAAAADAAAAAAAAAAEAAAAAAAAAAQAAAAEAAAABAAAAAQAAAAEAAAAAAAAAAQAAAAEAAAAAAAAAAQAAAAAAAAABAAAAAQAAAAEAAAABAAAAAAAAAAEAAAABAAAAAAAAAAEAAAAAAAAAAQAAAAAAAAAAAAAAAQAAAAAAAAAAAAAAAQAAAAAAAAAAAAAAAAAAAAEAAAABAAAAAQAAAAEAAAAAAAAAAAAAAAAAAAAAAAAAAQAAAAEAAAABAAAAAAAAAAEAAAAAAAAAAAAAAAAAAAABAAAAAQAAAAAAAAAAAAAAAAAAAAEAAAAAAAAAAQAAAAEAAAAAAAAAAAAAAAEAAAAAAAAAAAAAAAAAAAABAAAAAQAAAAAAAAAAAAAAAAAAAAAAAAAAAAAAAQAAAAAAAAAAAAAAAwAAAAEAAAAAAAAAAQAAAAEAAAABAAAAAAAAAAMAAAAAAAAAAgAAAAAAAAAAAAAAAAAAAAEAAAABAAAAAAAAAA==\",\"dtype\":\"int32\",\"order\":\"little\",\"shape\":[637]},\"CoinName\":[\"42 Coin\",\"404Coin\",\"EliteCoin\",\"Bitcoin\",\"Litecoin\",\"Dash\",\"Ethereum Classic\",\"ZCash\",\"Bitshares\",\"DigiByte\",\"BitcoinDark\",\"Bitstake\",\"PayCoin\",\"ProsperCoin\",\"KoboCoin\",\"Spreadcoin\",\"ACoin\",\"Aero Coin\",\"ApexCoin\",\"ArchCoin\",\"Argentum\",\"Aurora Coin\",\"BetaCoin\",\"MyriadCoin\",\"MoonCoin\",\"ZetaCoin\",\"SexCoin\",\"Quatloo\",\"QuarkCoin\",\"Riecoin\",\"Digitalcoin \",\"LimeCoinX\",\"BitBar\",\"BitMark\",\"CashCoin\",\"Catcoin\",\"CryptoBullion\",\"CannaCoin\",\"CinderCoin\",\"CoolCoin\",\"CryptCoin\",\"CasinoCoin\",\"Diamond\",\"Verge\",\"DarkCash\",\"DarkShibe\",\"DevCoin\",\"EarthCoin\",\"E-Gulden\",\"Elacoin\",\"Einsteinium\",\"Emerald\",\"Flappy Coin\",\"Fuel2Coin\",\"FIBRE\",\"FireRoosterCoin\",\"Franko\",\"FeatherCoin\",\"GrandCoin\",\"GlobalCoin\",\"GoldCoin\",\"GlyphCoin\",\"HoboNickels\",\"HunterCoin\",\"Infinite Coin\",\"IOCoin\",\"IXcoin\",\"JumBucks Coin\",\"JudgeCoin\",\"KrugerCoin\",\"LuckyCoin\",\"Litebar \",\"LitecoinDark\",\"LibrexCoin\",\"MaxCoin\",\"MegaCoin\",\"MediterraneanCoin\",\"MinCoin\",\"MazaCoin\",\"Nautilus Coin\",\"NoirBits\",\"NobleCoin\",\"Namecoin\",\"NyanCoin\",\"Orbitcoin\",\"PotCoin\",\"PhoenixCoin\",\"RipOffCoin\",\"RonPaulCoin\",\"StableCoin\",\"ShieldCoin\",\"SilkCoin\",\"SmartCoin\",\"SpainCoin\",\"SecureCoin\",\"SyncCoin\",\"SysCoin\",\"TeslaCoin\",\"TigerCoin\",\"TittieCoin\",\"TorCoin\",\"TerraCoin\",\"Umbrella\",\"UnbreakableCoin\",\"Unobtanium\",\"UnitaryStatus Dollar\",\"UltraCoin\",\"ViaCoin\",\"Vertcoin\",\"WorldCoin\",\"SocialXbotCoin\",\"X11 Coin\",\"JouleCoin\",\"XXXCoin\",\"ZCC Coin\",\"ByteCoin\",\"DigitalNote \",\"BurstCoin\",\"StorjCoin\",\"MonaCoin\",\"Neutron\",\"Sling Coin\",\"KryptCoin\",\"Gulden\",\"PesetaCoin\",\"Kore\",\"Wild Beast Coin\",\"Dnotes\",\"Flo\",\"MaieutiCoin\",\"Sativa Coin\",\"AeroMe\",\"ArtByte\",\"MasterTraderCoin\",\"BitCredit\",\"Folding Coin\",\"Ucoin\",\"OmniCron\",\"Vtorrent\",\"GreenCoin\",\"Cryptonite\",\"Gridmaster\",\"ConSpiracy Coin \",\"MasterCoin\",\"SoonCoin\",\"1Credit\",\"Quicksilver coin\",\"Nexus\",\"MarsCoin \",\"Crypto\",\"Anarchists Prime\",\"Droidz\",\"BowsCoin\",\"Song Coin\",\"BitZeny\",\"Diggits\",\"Expanse\",\"MapCoin\",\"Paycon\",\"Emercoin\",\"BlitzCoin\",\"EverGreenCoin\",\"MindCoin\",\"I0coin\",\"Decred\",\"DogeCoinDark\",\"Revolution VR\",\"HOdlcoin\",\"EDRCoin\",\"Hitcoin\",\"Gamecredits\",\"Dashcoin\",\"DubaiCoin\",\"BiosCrypto\",\"CarpeDiemCoin\",\"TrumpCoin\",\"BillaryCoin\",\"EthereumScrypt\",\"Phalanx\",\"SunShotCoin\",\"GPU Coin\",\"HempCoin\",\"Adzcoin\",\"VirtaCoin\",\"SoilCoin\",\"YoCoin\",\"Universal Currency\",\"AEON\",\"SibCoin\",\"EuropeCoin\",\"Anti Bitcoin\",\"ZeitCoin\",\"SwingCoin\",\"SafeExchangeCoin\",\"Nebuchadnezzar\",\"Francs\",\"BolivarCoin\",\"GIZMOcoin\",\"SecretCoin\",\"Ratecoin\",\"Digital Bullion Gold\",\"Revenu\",\"Clinton\",\"Clockcoin\",\"VIP Tokens\",\"OrlyCoin\",\"BitSend\",\"16BitCoin\",\"ChessCoin\",\"ReeCoin\",\"Omni\",\"Let it Ride\",\"PutinCoin\",\"iBankCoin\",\"Frankywillcoin\",\"MudraCoin\",\"PizzaCoin\",\"Lutetium Coin\",\"Komodo\",\"GoldBlocks\",\"WayCoin\",\"CarterCoin\",\"Karbo\",\"BitTokens\",\"ZayedCoin\",\"MustangCoin\",\"ZoneCoin\",\"Circuits of Value\",\"DopeCoin\",\"PROUD Money\",\"DollarCoin\",\"Swiscoin\",\"Shilling\",\"BuzzCoin\",\"Opair\",\"GBR Coin\",\"Halloween Coin\",\"FujiCoin\",\"ZCoin\",\"LeaCoin\",\"CoffeeCoin\",\"RoyalCoin\",\"Zurcoin\",\"GanjaCoin V2\",\"TeamUP\",\"LanaCoin\",\"Elementrem\",\"CashOut\",\"ZClassic\",\"ARK\",\"InsaneCoin\",\"LuckChain\",\"KiloCoin\",\"Hush\",\"ArtexCoin\",\"EmberCoin\",\"XenixCoin\",\"FreeCoin\",\"NPCcoin\",\"PLNCoin\",\"Icobid\",\"AquariusCoin\",\"Kurrent\",\"Creatio\",\"Eternity\",\"Eurocoin\",\"BitcoinFast\",\"Stakenet\",\"BitConnect Coin\",\"MoneyCoin\",\"Enigma\",\"Cannabis Industry Coin\",\"Russiacoin\",\"PandaCoin\",\"GameUnits\",\"GAKHcoin\",\"Allsafe\",\"LiteCreed\",\"OsmiumCoin\",\"Bikercoins\",\"NeptuneClassic\",\"HexxCoin\",\"GoldenBird\",\"Ride My Car\",\"Klingon Empire Darsek\",\"Internet of People\",\"KushCoin\",\"Eryllium\",\"MarxCoin\",\"Printerium\",\"PacCoin\",\"Impeach\",\"Solarflarecoin\",\"Citadel\",\"Zilbercoin\",\"FirstCoin\",\"CreativeChain\",\"BeaverCoin\",\"FindCoin\",\"VaultCoin\",\"Zero\",\"OpenChat\",\"Canada eCoin\",\"Zoin\",\"Musicoin\",\"BnrtxCoin\",\"RenosCoin\",\"DubaiCoin\",\"VirtacoinPlus\",\"TajCoin\",\"Impact\",\"EB3coin\",\"Universe\",\"Atmos\",\"HappyCoin\",\"Coinonat\",\"MacronCoin\",\"Condensate\",\"Independent Money System\",\"ArgusCoin\",\"LomoCoin\",\"Bitcoin Scrypt\",\"ProCurrency\",\"GoldReserve\",\"BenjiRolls\",\"ParallelCoin\",\"GrowthCoin\",\"ILCoin\",\"Phreak\",\"Degas Coin\",\"ZSEcoin\",\"HTML5 Coin\",\"Ultimate Secure Cash\",\"EquiTrader\",\"QTUM\",\"Quantum Resistant Ledger\",\"Espers\",\"Nano\",\"ChanCoin\",\"Dinastycoin\",\"Denarius\",\"DigitalPrice\",\"Virta Unique Coin\",\"Bitcoin Planet\",\"Unify\",\"BritCoin\",\"SocialCoin\",\"Octanox\",\"ArcticCoin\",\"DAS\",\"Linda\",\"LeviarCoin\",\"DeepOnion\",\"Bitcore\",\"gCn Coin\",\"SmartCash\",\"Signatum\",\"Onix\",\"Cream\",\"Bitcoin Cash\",\"Monoeci\",\"CampusCoin\",\"Draftcoin\",\"Vechain\",\"Sojourn Coin\",\"Stakecoin\",\"LiteBitcoin\",\"FrazCoin\",\"Kronecoin\",\"AdCoin\",\"Linx\",\"CoinonatX\",\"Ethereum Dark\",\"Sumokoin\",\"Obsidian\",\"Cardano\",\"Regalcoin\",\"BitcoinZ\",\"TrezarCoin\",\"Elements\",\"TerraNovaCoin\",\"VIVO Coin\",\"Rupee\",\"Bitcoin Gold\",\"WomenCoin\",\"Theresa May Coin\",\"NamoCoin\",\"LUXCoin\",\"Pirl\",\"Xios\",\"Bitcloud 2.0\",\"eBoost\",\"KekCoin\",\"BlackholeCoin\",\"AltCommunity Coin\",\"Pure\",\"Rupaya\",\"Infinity Economics\",\"Pura\",\"Innova\",\"Bitdeal\",\"Ellaism\",\"Sakuracoin\",\"GoByte\",\"Castle\",\"Magnet\",\"Lamden Tau\",\"Electra\",\"Bitcoin Diamond\",\"SHIELD\",\"Cash & Back Coin\",\"UltraNote\",\"BitCoal\",\"DaxxCoin\",\"Bulwark\",\"Kalkulus\",\"AC3\",\"CHIPS\",\"Lethean\",\"GermanCoin\",\"LiteCoin Ultra\",\"PopularCoin\",\"PhantomX\",\"HTML Coin\",\"Photon\",\"Sucre\",\"Fantasy Cash\",\"SparksPay\",\"Digiwage\",\"GunCoin\",\"IrishCoin\",\"Trollcoin\",\"Litecoin Plus\",\"Monkey Project\",\"Pioneer Coin\",\"UnitedBitcoin\",\"Interzone\",\"OP Coin\",\"Valorbit\",\"TokenPay\",\"1717 Masonic Commemorative Token\",\"My Big Coin\",\"TurtleCoin\",\"MUNcoin\",\"Unified Society USDEX\",\"Niobio Cash\",\"Bitcoin Private\",\"Skeincoin\",\"ShareChain\",\"Travelflex\",\"KREDS\",\"Tokyo Coin\",\"BiblePay\",\"LitecoinCash\",\"BitFlip\",\"LottoCoin\",\"LeafCoin\",\"Cerberus\",\"Bitcoin Hush\",\"Crypto Improvement Fund\",\"Stipend\",\"Poa Network\",\"Pushi\",\"Ellerium\",\"Velox\",\"Ontology\",\"Callisto Network\",\"Curium\",\"BitTube\",\"Dinero\",\"Poseidon\",\"Aidos Kuneen\",\"Bitspace\",\"Snowgem\",\"Briacoin\",\"Ignition\",\"Bitrolium\",\"Bitcoin Interest\",\"MedicCoin\",\"Alpenschillling\",\"Zelcash\",\"Bitcoin Green\",\"Deviant Coin\",\"Abjcoin\",\"Profit Hunters Coin\",\"Semux\",\"BitBlocks\",\"FuturoCoin\",\"Carebit\",\"Zealium\",\"Monero Classic\",\"Proton\",\"iDealCash\",\"Jumpcoin\",\"Infinex\",\"Bitcoin Incognito\",\"KEYCO\",\"HollyWoodCoin\",\"GINcoin\",\"PlatinCoin\",\"Loki\",\"Newton Coin\",\"Swisscoin\",\"Xt3ch\",\"MassGrid\",\"TheVig\",\"PluraCoin\",\"EmaratCoin\",\"Dekado\",\"Lynx\",\"Poseidon Quark\",\"BitcoinWSpectrum\",\"Muse\",\"Motion\",\"PlusOneCoin\",\"Axe\",\"Trivechain\",\"Dystem\",\"Giant\",\"Peony Coin\",\"SafeCoin\",\"Absolute Coin\",\"Vitae\",\"HexCoin\",\"TPCash\",\"Webchain\",\"Ryo\",\"MUSDcoin\",\"Urals Coin\",\"Qwertycoin\",\"ARENON\",\"EUNO\",\"MMOCoin\",\"Ketan\",\"NIX\",\"Safe Trade Coin\",\"Project Pai\",\"Mont Blanc\",\"XDNA\",\"PAXEX\",\"Azart\",\"Apollon\",\"ThunderStake\",\"Kcash\",\"Xchange\",\"Acute Angle Cloud\",\"Traid\",\"CrypticCoin\",\"Bettex coin\",\"ZestCoin\",\"X-CASH\",\"Actinium\",\"ETHER-1\",\"Bitcoin SV\",\"BitMoney\",\"Bitcoiin2Gen\",\"FREDEnergy\",\"Zenad\",\"C25 Coin\",\"HerbCoin\",\"Aquachain\",\"Universal Molecule\",\"Lithium\",\"Smart Bitcoin\",\"PirateCash\",\"Exosis\",\"Block-Logic\",\"Oduwa\",\"Beam\",\"Galilel\",\"Bithereum\",\"Crypto Sports\",\"Credit\",\"SLICE\",\"Dash Platinum\",\"Nasdacoin\",\"Vidulum\",\"Beetle Coin\",\"Titan Coin\",\"Award\",\"BlockStamp\",\"BLAST\",\"Bitcoin Rhodium\",\"GlobalToken\",\"Insane Coin\",\"ALAX\",\"The Freedom Coin\",\"LiteDoge\",\"Boolberry\",\"SolarCoin\",\"UFO Coin\",\"OrangeCoin\",\"BlakeCoin\",\"BitstarCoin\",\"NeosCoin\",\"PinkCoin\",\"FantomCoin \",\"Crypto Escudo\",\"AudioCoin\",\"IncaKoin\",\"Piggy Coin\",\"Crown Coin\",\"Genstake\",\"Quazar Coin\",\"SmileyCoin\",\"ParkByte\",\"XiaoMiCoin\",\"Groestlcoin\",\"CapriCoin\",\" ClubCoin\",\"Radium\",\"Bata\",\"Pakcoin\",\"Creditbit \",\"OKCash\",\"Lisk\",\"HiCoin\",\"WhiteCoin\",\"Dotcoin\",\"FriendshipCoin\",\"The Hempcoin\",\"Fiii\",\"JoinCoin\",\"Triangles Coin\",\"Vollar\",\"Reality Clash\",\"iOlite\",\"TigerCash\",\"Waves\",\"Particl\",\"BitTorrent\",\"Nxt\",\"ZEPHYR\",\"Gapcoin\",\"Beldex\",\"Horizen\",\"BitcoinPlus\"],\"ProofType\":[\"PoW/PoS\",\"PoW/PoS\",\"PoW/PoS\",\"PoW\",\"PoW\",\"PoW/PoS\",\"PoW\",\"PoW\",\"PoS\",\"PoW\",\"PoW/PoS\",\"PoW/PoS\",\"PoS\",\"PoW\",\"PoW/PoS\",\"PoW\",\"PoW\",\"PoS\",\"PoW/PoS\",\"PoS\",\"PoW\",\"PoW/PoS\",\"PoW\",\"PoW\",\"PoW\",\"PoW\",\"PoW\",\"PoW\",\"PoW\",\"PoW\",\"PoW\",\"PoW\",\"PoW/PoS\",\"PoW\",\"PoW/PoS\",\"PoW\",\"PoW/PoS\",\"PoW\",\"PoW/PoS\",\"PoS\",\"PoW\",\"PoC\",\"PoW/PoS\",\"PoW\",\"PoW/PoS\",\"PoW\",\"PoW\",\"PoW\",\"PoW\",\"PoW\",\"PoW\",\"PoW\",\"PoW\",\"PoS\",\"PoW/PoS\",\"PoW\",\"PoW\",\"PoW\",\"PoW\",\"PoW\",\"PoW\",\"PoW/PoS\",\"PoW/PoS\",\"PoW\",\"PoW\",\"PoW/PoS\",\"PoW\",\"PoW/PoS\",\"PoW/PoS\",\"PoW\",\"PoW\",\"PoW\",\"PoW\",\"PoW/PoS\",\"PoW/PoS\",\"PoW\",\"PoW\",\"PoW\",\"PoW/PoS\",\"PoS\",\"PoW\",\"PoW\",\"PoW\",\"PoW\",\"PoW/PoS\",\"PoW/PoS\",\"PoW/PoS\",\"PoW\",\"PoW\",\"PoW\",\"PoW/PoS\",\"PoW/PoS\",\"PoW\",\"PoW\",\"PoW\",\"PoW/PoS\",\"PoW\",\"PoS\",\"PoW\",\"PoS\",\"PoW/PoS\",\"PoW\",\"PoW\",\"PoW\",\"PoW\",\"PoW/PoS\",\"PoW/PoS\",\"PoW\",\"PoW\",\"PoW\",\"PoW/PoS\",\"PoW/PoS\",\"PoW\",\"PoW/PoS\",\"PoW/PoS\",\"PoW\",\"PoW\",\"PoC\",\"PoS\",\"PoW\",\"PoW/PoS\",\"PoW\",\"PoS\",\"PoW\",\"PoW\",\"PoW/PoS\",\"PoW\",\"PoS\",\"PoW\",\"PoS\",\"PoW/PoS\",\"PoW/PoS\",\"PoW\",\"PoW/PoS\",\"PoW\",\"PoW\",\"PoS\",\"PoW\",\"PoW/PoS\",\"PoW\",\"PoW\",\"PoW\",\"PoW\",\"PoW\",\"PoW\",\"PoW\",\"PoW\",\"PoW/nPoS\",\"PoW\",\"PoW\",\"PoW\",\"PoW/PoS\",\"PoW\",\"PoW\",\"PoW\",\"PoS\",\"PoW\",\"PoS\",\"PoW/PoS\",\"PoW/PoS\",\"PoS\",\"PoW/PoS\",\"PoW\",\"PoW\",\"PoW/PoS\",\"PoW\",\"PoW\",\"PoW\",\"PoW/PoS\",\"PoW/PoS\",\"PoW\",\"PoW\",\"PoW/PoS\",\"PoW/PoS\",\"PoW\",\"PoS\",\"PoW/PoS\",\"PoW/PoS\",\"PoW\",\"PoW\",\"PoS\",\"PoW\",\"PoW\",\"PoW\",\"PoW\",\"PoW\",\"PoW/PoS\",\"PoW\",\"PoW\",\"PoW/PoS\",\"PoW\",\"PoS\",\"PoW/PoS\",\"PoC\",\"PoS\",\"PoW\",\"PoW\",\"PoW/PoS\",\"PoW/PoS\",\"PoW/PoS\",\"PoS\",\"PoW/PoS\",\"PoW\",\"PoW/PoS\",\"PoW/PoS\",\"PoW/PoS\",\"PoW/PoS\",\"PoW/PoS\",\"PoW/PoS\",\"PoW/PoS\",\"PoW\",\"PoS\",\"PoW/PoS\",\"PoW/PoS\",\"PoW/PoS\",\"PoS\",\"PoW\",\"PoS\",\"dPoW/PoW\",\"PoW/PoS\",\"PoS\",\"PoW/PoS\",\"PoW\",\"PoW/PoS\",\"PoW\",\"PoW/PoS\",\"PoW/PoS\",\"PoW\",\"PoW\",\"PoW/PoS\",\"PoW\",\"PoW/PoW\",\"PoW\",\"PoW/PoS\",\"PoS\",\"PoW\",\"PoW/PoS\",\"PoW\",\"PoW\",\"PoW\",\"PoS\",\"PoS\",\"PoW\",\"PoW/PoS\",\"PoS\",\"PoW/PoS\",\"PoW\",\"PoW\",\"PoW\",\"DPoS\",\"PoW/PoS\",\"PoW/PoS\",\"PoW\",\"PoW\",\"PoW\",\"PoW/PoS\",\"PoW/PoS\",\"PoS\",\"PoW/PoS\",\"PoW/PoS\",\"PoW/PoS\",\"PoW/PoS\",\"PoW\",\"PoS\",\"PoW/PoS\",\"PoW/PoS\",\"PoW/PoS\",\"TPoS\",\"PoW/PoS\",\"PoW/PoS\",\"PoW/PoS\",\"PoW\",\"PoW/PoS\",\"PoS\",\"PoW/PoS\",\"PoW/PoS\",\"PoS\",\"PoW/PoS\",\"PoW\",\"PoW\",\"PoW/PoS\",\"PoW\",\"PoW/PoS\",\"PoS\",\"PoW/PoS\",\"PoW/PoS\",\"PoW/PoS\",\"PoW/PoS\",\"PoW\",\"PoW/PoS\",\"PoW\",\"PoW/PoS\",\"PoW\",\"PoW\",\"PoS\",\"PoW/PoS \",\"PoW\",\"PoW\",\"PoS\",\"PoW\",\"PoW\",\"PoW/PoS\",\"PoW\",\"PoW\",\"PoW\",\"PoW\",\"PoS\",\"PoW\",\"PoW/PoS\",\"PoW/PoS\",\"PoW/PoS\",\"PoW\",\"PoS\",\"PoS\",\"PoW/PoS\",\"PoW\",\"PoS\",\"PoW/PoS\",\"PoW/PoS\",\"PoW/PoS\",\"PoW/PoS\",\"PoW\",\"PoS\",\"PoW/PoS\",\"PoW\",\"PoW\",\"PoS\",\"PoW\",\"PoS\",\"PoW/PoS\",\"PoW/PoS\",\"PoW/PoS\",\"PoS\",\"PoW\",\"PoS\",\"PoW\",\"PoW/PoS\",\"PoW\",\"PoW\",\"PoW\",\"PoW/PoS\",\"PoW\",\"PoW/PoS\",\"PoW/PoS\",\"PoW\",\"PoW/PoS\",\"PoW\",\"PoW/PoS\",\"PoW\",\"PoW\",\"PoW/PoS\",\"PoW\",\"PoW/PoS\",\"PoW\",\"PoW\",\"PoW\",\"PoS\",\"PoW\",\"PoW/PoS\",\"PoW\",\"PoW/PoS\",\"PoW\",\"PoS\",\"Proof of Authority\",\"PoW\",\"PoS\",\"PoW\",\"PoW\",\"PoW\",\"PoW\",\"PoW\",\"PoW/PoS\",\"PoW/PoS\",\"PoW\",\"PoS\",\"PoS\",\"PoW/PoS\",\"PoW\",\"PoW/PoS\",\"PoW\",\"PoW/PoS\",\"PoW\",\"PoS\",\"PoW\",\"PoW/PoS\",\"PoW/PoS\",\"PoW/PoS\",\"PoW/PoS\",\"PoW\",\"PoW/PoS\",\"PoW/PoS\",\"PoW\",\"PoS\",\"PoW/PoS\",\"PoW/PoS\",\"PoW/PoS\",\"PoS\",\"PoS\",\"PoW\",\"PoW\",\"PoW\",\"PoW\",\"PoW\",\"PoW\",\"DPoS\",\"PoW/PoS\",\"DPoS\",\"PoW/PoS\",\"PoW/PoS\",\"PoW\",\"PoW/PoS\",\"PoW\",\"PoW\",\"PoW\",\"PoS\",\"PoS\",\"PoW\",\"PoW\",\"PoW\",\"PoW/PoS\",\"PoW/PoS\",\"PoW\",\"PoW/PoS\",\"PoW/PoS\",\"PoW\",\"PoW\",\"PoW/PoS\",\"PoW\",\"PoS\",\"PoW\",\"PoW\",\"PoW/PoS\",\"PoW/PoS\",\"PoS\",\"PoW\",\"PoW\",\"PoW\",\"PoW/PoS\",\"PoW/PoS\",\"PoS\",\"PoS\",\"PoW and PoS\",\"PoW\",\"PoW\",\"PoW/PoS\",\"PoW\",\"PoW\",\"PoW\",\"PoW\",\"PoW\",\"PoW\",\"PoS\",\"POBh\",\"PoW + Hive\",\"PoW\",\"PoW\",\"PoW\",\"PoW\",\"PoW\",\"PoW\",\"PoW/PoS\",\"PoA\",\"PoW/PoS\",\"PoW/PoS\",\"PoS\",\"PoS\",\"PoW\",\"PoW\",\"PoW\",\"PoW\",\"PoW\",\"PoW\",\"PoW/PoS\",\"PoW\",\"PoW/PoS\",\"PoW/PoS\",\"PoW\",\"PoW\",\"PoS\",\"PoW\",\"PoW/PoS\",\"PoS\",\"PoS\",\"PoW/PoS\",\"PoW/PoS\",\"DPoS\",\"PoW/PoS\",\"PoW\",\"PoW/PoS\",\"PoS\",\"PoW\",\"PoS\",\"PoW/PoS\",\"PoW\",\"PoW\",\"PoS/PoW\",\"PoW\",\"PoS\",\"PoW\",\"PoW\",\"PoW\",\"PoW\",\"PoW/PoS\",\"PoS\",\"PoW\",\"PoW/PoS\",\"PoW\",\"PoW/PoS\",\"PoS\",\"HPoW\",\"PoS\",\"PoS\",\"PoS\",\"PoW\",\"PoW\",\"PoW\",\"PoW/PoS\",\"PoS\",\"PoW/PoS\",\"PoS\",\"PoW/PoS\",\"PoW/PoS\",\"PoS\",\"PoW\",\"PoW/PoS\",\"PoW\",\"PoW\",\"PoW/PoS\",\"PoW\",\"PoW\",\"PoS\",\"PoW/PoS\",\"PoS\",\"PoS\",\"PoW\",\"PoS\",\"PoW\",\"PoS\",\"PoW/PoS\",\"PoS\",\"PoW\",\"PoW/PoS\",\"PoW/PoS\",\"Zero-Knowledge Proof\",\"PoW\",\"DPOS\",\"PoW/PoS\",\"PoW\",\"PoS\",\"PoW\",\"PoW\",\"PoW\",\"PoW\",\"PoW\",\"Pos\",\"PoW\",\"PoW\",\"POS / MN\",\"PoW\",\"PoW/PoS\",\"PoW\",\"PoW\",\"PoW\",\"PoW\",\"PoS\",\"PoW\",\"PoW\",\"PoW/PoS\",\"PoW\",\"PoW/PoS\",\"PoW\",\"PoS\",\"PoW/PoS\",\"PoW\",\"PoS\",\"PoW/PoS\",\"PoW\",\"PoW/PoS\",\"PoW/PoS\",\"PoW/PoS\",\"PoW\",\"PoW\",\"PoW\",\"PoW\",\"PoW/PoS\",\"DPoS\",\"PoS\",\"PoW/PoS\",\"PoW\",\"PoW\",\"PoW\",\"PoW/PoS\",\"PoW\",\"PoW/PoS\",\"PoS\",\"PoW/PoS\",\"PoW\",\"PoW\",\"PoW/PoS\",\"PoW/PoS\",\"PoW/PoS\",\"PoW\",\"PoW/PoS\",\"PoW\",\"PoW\",\"PoW/PoS\",\"PoW/PoS\",\"PoW\",\"PoW/PoS\",\"PoW/PoS\",\"PoS\",\"PoW\",\"PoW\",\"Proof of Trust\",\"PoW/PoS\",\"DPoS\",\"PoS\",\"PoW/PoS\",\"PoW\",\"PoW/PoS\",\"PoW/PoS\",\"DPoC\",\"PoW\",\"PoW/PoS\",\"PoW\",\"PoW\",\"PoW\",\"PoS\",\"LPoS\",\"PoS\",\"DPoS\",\"PoS/LPoS\",\"DPoS\",\"PoW/PoS\",\"PoW\",\"PoW\",\"PoS\"],\"TotalCoinSupply\":[\"42\",\"532000000\",\"314159265359\",\"21000000\",\"84000000\",\"22000000\",\"210000000\",\"21000000\",\"3600570502\",\"21000000000\",\"22000000\",\"1300000\",\"12500000\",\"21000000\",\"350000000\",\"20000000\",\"1600000\",\"7000000\",\"6000000\",\"16403135\",\"64000000\",\"16768584\",\"32000000\",\"2000000000\",\"384000000000\",\"169795588\",\"250000000\",\"100000000\",\"247000000\",\"84000000\",\"48166000\",\"21000000 \",\"500000\",\"27580000\",\"47433600\",\"21000000 \",\"1000000\",\"13140000\",\"114000000\",\"100000000\",\"18000000\",\"40000000000\",\"4380000\",\"16555000000\",\"3720000\",\"2043962\",\"21000000000\",\"13500000000\",\"21000000 \",\"75000000\",\"299792458\",\"32000000\",\"100000000000\",\"100000000\",\"624000\",\"2602410\",\"11235813\",\"336000000\",\"1420609614\",\"70000000\",\"72245700\",\"7000000\",\"120000000\",\"42000000\",\"90600000000\",\"22000000\",\"21000000\",\"3293010\",\"21600000\",\"265420800\",\"20000000\",\"1350000\",\"82003200\",\"1000000\",\"100000000\",\"42000000\",\"200000000\",\"10000000\",\"2419200000\",\"16180000\",\"50000000\",\"15000000000\",\"21000000\",\"337000000\",\"3770000\",\"420000000\",\"98000000\",\"12000000\",\"21000000\",\"250000000\",\"1000000\",\"1000000\",\"51200000\",\"50000000\",\"21000000\",\"1000\",\"888000000\",\"100000000\",\"47011968\",\"2300000000\",\"10000000\",\"42000000\",\"2625000\",\"80000000\",\"250000\",\"1600000000\",\"100000000\",\"23000000\",\"84000000\",\"265420800\",\"2000000\",\"5500000\",\"45000000\",\"50000000\",\"1000000000\",\"184467440735\",\"10000000000\",\"2158812800\",\"500000000\",\"105120000\",\"68000000\",\"1000000\",\"17000000\",\"1680000000\",\"166386000\",\"12000000\",\"2628000\",\"500000000\",\"160000000\",\"2014\",\"10000000\",\"12000000\",\"1000000000\",\"10110000\",\"210000000\",\"1000000000\",\"20000000\",\"3371337\",\"20000000\",\"10000000000\",\"1840000000\",\"84000000\",\"33000000\",\"619478\",\"21000000\",\"92000000000\",\"33000000\",\"78000000\",\"33000000\",\"65789100\",\"53760000\",\"5060000\",\"21000000\",\"210240000\",\"250000000\",\"100000000\",\"16906397\",\"2228921.184\",\"50000000\",\"1000000000\",\"3852156\",\"26298000\",\"16000000\",\"21000000\",\"21000000\",\"16500000000\",\"210000000\",\"81962100\",\"22000000\",\"26550000000\",\"84000000\",\"18446744\",\"10500000\",\"20190463.54969237\",\"21626280000 \",\"12000000\",\"42000000\",\"4200000\",\"15000000\",\"2250000000\",\"221052632\",\"5000000000\",\"84000000\",\"21000000000\",\"30000000\",\"168351300\",\"210000000\",\"18400000\",\"24000000\",\"384000000\",\"42000000\",\" 99000000000\",\"40000000\",\"2147483647\",\"20000000\",\"20000000\",\"25000000\",\"100000\",\"21000000\",\"75000000\",\"15000000\",\"222725000\",\"2421227\",\"525000000\",\"90000000\",\"36000000\",\"139000000\",\"16000000\",\"74666667\",\"350000000\",\"616448\",\"33500000\",\"2000000000\",\"44333333\",\"100000000\",\"200000000\",\"25000000\",\"657000000\",\"200000000\",\"50000000\",\"100000000\",\"90000000\",\"10000000\",\"21000000\",\"9736000\",\"3000000\",\"21000000\",\"1200000000\",\"200000000\",\"10000000000\",\"10638298\",\"3100000000\",\"30000000\",\"20000000000\",\"74000000\",\"87500000\",\"1500000000\",\"10000000\",\"21400000\",\"2000000000\",\"39999898\",\"2500124\",\"126000000\",\"100000000\",\"301000000\",\"7506000000\",\"26205539\",\"100000000\",\"21000000\",\"125000000\",\"30000000\",\"1000000000\",\"10000000000\",\"21000000\",\"500000000\",\"850000000\",\"3853326.77707314\",\"50000000\",\"7000000000\",\"38540000 \",\"200000000 \",\"42000000\",\"228000000\",\"20000000\",\"60000000\",\"20000000\",\"33000000\",\"76500000\",\"28000000\",\"650659833\",\"5000000\",\"21000000\",\"144000000\",\"32514916898\",\"13000000\",\"3315789\",\"15000000\",\"78835200\",\"2714286\",\"25000000\",\"250000000\",\"9999999\",\"450000000\",\"100000000\",\"500000000\",\"21000000\",\"9354000\",\"100000000\",\"100640000\",\"20000000\",\"100000000000\",\"21933333\",\"20000000\",\"185000000\",\"55000000\",\"110000000\",\"115000000\",\"3360000\",\"14524851.4827\",\"1000000000\",\"17000000\",\"1000000000\",\"100000000 \",\"21000000\",\"454898394\",\"210000000\",\"34426423\",\"2232901\",\"100000000\",\"36900000\",\"110000000\",\"4000000000\",\"112000000\",\"110290030\",\"100000000\",\"48252000\",\"400000000\",\"500000000\",\"21212121\",\"28600000\",\"1000000000\",\"21000000\",\"75000000000\",\"40000000\",\"35520400\",\"1000000\",\"2000000000\",\"2500000000\",\"30000000\",\"105000000\",\"2093500000\",\"90000000000\",\"200084200\",\"72000000\",\"100000000\",\"105000000\",\"50000000000\",\"340282367\",\"30000000\",\"2000000000\",\"10000000\",\"100000000\",\"120000000\",\"100000000\",\"19276800\",\"30000000\",\" 75000000\",\"7905634\",\"60000000\",\"18900000\",\"50000000000\",\"54000000\",\"18898187.6216583\",\"21000000\",\"200000000000\",\"5000000000\",\"137500000\",\"1100000000\",\"100000000\",\"21000000\",\"9507271\",\"1010000000\",\"17405891.19707116\",\"86712634466\",\"10500000000\",\"61599965\",\"1000000000\",\"20000000\",\"84000000\",\"100000000\",\"100000000\",\"48252000\",\"4200000\",\"88888888\",\"91388946\",\"45000000000\",\"27000000\",\"21000000000\",\"400000000\",\"1800000000\",\"15733333\",\"27000000\",\"24000000\",\"21000000\",\"25000000000\",\"100000000\",\"1200000000\",\"60000000\",\"156306732.71\",\"21000000\",\"200000000\",\"100000000\",\"21000000\",\"14788275.991\",\"5000000\",\"3686860\",\"75000000\",\"9000000000\",\"350000000\",\"45000000\",\"300000000\",\"280000000\",\"105100000\",\"31800000\",\"50000000 \",\"144000000\",\"500000000\",\"30000000000\",\"210000000\",\"660000000\",\"210000000\",\"85000000000\",\"12500000\",\"10000000000\",\"27716121\",\"20000000\",\"550000000\",\"21000000\",\"999481516\",\"50000000000\",\"150000000\",\"4999999999\",\"50000000\",\"90000000000\",\" 90000000000\",\"19800000\",\"4600000\",\"21000000\",\"120000000\",\"500000000\",\"64000000\",\"900000000\",\"4000000\",\"21000000\",\"23000000\",\"20166000\",\"23000000\",\"2000000000\",\"92233720000000000\",\"25000000\",\"1618033\",\"30000000\",\"1000000000000\",\"16600000\",\"232000000\",\"336000000\",\"21000000\",\"17000000\",\"10000000000\",\"100000000\",\"1100000000\",\"800000000\",\"5200000000\",\"840000000\",\"40000000\",\"18406979840\",\"21000000000\",\"31500000\",\"21000000\",\"500000000\",\"19340594\",\"252460800\",\"25000000\",\"60000000\",\"124000000\",\"1000000000\",\"6500000000\",\"22000000\",\"1000000000\",\"100000000\",\"21000000\",\"25000000\",\"50000000\",\"84096000\",\"3000000\",\"5000000\",\"70000000\",\"22300000\",\"500000000\",\"300000000\",\"210000000\",\"21000000\",\"88000000\",\"30000000\",\"100000000\",\"100000000\",\"500000000\",\"100000000\",\"200000000\",\"80000000\",\"18400000\",\"45000000\",\"5121951220\",\"21000000\",\"26280000\",\"21000000\",\"18000000\",\"26000000\",\"10500000\",\"600000518\",\"150000000\",\"184000000000\",\"10200000000\",\"44000000\",\"168000000\",\"100000000\",\"1000000000\",\"84000000\",\"90000000\",\"92000000000\",\"650000000 \",\"100262205\",\"18081806 \",\"22075700\",\"21000000\",\"21000000\",\"82546564\",\"21000000\",\"5151000\",\"16880000000\",\"36000000\",\"52500000\",\"100000000\",\"22105263\",\"1000000000\",\"1750000000\",\"88188888\",\"100000000\",\"210000000\",\"184470000000\",\"55000000\",\"50000000\",\"260000000\",\"210000000\",\"175000000\",\"840000000\",\"2100000000\",\"70000000\",\"366000000\",\"100000000\",\"25000000\",\"250000000\",\"18000000000\",\"1000000000\",\"100000000\",\"1000000000\",\"252000000\",\"7600000000\",\"50000000\",\"29300000\",\"100000000000\",\"84000000\",\"13666237\",\"21000000\",\"70000000000\",\"100000000\",\"8080000000\",\"46000000\",\"6100000\",\"54000000\",\"42000000\",\"105120001.44\",\"25228800\",\"20999764\",\"105000000\",\"21000000\",\"120000000\",\"21000000\",\"262800000\",\"19035999\",\"30886000\",\"13370000\",\"74800000000\",\"100000000\",\"19700000\",\"84000000\",\"100000000\",\"500000000\",\"5000000000\",\"420000000\",\"105000000\",\"64000000\",\"2100000\",\"168000000\",\"30000000\",\"1000000000\",\"25000000\",\"35000000000\",\"18450000\",\"98100000000\",\"4000000000\",\"200000000\",\"7000000000\",\"54256119\",\"21000000\",\"500000000\",\"18400000\",\"1000000000\",\"10500000000\",\"190000000\",\"1000000000\",\"42000000\",\"15000000\",\"18446744\",\"50000000000\",\"25000000\",\"400000000\",\"105000000\",\"208000000\",\"160000000\",\"9000000\",\"5000000\",\"182000000\",\"16504333\",\"105000000\",\"159918400\",\"10008835635\",\"300000000\",\"890000000\",\"60168145\",\"300000000\",\"5000000000\",\"2800000\",\"120000\",\"2100000000\",\"24487944\",\"1000000000\",\"1000000000\",\"100000000\",\"8634140\",\"990000000000\",\"1000000000\",\"2000000000\",\"250000000\",\"1400222610\",\"21000000\",\"1000000\"],\"TotalCoinsMined\":{\"__ndarray__\":\"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\",\"dtype\":\"float64\",\"order\":\"little\",\"shape\":[637]}},\"selected\":{\"id\":\"1105\"},\"selection_policy\":{\"id\":\"1139\"}},\"id\":\"1104\",\"type\":\"ColumnDataSource\"},{\"attributes\":{},\"id\":\"1139\",\"type\":\"UnionRenderers\"},{\"attributes\":{},\"id\":\"1116\",\"type\":\"StringFormatter\"},{\"attributes\":{\"editor\":{\"id\":\"1127\"},\"field\":\"TotalCoinsMined\",\"formatter\":{\"id\":\"1126\"},\"title\":\"TotalCoinsMined\"},\"id\":\"1128\",\"type\":\"TableColumn\"},{\"attributes\":{\"editor\":{\"id\":\"1132\"},\"field\":\"Class\",\"formatter\":{\"id\":\"1131\"},\"title\":\"Class\"},\"id\":\"1133\",\"type\":\"TableColumn\"},{\"attributes\":{\"children\":[{\"id\":\"1103\"},{\"id\":\"1136\"},{\"id\":\"1142\"}],\"margin\":[0,0,0,0],\"name\":\"Row01703\",\"tags\":[\"embedded\"]},\"id\":\"1102\",\"type\":\"Row\"},{\"attributes\":{\"editor\":{\"id\":\"1107\"},\"field\":\"CoinName\",\"formatter\":{\"id\":\"1106\"},\"title\":\"CoinName\"},\"id\":\"1108\",\"type\":\"TableColumn\"},{\"attributes\":{},\"id\":\"1127\",\"type\":\"NumberEditor\"},{\"attributes\":{\"editor\":{\"id\":\"1117\"},\"field\":\"ProofType\",\"formatter\":{\"id\":\"1116\"},\"title\":\"ProofType\"},\"id\":\"1118\",\"type\":\"TableColumn\"}],\"root_ids\":[\"1102\"]},\"title\":\"Bokeh Application\",\"version\":\"2.2.3\"}};\n",
       "    var render_items = [{\"docid\":\"b81eaef2-6dfc-40e9-b45b-08b570f888de\",\"root_ids\":[\"1102\"],\"roots\":{\"1102\":\"3f71653b-fe6d-4f01-b4d7-a623dd5052d6\"}}];\n",
       "    root.Bokeh.embed.embed_items_notebook(docs_json, render_items);\n",
       "  }\n",
       "  if (root.Bokeh !== undefined && root.Bokeh.Panel !== undefined) {\n",
       "    embed_document(root);\n",
       "  } else {\n",
       "    var attempts = 0;\n",
       "    var timer = setInterval(function(root) {\n",
       "      if (root.Bokeh !== undefined && root.Bokeh.Panel !== undefined) {\n",
       "        clearInterval(timer);\n",
       "        embed_document(root);\n",
       "      } else if (document.readyState == \"complete\") {\n",
       "        attempts++;\n",
       "        if (attempts > 100) {\n",
       "          clearInterval(timer);\n",
       "          console.log(\"Bokeh: ERROR: Unable to run BokehJS code because BokehJS library is missing\");\n",
       "        }\n",
       "      }\n",
       "    }, 10, root)\n",
       "  }\n",
       "})(window);</script>"
      ],
      "text/plain": [
       ":Table   [CoinName,Algorithm,ProofType,TotalCoinSupply,TotalCoinsMined,Class]"
      ]
     },
     "execution_count": 47,
     "metadata": {
      "application/vnd.holoviews_exec.v0+json": {
       "id": "1102"
      }
     },
     "output_type": "execute_result"
    }
   ],
   "source": [
    "# Create a table with tradable cryptocurrencies.\n",
    "clustered_df.hvplot.table(columns=['CoinName', 'Algorithm', 'ProofType', 'TotalCoinSupply', 'TotalCoinsMined', 'Class'], sortable=True, selectable=True)"
   ]
  },
  {
   "cell_type": "code",
   "execution_count": 50,
   "metadata": {},
   "outputs": [
    {
     "name": "stdout",
     "output_type": "stream",
     "text": [
      "There are 637 tradable cryptocurrencies\n"
     ]
    }
   ],
   "source": [
    "# Print the total number of tradable cryptocurrencies.\n",
    "print(f\"There are {len(clustered_df.index)} tradable cryptocurrencies\")"
   ]
  },
  {
   "cell_type": "code",
   "execution_count": 53,
   "metadata": {},
   "outputs": [
    {
     "name": "stdout",
     "output_type": "stream",
     "text": [
      "[[0.00000000e+00 5.94230127e-03]\n",
      " [5.76795513e-09 7.00182308e-03]\n",
      " [3.40612159e-06 3.53420682e-02]\n",
      " ...\n",
      " [1.51812436e-08 6.92655266e-03]\n",
      " [2.27682002e-10 5.94962775e-03]\n",
      " [1.08415664e-11 5.94243008e-03]]\n"
     ]
    }
   ],
   "source": [
    "# Scaling data to create the scatter plot with tradable cryptocurrencies.\n",
    "from sklearn.preprocessing import MinMaxScaler\n",
    "scatter_scaled_df = pd.DataFrame(clustered_df[['TotalCoinSupply', 'TotalCoinsMined']], index=clustered_df.index)\n",
    "scatter_scaled = MinMaxScaler().fit_transform(scatter_scaled_df)\n",
    "print(scatter_scaled)"
   ]
  },
  {
   "cell_type": "code",
   "execution_count": 58,
   "metadata": {},
   "outputs": [
    {
     "data": {
      "text/html": [
       "<div>\n",
       "<style scoped>\n",
       "    .dataframe tbody tr th:only-of-type {\n",
       "        vertical-align: middle;\n",
       "    }\n",
       "\n",
       "    .dataframe tbody tr th {\n",
       "        vertical-align: top;\n",
       "    }\n",
       "\n",
       "    .dataframe thead th {\n",
       "        text-align: right;\n",
       "    }\n",
       "</style>\n",
       "<table border=\"1\" class=\"dataframe\">\n",
       "  <thead>\n",
       "    <tr style=\"text-align: right;\">\n",
       "      <th></th>\n",
       "      <th>TotalCoinSupply</th>\n",
       "      <th>TotalCoinsMined</th>\n",
       "      <th>CoinName</th>\n",
       "      <th>Class</th>\n",
       "    </tr>\n",
       "  </thead>\n",
       "  <tbody>\n",
       "    <tr>\n",
       "      <th>42</th>\n",
       "      <td>0.000000e+00</td>\n",
       "      <td>0.005942</td>\n",
       "      <td>42 Coin</td>\n",
       "      <td>0</td>\n",
       "    </tr>\n",
       "    <tr>\n",
       "      <th>404</th>\n",
       "      <td>5.767955e-09</td>\n",
       "      <td>0.007002</td>\n",
       "      <td>404Coin</td>\n",
       "      <td>0</td>\n",
       "    </tr>\n",
       "    <tr>\n",
       "      <th>1337</th>\n",
       "      <td>3.406122e-06</td>\n",
       "      <td>0.035342</td>\n",
       "      <td>EliteCoin</td>\n",
       "      <td>0</td>\n",
       "    </tr>\n",
       "    <tr>\n",
       "      <th>BTC</th>\n",
       "      <td>2.276820e-10</td>\n",
       "      <td>0.005960</td>\n",
       "      <td>Bitcoin</td>\n",
       "      <td>1</td>\n",
       "    </tr>\n",
       "    <tr>\n",
       "      <th>LTC</th>\n",
       "      <td>9.107294e-10</td>\n",
       "      <td>0.006006</td>\n",
       "      <td>Litecoin</td>\n",
       "      <td>1</td>\n",
       "    </tr>\n",
       "    <tr>\n",
       "      <th>DASH</th>\n",
       "      <td>2.385240e-10</td>\n",
       "      <td>0.005951</td>\n",
       "      <td>Dash</td>\n",
       "      <td>0</td>\n",
       "    </tr>\n",
       "    <tr>\n",
       "      <th>ETC</th>\n",
       "      <td>2.276824e-09</td>\n",
       "      <td>0.006056</td>\n",
       "      <td>Ethereum Classic</td>\n",
       "      <td>1</td>\n",
       "    </tr>\n",
       "    <tr>\n",
       "      <th>ZEC</th>\n",
       "      <td>2.276820e-10</td>\n",
       "      <td>0.005950</td>\n",
       "      <td>ZCash</td>\n",
       "      <td>1</td>\n",
       "    </tr>\n",
       "    <tr>\n",
       "      <th>BTS</th>\n",
       "      <td>3.903746e-08</td>\n",
       "      <td>0.008695</td>\n",
       "      <td>Bitshares</td>\n",
       "      <td>0</td>\n",
       "    </tr>\n",
       "    <tr>\n",
       "      <th>DGB</th>\n",
       "      <td>2.276825e-07</td>\n",
       "      <td>0.017395</td>\n",
       "      <td>DigiByte</td>\n",
       "      <td>1</td>\n",
       "    </tr>\n",
       "  </tbody>\n",
       "</table>\n",
       "</div>"
      ],
      "text/plain": [
       "      TotalCoinSupply  TotalCoinsMined          CoinName  Class\n",
       "42       0.000000e+00         0.005942           42 Coin      0\n",
       "404      5.767955e-09         0.007002           404Coin      0\n",
       "1337     3.406122e-06         0.035342         EliteCoin      0\n",
       "BTC      2.276820e-10         0.005960           Bitcoin      1\n",
       "LTC      9.107294e-10         0.006006          Litecoin      1\n",
       "DASH     2.385240e-10         0.005951              Dash      0\n",
       "ETC      2.276824e-09         0.006056  Ethereum Classic      1\n",
       "ZEC      2.276820e-10         0.005950             ZCash      1\n",
       "BTS      3.903746e-08         0.008695         Bitshares      0\n",
       "DGB      2.276825e-07         0.017395          DigiByte      1"
      ]
     },
     "execution_count": 58,
     "metadata": {},
     "output_type": "execute_result"
    }
   ],
   "source": [
    "# Create a new DataFrame that has the scaled data with the clustered_df DataFrame index.\n",
    "scaled_df = pd.DataFrame(data=scatter_scaled, columns=[\"TotalCoinSupply\", \"TotalCoinsMined\"], index=clustered_df.index)\n",
    "# Add the \"CoinName\" column from the clustered_df DataFrame to the new DataFrame.\n",
    "temp_df1 = pd.DataFrame(clustered_df['CoinName'], index=clustered_df.index)\n",
    "scaled_df1 = pd.concat([scaled_df, temp_df1], axis=1)\n",
    "\n",
    "# Add the \"Class\" column from the clustered_df DataFrame to the new DataFrame. \n",
    "temp_df2 = pd.DataFrame(clustered_df['Class'], index=clustered_df.index)\n",
    "plot_df = pd.concat([scaled_df1, temp_df2], axis=1)\n",
    "\n",
    "plot_df.head(10)"
   ]
  },
  {
   "cell_type": "code",
   "execution_count": 61,
   "metadata": {},
   "outputs": [
    {
     "data": {},
     "metadata": {},
     "output_type": "display_data"
    },
    {
     "data": {
      "application/vnd.holoviews_exec.v0+json": "",
      "text/html": [
       "<div id='1475'>\n",
       "\n",
       "\n",
       "\n",
       "\n",
       "\n",
       "  <div class=\"bk-root\" id=\"e34240c2-27b0-4568-b3b0-757cd6f2f500\" data-root-id=\"1475\"></div>\n",
       "</div>\n",
       "<script type=\"application/javascript\">(function(root) {\n",
       "  function embed_document(root) {\n",
       "    var docs_json = {\"211098e1-07e8-44a1-b469-ecc2c89170b0\":{\"roots\":{\"references\":[{\"attributes\":{\"data_source\":{\"id\":\"1517\"},\"glyph\":{\"id\":\"1520\"},\"hover_glyph\":null,\"muted_glyph\":{\"id\":\"1522\"},\"nonselection_glyph\":{\"id\":\"1521\"},\"selection_glyph\":null,\"view\":{\"id\":\"1524\"}},\"id\":\"1523\",\"type\":\"GlyphRenderer\"},{\"attributes\":{\"source\":{\"id\":\"1575\"}},\"id\":\"1582\",\"type\":\"CDSView\"},{\"attributes\":{},\"id\":\"1500\",\"type\":\"SaveTool\"},{\"attributes\":{\"fill_color\":{\"value\":\"#d62628\"},\"line_color\":{\"value\":\"#d62628\"},\"size\":{\"units\":\"screen\",\"value\":5.477225575051661},\"x\":{\"field\":\"TotalCoinsMined\"},\"y\":{\"field\":\"TotalCoinSupply\"}},\"id\":\"1578\",\"type\":\"Scatter\"},{\"attributes\":{},\"id\":\"1573\",\"type\":\"UnionRenderers\"},{\"attributes\":{\"margin\":[5,5,5,5],\"name\":\"HSpacer02662\",\"sizing_mode\":\"stretch_width\"},\"id\":\"1724\",\"type\":\"Spacer\"},{\"attributes\":{},\"id\":\"1501\",\"type\":\"PanTool\"},{\"attributes\":{\"end\":1.042857142857143,\"reset_end\":1.042857142857143,\"reset_start\":-0.04285714285714286,\"start\":-0.04285714285714286,\"tags\":[[[\"TotalCoinsMined\",\"TotalCoinsMined\",null]]]},\"id\":\"1477\",\"type\":\"Range1d\"},{\"attributes\":{},\"id\":\"1514\",\"type\":\"BasicTickFormatter\"},{\"attributes\":{\"source\":{\"id\":\"1554\"}},\"id\":\"1561\",\"type\":\"CDSView\"},{\"attributes\":{},\"id\":\"1488\",\"type\":\"LinearScale\"},{\"attributes\":{\"data_source\":{\"id\":\"1554\"},\"glyph\":{\"id\":\"1557\"},\"hover_glyph\":null,\"muted_glyph\":{\"id\":\"1559\"},\"nonselection_glyph\":{\"id\":\"1558\"},\"selection_glyph\":null,\"view\":{\"id\":\"1561\"}},\"id\":\"1560\",\"type\":\"GlyphRenderer\"},{\"attributes\":{},\"id\":\"1502\",\"type\":\"WheelZoomTool\"},{\"attributes\":{},\"id\":\"1493\",\"type\":\"BasicTicker\"},{\"attributes\":{\"overlay\":{\"id\":\"1505\"}},\"id\":\"1503\",\"type\":\"BoxZoomTool\"},{\"attributes\":{\"axis\":{\"id\":\"1496\"},\"dimension\":1,\"grid_line_color\":null,\"ticker\":null},\"id\":\"1499\",\"type\":\"Grid\"},{\"attributes\":{\"fill_color\":{\"value\":\"#ff7e0e\"},\"line_color\":{\"value\":\"#ff7e0e\"},\"size\":{\"units\":\"screen\",\"value\":5.477225575051661},\"x\":{\"field\":\"TotalCoinsMined\"},\"y\":{\"field\":\"TotalCoinSupply\"}},\"id\":\"1538\",\"type\":\"Scatter\"},{\"attributes\":{},\"id\":\"1532\",\"type\":\"UnionRenderers\"},{\"attributes\":{\"below\":[{\"id\":\"1492\"}],\"center\":[{\"id\":\"1495\"},{\"id\":\"1499\"}],\"left\":[{\"id\":\"1496\"}],\"margin\":[5,5,5,5],\"min_border_bottom\":10,\"min_border_left\":10,\"min_border_right\":10,\"min_border_top\":10,\"plot_height\":300,\"plot_width\":700,\"renderers\":[{\"id\":\"1523\"},{\"id\":\"1541\"},{\"id\":\"1560\"},{\"id\":\"1581\"}],\"right\":[{\"id\":\"1533\"}],\"sizing_mode\":\"fixed\",\"title\":{\"id\":\"1484\"},\"toolbar\":{\"id\":\"1506\"},\"x_range\":{\"id\":\"1477\"},\"x_scale\":{\"id\":\"1488\"},\"y_range\":{\"id\":\"1478\"},\"y_scale\":{\"id\":\"1490\"}},\"id\":\"1483\",\"subtype\":\"Figure\",\"type\":\"Plot\"},{\"attributes\":{\"data_source\":{\"id\":\"1575\"},\"glyph\":{\"id\":\"1578\"},\"hover_glyph\":null,\"muted_glyph\":{\"id\":\"1580\"},\"nonselection_glyph\":{\"id\":\"1579\"},\"selection_glyph\":null,\"view\":{\"id\":\"1582\"}},\"id\":\"1581\",\"type\":\"GlyphRenderer\"},{\"attributes\":{\"fill_alpha\":{\"value\":0.1},\"fill_color\":{\"value\":\"#ff7e0e\"},\"line_alpha\":{\"value\":0.1},\"line_color\":{\"value\":\"#ff7e0e\"},\"size\":{\"units\":\"screen\",\"value\":5.477225575051661},\"x\":{\"field\":\"TotalCoinsMined\"},\"y\":{\"field\":\"TotalCoinSupply\"}},\"id\":\"1539\",\"type\":\"Scatter\"},{\"attributes\":{\"data_source\":{\"id\":\"1535\"},\"glyph\":{\"id\":\"1538\"},\"hover_glyph\":null,\"muted_glyph\":{\"id\":\"1540\"},\"nonselection_glyph\":{\"id\":\"1539\"},\"selection_glyph\":null,\"view\":{\"id\":\"1542\"}},\"id\":\"1541\",\"type\":\"GlyphRenderer\"},{\"attributes\":{},\"id\":\"1490\",\"type\":\"LinearScale\"},{\"attributes\":{},\"id\":\"1504\",\"type\":\"ResetTool\"},{\"attributes\":{\"axis_label\":\"TotalCoinsMined\",\"bounds\":\"auto\",\"formatter\":{\"id\":\"1514\"},\"major_label_orientation\":\"horizontal\",\"ticker\":{\"id\":\"1493\"}},\"id\":\"1492\",\"type\":\"LinearAxis\"},{\"attributes\":{\"fill_alpha\":{\"value\":0.2},\"fill_color\":{\"value\":\"#2ba02b\"},\"line_alpha\":{\"value\":0.2},\"line_color\":{\"value\":\"#2ba02b\"},\"size\":{\"units\":\"screen\",\"value\":5.477225575051661},\"x\":{\"field\":\"TotalCoinsMined\"},\"y\":{\"field\":\"TotalCoinSupply\"}},\"id\":\"1559\",\"type\":\"Scatter\"},{\"attributes\":{\"fill_alpha\":{\"value\":0.1},\"fill_color\":{\"value\":\"#d62628\"},\"line_alpha\":{\"value\":0.1},\"line_color\":{\"value\":\"#d62628\"},\"size\":{\"units\":\"screen\",\"value\":5.477225575051661},\"x\":{\"field\":\"TotalCoinsMined\"},\"y\":{\"field\":\"TotalCoinSupply\"}},\"id\":\"1579\",\"type\":\"Scatter\"},{\"attributes\":{},\"id\":\"1552\",\"type\":\"UnionRenderers\"},{\"attributes\":{},\"id\":\"1536\",\"type\":\"Selection\"},{\"attributes\":{\"source\":{\"id\":\"1535\"}},\"id\":\"1542\",\"type\":\"CDSView\"},{\"attributes\":{\"label\":{\"value\":\"1\"},\"renderers\":[{\"id\":\"1541\"}]},\"id\":\"1553\",\"type\":\"LegendItem\"},{\"attributes\":{\"children\":[{\"id\":\"1476\"},{\"id\":\"1483\"},{\"id\":\"1724\"}],\"margin\":[0,0,0,0],\"name\":\"Row02657\",\"tags\":[\"embedded\"]},\"id\":\"1475\",\"type\":\"Row\"},{\"attributes\":{\"click_policy\":\"mute\",\"items\":[{\"id\":\"1534\"},{\"id\":\"1553\"},{\"id\":\"1574\"},{\"id\":\"1597\"}],\"location\":[0,0],\"title\":\"Class\"},\"id\":\"1533\",\"type\":\"Legend\"},{\"attributes\":{},\"id\":\"1516\",\"type\":\"BasicTickFormatter\"},{\"attributes\":{\"text\":\"\",\"text_color\":{\"value\":\"black\"},\"text_font_size\":{\"value\":\"12pt\"}},\"id\":\"1484\",\"type\":\"Title\"},{\"attributes\":{\"margin\":[5,5,5,5],\"name\":\"HSpacer02661\",\"sizing_mode\":\"stretch_width\"},\"id\":\"1476\",\"type\":\"Spacer\"},{\"attributes\":{\"fill_color\":{\"value\":\"#2ba02b\"},\"line_color\":{\"value\":\"#2ba02b\"},\"size\":{\"units\":\"screen\",\"value\":5.477225575051661},\"x\":{\"field\":\"TotalCoinsMined\"},\"y\":{\"field\":\"TotalCoinSupply\"}},\"id\":\"1557\",\"type\":\"Scatter\"},{\"attributes\":{\"label\":{\"value\":\"3\"},\"renderers\":[{\"id\":\"1581\"}]},\"id\":\"1597\",\"type\":\"LegendItem\"},{\"attributes\":{\"axis\":{\"id\":\"1492\"},\"grid_line_color\":null,\"ticker\":null},\"id\":\"1495\",\"type\":\"Grid\"},{\"attributes\":{\"data\":{\"Class\":[3,3,3,3,3,3,3],\"CoinName\":[\"Vechain\",\"BiblePay\",\"LitecoinCash\",\"Poa Network\",\"Acute Angle Cloud\",\"Fiii\",\"Waves\"],\"TotalCoinSupply\":{\"__ndarray__\":\"p+I0Ub6Lrz5VdO2RmkRuPsCl5zjKjkM+b4PzLyKDJz6PlCfZdkhHPrV52Z+UGm0+BKr/nV6gEj4=\",\"dtype\":\"float64\",\"order\":\"little\",\"shape\":[7]},\"TotalCoinsMined\":{\"__ndarray__\":\"XRjsm06Nrz94ezWzw6B/P3CNJR8Z93o/4dGMXT8ueT//4pYZ13N8PwAAAAAAAAAAuQv0Nj7AeD8=\",\"dtype\":\"float64\",\"order\":\"little\",\"shape\":[7]}},\"selected\":{\"id\":\"1576\"},\"selection_policy\":{\"id\":\"1596\"}},\"id\":\"1575\",\"type\":\"ColumnDataSource\"},{\"attributes\":{\"label\":{\"value\":\"0\"},\"renderers\":[{\"id\":\"1523\"}]},\"id\":\"1534\",\"type\":\"LegendItem\"},{\"attributes\":{\"fill_alpha\":{\"value\":0.1},\"fill_color\":{\"value\":\"#1f77b3\"},\"line_alpha\":{\"value\":0.1},\"line_color\":{\"value\":\"#1f77b3\"},\"size\":{\"units\":\"screen\",\"value\":5.477225575051661},\"x\":{\"field\":\"TotalCoinsMined\"},\"y\":{\"field\":\"TotalCoinSupply\"}},\"id\":\"1521\",\"type\":\"Scatter\"},{\"attributes\":{},\"id\":\"1576\",\"type\":\"Selection\"},{\"attributes\":{\"fill_alpha\":{\"value\":0.1},\"fill_color\":{\"value\":\"#2ba02b\"},\"line_alpha\":{\"value\":0.1},\"line_color\":{\"value\":\"#2ba02b\"},\"size\":{\"units\":\"screen\",\"value\":5.477225575051661},\"x\":{\"field\":\"TotalCoinsMined\"},\"y\":{\"field\":\"TotalCoinSupply\"}},\"id\":\"1558\",\"type\":\"Scatter\"},{\"attributes\":{\"fill_alpha\":{\"value\":0.2},\"fill_color\":{\"value\":\"#d62628\"},\"line_alpha\":{\"value\":0.2},\"line_color\":{\"value\":\"#d62628\"},\"size\":{\"units\":\"screen\",\"value\":5.477225575051661},\"x\":{\"field\":\"TotalCoinsMined\"},\"y\":{\"field\":\"TotalCoinSupply\"}},\"id\":\"1580\",\"type\":\"Scatter\"},{\"attributes\":{},\"id\":\"1497\",\"type\":\"BasicTicker\"},{\"attributes\":{\"axis_label\":\"TotalCoinSupply\",\"bounds\":\"auto\",\"formatter\":{\"id\":\"1516\"},\"major_label_orientation\":\"horizontal\",\"ticker\":{\"id\":\"1497\"}},\"id\":\"1496\",\"type\":\"LinearAxis\"},{\"attributes\":{\"callback\":null,\"renderers\":[{\"id\":\"1523\"},{\"id\":\"1541\"},{\"id\":\"1560\"},{\"id\":\"1581\"}],\"tags\":[\"hv_created\"],\"tooltips\":[[\"Class\",\"@{Class}\"],[\"TotalCoinsMined\",\"@{TotalCoinsMined}\"],[\"TotalCoinSupply\",\"@{TotalCoinSupply}\"],[\"CoinName\",\"@{CoinName}\"]]},\"id\":\"1479\",\"type\":\"HoverTool\"},{\"attributes\":{\"fill_alpha\":{\"value\":0.2},\"fill_color\":{\"value\":\"#ff7e0e\"},\"line_alpha\":{\"value\":0.2},\"line_color\":{\"value\":\"#ff7e0e\"},\"size\":{\"units\":\"screen\",\"value\":5.477225575051661},\"x\":{\"field\":\"TotalCoinsMined\"},\"y\":{\"field\":\"TotalCoinSupply\"}},\"id\":\"1540\",\"type\":\"Scatter\"},{\"attributes\":{\"active_drag\":\"auto\",\"active_inspect\":\"auto\",\"active_multi\":null,\"active_scroll\":\"auto\",\"active_tap\":\"auto\",\"tools\":[{\"id\":\"1479\"},{\"id\":\"1500\"},{\"id\":\"1501\"},{\"id\":\"1502\"},{\"id\":\"1503\"},{\"id\":\"1504\"}]},\"id\":\"1506\",\"type\":\"Toolbar\"},{\"attributes\":{\"data\":{\"Class\":[0,0,0,0,0,0,0,0,0,0,0,0,0,0,0,0,0,0,0,0,0,0,0,0,0,0,0,0,0,0,0,0,0,0,0,0,0,0,0,0,0,0,0,0,0,0,0,0,0,0,0,0,0,0,0,0,0,0,0,0,0,0,0,0,0,0,0,0,0,0,0,0,0,0,0,0,0,0,0,0,0,0,0,0,0,0,0,0,0,0,0,0,0,0,0,0,0,0,0,0,0,0,0,0,0,0,0,0,0,0,0,0,0,0,0,0,0,0,0,0,0,0,0,0,0,0,0,0,0,0,0,0,0,0,0,0,0,0,0,0,0,0,0,0,0,0,0,0,0,0,0,0,0,0,0,0,0,0,0,0,0,0,0,0,0,0,0,0,0,0,0,0,0,0,0,0,0,0,0,0,0,0,0,0,0,0,0,0,0,0,0,0,0,0,0,0,0,0,0,0,0,0,0,0,0,0,0,0,0,0,0,0,0,0,0,0,0,0,0,0,0,0,0,0,0,0,0,0,0,0,0,0,0,0,0,0,0,0,0,0,0,0,0,0,0,0,0,0,0,0,0,0,0,0,0,0,0,0,0,0,0,0,0,0,0,0,0,0,0,0,0,0,0,0,0,0,0,0,0,0,0,0,0,0,0,0,0,0,0,0,0,0,0,0,0,0,0,0,0,0,0,0,0,0,0,0,0,0,0,0,0,0,0,0,0,0,0,0,0,0,0,0,0,0,0,0],\"CoinName\":[\"42 Coin\",\"404Coin\",\"EliteCoin\",\"Dash\",\"Bitshares\",\"BitcoinDark\",\"Bitstake\",\"PayCoin\",\"KoboCoin\",\"Aero Coin\",\"ApexCoin\",\"ArchCoin\",\"Aurora Coin\",\"BitBar\",\"CashCoin\",\"CryptoBullion\",\"CinderCoin\",\"CoolCoin\",\"CasinoCoin\",\"Diamond\",\"DarkCash\",\"Fuel2Coin\",\"FIBRE\",\"GlyphCoin\",\"HoboNickels\",\"IOCoin\",\"JumBucks Coin\",\"JudgeCoin\",\"LibrexCoin\",\"MaxCoin\",\"MazaCoin\",\"Nautilus Coin\",\"Orbitcoin\",\"PotCoin\",\"PhoenixCoin\",\"ShieldCoin\",\"SilkCoin\",\"SyncCoin\",\"TeslaCoin\",\"TittieCoin\",\"TorCoin\",\"UnitaryStatus Dollar\",\"UltraCoin\",\"SocialXbotCoin\",\"X11 Coin\",\"XXXCoin\",\"ZCC Coin\",\"StorjCoin\",\"Neutron\",\"KryptCoin\",\"Kore\",\"Dnotes\",\"MaieutiCoin\",\"Sativa Coin\",\"AeroMe\",\"MasterTraderCoin\",\"Ucoin\",\"Vtorrent\",\"Nexus\",\"Droidz\",\"Diggits\",\"MapCoin\",\"Paycon\",\"Emercoin\",\"BlitzCoin\",\"EverGreenCoin\",\"Decred\",\"EDRCoin\",\"Hitcoin\",\"DubaiCoin\",\"BiosCrypto\",\"TrumpCoin\",\"BillaryCoin\",\"EthereumScrypt\",\"GPU Coin\",\"Universal Currency\",\"EuropeCoin\",\"ZeitCoin\",\"SwingCoin\",\"SafeExchangeCoin\",\"Nebuchadnezzar\",\"GIZMOcoin\",\"SecretCoin\",\"Ratecoin\",\"Digital Bullion Gold\",\"Revenu\",\"Clockcoin\",\"VIP Tokens\",\"OrlyCoin\",\"BitSend\",\"16BitCoin\",\"ChessCoin\",\"ReeCoin\",\"Let it Ride\",\"PutinCoin\",\"iBankCoin\",\"Frankywillcoin\",\"MudraCoin\",\"Lutetium Coin\",\"GoldBlocks\",\"WayCoin\",\"CarterCoin\",\"BitTokens\",\"MustangCoin\",\"ZoneCoin\",\"PROUD Money\",\"Swiscoin\",\"BuzzCoin\",\"Opair\",\"Halloween Coin\",\"CoffeeCoin\",\"RoyalCoin\",\"GanjaCoin V2\",\"TeamUP\",\"LanaCoin\",\"ARK\",\"InsaneCoin\",\"LuckChain\",\"EmberCoin\",\"XenixCoin\",\"FreeCoin\",\"NPCcoin\",\"PLNCoin\",\"Icobid\",\"AquariusCoin\",\"Creatio\",\"Eternity\",\"Eurocoin\",\"BitcoinFast\",\"Stakenet\",\"BitConnect Coin\",\"MoneyCoin\",\"Enigma\",\"Russiacoin\",\"PandaCoin\",\"GameUnits\",\"GAKHcoin\",\"Allsafe\",\"LiteCreed\",\"NeptuneClassic\",\"GoldenBird\",\"Ride My Car\",\"Klingon Empire Darsek\",\"Internet of People\",\"KushCoin\",\"Eryllium\",\"Printerium\",\"Impeach\",\"Zilbercoin\",\"FirstCoin\",\"FindCoin\",\"OpenChat\",\"RenosCoin\",\"VirtacoinPlus\",\"TajCoin\",\"Impact\",\"Universe\",\"Atmos\",\"HappyCoin\",\"MacronCoin\",\"Condensate\",\"Independent Money System\",\"ArgusCoin\",\"LomoCoin\",\"ProCurrency\",\"GoldReserve\",\"GrowthCoin\",\"Phreak\",\"Degas Coin\",\"ZSEcoin\",\"HTML5 Coin\",\"Ultimate Secure Cash\",\"QTUM\",\"Espers\",\"Denarius\",\"Virta Unique Coin\",\"Bitcoin Planet\",\"BritCoin\",\"Octanox\",\"Linda\",\"DeepOnion\",\"Signatum\",\"Cream\",\"Monoeci\",\"Draftcoin\",\"Stakecoin\",\"CoinonatX\",\"Ethereum Dark\",\"Obsidian\",\"Cardano\",\"Regalcoin\",\"TrezarCoin\",\"TerraNovaCoin\",\"Rupee\",\"WomenCoin\",\"Theresa May Coin\",\"NamoCoin\",\"LUXCoin\",\"Xios\",\"Bitcloud 2.0\",\"KekCoin\",\"BlackholeCoin\",\"AltCommunity Coin\",\"Pure\",\"Rupaya\",\"Infinity Economics\",\"Castle\",\"Magnet\",\"Lamden Tau\",\"Electra\",\"Bitcoin Diamond\",\"Cash & Back Coin\",\"Bulwark\",\"Kalkulus\",\"GermanCoin\",\"LiteCoin Ultra\",\"PhantomX\",\"HTML Coin\",\"Fantasy Cash\",\"Digiwage\",\"Trollcoin\",\"Litecoin Plus\",\"Monkey Project\",\"OP Coin\",\"Valorbit\",\"TokenPay\",\"My Big Coin\",\"Unified Society USDEX\",\"Tokyo Coin\",\"Stipend\",\"Pushi\",\"Ellerium\",\"Velox\",\"Ontology\",\"Bitspace\",\"Briacoin\",\"Ignition\",\"MedicCoin\",\"Zelcash\",\"Bitcoin Green\",\"Deviant Coin\",\"Abjcoin\",\"Profit Hunters Coin\",\"Semux\",\"BitBlocks\",\"Carebit\",\"Zealium\",\"Proton\",\"iDealCash\",\"Bitcoin Incognito\",\"HollyWoodCoin\",\"Swisscoin\",\"Xt3ch\",\"TheVig\",\"EmaratCoin\",\"Dekado\",\"Lynx\",\"Poseidon Quark\",\"BitcoinWSpectrum\",\"Muse\",\"Trivechain\",\"Dystem\",\"Giant\",\"Peony Coin\",\"SafeCoin\",\"Absolute Coin\",\"Vitae\",\"TPCash\",\"MUSDcoin\",\"ARENON\",\"EUNO\",\"MMOCoin\",\"Ketan\",\"Safe Trade Coin\",\"Mont Blanc\",\"XDNA\",\"PAXEX\",\"Apollon\",\"ThunderStake\",\"Kcash\",\"Traid\",\"Bettex coin\",\"BitMoney\",\"Zenad\",\"HerbCoin\",\"PirateCash\",\"Oduwa\",\"Galilel\",\"Crypto Sports\",\"Credit\",\"Dash Platinum\",\"Nasdacoin\",\"Beetle Coin\",\"Titan Coin\",\"Award\",\"Insane Coin\",\"ALAX\",\"The Freedom Coin\",\"LiteDoge\",\"OrangeCoin\",\"BitstarCoin\",\"NeosCoin\",\"PinkCoin\",\"AudioCoin\",\"IncaKoin\",\"Piggy Coin\",\"Genstake\",\"ParkByte\",\"XiaoMiCoin\",\"CapriCoin\",\" ClubCoin\",\"Radium\",\"Creditbit \",\"OKCash\",\"Lisk\",\"HiCoin\",\"WhiteCoin\",\"FriendshipCoin\",\"The Hempcoin\",\"Triangles Coin\",\"TigerCash\",\"Particl\",\"Nxt\",\"ZEPHYR\",\"Gapcoin\",\"BitcoinPlus\"],\"TotalCoinSupply\":{\"__ndarray__\":\"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\",\"dtype\":\"float64\",\"order\":\"little\",\"shape\":[326]},\"TotalCoinsMined\":{\"__ndarray__\":\"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\",\"dtype\":\"float64\",\"order\":\"little\",\"shape\":[326]}},\"selected\":{\"id\":\"1518\"},\"selection_policy\":{\"id\":\"1532\"}},\"id\":\"1517\",\"type\":\"ColumnDataSource\"},{\"attributes\":{\"label\":{\"value\":\"2\"},\"renderers\":[{\"id\":\"1560\"}]},\"id\":\"1574\",\"type\":\"LegendItem\"},{\"attributes\":{},\"id\":\"1596\",\"type\":\"UnionRenderers\"},{\"attributes\":{\"end\":1.1,\"reset_end\":1.1,\"reset_start\":-0.1,\"start\":-0.1,\"tags\":[[[\"TotalCoinSupply\",\"TotalCoinSupply\",null]]]},\"id\":\"1478\",\"type\":\"Range1d\"},{\"attributes\":{\"data\":{\"Class\":[2],\"CoinName\":[\"BitTorrent\"],\"TotalCoinSupply\":{\"__ndarray__\":\"IjbK9o6C5j4=\",\"dtype\":\"float64\",\"order\":\"little\",\"shape\":[1]},\"TotalCoinsMined\":{\"__ndarray__\":\"AAAAAAAA8D8=\",\"dtype\":\"float64\",\"order\":\"little\",\"shape\":[1]}},\"selected\":{\"id\":\"1555\"},\"selection_policy\":{\"id\":\"1573\"}},\"id\":\"1554\",\"type\":\"ColumnDataSource\"},{\"attributes\":{\"fill_alpha\":{\"value\":0.2},\"fill_color\":{\"value\":\"#1f77b3\"},\"line_alpha\":{\"value\":0.2},\"line_color\":{\"value\":\"#1f77b3\"},\"size\":{\"units\":\"screen\",\"value\":5.477225575051661},\"x\":{\"field\":\"TotalCoinsMined\"},\"y\":{\"field\":\"TotalCoinSupply\"}},\"id\":\"1522\",\"type\":\"Scatter\"},{\"attributes\":{\"fill_color\":{\"value\":\"#1f77b3\"},\"line_color\":{\"value\":\"#1f77b3\"},\"size\":{\"units\":\"screen\",\"value\":5.477225575051661},\"x\":{\"field\":\"TotalCoinsMined\"},\"y\":{\"field\":\"TotalCoinSupply\"}},\"id\":\"1520\",\"type\":\"Scatter\"},{\"attributes\":{\"bottom_units\":\"screen\",\"fill_alpha\":0.5,\"fill_color\":\"lightgrey\",\"left_units\":\"screen\",\"level\":\"overlay\",\"line_alpha\":1.0,\"line_color\":\"black\",\"line_dash\":[4,4],\"line_width\":2,\"right_units\":\"screen\",\"top_units\":\"screen\"},\"id\":\"1505\",\"type\":\"BoxAnnotation\"},{\"attributes\":{\"data\":{\"Class\":[1,1,1,1,1,1,1,1,1,1,1,1,1,1,1,1,1,1,1,1,1,1,1,1,1,1,1,1,1,1,1,1,1,1,1,1,1,1,1,1,1,1,1,1,1,1,1,1,1,1,1,1,1,1,1,1,1,1,1,1,1,1,1,1,1,1,1,1,1,1,1,1,1,1,1,1,1,1,1,1,1,1,1,1,1,1,1,1,1,1,1,1,1,1,1,1,1,1,1,1,1,1,1,1,1,1,1,1,1,1,1,1,1,1,1,1,1,1,1,1,1,1,1,1,1,1,1,1,1,1,1,1,1,1,1,1,1,1,1,1,1,1,1,1,1,1,1,1,1,1,1,1,1,1,1,1,1,1,1,1,1,1,1,1,1,1,1,1,1,1,1,1,1,1,1,1,1,1,1,1,1,1,1,1,1,1,1,1,1,1,1,1,1,1,1,1,1,1,1,1,1,1,1,1,1,1,1,1,1,1,1,1,1,1,1,1,1,1,1,1,1,1,1,1,1,1,1,1,1,1,1,1,1,1,1,1,1,1,1,1,1,1,1,1,1,1,1,1,1,1,1,1,1,1,1,1,1,1,1,1,1,1,1,1,1,1,1,1,1,1,1,1,1,1,1,1,1,1,1,1,1,1,1,1,1,1,1,1,1,1,1,1,1,1,1,1,1,1,1,1,1,1,1],\"CoinName\":[\"Bitcoin\",\"Litecoin\",\"Ethereum Classic\",\"ZCash\",\"DigiByte\",\"ProsperCoin\",\"Spreadcoin\",\"ACoin\",\"Argentum\",\"BetaCoin\",\"MyriadCoin\",\"MoonCoin\",\"ZetaCoin\",\"SexCoin\",\"Quatloo\",\"QuarkCoin\",\"Riecoin\",\"Digitalcoin \",\"LimeCoinX\",\"BitMark\",\"Catcoin\",\"CannaCoin\",\"CryptCoin\",\"Verge\",\"DarkShibe\",\"DevCoin\",\"EarthCoin\",\"E-Gulden\",\"Elacoin\",\"Einsteinium\",\"Emerald\",\"Flappy Coin\",\"FireRoosterCoin\",\"Franko\",\"FeatherCoin\",\"GrandCoin\",\"GlobalCoin\",\"GoldCoin\",\"HunterCoin\",\"Infinite Coin\",\"IXcoin\",\"KrugerCoin\",\"LuckyCoin\",\"Litebar \",\"LitecoinDark\",\"MegaCoin\",\"MediterraneanCoin\",\"MinCoin\",\"NoirBits\",\"NobleCoin\",\"Namecoin\",\"NyanCoin\",\"RipOffCoin\",\"RonPaulCoin\",\"StableCoin\",\"SmartCoin\",\"SpainCoin\",\"SecureCoin\",\"SysCoin\",\"TigerCoin\",\"TerraCoin\",\"Umbrella\",\"UnbreakableCoin\",\"Unobtanium\",\"ViaCoin\",\"Vertcoin\",\"WorldCoin\",\"JouleCoin\",\"ByteCoin\",\"DigitalNote \",\"BurstCoin\",\"MonaCoin\",\"Sling Coin\",\"Gulden\",\"PesetaCoin\",\"Wild Beast Coin\",\"Flo\",\"ArtByte\",\"BitCredit\",\"Folding Coin\",\"OmniCron\",\"GreenCoin\",\"Cryptonite\",\"Gridmaster\",\"ConSpiracy Coin \",\"MasterCoin\",\"SoonCoin\",\"1Credit\",\"Quicksilver coin\",\"MarsCoin \",\"Crypto\",\"Anarchists Prime\",\"BowsCoin\",\"Song Coin\",\"BitZeny\",\"Expanse\",\"MindCoin\",\"I0coin\",\"DogeCoinDark\",\"Revolution VR\",\"HOdlcoin\",\"Gamecredits\",\"Dashcoin\",\"CarpeDiemCoin\",\"Phalanx\",\"SunShotCoin\",\"HempCoin\",\"Adzcoin\",\"VirtaCoin\",\"SoilCoin\",\"YoCoin\",\"AEON\",\"SibCoin\",\"Anti Bitcoin\",\"Francs\",\"BolivarCoin\",\"Clinton\",\"Omni\",\"PizzaCoin\",\"Komodo\",\"Karbo\",\"ZayedCoin\",\"Circuits of Value\",\"DopeCoin\",\"DollarCoin\",\"Shilling\",\"GBR Coin\",\"FujiCoin\",\"ZCoin\",\"LeaCoin\",\"Zurcoin\",\"Elementrem\",\"CashOut\",\"ZClassic\",\"KiloCoin\",\"Hush\",\"ArtexCoin\",\"Kurrent\",\"Cannabis Industry Coin\",\"OsmiumCoin\",\"Bikercoins\",\"HexxCoin\",\"MarxCoin\",\"PacCoin\",\"Solarflarecoin\",\"Citadel\",\"CreativeChain\",\"BeaverCoin\",\"VaultCoin\",\"Zero\",\"Canada eCoin\",\"Zoin\",\"Musicoin\",\"BnrtxCoin\",\"DubaiCoin\",\"EB3coin\",\"Coinonat\",\"Bitcoin Scrypt\",\"BenjiRolls\",\"ParallelCoin\",\"ILCoin\",\"EquiTrader\",\"Quantum Resistant Ledger\",\"Nano\",\"ChanCoin\",\"Dinastycoin\",\"DigitalPrice\",\"Unify\",\"SocialCoin\",\"ArcticCoin\",\"DAS\",\"LeviarCoin\",\"Bitcore\",\"gCn Coin\",\"SmartCash\",\"Onix\",\"Bitcoin Cash\",\"CampusCoin\",\"Sojourn Coin\",\"LiteBitcoin\",\"FrazCoin\",\"Kronecoin\",\"AdCoin\",\"Linx\",\"Sumokoin\",\"BitcoinZ\",\"Elements\",\"VIVO Coin\",\"Bitcoin Gold\",\"Pirl\",\"eBoost\",\"Pura\",\"Innova\",\"Bitdeal\",\"Ellaism\",\"Sakuracoin\",\"GoByte\",\"SHIELD\",\"UltraNote\",\"BitCoal\",\"DaxxCoin\",\"AC3\",\"CHIPS\",\"Lethean\",\"PopularCoin\",\"Photon\",\"Sucre\",\"SparksPay\",\"GunCoin\",\"IrishCoin\",\"Pioneer Coin\",\"UnitedBitcoin\",\"Interzone\",\"1717 Masonic Commemorative Token\",\"TurtleCoin\",\"MUNcoin\",\"Niobio Cash\",\"Bitcoin Private\",\"Skeincoin\",\"ShareChain\",\"Travelflex\",\"KREDS\",\"BitFlip\",\"LottoCoin\",\"LeafCoin\",\"Cerberus\",\"Bitcoin Hush\",\"Crypto Improvement Fund\",\"Callisto Network\",\"Curium\",\"BitTube\",\"Dinero\",\"Poseidon\",\"Aidos Kuneen\",\"Snowgem\",\"Bitrolium\",\"Bitcoin Interest\",\"Alpenschillling\",\"FuturoCoin\",\"Monero Classic\",\"Jumpcoin\",\"Infinex\",\"KEYCO\",\"GINcoin\",\"PlatinCoin\",\"Loki\",\"Newton Coin\",\"MassGrid\",\"PluraCoin\",\"Motion\",\"PlusOneCoin\",\"Axe\",\"HexCoin\",\"Webchain\",\"Ryo\",\"Urals Coin\",\"Qwertycoin\",\"NIX\",\"Project Pai\",\"Azart\",\"Xchange\",\"CrypticCoin\",\"ZestCoin\",\"X-CASH\",\"Actinium\",\"ETHER-1\",\"Bitcoin SV\",\"Bitcoiin2Gen\",\"FREDEnergy\",\"C25 Coin\",\"Aquachain\",\"Universal Molecule\",\"Lithium\",\"Smart Bitcoin\",\"Exosis\",\"Block-Logic\",\"Beam\",\"Bithereum\",\"SLICE\",\"Vidulum\",\"BlockStamp\",\"BLAST\",\"Bitcoin Rhodium\",\"GlobalToken\",\"Boolberry\",\"SolarCoin\",\"UFO Coin\",\"BlakeCoin\",\"FantomCoin \",\"Crypto Escudo\",\"Crown Coin\",\"Quazar Coin\",\"SmileyCoin\",\"Groestlcoin\",\"Bata\",\"Pakcoin\",\"Dotcoin\",\"JoinCoin\",\"Vollar\",\"Reality Clash\",\"iOlite\",\"Beldex\",\"Horizen\"],\"TotalCoinSupply\":{\"__ndarray__\":\"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\",\"dtype\":\"float64\",\"order\":\"little\",\"shape\":[303]},\"TotalCoinsMined\":{\"__ndarray__\":\"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\",\"dtype\":\"float64\",\"order\":\"little\",\"shape\":[303]}},\"selected\":{\"id\":\"1536\"},\"selection_policy\":{\"id\":\"1552\"}},\"id\":\"1535\",\"type\":\"ColumnDataSource\"},{\"attributes\":{},\"id\":\"1555\",\"type\":\"Selection\"},{\"attributes\":{},\"id\":\"1518\",\"type\":\"Selection\"},{\"attributes\":{\"source\":{\"id\":\"1517\"}},\"id\":\"1524\",\"type\":\"CDSView\"}],\"root_ids\":[\"1475\"]},\"title\":\"Bokeh Application\",\"version\":\"2.2.3\"}};\n",
       "    var render_items = [{\"docid\":\"211098e1-07e8-44a1-b469-ecc2c89170b0\",\"root_ids\":[\"1475\"],\"roots\":{\"1475\":\"e34240c2-27b0-4568-b3b0-757cd6f2f500\"}}];\n",
       "    root.Bokeh.embed.embed_items_notebook(docs_json, render_items);\n",
       "  }\n",
       "  if (root.Bokeh !== undefined && root.Bokeh.Panel !== undefined) {\n",
       "    embed_document(root);\n",
       "  } else {\n",
       "    var attempts = 0;\n",
       "    var timer = setInterval(function(root) {\n",
       "      if (root.Bokeh !== undefined && root.Bokeh.Panel !== undefined) {\n",
       "        clearInterval(timer);\n",
       "        embed_document(root);\n",
       "      } else if (document.readyState == \"complete\") {\n",
       "        attempts++;\n",
       "        if (attempts > 100) {\n",
       "          clearInterval(timer);\n",
       "          console.log(\"Bokeh: ERROR: Unable to run BokehJS code because BokehJS library is missing\");\n",
       "        }\n",
       "      }\n",
       "    }, 10, root)\n",
       "  }\n",
       "})(window);</script>"
      ],
      "text/plain": [
       ":NdOverlay   [Class]\n",
       "   :Scatter   [TotalCoinsMined]   (TotalCoinSupply,CoinName)"
      ]
     },
     "execution_count": 61,
     "metadata": {
      "application/vnd.holoviews_exec.v0+json": {
       "id": "1475"
      }
     },
     "output_type": "execute_result"
    }
   ],
   "source": [
    "# Create a hvplot.scatter plot using x=\"TotalCoinsMined\" and y=\"TotalCoinSupply\".\n",
    "plot_df.hvplot.scatter(x=\"TotalCoinsMined\", y=\"TotalCoinSupply\", by=\"Class\", hover_cols=['CoinName'])\n"
   ]
  },
  {
   "cell_type": "code",
   "execution_count": null,
   "metadata": {},
   "outputs": [],
   "source": []
  }
 ],
 "metadata": {
  "file_extension": ".py",
  "kernelspec": {
   "display_name": "mlenv",
   "language": "python",
   "name": "mlenv"
  },
  "language_info": {
   "codemirror_mode": {
    "name": "ipython",
    "version": 3
   },
   "file_extension": ".py",
   "mimetype": "text/x-python",
   "name": "python",
   "nbconvert_exporter": "python",
   "pygments_lexer": "ipython3",
   "version": "3.7.9"
  },
  "latex_envs": {
   "LaTeX_envs_menu_present": true,
   "autoclose": false,
   "autocomplete": true,
   "bibliofile": "biblio.bib",
   "cite_by": "apalike",
   "current_citInitial": 1,
   "eqLabelWithNumbers": true,
   "eqNumInitial": 1,
   "hotkeys": {
    "equation": "Ctrl-E",
    "itemize": "Ctrl-I"
   },
   "labels_anchors": false,
   "latex_user_defs": false,
   "report_style_numbering": false,
   "user_envs_cfg": false
  },
  "mimetype": "text/x-python",
  "name": "python",
  "npconvert_exporter": "python",
  "pygments_lexer": "ipython3",
  "version": 3
 },
 "nbformat": 4,
 "nbformat_minor": 2
}
